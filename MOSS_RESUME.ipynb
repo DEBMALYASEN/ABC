{
 "cells": [
  {
   "cell_type": "code",
   "execution_count": 1,
   "metadata": {},
   "outputs": [
    {
     "name": "stdout",
     "output_type": "stream",
     "text": [
      "Requirement already satisfied: docx2txt in c:\\users\\boony\\anaconda3\\lib\\site-packages (0.8)\n",
      "Note: you may need to restart the kernel to use updated packages.\n"
     ]
    }
   ],
   "source": [
    "#install\n",
    "pip install docx2txt"
   ]
  },
  {
   "cell_type": "code",
   "execution_count": 2,
   "metadata": {},
   "outputs": [],
   "source": [
    "#import library\n",
    "import docx2txt"
   ]
  },
  {
   "cell_type": "code",
   "execution_count": 29,
   "metadata": {},
   "outputs": [],
   "source": [
    "#load data\n",
    "resume=docx2txt.process(\"a.docx\")"
   ]
  },
  {
   "cell_type": "code",
   "execution_count": 30,
   "metadata": {},
   "outputs": [
    {
     "data": {
      "text/plain": [
       "'include<bits/stdc++.h>\\n\\n#define MOD 10e7\\n\\nusing namespace std;\\n\\nvoid S(int a[], int n)\\n\\n{   set<int>m;\\n\\n     int opsize = pow(2, n);\\n\\n\\t  int p=1,c=0;\\n\\n    for (int c = 1; c < opsize; c++)\\n\\n    {\\n\\n        for (int j = 0; j < n; j++)\\n\\n        {\\n\\n            if (c & (1<<j))\\n\\n               {\\n\\n                p=p*arr[j];\\n\\n\\t\\t\\t\\t}\\n\\n        }\\n\\n\\t\\tif(p%2==1 ||p%4==0)\\n\\n\\t\\t  {\\n\\n\\n\\n\\t\\t  m.insert(p) ;\\n\\n\\n\\n        p=1;\\n\\n    }\\n\\n    cout<<m.size()<<endl;\\n\\n}\\n\\nint main()\\n\\n{\\n\\n\\tint t,i,n;\\n\\n\\tcin>>t;\\n\\n\\twhile(t--)\\n\\n\\t{\\n\\n\\t\\tcin>>n;\\n\\n\\t\\tit a[n];\\n\\n\\t\\tfor(i=0;i<n;i++)\\n\\n\\t\\tin>>a[i];\\n\\n\\n\\n\\tS(a,n);  }\\n\\n}'"
      ]
     },
     "execution_count": 30,
     "metadata": {},
     "output_type": "execute_result"
    }
   ],
   "source": [
    "#Print resume\n",
    "resume"
   ]
  },
  {
   "cell_type": "code",
   "execution_count": 31,
   "metadata": {},
   "outputs": [],
   "source": [
    "job=docx2txt.process('b.docx')"
   ]
  },
  {
   "cell_type": "code",
   "execution_count": 32,
   "metadata": {},
   "outputs": [
    {
     "data": {
      "text/plain": [
       "'#include<bits/stdc++.h>\\n\\nusing namespace std;\\n\\nvoid Subsequences(int arr[], int n)\\n\\n{   unordered_set<int>m;\\n\\n    unsigned int opsize = pow(2, n);\\n\\n\\t  int p=1,c=0;\\n\\n    for (int counter = 1; counter < opsize; counter++)\\n\\n    {\\n\\n        for (int j = 0; j < n; j++)\\n\\n        {\\n\\n            if (counter & (1<<j))\\n\\n               {\\n\\n                p=p*arr[j];\\n\\n\\t\\t\\t\\t}\\n\\n        }\\n\\n\\t\\tif(p%2==1 ||p%4==0)\\n\\n\\t\\t  {\\n\\n\\n\\n\\t\\t  m.insert(p) ;\\n\\n\\t\\t  }\\n\\n        p=1;\\n\\n    }\\n\\n    cout<<m.size()<<endl;\\n\\n}\\n\\nint main()\\n\\n{\\n\\n\\tint t,i,n;\\n\\n\\tcin>>t;\\n\\n\\twhile(t--)\\n\\n\\t{\\n\\n\\t\\tcin>>n;\\n\\n\\t\\tint a[n];\\n\\n\\t\\tfor(i=0;i<n;i++)\\n\\n\\t\\tcin>>a[i];\\n\\n\\n\\n\\tSubsequences(a,n);  }\\n\\n}'"
      ]
     },
     "execution_count": 32,
     "metadata": {},
     "output_type": "execute_result"
    }
   ],
   "source": [
    "job"
   ]
  },
  {
   "cell_type": "code",
   "execution_count": 33,
   "metadata": {},
   "outputs": [],
   "source": [
    "text=[resume,job]"
   ]
  },
  {
   "cell_type": "code",
   "execution_count": 34,
   "metadata": {},
   "outputs": [
    {
     "data": {
      "text/plain": [
       "['include<bits/stdc++.h>\\n\\n#define MOD 10e7\\n\\nusing namespace std;\\n\\nvoid S(int a[], int n)\\n\\n{   set<int>m;\\n\\n     int opsize = pow(2, n);\\n\\n\\t  int p=1,c=0;\\n\\n    for (int c = 1; c < opsize; c++)\\n\\n    {\\n\\n        for (int j = 0; j < n; j++)\\n\\n        {\\n\\n            if (c & (1<<j))\\n\\n               {\\n\\n                p=p*arr[j];\\n\\n\\t\\t\\t\\t}\\n\\n        }\\n\\n\\t\\tif(p%2==1 ||p%4==0)\\n\\n\\t\\t  {\\n\\n\\n\\n\\t\\t  m.insert(p) ;\\n\\n\\n\\n        p=1;\\n\\n    }\\n\\n    cout<<m.size()<<endl;\\n\\n}\\n\\nint main()\\n\\n{\\n\\n\\tint t,i,n;\\n\\n\\tcin>>t;\\n\\n\\twhile(t--)\\n\\n\\t{\\n\\n\\t\\tcin>>n;\\n\\n\\t\\tit a[n];\\n\\n\\t\\tfor(i=0;i<n;i++)\\n\\n\\t\\tin>>a[i];\\n\\n\\n\\n\\tS(a,n);  }\\n\\n}',\n",
       " '#include<bits/stdc++.h>\\n\\nusing namespace std;\\n\\nvoid Subsequences(int arr[], int n)\\n\\n{   unordered_set<int>m;\\n\\n    unsigned int opsize = pow(2, n);\\n\\n\\t  int p=1,c=0;\\n\\n    for (int counter = 1; counter < opsize; counter++)\\n\\n    {\\n\\n        for (int j = 0; j < n; j++)\\n\\n        {\\n\\n            if (counter & (1<<j))\\n\\n               {\\n\\n                p=p*arr[j];\\n\\n\\t\\t\\t\\t}\\n\\n        }\\n\\n\\t\\tif(p%2==1 ||p%4==0)\\n\\n\\t\\t  {\\n\\n\\n\\n\\t\\t  m.insert(p) ;\\n\\n\\t\\t  }\\n\\n        p=1;\\n\\n    }\\n\\n    cout<<m.size()<<endl;\\n\\n}\\n\\nint main()\\n\\n{\\n\\n\\tint t,i,n;\\n\\n\\tcin>>t;\\n\\n\\twhile(t--)\\n\\n\\t{\\n\\n\\t\\tcin>>n;\\n\\n\\t\\tint a[n];\\n\\n\\t\\tfor(i=0;i<n;i++)\\n\\n\\t\\tcin>>a[i];\\n\\n\\n\\n\\tSubsequences(a,n);  }\\n\\n}']"
      ]
     },
     "execution_count": 34,
     "metadata": {},
     "output_type": "execute_result"
    }
   ],
   "source": [
    "text"
   ]
  },
  {
   "cell_type": "code",
   "execution_count": 35,
   "metadata": {},
   "outputs": [],
   "source": [
    "from sklearn.feature_extraction.text import CountVectorizer\n",
    "cv=CountVectorizer()\n",
    "count_matrix=cv.fit_transform(text)"
   ]
  },
  {
   "cell_type": "code",
   "execution_count": 36,
   "metadata": {},
   "outputs": [],
   "source": [
    "from sklearn.metrics.pairwise import cosine_similarity\n",
    "X=cosine_similarity(count_matrix)"
   ]
  },
  {
   "cell_type": "code",
   "execution_count": 37,
   "metadata": {},
   "outputs": [],
   "source": [
    "Match_percentage=X[0][1]*100"
   ]
  },
  {
   "cell_type": "code",
   "execution_count": 38,
   "metadata": {},
   "outputs": [
    {
     "data": {
      "text/plain": [
       "90.278"
      ]
     },
     "execution_count": 38,
     "metadata": {},
     "output_type": "execute_result"
    }
   ],
   "source": [
    "round(Match_percentage,3)"
   ]
  },
  {
   "cell_type": "code",
   "execution_count": null,
   "metadata": {},
   "outputs": [],
   "source": []
  }
 ],
 "metadata": {
  "kernelspec": {
   "display_name": "Python 3",
   "language": "python",
   "name": "python3"
  },
  "language_info": {
   "codemirror_mode": {
    "name": "ipython",
    "version": 3
   },
   "file_extension": ".py",
   "mimetype": "text/x-python",
   "name": "python",
   "nbconvert_exporter": "python",
   "pygments_lexer": "ipython3",
   "version": "3.6.10"
  }
 },
 "nbformat": 4,
 "nbformat_minor": 4
}
