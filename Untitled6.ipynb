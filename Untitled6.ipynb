{
  "nbformat": 4,
  "nbformat_minor": 0,
  "metadata": {
    "colab": {
      "name": "Untitled6.ipynb",
      "provenance": [],
      "collapsed_sections": [],
      "authorship_tag": "ABX9TyMEH5Ef3kqv+jNc8tUG9BCU",
      "include_colab_link": true
    },
    "kernelspec": {
      "name": "python3",
      "display_name": "Python 3"
    }
  },
  "cells": [
    {
      "cell_type": "markdown",
      "metadata": {
        "id": "view-in-github",
        "colab_type": "text"
      },
      "source": [
        "<a href=\"https://colab.research.google.com/github/DEBMALYASEN/ABC/blob/master/Untitled6.ipynb\" target=\"_parent\"><img src=\"https://colab.research.google.com/assets/colab-badge.svg\" alt=\"Open In Colab\"/></a>"
      ]
    },
    {
      "cell_type": "code",
      "metadata": {
        "id": "keodciYexew7",
        "colab_type": "code",
        "colab": {}
      },
      "source": [
        "import spacy\n",
        "from spacy.matcher import Matcher\n",
        "from spacy.tokens import Span\n",
        "from spacy import displacy"
      ],
      "execution_count": 55,
      "outputs": []
    },
    {
      "cell_type": "code",
      "metadata": {
        "id": "IK2FGKu8xjFP",
        "colab_type": "code",
        "colab": {}
      },
      "source": [
        "nlp= spacy.load('en_core_web_sm')"
      ],
      "execution_count": 56,
      "outputs": []
    },
    {
      "cell_type": "code",
      "metadata": {
        "id": "2CMyGSrAxmj6",
        "colab_type": "code",
        "colab": {}
      },
      "source": [
        "text=\"Apple,This is the first sentence,Google .and this is the other one .here the 3rd one.\""
      ],
      "execution_count": 57,
      "outputs": []
    },
    {
      "cell_type": "code",
      "metadata": {
        "id": "CH3aQI5Bxv2O",
        "colab_type": "code",
        "colab": {}
      },
      "source": [
        "doc=nlp(text)"
      ],
      "execution_count": 58,
      "outputs": []
    },
    {
      "cell_type": "code",
      "metadata": {
        "id": "emc5U_mjxzCx",
        "colab_type": "code",
        "colab": {
          "base_uri": "https://localhost:8080/",
          "height": 34
        },
        "outputId": "c80b8d33-4a5b-4e32-a31d-082cefa2707a"
      },
      "source": [
        "doc"
      ],
      "execution_count": 59,
      "outputs": [
        {
          "output_type": "execute_result",
          "data": {
            "text/plain": [
              "Apple,This is the first sentence,Google .and this is the other one .here the 3rd one."
            ]
          },
          "metadata": {
            "tags": []
          },
          "execution_count": 59
        }
      ]
    },
    {
      "cell_type": "code",
      "metadata": {
        "id": "ecgdc7MIx0E2",
        "colab_type": "code",
        "colab": {
          "base_uri": "https://localhost:8080/",
          "height": 353
        },
        "outputId": "4f46dd85-3041-4b56-8e7b-7b9e4154051f"
      },
      "source": [
        "for token in doc:\n",
        "  print(token)"
      ],
      "execution_count": 60,
      "outputs": [
        {
          "output_type": "stream",
          "text": [
            "Apple\n",
            ",\n",
            "This\n",
            "is\n",
            "the\n",
            "first\n",
            "sentence\n",
            ",\n",
            "Google\n",
            ".and\n",
            "this\n",
            "is\n",
            "the\n",
            "other\n",
            "one\n",
            ".here\n",
            "the\n",
            "3rd\n",
            "one\n",
            ".\n"
          ],
          "name": "stdout"
        }
      ]
    },
    {
      "cell_type": "code",
      "metadata": {
        "id": "ql6cdEzZx7WS",
        "colab_type": "code",
        "colab": {}
      },
      "source": [
        "sent=nlp.create_pipe('sentencizer')"
      ],
      "execution_count": 61,
      "outputs": []
    },
    {
      "cell_type": "code",
      "metadata": {
        "id": "nYr-TeEkyMC5",
        "colab_type": "code",
        "colab": {}
      },
      "source": [
        "nlp.add_pipe(sent,before='parser')"
      ],
      "execution_count": 62,
      "outputs": []
    },
    {
      "cell_type": "code",
      "metadata": {
        "id": "YWZ5HIieyRNl",
        "colab_type": "code",
        "colab": {}
      },
      "source": [
        "doc=nlp(text)"
      ],
      "execution_count": 63,
      "outputs": []
    },
    {
      "cell_type": "code",
      "metadata": {
        "id": "QclKTRnNyVBw",
        "colab_type": "code",
        "colab": {
          "base_uri": "https://localhost:8080/",
          "height": 34
        },
        "outputId": "cc782f00-7657-4bea-8c6c-cd5d22778a96"
      },
      "source": [
        "for sent in doc.sents:\n",
        "  print(sent)"
      ],
      "execution_count": 64,
      "outputs": [
        {
          "output_type": "stream",
          "text": [
            "Apple,This is the first sentence,Google .and this is the other one .here the 3rd one.\n"
          ],
          "name": "stdout"
        }
      ]
    },
    {
      "cell_type": "code",
      "metadata": {
        "id": "rlJQ920Nye2Q",
        "colab_type": "code",
        "colab": {}
      },
      "source": [
        "from spacy.lang.en.stop_words import STOP_WORDS"
      ],
      "execution_count": 65,
      "outputs": []
    },
    {
      "cell_type": "code",
      "metadata": {
        "id": "GVHZfRwBzJir",
        "colab_type": "code",
        "colab": {}
      },
      "source": [
        "stopwords=list(STOP_WORDS)"
      ],
      "execution_count": 66,
      "outputs": []
    },
    {
      "cell_type": "code",
      "metadata": {
        "id": "GKSDgGn6zQS7",
        "colab_type": "code",
        "colab": {
          "base_uri": "https://localhost:8080/",
          "height": 34
        },
        "outputId": "80f36ca1-50ab-454c-9744-ec383a24c348"
      },
      "source": [
        "len(stopwords\n",
        "    \n",
        "    )"
      ],
      "execution_count": 67,
      "outputs": [
        {
          "output_type": "execute_result",
          "data": {
            "text/plain": [
              "326"
            ]
          },
          "metadata": {
            "tags": []
          },
          "execution_count": 67
        }
      ]
    },
    {
      "cell_type": "code",
      "metadata": {
        "id": "zn7B0laBzTsy",
        "colab_type": "code",
        "colab": {
          "base_uri": "https://localhost:8080/",
          "height": 168
        },
        "outputId": "fe498bb4-bd22-49fe-ac14-7c3765e341c1"
      },
      "source": [
        "for token in doc:\n",
        "  if token.is_stop==False:\n",
        "    print(token)"
      ],
      "execution_count": 69,
      "outputs": [
        {
          "output_type": "stream",
          "text": [
            "Apple\n",
            ",\n",
            "sentence\n",
            ",\n",
            "Google\n",
            ".and\n",
            ".here\n",
            "3rd\n",
            ".\n"
          ],
          "name": "stdout"
        }
      ]
    },
    {
      "cell_type": "code",
      "metadata": {
        "id": "WafNhSUFzoT2",
        "colab_type": "code",
        "colab": {
          "base_uri": "https://localhost:8080/",
          "height": 1000
        },
        "outputId": "e74ae154-8773-4e1c-8a21-bdad2d8f9890"
      },
      "source": [
        "stopwords"
      ],
      "execution_count": 70,
      "outputs": [
        {
          "output_type": "execute_result",
          "data": {
            "text/plain": [
              "['nobody',\n",
              " 'is',\n",
              " 'becomes',\n",
              " 'when',\n",
              " 'show',\n",
              " 'about',\n",
              " 'seems',\n",
              " 'their',\n",
              " 'now',\n",
              " 'unless',\n",
              " 'throughout',\n",
              " 'well',\n",
              " 'somewhere',\n",
              " 'neither',\n",
              " 'just',\n",
              " 'if',\n",
              " 'seemed',\n",
              " 'above',\n",
              " 'twelve',\n",
              " \"'m\",\n",
              " 'made',\n",
              " 'within',\n",
              " 'really',\n",
              " '‘d',\n",
              " 'many',\n",
              " 'ours',\n",
              " 'been',\n",
              " 'was',\n",
              " 'anyone',\n",
              " 'could',\n",
              " 'else',\n",
              " 'hereupon',\n",
              " 'otherwise',\n",
              " 'whom',\n",
              " 'often',\n",
              " 'though',\n",
              " 'as',\n",
              " 'behind',\n",
              " 'an',\n",
              " 'due',\n",
              " 'hence',\n",
              " 'toward',\n",
              " 'would',\n",
              " 'there',\n",
              " 'anyway',\n",
              " 'into',\n",
              " 'my',\n",
              " 'be',\n",
              " 'being',\n",
              " 'nor',\n",
              " 'to',\n",
              " 'himself',\n",
              " 'our',\n",
              " 'itself',\n",
              " 'never',\n",
              " 'before',\n",
              " 'while',\n",
              " 'how',\n",
              " '’m',\n",
              " 'ten',\n",
              " 'move',\n",
              " 'more',\n",
              " 'say',\n",
              " 'around',\n",
              " 'seem',\n",
              " 'it',\n",
              " 'n‘t',\n",
              " 'one',\n",
              " 'but',\n",
              " 'front',\n",
              " 'should',\n",
              " 'yet',\n",
              " 'call',\n",
              " 'have',\n",
              " \"'ll\",\n",
              " 'fifty',\n",
              " 'him',\n",
              " 'can',\n",
              " '’ve',\n",
              " 'until',\n",
              " 'almost',\n",
              " 'down',\n",
              " 'most',\n",
              " 'another',\n",
              " 'whither',\n",
              " 'each',\n",
              " 'serious',\n",
              " 'too',\n",
              " 'other',\n",
              " 'quite',\n",
              " 'nevertheless',\n",
              " 'via',\n",
              " 'again',\n",
              " 'thence',\n",
              " 'seeming',\n",
              " 'therefore',\n",
              " 'yourself',\n",
              " \"n't\",\n",
              " 'because',\n",
              " 'hundred',\n",
              " 'since',\n",
              " 'four',\n",
              " 'becoming',\n",
              " 'full',\n",
              " 'hers',\n",
              " 'by',\n",
              " 'five',\n",
              " 'the',\n",
              " 'whoever',\n",
              " 'out',\n",
              " 'we',\n",
              " '‘re',\n",
              " 'get',\n",
              " 'ourselves',\n",
              " 'top',\n",
              " 'n’t',\n",
              " 'at',\n",
              " 'formerly',\n",
              " 'every',\n",
              " 'former',\n",
              " 'everyone',\n",
              " 'although',\n",
              " 'become',\n",
              " 'mine',\n",
              " 'empty',\n",
              " 'or',\n",
              " 'indeed',\n",
              " 'not',\n",
              " 'thereafter',\n",
              " 'all',\n",
              " 'may',\n",
              " 'cannot',\n",
              " 'others',\n",
              " 'whose',\n",
              " 'anyhow',\n",
              " 'nine',\n",
              " 'in',\n",
              " 'regarding',\n",
              " 'themselves',\n",
              " 'thus',\n",
              " 'two',\n",
              " 'and',\n",
              " 'will',\n",
              " 'has',\n",
              " 'upon',\n",
              " 'some',\n",
              " 'without',\n",
              " 'back',\n",
              " 'hereby',\n",
              " 'had',\n",
              " 'already',\n",
              " 'third',\n",
              " 'put',\n",
              " 'thru',\n",
              " 'various',\n",
              " '’d',\n",
              " 'whereby',\n",
              " 'below',\n",
              " 'against',\n",
              " 'what',\n",
              " 'during',\n",
              " 'eight',\n",
              " 'beyond',\n",
              " 'make',\n",
              " 'ca',\n",
              " 'do',\n",
              " 'however',\n",
              " 'please',\n",
              " 'off',\n",
              " 'then',\n",
              " 'a',\n",
              " 'perhaps',\n",
              " 'whereas',\n",
              " 'give',\n",
              " 'yourselves',\n",
              " 'twenty',\n",
              " 'bottom',\n",
              " 'i',\n",
              " 'less',\n",
              " 'very',\n",
              " 'no',\n",
              " 'he',\n",
              " 'both',\n",
              " 'of',\n",
              " 'therein',\n",
              " 'whence',\n",
              " 'whereafter',\n",
              " 'were',\n",
              " '‘s',\n",
              " 'afterwards',\n",
              " 'any',\n",
              " 'across',\n",
              " 'eleven',\n",
              " 'take',\n",
              " 'they',\n",
              " 'amongst',\n",
              " 'wherever',\n",
              " 'here',\n",
              " 'must',\n",
              " 'onto',\n",
              " 'your',\n",
              " 'always',\n",
              " 'became',\n",
              " 'us',\n",
              " 'used',\n",
              " 'once',\n",
              " 'last',\n",
              " 'thereby',\n",
              " 'side',\n",
              " 'why',\n",
              " 'same',\n",
              " 'keep',\n",
              " 'fifteen',\n",
              " 'see',\n",
              " 'his',\n",
              " 'thereupon',\n",
              " 'moreover',\n",
              " 'with',\n",
              " 'between',\n",
              " 'you',\n",
              " 'sometimes',\n",
              " 'elsewhere',\n",
              " 'myself',\n",
              " 'on',\n",
              " '‘ve',\n",
              " 'first',\n",
              " 'only',\n",
              " \"'re\",\n",
              " 'next',\n",
              " '‘m',\n",
              " 'whenever',\n",
              " 'me',\n",
              " '’ll',\n",
              " 'those',\n",
              " 'except',\n",
              " 'she',\n",
              " 'nothing',\n",
              " 'either',\n",
              " 'per',\n",
              " 'own',\n",
              " 'sixty',\n",
              " 'alone',\n",
              " 'somehow',\n",
              " 'enough',\n",
              " 'over',\n",
              " 'towards',\n",
              " 'several',\n",
              " \"'d\",\n",
              " 'meanwhile',\n",
              " 'herself',\n",
              " 'after',\n",
              " 'for',\n",
              " 'beside',\n",
              " 'beforehand',\n",
              " 'further',\n",
              " 'few',\n",
              " 'least',\n",
              " 'nowhere',\n",
              " 'so',\n",
              " 'under',\n",
              " 'up',\n",
              " 'someone',\n",
              " 'using',\n",
              " 'anywhere',\n",
              " 'also',\n",
              " 'much',\n",
              " 'name',\n",
              " 'anything',\n",
              " 'something',\n",
              " 'who',\n",
              " 'which',\n",
              " 'latter',\n",
              " 'doing',\n",
              " 'from',\n",
              " 'among',\n",
              " 'together',\n",
              " 'noone',\n",
              " 'did',\n",
              " 'sometime',\n",
              " 'latterly',\n",
              " 'go',\n",
              " \"'s\",\n",
              " 'such',\n",
              " 'its',\n",
              " 'everything',\n",
              " 'where',\n",
              " 'yours',\n",
              " 'them',\n",
              " 'ever',\n",
              " 'rather',\n",
              " 'besides',\n",
              " 'does',\n",
              " 'am',\n",
              " 'forty',\n",
              " 'part',\n",
              " 'might',\n",
              " 'done',\n",
              " 're',\n",
              " 'six',\n",
              " 'than',\n",
              " 'along',\n",
              " 'everywhere',\n",
              " 'whether',\n",
              " 'mostly',\n",
              " 'three',\n",
              " 'that',\n",
              " 'hereafter',\n",
              " 'namely',\n",
              " '’s',\n",
              " 'whole',\n",
              " 'these',\n",
              " 'none',\n",
              " 'still',\n",
              " 'herein',\n",
              " 'through',\n",
              " 'whatever',\n",
              " \"'ve\",\n",
              " 'her',\n",
              " '‘ll',\n",
              " 'even',\n",
              " 'this',\n",
              " 'wherein',\n",
              " 'whereupon',\n",
              " '’re',\n",
              " 'amount',\n",
              " 'are']"
            ]
          },
          "metadata": {
            "tags": []
          },
          "execution_count": 70
        }
      ]
    },
    {
      "cell_type": "code",
      "metadata": {
        "id": "tQblmSE6z1sD",
        "colab_type": "code",
        "colab": {}
      },
      "source": [
        "#Lemmatization\n",
        "doc=nlp('run runs running runner')"
      ],
      "execution_count": 71,
      "outputs": []
    },
    {
      "cell_type": "code",
      "metadata": {
        "id": "NQWmqa3a0CeQ",
        "colab_type": "code",
        "colab": {
          "base_uri": "https://localhost:8080/",
          "height": 84
        },
        "outputId": "fc6f22a8-2dc8-40c1-cddc-7943b949be07"
      },
      "source": [
        "for lem in doc:\n",
        "  print(lem.text,lem.lemma_)"
      ],
      "execution_count": 74,
      "outputs": [
        {
          "output_type": "stream",
          "text": [
            "run run\n",
            "runs run\n",
            "running run\n",
            "runner runner\n"
          ],
          "name": "stdout"
        }
      ]
    },
    {
      "cell_type": "code",
      "metadata": {
        "id": "n9ZvgCRE0PlF",
        "colab_type": "code",
        "colab": {}
      },
      "source": [
        " #POS\n",
        " doc=nlp('All is well at your end !')\n",
        " "
      ],
      "execution_count": 75,
      "outputs": []
    },
    {
      "cell_type": "code",
      "metadata": {
        "id": "fkJxxVc60haS",
        "colab_type": "code",
        "colab": {
          "base_uri": "https://localhost:8080/",
          "height": 134
        },
        "outputId": "bac8d4a2-c183-497d-9986-f9281e98cdf9"
      },
      "source": [
        "for token in doc:\n",
        "  print(token.text,token.pos_)"
      ],
      "execution_count": 76,
      "outputs": [
        {
          "output_type": "stream",
          "text": [
            "All DET\n",
            "is AUX\n",
            "well ADV\n",
            "at ADP\n",
            "your DET\n",
            "end NOUN\n",
            "! PUNCT\n"
          ],
          "name": "stdout"
        }
      ]
    },
    {
      "cell_type": "code",
      "metadata": {
        "id": "9T8WS2Q70nHV",
        "colab_type": "code",
        "colab": {
          "base_uri": "https://localhost:8080/",
          "height": 120
        },
        "outputId": "66a1ace0-efa8-4622-ef0b-e54a526594da"
      },
      "source": [
        " displacy.render(doc,style='dep')"
      ],
      "execution_count": 77,
      "outputs": [
        {
          "output_type": "execute_result",
          "data": {
            "application/vnd.google.colaboratory.intrinsic": {
              "type": "string"
            },
            "text/plain": [
              "'<svg xmlns=\"http://www.w3.org/2000/svg\" xmlns:xlink=\"http://www.w3.org/1999/xlink\" xml:lang=\"en\" id=\"25f80aa088b94882a0c77af765e98cae-0\" class=\"displacy\" width=\"1100\" height=\"312.0\" direction=\"ltr\" style=\"max-width: none; height: 312.0px; color: #000000; background: #ffffff; font-family: Arial; direction: ltr\">\\n<text class=\"displacy-token\" fill=\"currentColor\" text-anchor=\"middle\" y=\"222.0\">\\n    <tspan class=\"displacy-word\" fill=\"currentColor\" x=\"50\">All</tspan>\\n    <tspan class=\"displacy-tag\" dy=\"2em\" fill=\"currentColor\" x=\"50\">DET</tspan>\\n</text>\\n\\n<text class=\"displacy-token\" fill=\"currentColor\" text-anchor=\"middle\" y=\"222.0\">\\n    <tspan class=\"displacy-word\" fill=\"currentColor\" x=\"225\">is</tspan>\\n    <tspan class=\"displacy-tag\" dy=\"2em\" fill=\"currentColor\" x=\"225\">AUX</tspan>\\n</text>\\n\\n<text class=\"displacy-token\" fill=\"currentColor\" text-anchor=\"middle\" y=\"222.0\">\\n    <tspan class=\"displacy-word\" fill=\"currentColor\" x=\"400\">well</tspan>\\n    <tspan class=\"displacy-tag\" dy=\"2em\" fill=\"currentColor\" x=\"400\">ADV</tspan>\\n</text>\\n\\n<text class=\"displacy-token\" fill=\"currentColor\" text-anchor=\"middle\" y=\"222.0\">\\n    <tspan class=\"displacy-word\" fill=\"currentColor\" x=\"575\">at</tspan>\\n    <tspan class=\"displacy-tag\" dy=\"2em\" fill=\"currentColor\" x=\"575\">ADP</tspan>\\n</text>\\n\\n<text class=\"displacy-token\" fill=\"currentColor\" text-anchor=\"middle\" y=\"222.0\">\\n    <tspan class=\"displacy-word\" fill=\"currentColor\" x=\"750\">your</tspan>\\n    <tspan class=\"displacy-tag\" dy=\"2em\" fill=\"currentColor\" x=\"750\">DET</tspan>\\n</text>\\n\\n<text class=\"displacy-token\" fill=\"currentColor\" text-anchor=\"middle\" y=\"222.0\">\\n    <tspan class=\"displacy-word\" fill=\"currentColor\" x=\"925\">end !</tspan>\\n    <tspan class=\"displacy-tag\" dy=\"2em\" fill=\"currentColor\" x=\"925\">NOUN</tspan>\\n</text>\\n\\n<g class=\"displacy-arrow\">\\n    <path class=\"displacy-arc\" id=\"arrow-25f80aa088b94882a0c77af765e98cae-0-0\" stroke-width=\"2px\" d=\"M70,177.0 C70,89.5 220.0,89.5 220.0,177.0\" fill=\"none\" stroke=\"currentColor\"/>\\n    <text dy=\"1.25em\" style=\"font-size: 0.8em; letter-spacing: 1px\">\\n        <textPath xlink:href=\"#arrow-25f80aa088b94882a0c77af765e98cae-0-0\" class=\"displacy-label\" startOffset=\"50%\" side=\"left\" fill=\"currentColor\" text-anchor=\"middle\">nsubj</textPath>\\n    </text>\\n    <path class=\"displacy-arrowhead\" d=\"M70,179.0 L62,167.0 78,167.0\" fill=\"currentColor\"/>\\n</g>\\n\\n<g class=\"displacy-arrow\">\\n    <path class=\"displacy-arc\" id=\"arrow-25f80aa088b94882a0c77af765e98cae-0-1\" stroke-width=\"2px\" d=\"M245,177.0 C245,89.5 395.0,89.5 395.0,177.0\" fill=\"none\" stroke=\"currentColor\"/>\\n    <text dy=\"1.25em\" style=\"font-size: 0.8em; letter-spacing: 1px\">\\n        <textPath xlink:href=\"#arrow-25f80aa088b94882a0c77af765e98cae-0-1\" class=\"displacy-label\" startOffset=\"50%\" side=\"left\" fill=\"currentColor\" text-anchor=\"middle\">acomp</textPath>\\n    </text>\\n    <path class=\"displacy-arrowhead\" d=\"M395.0,179.0 L403.0,167.0 387.0,167.0\" fill=\"currentColor\"/>\\n</g>\\n\\n<g class=\"displacy-arrow\">\\n    <path class=\"displacy-arc\" id=\"arrow-25f80aa088b94882a0c77af765e98cae-0-2\" stroke-width=\"2px\" d=\"M245,177.0 C245,2.0 575.0,2.0 575.0,177.0\" fill=\"none\" stroke=\"currentColor\"/>\\n    <text dy=\"1.25em\" style=\"font-size: 0.8em; letter-spacing: 1px\">\\n        <textPath xlink:href=\"#arrow-25f80aa088b94882a0c77af765e98cae-0-2\" class=\"displacy-label\" startOffset=\"50%\" side=\"left\" fill=\"currentColor\" text-anchor=\"middle\">prep</textPath>\\n    </text>\\n    <path class=\"displacy-arrowhead\" d=\"M575.0,179.0 L583.0,167.0 567.0,167.0\" fill=\"currentColor\"/>\\n</g>\\n\\n<g class=\"displacy-arrow\">\\n    <path class=\"displacy-arc\" id=\"arrow-25f80aa088b94882a0c77af765e98cae-0-3\" stroke-width=\"2px\" d=\"M770,177.0 C770,89.5 920.0,89.5 920.0,177.0\" fill=\"none\" stroke=\"currentColor\"/>\\n    <text dy=\"1.25em\" style=\"font-size: 0.8em; letter-spacing: 1px\">\\n        <textPath xlink:href=\"#arrow-25f80aa088b94882a0c77af765e98cae-0-3\" class=\"displacy-label\" startOffset=\"50%\" side=\"left\" fill=\"currentColor\" text-anchor=\"middle\">poss</textPath>\\n    </text>\\n    <path class=\"displacy-arrowhead\" d=\"M770,179.0 L762,167.0 778,167.0\" fill=\"currentColor\"/>\\n</g>\\n\\n<g class=\"displacy-arrow\">\\n    <path class=\"displacy-arc\" id=\"arrow-25f80aa088b94882a0c77af765e98cae-0-4\" stroke-width=\"2px\" d=\"M595,177.0 C595,2.0 925.0,2.0 925.0,177.0\" fill=\"none\" stroke=\"currentColor\"/>\\n    <text dy=\"1.25em\" style=\"font-size: 0.8em; letter-spacing: 1px\">\\n        <textPath xlink:href=\"#arrow-25f80aa088b94882a0c77af765e98cae-0-4\" class=\"displacy-label\" startOffset=\"50%\" side=\"left\" fill=\"currentColor\" text-anchor=\"middle\">pobj</textPath>\\n    </text>\\n    <path class=\"displacy-arrowhead\" d=\"M925.0,179.0 L933.0,167.0 917.0,167.0\" fill=\"currentColor\"/>\\n</g>\\n</svg>'"
            ]
          },
          "metadata": {
            "tags": []
          },
          "execution_count": 77
        }
      ]
    },
    {
      "cell_type": "code",
      "metadata": {
        "id": "Sx7477bc25OY",
        "colab_type": "code",
        "colab": {}
      },
      "source": [
        "\n",
        "text=\"The Supreme Court's decision on the disputed land in Ayodhya has come on 9 November 2019. This decision was in favor of Ram Mandir, after which the process of constructing the grand Ram temple was started. The first Ram Janmabhoomi Trust was created. It has a total of 15 members, including 9 permanent and 6 nominated members. An account has been opened by this trust with the State Bank of India (SBI). Constant work is also going on the map for the construction of Ram Mandir Construction. The members of the trust are continuously meeting and speeding up the process of construction of the temple, so that the grand temple of Ramlala is ready as soon as possible and the devotees can see them. Stay connected with Patrika.com to know all the updates regarding the construction of Ram temple.\""
      ],
      "execution_count": 81,
      "outputs": []
    },
    {
      "cell_type": "code",
      "metadata": {
        "id": "P-tOVfJJ2-sS",
        "colab_type": "code",
        "colab": {
          "base_uri": "https://localhost:8080/",
          "height": 120
        },
        "outputId": "7a933df8-f90c-4e8f-a779-8ff5829a6031"
      },
      "source": [
        " text =nlp(text)\n",
        " displacy.render(text,style='ent')"
      ],
      "execution_count": 88,
      "outputs": [
        {
          "output_type": "execute_result",
          "data": {
            "application/vnd.google.colaboratory.intrinsic": {
              "type": "string"
            },
            "text/plain": [
              "'<div class=\"entities\" style=\"line-height: 2.5; direction: ltr\">When \\n<mark class=\"entity\" style=\"background: #c887fb; padding: 0.45em 0.6em; margin: 0 0.25em; line-height: 1; border-radius: 0.35em;\">\\n    Sebastian\\n    <span style=\"font-size: 0.8em; font-weight: bold; line-height: 1; border-radius: 0.35em; text-transform: uppercase; vertical-align: middle; margin-left: 0.5rem\">NORP</span>\\n</mark>\\n Thrun started working on self-driving cars at \\n<mark class=\"entity\" style=\"background: #7aecec; padding: 0.45em 0.6em; margin: 0 0.25em; line-height: 1; border-radius: 0.35em;\">\\n    Google\\n    <span style=\"font-size: 0.8em; font-weight: bold; line-height: 1; border-radius: 0.35em; text-transform: uppercase; vertical-align: middle; margin-left: 0.5rem\">ORG</span>\\n</mark>\\n in \\n<mark class=\"entity\" style=\"background: #bfe1d9; padding: 0.45em 0.6em; margin: 0 0.25em; line-height: 1; border-radius: 0.35em;\">\\n    2007\\n    <span style=\"font-size: 0.8em; font-weight: bold; line-height: 1; border-radius: 0.35em; text-transform: uppercase; vertical-align: middle; margin-left: 0.5rem\">DATE</span>\\n</mark>\\n, few people outside of the company took him seriously.</div>'"
            ]
          },
          "metadata": {
            "tags": []
          },
          "execution_count": 88
        }
      ]
    },
    {
      "cell_type": "code",
      "metadata": {
        "id": "j0F3HhgY4YQv",
        "colab_type": "code",
        "colab": {}
      },
      "source": [
        "text = \"When Sebastian Thrun started working on self-driving cars at Google in 2007, few people outside of the company took him seriously.\"\n",
        "\n",
        "nlp = spacy.load(\"en_core_web_sm\")\n",
        "doc = nlp(text)\n",
        "displacy.serve(doc, style=\"ent\")"
      ],
      "execution_count": null,
      "outputs": []
    },
    {
      "cell_type": "code",
      "metadata": {
        "id": "zJnlmuT85Fxo",
        "colab_type": "code",
        "colab": {}
      },
      "source": [
        " "
      ],
      "execution_count": null,
      "outputs": []
    }
  ]
}