{
  "nbformat": 4,
  "nbformat_minor": 0,
  "metadata": {
    "colab": {
      "name": "employee attrition",
      "provenance": [],
      "collapsed_sections": [],
      "authorship_tag": "ABX9TyNS6/2FYEnZF/OXSxn/OoO8",
      "include_colab_link": true
    },
    "kernelspec": {
      "name": "python3",
      "display_name": "Python 3"
    }
  },
  "cells": [
    {
      "cell_type": "markdown",
      "metadata": {
        "id": "view-in-github",
        "colab_type": "text"
      },
      "source": [
        "<a href=\"https://colab.research.google.com/github/DEBMALYASEN/ABC/blob/master/employee_attrition.ipynb\" target=\"_parent\"><img src=\"https://colab.research.google.com/assets/colab-badge.svg\" alt=\"Open In Colab\"/></a>"
      ]
    },
    {
      "cell_type": "code",
      "metadata": {
        "id": "pYKQDYfsDu4A",
        "colab_type": "code",
        "colab": {}
      },
      "source": [
        "#This Program Predicts EMployee Attriton rate\n"
      ],
      "execution_count": 1,
      "outputs": []
    },
    {
      "cell_type": "code",
      "metadata": {
        "id": "2gMinr4JD9q3",
        "colab_type": "code",
        "colab": {
          "base_uri": "https://localhost:8080/",
          "height": 70
        },
        "outputId": "2bf8d5b7-0eb9-46ed-c2a6-70c786a6da0c"
      },
      "source": [
        "import numpy as np\n",
        "import pandas as pd\n",
        "import seaborn as sns"
      ],
      "execution_count": 2,
      "outputs": [
        {
          "output_type": "stream",
          "text": [
            "/usr/local/lib/python3.6/dist-packages/statsmodels/tools/_testing.py:19: FutureWarning: pandas.util.testing is deprecated. Use the functions in the public API at pandas.testing instead.\n",
            "  import pandas.util.testing as tm\n"
          ],
          "name": "stderr"
        }
      ]
    },
    {
      "cell_type": "code",
      "metadata": {
        "id": "bN8KhF-oEX6I",
        "colab_type": "code",
        "colab": {
          "resources": {
            "http://localhost:8080/nbextensions/google.colab/files.js": {
              "data": "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",
              "ok": true,
              "headers": [
                [
                  "content-type",
                  "application/javascript"
                ]
              ],
              "status": 200,
              "status_text": ""
            }
          },
          "base_uri": "https://localhost:8080/",
          "height": 73
        },
        "outputId": "e976184d-2b28-479a-d07e-0c1a7ca7a1ba"
      },
      "source": [
        "#load data\n",
        "from google.colab import files\n",
        "uploaded=files.upload()"
      ],
      "execution_count": 3,
      "outputs": [
        {
          "output_type": "display_data",
          "data": {
            "text/html": [
              "\n",
              "     <input type=\"file\" id=\"files-15a4409c-712f-4a6a-a697-c4d6feaec00b\" name=\"files[]\" multiple disabled\n",
              "        style=\"border:none\" />\n",
              "     <output id=\"result-15a4409c-712f-4a6a-a697-c4d6feaec00b\">\n",
              "      Upload widget is only available when the cell has been executed in the\n",
              "      current browser session. Please rerun this cell to enable.\n",
              "      </output>\n",
              "      <script src=\"/nbextensions/google.colab/files.js\"></script> "
            ],
            "text/plain": [
              "<IPython.core.display.HTML object>"
            ]
          },
          "metadata": {
            "tags": []
          }
        },
        {
          "output_type": "stream",
          "text": [
            "Saving Employee.csv to Employee (1).csv\n"
          ],
          "name": "stdout"
        }
      ]
    },
    {
      "cell_type": "code",
      "metadata": {
        "id": "mXzr1APMEoA4",
        "colab_type": "code",
        "colab": {}
      },
      "source": [
        "df=pd.read_csv('Employee.csv')"
      ],
      "execution_count": 51,
      "outputs": []
    },
    {
      "cell_type": "code",
      "metadata": {
        "id": "VbRYJ_wpJQPA",
        "colab_type": "code",
        "colab": {
          "base_uri": "https://localhost:8080/",
          "height": 215
        },
        "outputId": "e0cac5a2-9357-4e33-df6d-63c80f219813"
      },
      "source": [
        "df.head()"
      ],
      "execution_count": 52,
      "outputs": [
        {
          "output_type": "execute_result",
          "data": {
            "text/html": [
              "<div>\n",
              "<style scoped>\n",
              "    .dataframe tbody tr th:only-of-type {\n",
              "        vertical-align: middle;\n",
              "    }\n",
              "\n",
              "    .dataframe tbody tr th {\n",
              "        vertical-align: top;\n",
              "    }\n",
              "\n",
              "    .dataframe thead th {\n",
              "        text-align: right;\n",
              "    }\n",
              "</style>\n",
              "<table border=\"1\" class=\"dataframe\">\n",
              "  <thead>\n",
              "    <tr style=\"text-align: right;\">\n",
              "      <th></th>\n",
              "      <th>EmployeeID</th>\n",
              "      <th>recorddate_key</th>\n",
              "      <th>birthdate_key</th>\n",
              "      <th>orighiredate_key</th>\n",
              "      <th>terminationdate_key</th>\n",
              "      <th>age</th>\n",
              "      <th>length_of_service</th>\n",
              "      <th>city_name</th>\n",
              "      <th>department_name</th>\n",
              "      <th>job_title</th>\n",
              "      <th>store_name</th>\n",
              "      <th>gender_short</th>\n",
              "      <th>gender_full</th>\n",
              "      <th>termreason_desc</th>\n",
              "      <th>termtype_desc</th>\n",
              "      <th>STATUS_YEAR</th>\n",
              "      <th>STATUS</th>\n",
              "      <th>BUSINESS_UNIT</th>\n",
              "    </tr>\n",
              "  </thead>\n",
              "  <tbody>\n",
              "    <tr>\n",
              "      <th>0</th>\n",
              "      <td>1318</td>\n",
              "      <td>12/31/2006 0:00</td>\n",
              "      <td>1/3/1954</td>\n",
              "      <td>8/28/1989</td>\n",
              "      <td>1/1/1900</td>\n",
              "      <td>52</td>\n",
              "      <td>17</td>\n",
              "      <td>Vancouver</td>\n",
              "      <td>Executive</td>\n",
              "      <td>CEO</td>\n",
              "      <td>35</td>\n",
              "      <td>M</td>\n",
              "      <td>Male</td>\n",
              "      <td>Not Applicable</td>\n",
              "      <td>Not Applicable</td>\n",
              "      <td>2006</td>\n",
              "      <td>ACTIVE</td>\n",
              "      <td>HEADOFFICE</td>\n",
              "    </tr>\n",
              "    <tr>\n",
              "      <th>1</th>\n",
              "      <td>1318</td>\n",
              "      <td>12/31/2007 0:00</td>\n",
              "      <td>1/3/1954</td>\n",
              "      <td>8/28/1989</td>\n",
              "      <td>1/1/1900</td>\n",
              "      <td>53</td>\n",
              "      <td>18</td>\n",
              "      <td>Vancouver</td>\n",
              "      <td>Executive</td>\n",
              "      <td>CEO</td>\n",
              "      <td>35</td>\n",
              "      <td>M</td>\n",
              "      <td>Male</td>\n",
              "      <td>Not Applicable</td>\n",
              "      <td>Not Applicable</td>\n",
              "      <td>2007</td>\n",
              "      <td>ACTIVE</td>\n",
              "      <td>HEADOFFICE</td>\n",
              "    </tr>\n",
              "    <tr>\n",
              "      <th>2</th>\n",
              "      <td>1318</td>\n",
              "      <td>12/31/2008 0:00</td>\n",
              "      <td>1/3/1954</td>\n",
              "      <td>8/28/1989</td>\n",
              "      <td>1/1/1900</td>\n",
              "      <td>54</td>\n",
              "      <td>19</td>\n",
              "      <td>Vancouver</td>\n",
              "      <td>Executive</td>\n",
              "      <td>CEO</td>\n",
              "      <td>35</td>\n",
              "      <td>M</td>\n",
              "      <td>Male</td>\n",
              "      <td>Not Applicable</td>\n",
              "      <td>Not Applicable</td>\n",
              "      <td>2008</td>\n",
              "      <td>ACTIVE</td>\n",
              "      <td>HEADOFFICE</td>\n",
              "    </tr>\n",
              "    <tr>\n",
              "      <th>3</th>\n",
              "      <td>1318</td>\n",
              "      <td>12/31/2009 0:00</td>\n",
              "      <td>1/3/1954</td>\n",
              "      <td>8/28/1989</td>\n",
              "      <td>1/1/1900</td>\n",
              "      <td>55</td>\n",
              "      <td>20</td>\n",
              "      <td>Vancouver</td>\n",
              "      <td>Executive</td>\n",
              "      <td>CEO</td>\n",
              "      <td>35</td>\n",
              "      <td>M</td>\n",
              "      <td>Male</td>\n",
              "      <td>Not Applicable</td>\n",
              "      <td>Not Applicable</td>\n",
              "      <td>2009</td>\n",
              "      <td>ACTIVE</td>\n",
              "      <td>HEADOFFICE</td>\n",
              "    </tr>\n",
              "    <tr>\n",
              "      <th>4</th>\n",
              "      <td>1318</td>\n",
              "      <td>12/31/2010 0:00</td>\n",
              "      <td>1/3/1954</td>\n",
              "      <td>8/28/1989</td>\n",
              "      <td>1/1/1900</td>\n",
              "      <td>56</td>\n",
              "      <td>21</td>\n",
              "      <td>Vancouver</td>\n",
              "      <td>Executive</td>\n",
              "      <td>CEO</td>\n",
              "      <td>35</td>\n",
              "      <td>M</td>\n",
              "      <td>Male</td>\n",
              "      <td>Not Applicable</td>\n",
              "      <td>Not Applicable</td>\n",
              "      <td>2010</td>\n",
              "      <td>ACTIVE</td>\n",
              "      <td>HEADOFFICE</td>\n",
              "    </tr>\n",
              "  </tbody>\n",
              "</table>\n",
              "</div>"
            ],
            "text/plain": [
              "   EmployeeID   recorddate_key birthdate_key  ... STATUS_YEAR  STATUS  BUSINESS_UNIT\n",
              "0        1318  12/31/2006 0:00      1/3/1954  ...        2006  ACTIVE     HEADOFFICE\n",
              "1        1318  12/31/2007 0:00      1/3/1954  ...        2007  ACTIVE     HEADOFFICE\n",
              "2        1318  12/31/2008 0:00      1/3/1954  ...        2008  ACTIVE     HEADOFFICE\n",
              "3        1318  12/31/2009 0:00      1/3/1954  ...        2009  ACTIVE     HEADOFFICE\n",
              "4        1318  12/31/2010 0:00      1/3/1954  ...        2010  ACTIVE     HEADOFFICE\n",
              "\n",
              "[5 rows x 18 columns]"
            ]
          },
          "metadata": {
            "tags": []
          },
          "execution_count": 52
        }
      ]
    },
    {
      "cell_type": "code",
      "metadata": {
        "id": "1E2jzkeHJR4V",
        "colab_type": "code",
        "colab": {
          "base_uri": "https://localhost:8080/",
          "height": 67
        },
        "outputId": "339975ca-57c8-4172-8ce3-7f019a9fe301"
      },
      "source": [
        "df['STATUS'].value_counts()"
      ],
      "execution_count": 53,
      "outputs": [
        {
          "output_type": "execute_result",
          "data": {
            "text/plain": [
              "ACTIVE        48168\n",
              "TERMINATED     1485\n",
              "Name: STATUS, dtype: int64"
            ]
          },
          "metadata": {
            "tags": []
          },
          "execution_count": 53
        }
      ]
    },
    {
      "cell_type": "code",
      "metadata": {
        "id": "bLu-IuQ4KIOz",
        "colab_type": "code",
        "colab": {
          "base_uri": "https://localhost:8080/",
          "height": 437
        },
        "outputId": "bf379777-220c-4116-f314-d265ab19725a"
      },
      "source": [
        "df.info()"
      ],
      "execution_count": 54,
      "outputs": [
        {
          "output_type": "stream",
          "text": [
            "<class 'pandas.core.frame.DataFrame'>\n",
            "RangeIndex: 49653 entries, 0 to 49652\n",
            "Data columns (total 18 columns):\n",
            " #   Column               Non-Null Count  Dtype \n",
            "---  ------               --------------  ----- \n",
            " 0   EmployeeID           49653 non-null  int64 \n",
            " 1   recorddate_key       49653 non-null  object\n",
            " 2   birthdate_key        49653 non-null  object\n",
            " 3   orighiredate_key     49653 non-null  object\n",
            " 4   terminationdate_key  49653 non-null  object\n",
            " 5   age                  49653 non-null  int64 \n",
            " 6   length_of_service    49653 non-null  int64 \n",
            " 7   city_name            49653 non-null  object\n",
            " 8   department_name      49653 non-null  object\n",
            " 9   job_title            49653 non-null  object\n",
            " 10  store_name           49653 non-null  int64 \n",
            " 11  gender_short         49653 non-null  object\n",
            " 12  gender_full          49653 non-null  object\n",
            " 13  termreason_desc      49653 non-null  object\n",
            " 14  termtype_desc        49653 non-null  object\n",
            " 15  STATUS_YEAR          49653 non-null  int64 \n",
            " 16  STATUS               49653 non-null  object\n",
            " 17  BUSINESS_UNIT        49653 non-null  object\n",
            "dtypes: int64(5), object(13)\n",
            "memory usage: 6.8+ MB\n"
          ],
          "name": "stdout"
        }
      ]
    },
    {
      "cell_type": "code",
      "metadata": {
        "id": "wsWiqEEkK98i",
        "colab_type": "code",
        "colab": {
          "base_uri": "https://localhost:8080/",
          "height": 284
        },
        "outputId": "f69259db-386a-4707-e5b0-7530bdfc88cd"
      },
      "source": [
        "df.describe()"
      ],
      "execution_count": 55,
      "outputs": [
        {
          "output_type": "execute_result",
          "data": {
            "text/html": [
              "<div>\n",
              "<style scoped>\n",
              "    .dataframe tbody tr th:only-of-type {\n",
              "        vertical-align: middle;\n",
              "    }\n",
              "\n",
              "    .dataframe tbody tr th {\n",
              "        vertical-align: top;\n",
              "    }\n",
              "\n",
              "    .dataframe thead th {\n",
              "        text-align: right;\n",
              "    }\n",
              "</style>\n",
              "<table border=\"1\" class=\"dataframe\">\n",
              "  <thead>\n",
              "    <tr style=\"text-align: right;\">\n",
              "      <th></th>\n",
              "      <th>EmployeeID</th>\n",
              "      <th>age</th>\n",
              "      <th>length_of_service</th>\n",
              "      <th>store_name</th>\n",
              "      <th>STATUS_YEAR</th>\n",
              "    </tr>\n",
              "  </thead>\n",
              "  <tbody>\n",
              "    <tr>\n",
              "      <th>count</th>\n",
              "      <td>49653.000000</td>\n",
              "      <td>49653.000000</td>\n",
              "      <td>49653.000000</td>\n",
              "      <td>49653.000000</td>\n",
              "      <td>49653.000000</td>\n",
              "    </tr>\n",
              "    <tr>\n",
              "      <th>mean</th>\n",
              "      <td>4859.495740</td>\n",
              "      <td>42.077035</td>\n",
              "      <td>10.434596</td>\n",
              "      <td>27.297605</td>\n",
              "      <td>2010.612612</td>\n",
              "    </tr>\n",
              "    <tr>\n",
              "      <th>std</th>\n",
              "      <td>1826.571142</td>\n",
              "      <td>12.427257</td>\n",
              "      <td>6.325286</td>\n",
              "      <td>13.514134</td>\n",
              "      <td>2.845577</td>\n",
              "    </tr>\n",
              "    <tr>\n",
              "      <th>min</th>\n",
              "      <td>1318.000000</td>\n",
              "      <td>19.000000</td>\n",
              "      <td>0.000000</td>\n",
              "      <td>1.000000</td>\n",
              "      <td>2006.000000</td>\n",
              "    </tr>\n",
              "    <tr>\n",
              "      <th>25%</th>\n",
              "      <td>3360.000000</td>\n",
              "      <td>31.000000</td>\n",
              "      <td>5.000000</td>\n",
              "      <td>16.000000</td>\n",
              "      <td>2008.000000</td>\n",
              "    </tr>\n",
              "    <tr>\n",
              "      <th>50%</th>\n",
              "      <td>5031.000000</td>\n",
              "      <td>42.000000</td>\n",
              "      <td>10.000000</td>\n",
              "      <td>28.000000</td>\n",
              "      <td>2011.000000</td>\n",
              "    </tr>\n",
              "    <tr>\n",
              "      <th>75%</th>\n",
              "      <td>6335.000000</td>\n",
              "      <td>53.000000</td>\n",
              "      <td>15.000000</td>\n",
              "      <td>42.000000</td>\n",
              "      <td>2013.000000</td>\n",
              "    </tr>\n",
              "    <tr>\n",
              "      <th>max</th>\n",
              "      <td>8336.000000</td>\n",
              "      <td>65.000000</td>\n",
              "      <td>26.000000</td>\n",
              "      <td>46.000000</td>\n",
              "      <td>2015.000000</td>\n",
              "    </tr>\n",
              "  </tbody>\n",
              "</table>\n",
              "</div>"
            ],
            "text/plain": [
              "         EmployeeID           age  ...    store_name   STATUS_YEAR\n",
              "count  49653.000000  49653.000000  ...  49653.000000  49653.000000\n",
              "mean    4859.495740     42.077035  ...     27.297605   2010.612612\n",
              "std     1826.571142     12.427257  ...     13.514134      2.845577\n",
              "min     1318.000000     19.000000  ...      1.000000   2006.000000\n",
              "25%     3360.000000     31.000000  ...     16.000000   2008.000000\n",
              "50%     5031.000000     42.000000  ...     28.000000   2011.000000\n",
              "75%     6335.000000     53.000000  ...     42.000000   2013.000000\n",
              "max     8336.000000     65.000000  ...     46.000000   2015.000000\n",
              "\n",
              "[8 rows x 5 columns]"
            ]
          },
          "metadata": {
            "tags": []
          },
          "execution_count": 55
        }
      ]
    },
    {
      "cell_type": "code",
      "metadata": {
        "id": "N4TrtW4dLA_D",
        "colab_type": "code",
        "colab": {
          "base_uri": "https://localhost:8080/",
          "height": 580
        },
        "outputId": "e8d04e78-4751-4a75-8755-2e4586944882"
      },
      "source": [
        "df.head(10).T"
      ],
      "execution_count": 56,
      "outputs": [
        {
          "output_type": "execute_result",
          "data": {
            "text/html": [
              "<div>\n",
              "<style scoped>\n",
              "    .dataframe tbody tr th:only-of-type {\n",
              "        vertical-align: middle;\n",
              "    }\n",
              "\n",
              "    .dataframe tbody tr th {\n",
              "        vertical-align: top;\n",
              "    }\n",
              "\n",
              "    .dataframe thead th {\n",
              "        text-align: right;\n",
              "    }\n",
              "</style>\n",
              "<table border=\"1\" class=\"dataframe\">\n",
              "  <thead>\n",
              "    <tr style=\"text-align: right;\">\n",
              "      <th></th>\n",
              "      <th>0</th>\n",
              "      <th>1</th>\n",
              "      <th>2</th>\n",
              "      <th>3</th>\n",
              "      <th>4</th>\n",
              "      <th>5</th>\n",
              "      <th>6</th>\n",
              "      <th>7</th>\n",
              "      <th>8</th>\n",
              "      <th>9</th>\n",
              "    </tr>\n",
              "  </thead>\n",
              "  <tbody>\n",
              "    <tr>\n",
              "      <th>EmployeeID</th>\n",
              "      <td>1318</td>\n",
              "      <td>1318</td>\n",
              "      <td>1318</td>\n",
              "      <td>1318</td>\n",
              "      <td>1318</td>\n",
              "      <td>1318</td>\n",
              "      <td>1318</td>\n",
              "      <td>1318</td>\n",
              "      <td>1318</td>\n",
              "      <td>1318</td>\n",
              "    </tr>\n",
              "    <tr>\n",
              "      <th>recorddate_key</th>\n",
              "      <td>12/31/2006 0:00</td>\n",
              "      <td>12/31/2007 0:00</td>\n",
              "      <td>12/31/2008 0:00</td>\n",
              "      <td>12/31/2009 0:00</td>\n",
              "      <td>12/31/2010 0:00</td>\n",
              "      <td>12/31/2011 0:00</td>\n",
              "      <td>12/31/2012 0:00</td>\n",
              "      <td>12/31/2013 0:00</td>\n",
              "      <td>12/31/2014 0:00</td>\n",
              "      <td>12/31/2015 0:00</td>\n",
              "    </tr>\n",
              "    <tr>\n",
              "      <th>birthdate_key</th>\n",
              "      <td>1/3/1954</td>\n",
              "      <td>1/3/1954</td>\n",
              "      <td>1/3/1954</td>\n",
              "      <td>1/3/1954</td>\n",
              "      <td>1/3/1954</td>\n",
              "      <td>1/3/1954</td>\n",
              "      <td>1/3/1954</td>\n",
              "      <td>1/3/1954</td>\n",
              "      <td>1/3/1954</td>\n",
              "      <td>1/3/1954</td>\n",
              "    </tr>\n",
              "    <tr>\n",
              "      <th>orighiredate_key</th>\n",
              "      <td>8/28/1989</td>\n",
              "      <td>8/28/1989</td>\n",
              "      <td>8/28/1989</td>\n",
              "      <td>8/28/1989</td>\n",
              "      <td>8/28/1989</td>\n",
              "      <td>8/28/1989</td>\n",
              "      <td>8/28/1989</td>\n",
              "      <td>8/28/1989</td>\n",
              "      <td>8/28/1989</td>\n",
              "      <td>8/28/1989</td>\n",
              "    </tr>\n",
              "    <tr>\n",
              "      <th>terminationdate_key</th>\n",
              "      <td>1/1/1900</td>\n",
              "      <td>1/1/1900</td>\n",
              "      <td>1/1/1900</td>\n",
              "      <td>1/1/1900</td>\n",
              "      <td>1/1/1900</td>\n",
              "      <td>1/1/1900</td>\n",
              "      <td>1/1/1900</td>\n",
              "      <td>1/1/1900</td>\n",
              "      <td>1/1/1900</td>\n",
              "      <td>1/1/1900</td>\n",
              "    </tr>\n",
              "    <tr>\n",
              "      <th>age</th>\n",
              "      <td>52</td>\n",
              "      <td>53</td>\n",
              "      <td>54</td>\n",
              "      <td>55</td>\n",
              "      <td>56</td>\n",
              "      <td>57</td>\n",
              "      <td>58</td>\n",
              "      <td>59</td>\n",
              "      <td>60</td>\n",
              "      <td>61</td>\n",
              "    </tr>\n",
              "    <tr>\n",
              "      <th>length_of_service</th>\n",
              "      <td>17</td>\n",
              "      <td>18</td>\n",
              "      <td>19</td>\n",
              "      <td>20</td>\n",
              "      <td>21</td>\n",
              "      <td>22</td>\n",
              "      <td>23</td>\n",
              "      <td>24</td>\n",
              "      <td>25</td>\n",
              "      <td>26</td>\n",
              "    </tr>\n",
              "    <tr>\n",
              "      <th>city_name</th>\n",
              "      <td>Vancouver</td>\n",
              "      <td>Vancouver</td>\n",
              "      <td>Vancouver</td>\n",
              "      <td>Vancouver</td>\n",
              "      <td>Vancouver</td>\n",
              "      <td>Vancouver</td>\n",
              "      <td>Vancouver</td>\n",
              "      <td>Vancouver</td>\n",
              "      <td>Vancouver</td>\n",
              "      <td>Vancouver</td>\n",
              "    </tr>\n",
              "    <tr>\n",
              "      <th>department_name</th>\n",
              "      <td>Executive</td>\n",
              "      <td>Executive</td>\n",
              "      <td>Executive</td>\n",
              "      <td>Executive</td>\n",
              "      <td>Executive</td>\n",
              "      <td>Executive</td>\n",
              "      <td>Executive</td>\n",
              "      <td>Executive</td>\n",
              "      <td>Executive</td>\n",
              "      <td>Executive</td>\n",
              "    </tr>\n",
              "    <tr>\n",
              "      <th>job_title</th>\n",
              "      <td>CEO</td>\n",
              "      <td>CEO</td>\n",
              "      <td>CEO</td>\n",
              "      <td>CEO</td>\n",
              "      <td>CEO</td>\n",
              "      <td>CEO</td>\n",
              "      <td>CEO</td>\n",
              "      <td>CEO</td>\n",
              "      <td>CEO</td>\n",
              "      <td>CEO</td>\n",
              "    </tr>\n",
              "    <tr>\n",
              "      <th>store_name</th>\n",
              "      <td>35</td>\n",
              "      <td>35</td>\n",
              "      <td>35</td>\n",
              "      <td>35</td>\n",
              "      <td>35</td>\n",
              "      <td>35</td>\n",
              "      <td>35</td>\n",
              "      <td>35</td>\n",
              "      <td>35</td>\n",
              "      <td>35</td>\n",
              "    </tr>\n",
              "    <tr>\n",
              "      <th>gender_short</th>\n",
              "      <td>M</td>\n",
              "      <td>M</td>\n",
              "      <td>M</td>\n",
              "      <td>M</td>\n",
              "      <td>M</td>\n",
              "      <td>M</td>\n",
              "      <td>M</td>\n",
              "      <td>M</td>\n",
              "      <td>M</td>\n",
              "      <td>M</td>\n",
              "    </tr>\n",
              "    <tr>\n",
              "      <th>gender_full</th>\n",
              "      <td>Male</td>\n",
              "      <td>Male</td>\n",
              "      <td>Male</td>\n",
              "      <td>Male</td>\n",
              "      <td>Male</td>\n",
              "      <td>Male</td>\n",
              "      <td>Male</td>\n",
              "      <td>Male</td>\n",
              "      <td>Male</td>\n",
              "      <td>Male</td>\n",
              "    </tr>\n",
              "    <tr>\n",
              "      <th>termreason_desc</th>\n",
              "      <td>Not Applicable</td>\n",
              "      <td>Not Applicable</td>\n",
              "      <td>Not Applicable</td>\n",
              "      <td>Not Applicable</td>\n",
              "      <td>Not Applicable</td>\n",
              "      <td>Not Applicable</td>\n",
              "      <td>Not Applicable</td>\n",
              "      <td>Not Applicable</td>\n",
              "      <td>Not Applicable</td>\n",
              "      <td>Not Applicable</td>\n",
              "    </tr>\n",
              "    <tr>\n",
              "      <th>termtype_desc</th>\n",
              "      <td>Not Applicable</td>\n",
              "      <td>Not Applicable</td>\n",
              "      <td>Not Applicable</td>\n",
              "      <td>Not Applicable</td>\n",
              "      <td>Not Applicable</td>\n",
              "      <td>Not Applicable</td>\n",
              "      <td>Not Applicable</td>\n",
              "      <td>Not Applicable</td>\n",
              "      <td>Not Applicable</td>\n",
              "      <td>Not Applicable</td>\n",
              "    </tr>\n",
              "    <tr>\n",
              "      <th>STATUS_YEAR</th>\n",
              "      <td>2006</td>\n",
              "      <td>2007</td>\n",
              "      <td>2008</td>\n",
              "      <td>2009</td>\n",
              "      <td>2010</td>\n",
              "      <td>2011</td>\n",
              "      <td>2012</td>\n",
              "      <td>2013</td>\n",
              "      <td>2014</td>\n",
              "      <td>2015</td>\n",
              "    </tr>\n",
              "    <tr>\n",
              "      <th>STATUS</th>\n",
              "      <td>ACTIVE</td>\n",
              "      <td>ACTIVE</td>\n",
              "      <td>ACTIVE</td>\n",
              "      <td>ACTIVE</td>\n",
              "      <td>ACTIVE</td>\n",
              "      <td>ACTIVE</td>\n",
              "      <td>ACTIVE</td>\n",
              "      <td>ACTIVE</td>\n",
              "      <td>ACTIVE</td>\n",
              "      <td>ACTIVE</td>\n",
              "    </tr>\n",
              "    <tr>\n",
              "      <th>BUSINESS_UNIT</th>\n",
              "      <td>HEADOFFICE</td>\n",
              "      <td>HEADOFFICE</td>\n",
              "      <td>HEADOFFICE</td>\n",
              "      <td>HEADOFFICE</td>\n",
              "      <td>HEADOFFICE</td>\n",
              "      <td>HEADOFFICE</td>\n",
              "      <td>HEADOFFICE</td>\n",
              "      <td>HEADOFFICE</td>\n",
              "      <td>HEADOFFICE</td>\n",
              "      <td>HEADOFFICE</td>\n",
              "    </tr>\n",
              "  </tbody>\n",
              "</table>\n",
              "</div>"
            ],
            "text/plain": [
              "                                   0  ...                9\n",
              "EmployeeID                      1318  ...             1318\n",
              "recorddate_key       12/31/2006 0:00  ...  12/31/2015 0:00\n",
              "birthdate_key               1/3/1954  ...         1/3/1954\n",
              "orighiredate_key           8/28/1989  ...        8/28/1989\n",
              "terminationdate_key         1/1/1900  ...         1/1/1900\n",
              "age                               52  ...               61\n",
              "length_of_service                 17  ...               26\n",
              "city_name                  Vancouver  ...        Vancouver\n",
              "department_name            Executive  ...        Executive\n",
              "job_title                        CEO  ...              CEO\n",
              "store_name                        35  ...               35\n",
              "gender_short                       M  ...                M\n",
              "gender_full                     Male  ...             Male\n",
              "termreason_desc       Not Applicable  ...   Not Applicable\n",
              "termtype_desc         Not Applicable  ...   Not Applicable\n",
              "STATUS_YEAR                     2006  ...             2015\n",
              "STATUS                        ACTIVE  ...           ACTIVE\n",
              "BUSINESS_UNIT             HEADOFFICE  ...       HEADOFFICE\n",
              "\n",
              "[18 rows x 10 columns]"
            ]
          },
          "metadata": {
            "tags": []
          },
          "execution_count": 56
        }
      ]
    },
    {
      "cell_type": "code",
      "metadata": {
        "id": "iD863-90LUMj",
        "colab_type": "code",
        "colab": {
          "base_uri": "https://localhost:8080/",
          "height": 34
        },
        "outputId": "12162a09-db40-4707-8ba8-4f8cd51daa86"
      },
      "source": [
        "df.duplicated().sum()"
      ],
      "execution_count": 57,
      "outputs": [
        {
          "output_type": "execute_result",
          "data": {
            "text/plain": [
              "0"
            ]
          },
          "metadata": {
            "tags": []
          },
          "execution_count": 57
        }
      ]
    },
    {
      "cell_type": "code",
      "metadata": {
        "id": "sjusTF5hMJei",
        "colab_type": "code",
        "colab": {
          "base_uri": "https://localhost:8080/",
          "height": 336
        },
        "outputId": "3c544e29-84bf-45af-c093-f18af5b756cb"
      },
      "source": [
        "df.isna().sum()"
      ],
      "execution_count": 58,
      "outputs": [
        {
          "output_type": "execute_result",
          "data": {
            "text/plain": [
              "EmployeeID             0\n",
              "recorddate_key         0\n",
              "birthdate_key          0\n",
              "orighiredate_key       0\n",
              "terminationdate_key    0\n",
              "age                    0\n",
              "length_of_service      0\n",
              "city_name              0\n",
              "department_name        0\n",
              "job_title              0\n",
              "store_name             0\n",
              "gender_short           0\n",
              "gender_full            0\n",
              "termreason_desc        0\n",
              "termtype_desc          0\n",
              "STATUS_YEAR            0\n",
              "STATUS                 0\n",
              "BUSINESS_UNIT          0\n",
              "dtype: int64"
            ]
          },
          "metadata": {
            "tags": []
          },
          "execution_count": 58
        }
      ]
    },
    {
      "cell_type": "code",
      "metadata": {
        "id": "I5liy_b2MUPV",
        "colab_type": "code",
        "colab": {
          "base_uri": "https://localhost:8080/",
          "height": 298
        },
        "outputId": "d82a62e4-c0b2-4b93-c71b-ceb7ae337677"
      },
      "source": [
        "sns.set_style('whitegrid')\n",
        "sns.countplot(df['STATUS'])"
      ],
      "execution_count": 59,
      "outputs": [
        {
          "output_type": "execute_result",
          "data": {
            "text/plain": [
              "<matplotlib.axes._subplots.AxesSubplot at 0x7f247de36e48>"
            ]
          },
          "metadata": {
            "tags": []
          },
          "execution_count": 59
        },
        {
          "output_type": "display_data",
          "data": {
            "image/png": "[encoded data removed]",
            "text/plain": [
              "<Figure size 432x288 with 1 Axes>"
            ]
          },
          "metadata": {
            "tags": []
          }
        }
      ]
    },
    {
      "cell_type": "code",
      "metadata": {
        "id": "F0-3GzlRMeB8",
        "colab_type": "code",
        "colab": {
          "base_uri": "https://localhost:8080/",
          "height": 34
        },
        "outputId": "8958c240-2251-4539-f92c-cadc7875e08a"
      },
      "source": [
        "df['STATUS'].unique()"
      ],
      "execution_count": 60,
      "outputs": [
        {
          "output_type": "execute_result",
          "data": {
            "text/plain": [
              "array(['ACTIVE', 'TERMINATED'], dtype=object)"
            ]
          },
          "metadata": {
            "tags": []
          },
          "execution_count": 60
        }
      ]
    },
    {
      "cell_type": "code",
      "metadata": {
        "id": "J6_qXrX9MpLq",
        "colab_type": "code",
        "colab": {}
      },
      "source": [
        "df.drop(['EmployeeID','recorddate_key','birthdate_key','orighiredate_key','gender_full','terminationdate_key'],axis=1,inplace=True)"
      ],
      "execution_count": 61,
      "outputs": []
    },
    {
      "cell_type": "code",
      "metadata": {
        "id": "6gw9mVUyM545",
        "colab_type": "code",
        "colab": {
          "base_uri": "https://localhost:8080/",
          "height": 402
        },
        "outputId": "e9b48310-2c95-4c6d-c863-99a7547cc3dc"
      },
      "source": [
        "\n",
        "\n",
        "df"
      ],
      "execution_count": 62,
      "outputs": [
        {
          "output_type": "execute_result",
          "data": {
            "text/html": [
              "<div>\n",
              "<style scoped>\n",
              "    .dataframe tbody tr th:only-of-type {\n",
              "        vertical-align: middle;\n",
              "    }\n",
              "\n",
              "    .dataframe tbody tr th {\n",
              "        vertical-align: top;\n",
              "    }\n",
              "\n",
              "    .dataframe thead th {\n",
              "        text-align: right;\n",
              "    }\n",
              "</style>\n",
              "<table border=\"1\" class=\"dataframe\">\n",
              "  <thead>\n",
              "    <tr style=\"text-align: right;\">\n",
              "      <th></th>\n",
              "      <th>age</th>\n",
              "      <th>length_of_service</th>\n",
              "      <th>city_name</th>\n",
              "      <th>department_name</th>\n",
              "      <th>job_title</th>\n",
              "      <th>store_name</th>\n",
              "      <th>gender_short</th>\n",
              "      <th>termreason_desc</th>\n",
              "      <th>termtype_desc</th>\n",
              "      <th>STATUS_YEAR</th>\n",
              "      <th>STATUS</th>\n",
              "      <th>BUSINESS_UNIT</th>\n",
              "    </tr>\n",
              "  </thead>\n",
              "  <tbody>\n",
              "    <tr>\n",
              "      <th>0</th>\n",
              "      <td>52</td>\n",
              "      <td>17</td>\n",
              "      <td>Vancouver</td>\n",
              "      <td>Executive</td>\n",
              "      <td>CEO</td>\n",
              "      <td>35</td>\n",
              "      <td>M</td>\n",
              "      <td>Not Applicable</td>\n",
              "      <td>Not Applicable</td>\n",
              "      <td>2006</td>\n",
              "      <td>ACTIVE</td>\n",
              "      <td>HEADOFFICE</td>\n",
              "    </tr>\n",
              "    <tr>\n",
              "      <th>1</th>\n",
              "      <td>53</td>\n",
              "      <td>18</td>\n",
              "      <td>Vancouver</td>\n",
              "      <td>Executive</td>\n",
              "      <td>CEO</td>\n",
              "      <td>35</td>\n",
              "      <td>M</td>\n",
              "      <td>Not Applicable</td>\n",
              "      <td>Not Applicable</td>\n",
              "      <td>2007</td>\n",
              "      <td>ACTIVE</td>\n",
              "      <td>HEADOFFICE</td>\n",
              "    </tr>\n",
              "    <tr>\n",
              "      <th>2</th>\n",
              "      <td>54</td>\n",
              "      <td>19</td>\n",
              "      <td>Vancouver</td>\n",
              "      <td>Executive</td>\n",
              "      <td>CEO</td>\n",
              "      <td>35</td>\n",
              "      <td>M</td>\n",
              "      <td>Not Applicable</td>\n",
              "      <td>Not Applicable</td>\n",
              "      <td>2008</td>\n",
              "      <td>ACTIVE</td>\n",
              "      <td>HEADOFFICE</td>\n",
              "    </tr>\n",
              "    <tr>\n",
              "      <th>3</th>\n",
              "      <td>55</td>\n",
              "      <td>20</td>\n",
              "      <td>Vancouver</td>\n",
              "      <td>Executive</td>\n",
              "      <td>CEO</td>\n",
              "      <td>35</td>\n",
              "      <td>M</td>\n",
              "      <td>Not Applicable</td>\n",
              "      <td>Not Applicable</td>\n",
              "      <td>2009</td>\n",
              "      <td>ACTIVE</td>\n",
              "      <td>HEADOFFICE</td>\n",
              "    </tr>\n",
              "    <tr>\n",
              "      <th>4</th>\n",
              "      <td>56</td>\n",
              "      <td>21</td>\n",
              "      <td>Vancouver</td>\n",
              "      <td>Executive</td>\n",
              "      <td>CEO</td>\n",
              "      <td>35</td>\n",
              "      <td>M</td>\n",
              "      <td>Not Applicable</td>\n",
              "      <td>Not Applicable</td>\n",
              "      <td>2010</td>\n",
              "      <td>ACTIVE</td>\n",
              "      <td>HEADOFFICE</td>\n",
              "    </tr>\n",
              "    <tr>\n",
              "      <th>...</th>\n",
              "      <td>...</td>\n",
              "      <td>...</td>\n",
              "      <td>...</td>\n",
              "      <td>...</td>\n",
              "      <td>...</td>\n",
              "      <td>...</td>\n",
              "      <td>...</td>\n",
              "      <td>...</td>\n",
              "      <td>...</td>\n",
              "      <td>...</td>\n",
              "      <td>...</td>\n",
              "      <td>...</td>\n",
              "    </tr>\n",
              "    <tr>\n",
              "      <th>49648</th>\n",
              "      <td>21</td>\n",
              "      <td>2</td>\n",
              "      <td>Valemount</td>\n",
              "      <td>Dairy</td>\n",
              "      <td>Dairy Person</td>\n",
              "      <td>34</td>\n",
              "      <td>M</td>\n",
              "      <td>Layoff</td>\n",
              "      <td>Involuntary</td>\n",
              "      <td>2015</td>\n",
              "      <td>TERMINATED</td>\n",
              "      <td>STORES</td>\n",
              "    </tr>\n",
              "    <tr>\n",
              "      <th>49649</th>\n",
              "      <td>19</td>\n",
              "      <td>0</td>\n",
              "      <td>Vancouver</td>\n",
              "      <td>Customer Service</td>\n",
              "      <td>Cashier</td>\n",
              "      <td>44</td>\n",
              "      <td>F</td>\n",
              "      <td>Resignaton</td>\n",
              "      <td>Voluntary</td>\n",
              "      <td>2013</td>\n",
              "      <td>TERMINATED</td>\n",
              "      <td>STORES</td>\n",
              "    </tr>\n",
              "    <tr>\n",
              "      <th>49650</th>\n",
              "      <td>21</td>\n",
              "      <td>2</td>\n",
              "      <td>White Rock</td>\n",
              "      <td>Customer Service</td>\n",
              "      <td>Cashier</td>\n",
              "      <td>39</td>\n",
              "      <td>F</td>\n",
              "      <td>Layoff</td>\n",
              "      <td>Involuntary</td>\n",
              "      <td>2015</td>\n",
              "      <td>TERMINATED</td>\n",
              "      <td>STORES</td>\n",
              "    </tr>\n",
              "    <tr>\n",
              "      <th>49651</th>\n",
              "      <td>19</td>\n",
              "      <td>0</td>\n",
              "      <td>Kelowna</td>\n",
              "      <td>Customer Service</td>\n",
              "      <td>Cashier</td>\n",
              "      <td>16</td>\n",
              "      <td>F</td>\n",
              "      <td>Resignaton</td>\n",
              "      <td>Voluntary</td>\n",
              "      <td>2013</td>\n",
              "      <td>TERMINATED</td>\n",
              "      <td>STORES</td>\n",
              "    </tr>\n",
              "    <tr>\n",
              "      <th>49652</th>\n",
              "      <td>20</td>\n",
              "      <td>1</td>\n",
              "      <td>Grand Forks</td>\n",
              "      <td>Customer Service</td>\n",
              "      <td>Cashier</td>\n",
              "      <td>13</td>\n",
              "      <td>F</td>\n",
              "      <td>Layoff</td>\n",
              "      <td>Involuntary</td>\n",
              "      <td>2014</td>\n",
              "      <td>TERMINATED</td>\n",
              "      <td>STORES</td>\n",
              "    </tr>\n",
              "  </tbody>\n",
              "</table>\n",
              "<p>49653 rows × 12 columns</p>\n",
              "</div>"
            ],
            "text/plain": [
              "       age  length_of_service  ...      STATUS BUSINESS_UNIT\n",
              "0       52                 17  ...      ACTIVE    HEADOFFICE\n",
              "1       53                 18  ...      ACTIVE    HEADOFFICE\n",
              "2       54                 19  ...      ACTIVE    HEADOFFICE\n",
              "3       55                 20  ...      ACTIVE    HEADOFFICE\n",
              "4       56                 21  ...      ACTIVE    HEADOFFICE\n",
              "...    ...                ...  ...         ...           ...\n",
              "49648   21                  2  ...  TERMINATED        STORES\n",
              "49649   19                  0  ...  TERMINATED        STORES\n",
              "49650   21                  2  ...  TERMINATED        STORES\n",
              "49651   19                  0  ...  TERMINATED        STORES\n",
              "49652   20                  1  ...  TERMINATED        STORES\n",
              "\n",
              "[49653 rows x 12 columns]"
            ]
          },
          "metadata": {
            "tags": []
          },
          "execution_count": 62
        }
      ]
    },
    {
      "cell_type": "code",
      "metadata": {
        "id": "k8OYsz_LM7yi",
        "colab_type": "code",
        "colab": {
          "base_uri": "https://localhost:8080/",
          "height": 195
        },
        "outputId": "ca9fe0c3-8428-4c45-f38f-b2a6d267dcb9"
      },
      "source": [
        "\n",
        "df.tail()"
      ],
      "execution_count": 63,
      "outputs": [
        {
          "output_type": "execute_result",
          "data": {
            "text/html": [
              "<div>\n",
              "<style scoped>\n",
              "    .dataframe tbody tr th:only-of-type {\n",
              "        vertical-align: middle;\n",
              "    }\n",
              "\n",
              "    .dataframe tbody tr th {\n",
              "        vertical-align: top;\n",
              "    }\n",
              "\n",
              "    .dataframe thead th {\n",
              "        text-align: right;\n",
              "    }\n",
              "</style>\n",
              "<table border=\"1\" class=\"dataframe\">\n",
              "  <thead>\n",
              "    <tr style=\"text-align: right;\">\n",
              "      <th></th>\n",
              "      <th>age</th>\n",
              "      <th>length_of_service</th>\n",
              "      <th>city_name</th>\n",
              "      <th>department_name</th>\n",
              "      <th>job_title</th>\n",
              "      <th>store_name</th>\n",
              "      <th>gender_short</th>\n",
              "      <th>termreason_desc</th>\n",
              "      <th>termtype_desc</th>\n",
              "      <th>STATUS_YEAR</th>\n",
              "      <th>STATUS</th>\n",
              "      <th>BUSINESS_UNIT</th>\n",
              "    </tr>\n",
              "  </thead>\n",
              "  <tbody>\n",
              "    <tr>\n",
              "      <th>49648</th>\n",
              "      <td>21</td>\n",
              "      <td>2</td>\n",
              "      <td>Valemount</td>\n",
              "      <td>Dairy</td>\n",
              "      <td>Dairy Person</td>\n",
              "      <td>34</td>\n",
              "      <td>M</td>\n",
              "      <td>Layoff</td>\n",
              "      <td>Involuntary</td>\n",
              "      <td>2015</td>\n",
              "      <td>TERMINATED</td>\n",
              "      <td>STORES</td>\n",
              "    </tr>\n",
              "    <tr>\n",
              "      <th>49649</th>\n",
              "      <td>19</td>\n",
              "      <td>0</td>\n",
              "      <td>Vancouver</td>\n",
              "      <td>Customer Service</td>\n",
              "      <td>Cashier</td>\n",
              "      <td>44</td>\n",
              "      <td>F</td>\n",
              "      <td>Resignaton</td>\n",
              "      <td>Voluntary</td>\n",
              "      <td>2013</td>\n",
              "      <td>TERMINATED</td>\n",
              "      <td>STORES</td>\n",
              "    </tr>\n",
              "    <tr>\n",
              "      <th>49650</th>\n",
              "      <td>21</td>\n",
              "      <td>2</td>\n",
              "      <td>White Rock</td>\n",
              "      <td>Customer Service</td>\n",
              "      <td>Cashier</td>\n",
              "      <td>39</td>\n",
              "      <td>F</td>\n",
              "      <td>Layoff</td>\n",
              "      <td>Involuntary</td>\n",
              "      <td>2015</td>\n",
              "      <td>TERMINATED</td>\n",
              "      <td>STORES</td>\n",
              "    </tr>\n",
              "    <tr>\n",
              "      <th>49651</th>\n",
              "      <td>19</td>\n",
              "      <td>0</td>\n",
              "      <td>Kelowna</td>\n",
              "      <td>Customer Service</td>\n",
              "      <td>Cashier</td>\n",
              "      <td>16</td>\n",
              "      <td>F</td>\n",
              "      <td>Resignaton</td>\n",
              "      <td>Voluntary</td>\n",
              "      <td>2013</td>\n",
              "      <td>TERMINATED</td>\n",
              "      <td>STORES</td>\n",
              "    </tr>\n",
              "    <tr>\n",
              "      <th>49652</th>\n",
              "      <td>20</td>\n",
              "      <td>1</td>\n",
              "      <td>Grand Forks</td>\n",
              "      <td>Customer Service</td>\n",
              "      <td>Cashier</td>\n",
              "      <td>13</td>\n",
              "      <td>F</td>\n",
              "      <td>Layoff</td>\n",
              "      <td>Involuntary</td>\n",
              "      <td>2014</td>\n",
              "      <td>TERMINATED</td>\n",
              "      <td>STORES</td>\n",
              "    </tr>\n",
              "  </tbody>\n",
              "</table>\n",
              "</div>"
            ],
            "text/plain": [
              "       age  length_of_service  ...      STATUS BUSINESS_UNIT\n",
              "49648   21                  2  ...  TERMINATED        STORES\n",
              "49649   19                  0  ...  TERMINATED        STORES\n",
              "49650   21                  2  ...  TERMINATED        STORES\n",
              "49651   19                  0  ...  TERMINATED        STORES\n",
              "49652   20                  1  ...  TERMINATED        STORES\n",
              "\n",
              "[5 rows x 12 columns]"
            ]
          },
          "metadata": {
            "tags": []
          },
          "execution_count": 63
        }
      ]
    },
    {
      "cell_type": "code",
      "metadata": {
        "id": "LyL2qIecNDTV",
        "colab_type": "code",
        "colab": {
          "base_uri": "https://localhost:8080/",
          "height": 405
        },
        "outputId": "2c493ec4-a624-4536-a194-adba7705436d"
      },
      "source": [
        "import matplotlib.pyplot as plt\n",
        "plt.figure(figsize=(10,6))\n",
        "sns.boxplot(x = 'STATUS', y='age', data = df)"
      ],
      "execution_count": 64,
      "outputs": [
        {
          "output_type": "execute_result",
          "data": {
            "text/plain": [
              "<matplotlib.axes._subplots.AxesSubplot at 0x7f247de237f0>"
            ]
          },
          "metadata": {
            "tags": []
          },
          "execution_count": 64
        },
        {
          "output_type": "display_data",
          "data": {
            "image/png": "[encoded data removed]",
            "text/plain": [
              "<Figure size 720x432 with 1 Axes>"
            ]
          },
          "metadata": {
            "tags": []
          }
        }
      ]
    },
    {
      "cell_type": "code",
      "metadata": {
        "id": "x2jLaDRqNgGK",
        "colab_type": "code",
        "colab": {
          "base_uri": "https://localhost:8080/",
          "height": 297
        },
        "outputId": "3317b473-d636-46d5-bac2-a3cc4e796fff"
      },
      "source": [
        "sns.set_style('whitegrid')\n",
        "sns.countplot(df['BUSINESS_UNIT'])"
      ],
      "execution_count": 65,
      "outputs": [
        {
          "output_type": "execute_result",
          "data": {
            "text/plain": [
              "<matplotlib.axes._subplots.AxesSubplot at 0x7f247dd0f860>"
            ]
          },
          "metadata": {
            "tags": []
          },
          "execution_count": 65
        },
        {
          "output_type": "display_data",
          "data": {
            "image/png": "[encoded data removed]",
            "text/plain": [
              "<Figure size 432x288 with 1 Axes>"
            ]
          },
          "metadata": {
            "tags": []
          }
        }
      ]
    },
    {
      "cell_type": "code",
      "metadata": {
        "id": "kxLiYlnkOLFN",
        "colab_type": "code",
        "colab": {
          "base_uri": "https://localhost:8080/",
          "height": 627
        },
        "outputId": "70e6ffe5-7d26-4197-a1ec-4aeecb153dfe"
      },
      "source": [
        "plt.subplots(figsize=(20,10))\n",
        "sns.countplot(hue= 'STATUS', data = df, x = 'BUSINESS_UNIT')"
      ],
      "execution_count": 66,
      "outputs": [
        {
          "output_type": "execute_result",
          "data": {
            "text/plain": [
              "<matplotlib.axes._subplots.AxesSubplot at 0x7f247dd2dc88>"
            ]
          },
          "metadata": {
            "tags": []
          },
          "execution_count": 66
        },
        {
          "output_type": "display_data",
          "data": {
            "image/png": "[encoded data removed]",
            "text/plain": [
              "<Figure size 1440x720 with 1 Axes>"
            ]
          },
          "metadata": {
            "tags": []
          }
        }
      ]
    },
    {
      "cell_type": "code",
      "metadata": {
        "id": "9VEnXfYbOnkJ",
        "colab_type": "code",
        "colab": {
          "base_uri": "https://localhost:8080/",
          "height": 823
        },
        "outputId": "3dca6b35-0c91-47a7-937c-e742135ea9e6"
      },
      "source": [
        "df.job_title.value_counts()"
      ],
      "execution_count": 67,
      "outputs": [
        {
          "output_type": "execute_result",
          "data": {
            "text/plain": [
              "Meat Cutter                        9984\n",
              "Dairy Person                       8590\n",
              "Produce Clerk                      8237\n",
              "Baker                              8096\n",
              "Cashier                            6816\n",
              "Shelf Stocker                      5622\n",
              "Customer Service Manager            306\n",
              "Processed Foods Manager             289\n",
              "Meats Manager                       285\n",
              "Bakery Manager                      285\n",
              "Produce Manager                     278\n",
              "Store Manager                       271\n",
              "Recruiter                            62\n",
              "HRIS Analyst                         55\n",
              "Accounting Clerk                     50\n",
              "Benefits Admin                       35\n",
              "Accounts Receiveable Clerk           30\n",
              "Labor Relations Analyst              30\n",
              "Trainer                              26\n",
              "Accounts Payable Clerk               25\n",
              "Compensation Analyst                 20\n",
              "Auditor                              20\n",
              "Systems Analyst                      20\n",
              "Investment Analyst                   20\n",
              "Corporate Lawyer                     17\n",
              "VP Human Resources                   10\n",
              "Exec Assistant, VP Stores            10\n",
              "CEO                                  10\n",
              "Legal Counsel                        10\n",
              "VP Finance                           10\n",
              "CHief Information Officer            10\n",
              "Exec Assistant, Human Resources      10\n",
              "VP Stores                            10\n",
              "Director, Recruitment                10\n",
              "Exec Assistant, Finance              10\n",
              "Exec Assistant, Legal Counsel        10\n",
              "Director, Accounting                  9\n",
              "Director, Accounts Receivable         9\n",
              "Director, HR Technology               9\n",
              "Dairy Manager                         9\n",
              "Director, Accounts Payable            9\n",
              "Director, Employee Records            9\n",
              "Director, Compensation                4\n",
              "Director, Audit                       4\n",
              "Director, Investments                 4\n",
              "Director, Labor Relations             4\n",
              "Director, Training                    4\n",
              "Name: job_title, dtype: int64"
            ]
          },
          "metadata": {
            "tags": []
          },
          "execution_count": 67
        }
      ]
    },
    {
      "cell_type": "code",
      "metadata": {
        "id": "Lk_pgl3UO6M4",
        "colab_type": "code",
        "colab": {
          "base_uri": "https://localhost:8080/",
          "height": 623
        },
        "outputId": "86ea0000-aceb-4876-f61c-fb7e46a4f6c6"
      },
      "source": [
        "plt.subplots(figsize=(20,10))\n",
        "sns.countplot(x= 'age',hue = 'STATUS',data = df)"
      ],
      "execution_count": 68,
      "outputs": [
        {
          "output_type": "execute_result",
          "data": {
            "text/plain": [
              "<matplotlib.axes._subplots.AxesSubplot at 0x7f247dbfd160>"
            ]
          },
          "metadata": {
            "tags": []
          },
          "execution_count": 68
        },
        {
          "output_type": "display_data",
          "data": {
            "image/png": "[encoded data removed]",
            "text/plain": [
              "<Figure size 1440x720 with 1 Axes>"
            ]
          },
          "metadata": {
            "tags": []
          }
        }
      ]
    },
    {
      "cell_type": "code",
      "metadata": {
        "id": "QR5n8ZSAPmSb",
        "colab_type": "code",
        "colab": {
          "base_uri": "https://localhost:8080/",
          "height": 764
        },
        "outputId": "933b2590-2b6b-4d7d-80a4-850cf252f241"
      },
      "source": [
        "\n",
        "sns.pairplot(df)"
      ],
      "execution_count": 69,
      "outputs": [
        {
          "output_type": "execute_result",
          "data": {
            "text/plain": [
              "<seaborn.axisgrid.PairGrid at 0x7f247dd5cda0>"
            ]
          },
          "metadata": {
            "tags": []
          },
          "execution_count": 69
        },
        {
          "output_type": "display_data",
          "data": {
            "image/png": "[encoded data removed]",
            "text/plain": [
              "<Figure size 720x720 with 20 Axes>"
            ]
          },
          "metadata": {
            "tags": []
          }
        }
      ]
    },
    {
      "cell_type": "code",
      "metadata": {
        "id": "62nXraTsQdz_",
        "colab_type": "code",
        "colab": {
          "base_uri": "https://localhost:8080/",
          "height": 296
        },
        "outputId": "0e5dee09-cda0-4faf-bdce-03945f90f168"
      },
      "source": [
        "sns.violinplot(x=\"STATUS\", y=\"age\", data=df)"
      ],
      "execution_count": 70,
      "outputs": [
        {
          "output_type": "execute_result",
          "data": {
            "text/plain": [
              "<matplotlib.axes._subplots.AxesSubplot at 0x7f247d408198>"
            ]
          },
          "metadata": {
            "tags": []
          },
          "execution_count": 70
        },
        {
          "output_type": "display_data",
          "data": {
            "image/png": "[encoded data removed]",
            "text/plain": [
              "<Figure size 432x288 with 1 Axes>"
            ]
          },
          "metadata": {
            "tags": []
          }
        }
      ]
    },
    {
      "cell_type": "code",
      "metadata": {
        "id": "HL70QEvJRBWc",
        "colab_type": "code",
        "colab": {
          "base_uri": "https://localhost:8080/",
          "height": 722
        },
        "outputId": "5568529d-1d36-491f-a68e-76dace2f965a"
      },
      "source": [
        "plt.figure(figsize=(10,12))   \n",
        "sns.heatmap(df.corr(),annot=True,fmt='.1%')"
      ],
      "execution_count": 71,
      "outputs": [
        {
          "output_type": "execute_result",
          "data": {
            "text/plain": [
              "<matplotlib.axes._subplots.AxesSubplot at 0x7f247d4962b0>"
            ]
          },
          "metadata": {
            "tags": []
          },
          "execution_count": 71
        },
        {
          "output_type": "display_data",
          "data": {
            "image/png": "[encoded data removed]",
            "text/plain": [
              "<Figure size 720x864 with 2 Axes>"
            ]
          },
          "metadata": {
            "tags": []
          }
        }
      ]
    },
    {
      "cell_type": "code",
      "metadata": {
        "id": "xUVJq72hSPLc",
        "colab_type": "code",
        "colab": {
          "base_uri": "https://localhost:8080/",
          "height": 84
        },
        "outputId": "082ee4a0-e01e-4eef-ccaf-44a2cb822346"
      },
      "source": [
        "df.columns"
      ],
      "execution_count": 72,
      "outputs": [
        {
          "output_type": "execute_result",
          "data": {
            "text/plain": [
              "Index(['age', 'length_of_service', 'city_name', 'department_name', 'job_title',\n",
              "       'store_name', 'gender_short', 'termreason_desc', 'termtype_desc',\n",
              "       'STATUS_YEAR', 'STATUS', 'BUSINESS_UNIT'],\n",
              "      dtype='object')"
            ]
          },
          "metadata": {
            "tags": []
          },
          "execution_count": 72
        }
      ]
    },
    {
      "cell_type": "code",
      "metadata": {
        "id": "DzR_lq5lUVVs",
        "colab_type": "code",
        "colab": {
          "base_uri": "https://localhost:8080/",
          "height": 623
        },
        "outputId": "e7b15cc7-901f-418f-9362-7746200344ef"
      },
      "source": [
        "plt.subplots(figsize=(14,10))\n",
        "sns.countplot(x= 'gender_short',hue = 'STATUS',data = df)"
      ],
      "execution_count": 73,
      "outputs": [
        {
          "output_type": "execute_result",
          "data": {
            "text/plain": [
              "<matplotlib.axes._subplots.AxesSubplot at 0x7f247d339908>"
            ]
          },
          "metadata": {
            "tags": []
          },
          "execution_count": 73
        },
        {
          "output_type": "display_data",
          "data": {
            "image/png": "[encoded data removed]",
            "text/plain": [
              "<Figure size 1008x720 with 1 Axes>"
            ]
          },
          "metadata": {
            "tags": []
          }
        }
      ]
    },
    {
      "cell_type": "code",
      "metadata": {
        "id": "HguQ5Ie2Usje",
        "colab_type": "code",
        "colab": {
          "base_uri": "https://localhost:8080/",
          "height": 353
        },
        "outputId": "d7890852-276d-409d-bf36-27a0f4f005d8"
      },
      "source": [
        "\n",
        "plt.subplots(figsize=(14,5))\n",
        "sns.countplot(x= 'termreason_desc',hue = 'STATUS',data = df,palette='colorblind')"
      ],
      "execution_count": 74,
      "outputs": [
        {
          "output_type": "execute_result",
          "data": {
            "text/plain": [
              "<matplotlib.axes._subplots.AxesSubplot at 0x7f2480ac8550>"
            ]
          },
          "metadata": {
            "tags": []
          },
          "execution_count": 74
        },
        {
          "output_type": "display_data",
          "data": {
            "image/png": "[encoded data removed]",
            "text/plain": [
              "<Figure size 1008x360 with 1 Axes>"
            ]
          },
          "metadata": {
            "tags": []
          }
        }
      ]
    },
    {
      "cell_type": "code",
      "metadata": {
        "id": "nj5Z5r8aa0fK",
        "colab_type": "code",
        "colab": {
          "base_uri": "https://localhost:8080/",
          "height": 402
        },
        "outputId": "ec59c8de-c33c-4117-9666-357f8f9950cd"
      },
      "source": [
        "\n",
        "df"
      ],
      "execution_count": 75,
      "outputs": [
        {
          "output_type": "execute_result",
          "data": {
            "text/html": [
              "<div>\n",
              "<style scoped>\n",
              "    .dataframe tbody tr th:only-of-type {\n",
              "        vertical-align: middle;\n",
              "    }\n",
              "\n",
              "    .dataframe tbody tr th {\n",
              "        vertical-align: top;\n",
              "    }\n",
              "\n",
              "    .dataframe thead th {\n",
              "        text-align: right;\n",
              "    }\n",
              "</style>\n",
              "<table border=\"1\" class=\"dataframe\">\n",
              "  <thead>\n",
              "    <tr style=\"text-align: right;\">\n",
              "      <th></th>\n",
              "      <th>age</th>\n",
              "      <th>length_of_service</th>\n",
              "      <th>city_name</th>\n",
              "      <th>department_name</th>\n",
              "      <th>job_title</th>\n",
              "      <th>store_name</th>\n",
              "      <th>gender_short</th>\n",
              "      <th>termreason_desc</th>\n",
              "      <th>termtype_desc</th>\n",
              "      <th>STATUS_YEAR</th>\n",
              "      <th>STATUS</th>\n",
              "      <th>BUSINESS_UNIT</th>\n",
              "    </tr>\n",
              "  </thead>\n",
              "  <tbody>\n",
              "    <tr>\n",
              "      <th>0</th>\n",
              "      <td>52</td>\n",
              "      <td>17</td>\n",
              "      <td>Vancouver</td>\n",
              "      <td>Executive</td>\n",
              "      <td>CEO</td>\n",
              "      <td>35</td>\n",
              "      <td>M</td>\n",
              "      <td>Not Applicable</td>\n",
              "      <td>Not Applicable</td>\n",
              "      <td>2006</td>\n",
              "      <td>ACTIVE</td>\n",
              "      <td>HEADOFFICE</td>\n",
              "    </tr>\n",
              "    <tr>\n",
              "      <th>1</th>\n",
              "      <td>53</td>\n",
              "      <td>18</td>\n",
              "      <td>Vancouver</td>\n",
              "      <td>Executive</td>\n",
              "      <td>CEO</td>\n",
              "      <td>35</td>\n",
              "      <td>M</td>\n",
              "      <td>Not Applicable</td>\n",
              "      <td>Not Applicable</td>\n",
              "      <td>2007</td>\n",
              "      <td>ACTIVE</td>\n",
              "      <td>HEADOFFICE</td>\n",
              "    </tr>\n",
              "    <tr>\n",
              "      <th>2</th>\n",
              "      <td>54</td>\n",
              "      <td>19</td>\n",
              "      <td>Vancouver</td>\n",
              "      <td>Executive</td>\n",
              "      <td>CEO</td>\n",
              "      <td>35</td>\n",
              "      <td>M</td>\n",
              "      <td>Not Applicable</td>\n",
              "      <td>Not Applicable</td>\n",
              "      <td>2008</td>\n",
              "      <td>ACTIVE</td>\n",
              "      <td>HEADOFFICE</td>\n",
              "    </tr>\n",
              "    <tr>\n",
              "      <th>3</th>\n",
              "      <td>55</td>\n",
              "      <td>20</td>\n",
              "      <td>Vancouver</td>\n",
              "      <td>Executive</td>\n",
              "      <td>CEO</td>\n",
              "      <td>35</td>\n",
              "      <td>M</td>\n",
              "      <td>Not Applicable</td>\n",
              "      <td>Not Applicable</td>\n",
              "      <td>2009</td>\n",
              "      <td>ACTIVE</td>\n",
              "      <td>HEADOFFICE</td>\n",
              "    </tr>\n",
              "    <tr>\n",
              "      <th>4</th>\n",
              "      <td>56</td>\n",
              "      <td>21</td>\n",
              "      <td>Vancouver</td>\n",
              "      <td>Executive</td>\n",
              "      <td>CEO</td>\n",
              "      <td>35</td>\n",
              "      <td>M</td>\n",
              "      <td>Not Applicable</td>\n",
              "      <td>Not Applicable</td>\n",
              "      <td>2010</td>\n",
              "      <td>ACTIVE</td>\n",
              "      <td>HEADOFFICE</td>\n",
              "    </tr>\n",
              "    <tr>\n",
              "      <th>...</th>\n",
              "      <td>...</td>\n",
              "      <td>...</td>\n",
              "      <td>...</td>\n",
              "      <td>...</td>\n",
              "      <td>...</td>\n",
              "      <td>...</td>\n",
              "      <td>...</td>\n",
              "      <td>...</td>\n",
              "      <td>...</td>\n",
              "      <td>...</td>\n",
              "      <td>...</td>\n",
              "      <td>...</td>\n",
              "    </tr>\n",
              "    <tr>\n",
              "      <th>49648</th>\n",
              "      <td>21</td>\n",
              "      <td>2</td>\n",
              "      <td>Valemount</td>\n",
              "      <td>Dairy</td>\n",
              "      <td>Dairy Person</td>\n",
              "      <td>34</td>\n",
              "      <td>M</td>\n",
              "      <td>Layoff</td>\n",
              "      <td>Involuntary</td>\n",
              "      <td>2015</td>\n",
              "      <td>TERMINATED</td>\n",
              "      <td>STORES</td>\n",
              "    </tr>\n",
              "    <tr>\n",
              "      <th>49649</th>\n",
              "      <td>19</td>\n",
              "      <td>0</td>\n",
              "      <td>Vancouver</td>\n",
              "      <td>Customer Service</td>\n",
              "      <td>Cashier</td>\n",
              "      <td>44</td>\n",
              "      <td>F</td>\n",
              "      <td>Resignaton</td>\n",
              "      <td>Voluntary</td>\n",
              "      <td>2013</td>\n",
              "      <td>TERMINATED</td>\n",
              "      <td>STORES</td>\n",
              "    </tr>\n",
              "    <tr>\n",
              "      <th>49650</th>\n",
              "      <td>21</td>\n",
              "      <td>2</td>\n",
              "      <td>White Rock</td>\n",
              "      <td>Customer Service</td>\n",
              "      <td>Cashier</td>\n",
              "      <td>39</td>\n",
              "      <td>F</td>\n",
              "      <td>Layoff</td>\n",
              "      <td>Involuntary</td>\n",
              "      <td>2015</td>\n",
              "      <td>TERMINATED</td>\n",
              "      <td>STORES</td>\n",
              "    </tr>\n",
              "    <tr>\n",
              "      <th>49651</th>\n",
              "      <td>19</td>\n",
              "      <td>0</td>\n",
              "      <td>Kelowna</td>\n",
              "      <td>Customer Service</td>\n",
              "      <td>Cashier</td>\n",
              "      <td>16</td>\n",
              "      <td>F</td>\n",
              "      <td>Resignaton</td>\n",
              "      <td>Voluntary</td>\n",
              "      <td>2013</td>\n",
              "      <td>TERMINATED</td>\n",
              "      <td>STORES</td>\n",
              "    </tr>\n",
              "    <tr>\n",
              "      <th>49652</th>\n",
              "      <td>20</td>\n",
              "      <td>1</td>\n",
              "      <td>Grand Forks</td>\n",
              "      <td>Customer Service</td>\n",
              "      <td>Cashier</td>\n",
              "      <td>13</td>\n",
              "      <td>F</td>\n",
              "      <td>Layoff</td>\n",
              "      <td>Involuntary</td>\n",
              "      <td>2014</td>\n",
              "      <td>TERMINATED</td>\n",
              "      <td>STORES</td>\n",
              "    </tr>\n",
              "  </tbody>\n",
              "</table>\n",
              "<p>49653 rows × 12 columns</p>\n",
              "</div>"
            ],
            "text/plain": [
              "       age  length_of_service  ...      STATUS BUSINESS_UNIT\n",
              "0       52                 17  ...      ACTIVE    HEADOFFICE\n",
              "1       53                 18  ...      ACTIVE    HEADOFFICE\n",
              "2       54                 19  ...      ACTIVE    HEADOFFICE\n",
              "3       55                 20  ...      ACTIVE    HEADOFFICE\n",
              "4       56                 21  ...      ACTIVE    HEADOFFICE\n",
              "...    ...                ...  ...         ...           ...\n",
              "49648   21                  2  ...  TERMINATED        STORES\n",
              "49649   19                  0  ...  TERMINATED        STORES\n",
              "49650   21                  2  ...  TERMINATED        STORES\n",
              "49651   19                  0  ...  TERMINATED        STORES\n",
              "49652   20                  1  ...  TERMINATED        STORES\n",
              "\n",
              "[49653 rows x 12 columns]"
            ]
          },
          "metadata": {
            "tags": []
          },
          "execution_count": 75
        }
      ]
    },
    {
      "cell_type": "code",
      "metadata": {
        "id": "krwHrH1wc8ti",
        "colab_type": "code",
        "colab": {
          "base_uri": "https://localhost:8080/",
          "height": 84
        },
        "outputId": "a5ef017e-d6df-4eae-bbff-1e8f1899278d"
      },
      "source": [
        "df.columns"
      ],
      "execution_count": 76,
      "outputs": [
        {
          "output_type": "execute_result",
          "data": {
            "text/plain": [
              "Index(['age', 'length_of_service', 'city_name', 'department_name', 'job_title',\n",
              "       'store_name', 'gender_short', 'termreason_desc', 'termtype_desc',\n",
              "       'STATUS_YEAR', 'STATUS', 'BUSINESS_UNIT'],\n",
              "      dtype='object')"
            ]
          },
          "metadata": {
            "tags": []
          },
          "execution_count": 76
        }
      ]
    },
    {
      "cell_type": "code",
      "metadata": {
        "id": "ry3a4A8-dQU1",
        "colab_type": "code",
        "colab": {
          "base_uri": "https://localhost:8080/",
          "height": 34
        },
        "outputId": "634db179-e415-4d65-ffa2-2469138fa820"
      },
      "source": [
        "#SEGREGRATE JOB TITLES\n",
        "\n",
        "\n",
        "employee = ['Meat Cutter', 'Dairy Person', 'Produce Clerk', 'Baker', 'Cashier',\n",
        "            'Shelf Stocker', 'Recruiter', 'HRIS Analyst', 'Accounting Clerk',\n",
        "            'Benefits Admin', 'Labor Relations Analyst', 'Accounts Receiveable Clerk',\n",
        "            'Accounts Payable Clerk', 'Auditor', 'Compensation Analyst',\n",
        "            'Investment Analyst', 'Systems Analyst', 'Corporate Lawyer', 'Legal Counsel']\n",
        "\n",
        "manager = ['Customer Service Manager', 'Processed Foods Manager', 'Meats Manager',\n",
        "           'Bakery Manager', 'Produce Manager', 'Store Manager', 'Trainer', 'Dairy Manager']\n",
        "\n",
        "executive = ['Exec Assistant, Finance', 'Exec Assistant, Legal Counsel',\n",
        "             'CHief Information Officer', 'CEO', 'Exec Assistant, Human Resources',\n",
        "             'Exec Assistant, VP Stores']\n",
        "\n",
        "board = ['VP Stores', 'Director, Recruitment', 'VP Human Resources', 'VP Finance',\n",
        "         'Director, Accounts Receivable', 'Director, Accounting',\n",
        "         'Director, Employee Records', 'Director, Accounts Payable',\n",
        "         'Director, HR Technology', 'Director, Investments',\n",
        "         'Director, Labor Relations', 'Director, Audit', 'Director, Training',\n",
        "         'Director, Compensation']\n",
        "total = len(employee) + len(manager) + len(executive) + len(board)\n",
        "print('Total jobs categorised:', total, 'out of 47')"
      ],
      "execution_count": 77,
      "outputs": [
        {
          "output_type": "stream",
          "text": [
            "Total jobs categorised: 47 out of 47\n"
          ],
          "name": "stdout"
        }
      ]
    },
    {
      "cell_type": "code",
      "metadata": {
        "id": "iUZ2Sd3lesq8",
        "colab_type": "code",
        "colab": {
          "base_uri": "https://localhost:8080/",
          "height": 101
        },
        "outputId": "6a2cfc76-0d4f-4c12-b4fc-b4c17231e75b"
      },
      "source": [
        "#FEATURE ADDING\n",
        "df['Hierarchy'] = df.job_title\n",
        "df['Hierarchy'] = df['Hierarchy'].replace(employee, 0)\n",
        "df['Hierarchy'] = df['Hierarchy'].replace(manager, 1)\n",
        "df['Hierarchy'] = df['Hierarchy'].replace(executive, 2)\n",
        "df['Hierarchy'] = df['Hierarchy'].replace(board, 3)\n",
        "df['Hierarchy'].value_counts()"
      ],
      "execution_count": 78,
      "outputs": [
        {
          "output_type": "execute_result",
          "data": {
            "text/plain": [
              "0    47739\n",
              "1     1749\n",
              "3      105\n",
              "2       60\n",
              "Name: Hierarchy, dtype: int64"
            ]
          },
          "metadata": {
            "tags": []
          },
          "execution_count": 78
        }
      ]
    },
    {
      "cell_type": "code",
      "metadata": {
        "id": "XO1NiVSufOgA",
        "colab_type": "code",
        "colab": {
          "base_uri": "https://localhost:8080/",
          "height": 34
        },
        "outputId": "743531be-a9e8-4e38-b25d-1743c5b9e669"
      },
      "source": [
        "df.shape"
      ],
      "execution_count": 79,
      "outputs": [
        {
          "output_type": "execute_result",
          "data": {
            "text/plain": [
              "(49653, 13)"
            ]
          },
          "metadata": {
            "tags": []
          },
          "execution_count": 79
        }
      ]
    },
    {
      "cell_type": "code",
      "metadata": {
        "id": "L8RAXNtPf6w3",
        "colab_type": "code",
        "colab": {
          "base_uri": "https://localhost:8080/",
          "height": 823
        },
        "outputId": "fc61f28c-b48f-4223-fa18-88daf06734c7"
      },
      "source": [
        "df.job_title.value_counts()"
      ],
      "execution_count": 80,
      "outputs": [
        {
          "output_type": "execute_result",
          "data": {
            "text/plain": [
              "Meat Cutter                        9984\n",
              "Dairy Person                       8590\n",
              "Produce Clerk                      8237\n",
              "Baker                              8096\n",
              "Cashier                            6816\n",
              "Shelf Stocker                      5622\n",
              "Customer Service Manager            306\n",
              "Processed Foods Manager             289\n",
              "Meats Manager                       285\n",
              "Bakery Manager                      285\n",
              "Produce Manager                     278\n",
              "Store Manager                       271\n",
              "Recruiter                            62\n",
              "HRIS Analyst                         55\n",
              "Accounting Clerk                     50\n",
              "Benefits Admin                       35\n",
              "Accounts Receiveable Clerk           30\n",
              "Labor Relations Analyst              30\n",
              "Trainer                              26\n",
              "Accounts Payable Clerk               25\n",
              "Compensation Analyst                 20\n",
              "Auditor                              20\n",
              "Systems Analyst                      20\n",
              "Investment Analyst                   20\n",
              "Corporate Lawyer                     17\n",
              "VP Human Resources                   10\n",
              "Exec Assistant, VP Stores            10\n",
              "CEO                                  10\n",
              "Legal Counsel                        10\n",
              "VP Finance                           10\n",
              "CHief Information Officer            10\n",
              "Exec Assistant, Human Resources      10\n",
              "VP Stores                            10\n",
              "Director, Recruitment                10\n",
              "Exec Assistant, Finance              10\n",
              "Exec Assistant, Legal Counsel        10\n",
              "Director, Accounting                  9\n",
              "Director, Accounts Receivable         9\n",
              "Director, HR Technology               9\n",
              "Dairy Manager                         9\n",
              "Director, Accounts Payable            9\n",
              "Director, Employee Records            9\n",
              "Director, Compensation                4\n",
              "Director, Audit                       4\n",
              "Director, Investments                 4\n",
              "Director, Labor Relations             4\n",
              "Director, Training                    4\n",
              "Name: job_title, dtype: int64"
            ]
          },
          "metadata": {
            "tags": []
          },
          "execution_count": 80
        }
      ]
    },
    {
      "cell_type": "code",
      "metadata": {
        "id": "I8vMHr2YgFXQ",
        "colab_type": "code",
        "colab": {
          "base_uri": "https://localhost:8080/",
          "height": 386
        },
        "outputId": "a31e1aaf-6dd2-4214-ff6e-d8ef80e1a838"
      },
      "source": [
        "#NOW SEGREGRATING DEPARTMENTS\n",
        "df['department_name'].value_counts()"
      ],
      "execution_count": 81,
      "outputs": [
        {
          "output_type": "execute_result",
          "data": {
            "text/plain": [
              "Meats                     10269\n",
              "Dairy                      8599\n",
              "Produce                    8515\n",
              "Bakery                     8381\n",
              "Customer Service           7122\n",
              "Processed Foods            5911\n",
              "Store Management            271\n",
              "Executive                   100\n",
              "Recruitment                  72\n",
              "HR Technology                64\n",
              "Accounting                   59\n",
              "Employee Records             44\n",
              "Accounts Receiveable         39\n",
              "Labor Relations              34\n",
              "Accounts Payable             34\n",
              "Training                     30\n",
              "Investment                   24\n",
              "Compensation                 24\n",
              "Audit                        24\n",
              "Information Technology       20\n",
              "Legal                        17\n",
              "Name: department_name, dtype: int64"
            ]
          },
          "metadata": {
            "tags": []
          },
          "execution_count": 81
        }
      ]
    },
    {
      "cell_type": "code",
      "metadata": {
        "id": "HNHjitqek94L",
        "colab_type": "code",
        "colab": {
          "base_uri": "https://localhost:8080/",
          "height": 34
        },
        "outputId": "9edd7504-39e1-49ab-c4bc-ccf3acce3100"
      },
      "source": [
        "serve_cus = ['Meats', 'Dairy', 'Produce', 'Bakery', 'Customer Service', 'Processed Foods']\n",
        "\n",
        "serve_biz = ['Store Management', 'Executive', 'Recruitment', 'HR Technology',\n",
        "             'Accounting', 'Employee Records', 'Accounts Receiveable',\n",
        "             'Accounts Payable', 'Labor Relations', 'Training', 'Compensation',\n",
        "             'Audit', 'Investment', 'Information Technology', 'Legal']\n",
        "total = len(serve_cus) + len(serve_biz)\n",
        "print('Total departments categorised:', total, 'out of 21')"
      ],
      "execution_count": 82,
      "outputs": [
        {
          "output_type": "stream",
          "text": [
            "Total departments categorised: 21 out of 21\n"
          ],
          "name": "stdout"
        }
      ]
    },
    {
      "cell_type": "code",
      "metadata": {
        "id": "QOJtzxFRlL-u",
        "colab_type": "code",
        "colab": {
          "base_uri": "https://localhost:8080/",
          "height": 67
        },
        "outputId": "63ff551c-9f32-4bb0-c069-13d4cbe453a8"
      },
      "source": [
        "df['Service_to'] = df.department_name\n",
        "df['Service_to'] = df['Service_to'].replace(serve_cus, 'Customer')\n",
        "df['Service_to'] = df['Service_to'].replace(serve_biz, 'Business')\n",
        "\n",
        "df['Service_to'].value_counts()"
      ],
      "execution_count": 83,
      "outputs": [
        {
          "output_type": "execute_result",
          "data": {
            "text/plain": [
              "Customer    48797\n",
              "Business      856\n",
              "Name: Service_to, dtype: int64"
            ]
          },
          "metadata": {
            "tags": []
          },
          "execution_count": 83
        }
      ]
    },
    {
      "cell_type": "code",
      "metadata": {
        "id": "IBeFZpXblk-S",
        "colab_type": "code",
        "colab": {
          "base_uri": "https://localhost:8080/",
          "height": 472
        },
        "outputId": "5d0b64f7-78da-47c5-c248-ed2c1c20b187"
      },
      "source": [
        "df"
      ],
      "execution_count": 84,
      "outputs": [
        {
          "output_type": "execute_result",
          "data": {
            "text/html": [
              "<div>\n",
              "<style scoped>\n",
              "    .dataframe tbody tr th:only-of-type {\n",
              "        vertical-align: middle;\n",
              "    }\n",
              "\n",
              "    .dataframe tbody tr th {\n",
              "        vertical-align: top;\n",
              "    }\n",
              "\n",
              "    .dataframe thead th {\n",
              "        text-align: right;\n",
              "    }\n",
              "</style>\n",
              "<table border=\"1\" class=\"dataframe\">\n",
              "  <thead>\n",
              "    <tr style=\"text-align: right;\">\n",
              "      <th></th>\n",
              "      <th>age</th>\n",
              "      <th>length_of_service</th>\n",
              "      <th>city_name</th>\n",
              "      <th>department_name</th>\n",
              "      <th>job_title</th>\n",
              "      <th>store_name</th>\n",
              "      <th>gender_short</th>\n",
              "      <th>termreason_desc</th>\n",
              "      <th>termtype_desc</th>\n",
              "      <th>STATUS_YEAR</th>\n",
              "      <th>STATUS</th>\n",
              "      <th>BUSINESS_UNIT</th>\n",
              "      <th>Hierarchy</th>\n",
              "      <th>Service_to</th>\n",
              "    </tr>\n",
              "  </thead>\n",
              "  <tbody>\n",
              "    <tr>\n",
              "      <th>0</th>\n",
              "      <td>52</td>\n",
              "      <td>17</td>\n",
              "      <td>Vancouver</td>\n",
              "      <td>Executive</td>\n",
              "      <td>CEO</td>\n",
              "      <td>35</td>\n",
              "      <td>M</td>\n",
              "      <td>Not Applicable</td>\n",
              "      <td>Not Applicable</td>\n",
              "      <td>2006</td>\n",
              "      <td>ACTIVE</td>\n",
              "      <td>HEADOFFICE</td>\n",
              "      <td>2</td>\n",
              "      <td>Business</td>\n",
              "    </tr>\n",
              "    <tr>\n",
              "      <th>1</th>\n",
              "      <td>53</td>\n",
              "      <td>18</td>\n",
              "      <td>Vancouver</td>\n",
              "      <td>Executive</td>\n",
              "      <td>CEO</td>\n",
              "      <td>35</td>\n",
              "      <td>M</td>\n",
              "      <td>Not Applicable</td>\n",
              "      <td>Not Applicable</td>\n",
              "      <td>2007</td>\n",
              "      <td>ACTIVE</td>\n",
              "      <td>HEADOFFICE</td>\n",
              "      <td>2</td>\n",
              "      <td>Business</td>\n",
              "    </tr>\n",
              "    <tr>\n",
              "      <th>2</th>\n",
              "      <td>54</td>\n",
              "      <td>19</td>\n",
              "      <td>Vancouver</td>\n",
              "      <td>Executive</td>\n",
              "      <td>CEO</td>\n",
              "      <td>35</td>\n",
              "      <td>M</td>\n",
              "      <td>Not Applicable</td>\n",
              "      <td>Not Applicable</td>\n",
              "      <td>2008</td>\n",
              "      <td>ACTIVE</td>\n",
              "      <td>HEADOFFICE</td>\n",
              "      <td>2</td>\n",
              "      <td>Business</td>\n",
              "    </tr>\n",
              "    <tr>\n",
              "      <th>3</th>\n",
              "      <td>55</td>\n",
              "      <td>20</td>\n",
              "      <td>Vancouver</td>\n",
              "      <td>Executive</td>\n",
              "      <td>CEO</td>\n",
              "      <td>35</td>\n",
              "      <td>M</td>\n",
              "      <td>Not Applicable</td>\n",
              "      <td>Not Applicable</td>\n",
              "      <td>2009</td>\n",
              "      <td>ACTIVE</td>\n",
              "      <td>HEADOFFICE</td>\n",
              "      <td>2</td>\n",
              "      <td>Business</td>\n",
              "    </tr>\n",
              "    <tr>\n",
              "      <th>4</th>\n",
              "      <td>56</td>\n",
              "      <td>21</td>\n",
              "      <td>Vancouver</td>\n",
              "      <td>Executive</td>\n",
              "      <td>CEO</td>\n",
              "      <td>35</td>\n",
              "      <td>M</td>\n",
              "      <td>Not Applicable</td>\n",
              "      <td>Not Applicable</td>\n",
              "      <td>2010</td>\n",
              "      <td>ACTIVE</td>\n",
              "      <td>HEADOFFICE</td>\n",
              "      <td>2</td>\n",
              "      <td>Business</td>\n",
              "    </tr>\n",
              "    <tr>\n",
              "      <th>...</th>\n",
              "      <td>...</td>\n",
              "      <td>...</td>\n",
              "      <td>...</td>\n",
              "      <td>...</td>\n",
              "      <td>...</td>\n",
              "      <td>...</td>\n",
              "      <td>...</td>\n",
              "      <td>...</td>\n",
              "      <td>...</td>\n",
              "      <td>...</td>\n",
              "      <td>...</td>\n",
              "      <td>...</td>\n",
              "      <td>...</td>\n",
              "      <td>...</td>\n",
              "    </tr>\n",
              "    <tr>\n",
              "      <th>49648</th>\n",
              "      <td>21</td>\n",
              "      <td>2</td>\n",
              "      <td>Valemount</td>\n",
              "      <td>Dairy</td>\n",
              "      <td>Dairy Person</td>\n",
              "      <td>34</td>\n",
              "      <td>M</td>\n",
              "      <td>Layoff</td>\n",
              "      <td>Involuntary</td>\n",
              "      <td>2015</td>\n",
              "      <td>TERMINATED</td>\n",
              "      <td>STORES</td>\n",
              "      <td>0</td>\n",
              "      <td>Customer</td>\n",
              "    </tr>\n",
              "    <tr>\n",
              "      <th>49649</th>\n",
              "      <td>19</td>\n",
              "      <td>0</td>\n",
              "      <td>Vancouver</td>\n",
              "      <td>Customer Service</td>\n",
              "      <td>Cashier</td>\n",
              "      <td>44</td>\n",
              "      <td>F</td>\n",
              "      <td>Resignaton</td>\n",
              "      <td>Voluntary</td>\n",
              "      <td>2013</td>\n",
              "      <td>TERMINATED</td>\n",
              "      <td>STORES</td>\n",
              "      <td>0</td>\n",
              "      <td>Customer</td>\n",
              "    </tr>\n",
              "    <tr>\n",
              "      <th>49650</th>\n",
              "      <td>21</td>\n",
              "      <td>2</td>\n",
              "      <td>White Rock</td>\n",
              "      <td>Customer Service</td>\n",
              "      <td>Cashier</td>\n",
              "      <td>39</td>\n",
              "      <td>F</td>\n",
              "      <td>Layoff</td>\n",
              "      <td>Involuntary</td>\n",
              "      <td>2015</td>\n",
              "      <td>TERMINATED</td>\n",
              "      <td>STORES</td>\n",
              "      <td>0</td>\n",
              "      <td>Customer</td>\n",
              "    </tr>\n",
              "    <tr>\n",
              "      <th>49651</th>\n",
              "      <td>19</td>\n",
              "      <td>0</td>\n",
              "      <td>Kelowna</td>\n",
              "      <td>Customer Service</td>\n",
              "      <td>Cashier</td>\n",
              "      <td>16</td>\n",
              "      <td>F</td>\n",
              "      <td>Resignaton</td>\n",
              "      <td>Voluntary</td>\n",
              "      <td>2013</td>\n",
              "      <td>TERMINATED</td>\n",
              "      <td>STORES</td>\n",
              "      <td>0</td>\n",
              "      <td>Customer</td>\n",
              "    </tr>\n",
              "    <tr>\n",
              "      <th>49652</th>\n",
              "      <td>20</td>\n",
              "      <td>1</td>\n",
              "      <td>Grand Forks</td>\n",
              "      <td>Customer Service</td>\n",
              "      <td>Cashier</td>\n",
              "      <td>13</td>\n",
              "      <td>F</td>\n",
              "      <td>Layoff</td>\n",
              "      <td>Involuntary</td>\n",
              "      <td>2014</td>\n",
              "      <td>TERMINATED</td>\n",
              "      <td>STORES</td>\n",
              "      <td>0</td>\n",
              "      <td>Customer</td>\n",
              "    </tr>\n",
              "  </tbody>\n",
              "</table>\n",
              "<p>49653 rows × 14 columns</p>\n",
              "</div>"
            ],
            "text/plain": [
              "       age  length_of_service    city_name  ... BUSINESS_UNIT Hierarchy  Service_to\n",
              "0       52                 17    Vancouver  ...    HEADOFFICE         2    Business\n",
              "1       53                 18    Vancouver  ...    HEADOFFICE         2    Business\n",
              "2       54                 19    Vancouver  ...    HEADOFFICE         2    Business\n",
              "3       55                 20    Vancouver  ...    HEADOFFICE         2    Business\n",
              "4       56                 21    Vancouver  ...    HEADOFFICE         2    Business\n",
              "...    ...                ...          ...  ...           ...       ...         ...\n",
              "49648   21                  2    Valemount  ...        STORES         0    Customer\n",
              "49649   19                  0    Vancouver  ...        STORES         0    Customer\n",
              "49650   21                  2   White Rock  ...        STORES         0    Customer\n",
              "49651   19                  0      Kelowna  ...        STORES         0    Customer\n",
              "49652   20                  1  Grand Forks  ...        STORES         0    Customer\n",
              "\n",
              "[49653 rows x 14 columns]"
            ]
          },
          "metadata": {
            "tags": []
          },
          "execution_count": 84
        }
      ]
    },
    {
      "cell_type": "code",
      "metadata": {
        "id": "asxw05B8lnfr",
        "colab_type": "code",
        "colab": {
          "base_uri": "https://localhost:8080/",
          "height": 706
        },
        "outputId": "77bf8e74-9dd6-4fe1-b54e-6952daaa55b4"
      },
      "source": [
        "df['city_name'].value_counts()"
      ],
      "execution_count": 85,
      "outputs": [
        {
          "output_type": "execute_result",
          "data": {
            "text/plain": [
              "Vancouver           11211\n",
              "Victoria             4885\n",
              "Nanaimo              3876\n",
              "New Westminster      3211\n",
              "Kelowna              2513\n",
              "Burnaby              2067\n",
              "Kamloops             2061\n",
              "Prince George        2048\n",
              "Cranbrook            1785\n",
              "Surrey               1560\n",
              "Richmond             1401\n",
              "Terrace              1228\n",
              "Chilliwack           1167\n",
              "Trail                 925\n",
              "Langley               901\n",
              "Vernon                898\n",
              "Squamish              806\n",
              "Quesnel               703\n",
              "Abbotsford            681\n",
              "North Vancouver       648\n",
              "Fort St John          621\n",
              "Williams Lake         617\n",
              "West Vancouver        613\n",
              "Port Coquitlam        545\n",
              "Aldergrove            520\n",
              "Fort Nelson           322\n",
              "Nelson                317\n",
              "New Westminister      254\n",
              "Grand Forks           236\n",
              "White Rock            231\n",
              "Haney                 182\n",
              "Princeton             136\n",
              "Dawson Creek          129\n",
              "Bella Bella           126\n",
              "Ocean Falls            65\n",
              "Pitt Meadows           57\n",
              "Cortes Island          43\n",
              "Valemount              37\n",
              "Dease Lake             18\n",
              "Blue River              9\n",
              "Name: city_name, dtype: int64"
            ]
          },
          "metadata": {
            "tags": []
          },
          "execution_count": 85
        }
      ]
    },
    {
      "cell_type": "code",
      "metadata": {
        "id": "G3CyiDQQqcYE",
        "colab_type": "code",
        "colab": {
          "base_uri": "https://localhost:8080/",
          "height": 34
        },
        "outputId": "ffe32894-778c-4412-aa75-cb907d810359"
      },
      "source": [
        " city_pop_2011 = {'Vancouver':2313328,\n",
        "                 'Victoria':344615,\n",
        "                 'Nanaimo':146574,\n",
        "                 'New Westminster':65976,\n",
        "                 'Kelowna':179839,\n",
        "                 'Burnaby':223218,\n",
        "                 'Kamloops':85678,\n",
        "                 'Prince George':71974,\n",
        "                 'Cranbrook':19319,\n",
        "                 'Surrey':468251,\n",
        "                 'Richmond':190473,\n",
        "                 'Terrace':11486,\n",
        "                 'Chilliwack':77936,\n",
        "                 'Trail':7681,\n",
        "                 'Langley':25081,\n",
        "                 'Vernon':38180,\n",
        "                 'Squamish':17479,\n",
        "                 'Quesnel':10007,\n",
        "                 'Abbotsford':133497,\n",
        "                 'North Vancouver':48196,\n",
        "                 'Fort St John':18609,\n",
        "                  'Williams Lake':10832,\n",
        "                 'West Vancouver':42694,\n",
        "                 'Port Coquitlam':55985,\n",
        "                 'Aldergrove':12083,\n",
        "                 'Fort Nelson':3561,\n",
        "                 'Nelson':10230,\n",
        "                 'New Westminister':65976,\n",
        "                 'Grand Forks':3985,\n",
        "                 'White Rock':19339,\n",
        "                 'Haney':76052,\n",
        "                 'Princeton':2724,\n",
        "                 'Dawson Creek':11583,\n",
        "                 'Bella Bella':1095,\n",
        "                 'Ocean Falls':129,\n",
        "                 'Pitt Meadows':17736,\n",
        "                 'Cortes Island':1007,\n",
        "                 'Valemount':1020,\n",
        "                 'Dease Lake':58,\n",
        "                 'Blue River':215}\n",
        "\n",
        "print('Cities in dictionary:', len(city_pop_2011), 'out of 40')"
      ],
      "execution_count": 86,
      "outputs": [
        {
          "output_type": "stream",
          "text": [
            "Cities in dictionary: 40 out of 40\n"
          ],
          "name": "stdout"
        }
      ]
    },
    {
      "cell_type": "code",
      "metadata": {
        "id": "dLRey2jNtdb_",
        "colab_type": "code",
        "colab": {
          "base_uri": "https://localhost:8080/",
          "height": 84
        },
        "outputId": "c78dc8c7-e504-4a0f-98b6-1cadfa1493a8"
      },
      "source": [
        "df['Pop'] = df['city_name']\n",
        "df['Pop'] = df['Pop'].map(city_pop_2011)\n",
        "\n",
        "\n",
        "df['Pop_category'] = df['Pop']\n",
        "\n",
        "city_ix = (df['Pop'] >= 100000)\n",
        "\n",
        "rural_ix = ((df['Pop'] < 100000) & (df['Pop'] >= 10000))\n",
        "\n",
        "remote_ix = (df['Pop'] < 10000)\n",
        "\n",
        "df.loc[city_ix, 'Pop_category'] = 'City'\n",
        "df.loc[rural_ix, 'Pop_category'] = 'Rural'\n",
        "df.loc[remote_ix, 'Pop_category'] = 'Remote'\n",
        "\n",
        "\n",
        "df.Pop_category.value_counts()"
      ],
      "execution_count": 87,
      "outputs": [
        {
          "output_type": "execute_result",
          "data": {
            "text/plain": [
              "City      28194\n",
              "Rural     19542\n",
              "Remote     1917\n",
              "Name: Pop_category, dtype: int64"
            ]
          },
          "metadata": {
            "tags": []
          },
          "execution_count": 87
        }
      ]
    },
    {
      "cell_type": "code",
      "metadata": {
        "id": "ujqyGVzluJKl",
        "colab_type": "code",
        "colab": {
          "base_uri": "https://localhost:8080/",
          "height": 218
        },
        "outputId": "6cd6f90f-9a04-408c-fa66-d735a2d0d484"
      },
      "source": [
        "df['Pop']"
      ],
      "execution_count": 88,
      "outputs": [
        {
          "output_type": "execute_result",
          "data": {
            "text/plain": [
              "0        2313328\n",
              "1        2313328\n",
              "2        2313328\n",
              "3        2313328\n",
              "4        2313328\n",
              "          ...   \n",
              "49648       1020\n",
              "49649    2313328\n",
              "49650      19339\n",
              "49651     179839\n",
              "49652       3985\n",
              "Name: Pop, Length: 49653, dtype: int64"
            ]
          },
          "metadata": {
            "tags": []
          },
          "execution_count": 88
        }
      ]
    },
    {
      "cell_type": "code",
      "metadata": {
        "id": "XR6H2WQTuK9c",
        "colab_type": "code",
        "colab": {
          "base_uri": "https://localhost:8080/",
          "height": 689
        },
        "outputId": "e454c360-47dd-43cc-81f7-9dac02973887"
      },
      "source": [
        "city_pop_2011"
      ],
      "execution_count": 89,
      "outputs": [
        {
          "output_type": "execute_result",
          "data": {
            "text/plain": [
              "{'Abbotsford': 133497,\n",
              " 'Aldergrove': 12083,\n",
              " 'Bella Bella': 1095,\n",
              " 'Blue River': 215,\n",
              " 'Burnaby': 223218,\n",
              " 'Chilliwack': 77936,\n",
              " 'Cortes Island': 1007,\n",
              " 'Cranbrook': 19319,\n",
              " 'Dawson Creek': 11583,\n",
              " 'Dease Lake': 58,\n",
              " 'Fort Nelson': 3561,\n",
              " 'Fort St John': 18609,\n",
              " 'Grand Forks': 3985,\n",
              " 'Haney': 76052,\n",
              " 'Kamloops': 85678,\n",
              " 'Kelowna': 179839,\n",
              " 'Langley': 25081,\n",
              " 'Nanaimo': 146574,\n",
              " 'Nelson': 10230,\n",
              " 'New Westminister': 65976,\n",
              " 'New Westminster': 65976,\n",
              " 'North Vancouver': 48196,\n",
              " 'Ocean Falls': 129,\n",
              " 'Pitt Meadows': 17736,\n",
              " 'Port Coquitlam': 55985,\n",
              " 'Prince George': 71974,\n",
              " 'Princeton': 2724,\n",
              " 'Quesnel': 10007,\n",
              " 'Richmond': 190473,\n",
              " 'Squamish': 17479,\n",
              " 'Surrey': 468251,\n",
              " 'Terrace': 11486,\n",
              " 'Trail': 7681,\n",
              " 'Valemount': 1020,\n",
              " 'Vancouver': 2313328,\n",
              " 'Vernon': 38180,\n",
              " 'Victoria': 344615,\n",
              " 'West Vancouver': 42694,\n",
              " 'White Rock': 19339,\n",
              " 'Williams Lake': 10832}"
            ]
          },
          "metadata": {
            "tags": []
          },
          "execution_count": 89
        }
      ]
    },
    {
      "cell_type": "code",
      "metadata": {
        "id": "9Xef9EB6uuZ2",
        "colab_type": "code",
        "colab": {
          "base_uri": "https://localhost:8080/",
          "height": 218
        },
        "outputId": "53fa91b6-f853-43b9-f8b5-f8d6956c5a1b"
      },
      "source": [
        "df['Pop_category']"
      ],
      "execution_count": 90,
      "outputs": [
        {
          "output_type": "execute_result",
          "data": {
            "text/plain": [
              "0          City\n",
              "1          City\n",
              "2          City\n",
              "3          City\n",
              "4          City\n",
              "          ...  \n",
              "49648    Remote\n",
              "49649      City\n",
              "49650     Rural\n",
              "49651      City\n",
              "49652    Remote\n",
              "Name: Pop_category, Length: 49653, dtype: object"
            ]
          },
          "metadata": {
            "tags": []
          },
          "execution_count": 90
        }
      ]
    },
    {
      "cell_type": "code",
      "metadata": {
        "id": "vmOIXYu2u0y9",
        "colab_type": "code",
        "colab": {
          "base_uri": "https://localhost:8080/",
          "height": 218
        },
        "outputId": "5d8089fa-ced5-4f0a-c014-723629ec0d21"
      },
      "source": [
        "city_ix"
      ],
      "execution_count": 91,
      "outputs": [
        {
          "output_type": "execute_result",
          "data": {
            "text/plain": [
              "0         True\n",
              "1         True\n",
              "2         True\n",
              "3         True\n",
              "4         True\n",
              "         ...  \n",
              "49648    False\n",
              "49649     True\n",
              "49650    False\n",
              "49651     True\n",
              "49652    False\n",
              "Name: Pop, Length: 49653, dtype: bool"
            ]
          },
          "metadata": {
            "tags": []
          },
          "execution_count": 91
        }
      ]
    },
    {
      "cell_type": "code",
      "metadata": {
        "id": "NTKkcFKIvDYb",
        "colab_type": "code",
        "colab": {
          "base_uri": "https://localhost:8080/",
          "height": 218
        },
        "outputId": "ba4ecdac-7923-4b31-80f1-33ee39af93be"
      },
      "source": [
        "rural_ix"
      ],
      "execution_count": 92,
      "outputs": [
        {
          "output_type": "execute_result",
          "data": {
            "text/plain": [
              "0        False\n",
              "1        False\n",
              "2        False\n",
              "3        False\n",
              "4        False\n",
              "         ...  \n",
              "49648    False\n",
              "49649    False\n",
              "49650     True\n",
              "49651    False\n",
              "49652    False\n",
              "Name: Pop, Length: 49653, dtype: bool"
            ]
          },
          "metadata": {
            "tags": []
          },
          "execution_count": 92
        }
      ]
    },
    {
      "cell_type": "code",
      "metadata": {
        "id": "3TREGXrjvHZW",
        "colab_type": "code",
        "colab": {
          "base_uri": "https://localhost:8080/",
          "height": 218
        },
        "outputId": "3c13211d-cfdb-4222-c79f-d4a406314caf"
      },
      "source": [
        "df.loc[city_ix, 'Pop_category']"
      ],
      "execution_count": 93,
      "outputs": [
        {
          "output_type": "execute_result",
          "data": {
            "text/plain": [
              "0        City\n",
              "1        City\n",
              "2        City\n",
              "3        City\n",
              "4        City\n",
              "         ... \n",
              "49641    City\n",
              "49643    City\n",
              "49646    City\n",
              "49649    City\n",
              "49651    City\n",
              "Name: Pop_category, Length: 28194, dtype: object"
            ]
          },
          "metadata": {
            "tags": []
          },
          "execution_count": 93
        }
      ]
    },
    {
      "cell_type": "code",
      "metadata": {
        "id": "9RuUQdz-vRNL",
        "colab_type": "code",
        "colab": {
          "base_uri": "https://localhost:8080/",
          "height": 302
        },
        "outputId": "97fbe5aa-23a5-41eb-8f18-08341a912122"
      },
      "source": [
        "df.dtypes"
      ],
      "execution_count": 94,
      "outputs": [
        {
          "output_type": "execute_result",
          "data": {
            "text/plain": [
              "age                   int64\n",
              "length_of_service     int64\n",
              "city_name            object\n",
              "department_name      object\n",
              "job_title            object\n",
              "store_name            int64\n",
              "gender_short         object\n",
              "termreason_desc      object\n",
              "termtype_desc        object\n",
              "STATUS_YEAR           int64\n",
              "STATUS               object\n",
              "BUSINESS_UNIT        object\n",
              "Hierarchy             int64\n",
              "Service_to           object\n",
              "Pop                   int64\n",
              "Pop_category         object\n",
              "dtype: object"
            ]
          },
          "metadata": {
            "tags": []
          },
          "execution_count": 94
        }
      ]
    },
    {
      "cell_type": "code",
      "metadata": {
        "id": "sofWdc09ycoB",
        "colab_type": "code",
        "colab": {
          "base_uri": "https://localhost:8080/",
          "height": 84
        },
        "outputId": "4abd1c3e-f816-4360-d0aa-332ab79575ff"
      },
      "source": [
        "df['Pop_category'] = df['Pop_category'].replace('Remote', 0)\n",
        "df['Pop_category'] = df['Pop_category'].replace('Rural', 1)\n",
        "df['Pop_category'] = df['Pop_category'].replace('City', 2)\n",
        "\n",
        "df['Pop_category'].value_counts()"
      ],
      "execution_count": 95,
      "outputs": [
        {
          "output_type": "execute_result",
          "data": {
            "text/plain": [
              "2    28194\n",
              "1    19542\n",
              "0     1917\n",
              "Name: Pop_category, dtype: int64"
            ]
          },
          "metadata": {
            "tags": []
          },
          "execution_count": 95
        }
      ]
    },
    {
      "cell_type": "code",
      "metadata": {
        "id": "aoFC80z4ywgA",
        "colab_type": "code",
        "colab": {
          "base_uri": "https://localhost:8080/",
          "height": 302
        },
        "outputId": "f30b80aa-a670-40e4-e6f8-0d779ea8b4b7"
      },
      "source": [
        " df.dtypes"
      ],
      "execution_count": 96,
      "outputs": [
        {
          "output_type": "execute_result",
          "data": {
            "text/plain": [
              "age                   int64\n",
              "length_of_service     int64\n",
              "city_name            object\n",
              "department_name      object\n",
              "job_title            object\n",
              "store_name            int64\n",
              "gender_short         object\n",
              "termreason_desc      object\n",
              "termtype_desc        object\n",
              "STATUS_YEAR           int64\n",
              "STATUS               object\n",
              "BUSINESS_UNIT        object\n",
              "Hierarchy             int64\n",
              "Service_to           object\n",
              "Pop                   int64\n",
              "Pop_category          int64\n",
              "dtype: object"
            ]
          },
          "metadata": {
            "tags": []
          },
          "execution_count": 96
        }
      ]
    },
    {
      "cell_type": "code",
      "metadata": {
        "id": "h1snoo3t23Rw",
        "colab_type": "code",
        "colab": {}
      },
      "source": [
        "df['STATUS'] = df['STATUS'].map({'ACTIVE':1, 'TERMINATED':0})"
      ],
      "execution_count": 97,
      "outputs": []
    },
    {
      "cell_type": "code",
      "metadata": {
        "id": "AuAD2sDD4HgQ",
        "colab_type": "code",
        "colab": {
          "base_uri": "https://localhost:8080/",
          "height": 302
        },
        "outputId": "1b6b9dbf-bddf-415f-b00e-66fc7656107f"
      },
      "source": [
        "df.dtypes"
      ],
      "execution_count": 99,
      "outputs": [
        {
          "output_type": "execute_result",
          "data": {
            "text/plain": [
              "age                   int64\n",
              "length_of_service     int64\n",
              "city_name            object\n",
              "department_name      object\n",
              "job_title            object\n",
              "store_name            int64\n",
              "gender_short         object\n",
              "termreason_desc      object\n",
              "termtype_desc        object\n",
              "STATUS_YEAR           int64\n",
              "STATUS                int64\n",
              "BUSINESS_UNIT        object\n",
              "Hierarchy             int64\n",
              "Service_to           object\n",
              "Pop                   int64\n",
              "Pop_category          int64\n",
              "dtype: object"
            ]
          },
          "metadata": {
            "tags": []
          },
          "execution_count": 99
        }
      ]
    },
    {
      "cell_type": "code",
      "metadata": {
        "id": "6hVhWE8x5ss4",
        "colab_type": "code",
        "colab": {}
      },
      "source": [
        "out_of_co = df[df.STATUS == 0]\n",
        "in_co = df[df.STATUS == 1]"
      ],
      "execution_count": 100,
      "outputs": []
    },
    {
      "cell_type": "code",
      "metadata": {
        "id": "xQCYPA0d6Xyt",
        "colab_type": "code",
        "colab": {
          "base_uri": "https://localhost:8080/",
          "height": 34
        },
        "outputId": "0290b80b-c2f0-4b4b-bfad-22ff5c4364da"
      },
      "source": [
        "len(out_of_co),len(in_co)"
      ],
      "execution_count": 102,
      "outputs": [
        {
          "output_type": "execute_result",
          "data": {
            "text/plain": [
              "(1485, 48168)"
            ]
          },
          "metadata": {
            "tags": []
          },
          "execution_count": 102
        }
      ]
    },
    {
      "cell_type": "code",
      "metadata": {
        "id": "0I2rP8nn6aog",
        "colab_type": "code",
        "colab": {
          "base_uri": "https://localhost:8080/",
          "height": 458
        },
        "outputId": "ee41c7b9-7d4c-4dde-f47b-3d47439051c6"
      },
      "source": [
        "sns.jointplot(out_of_co.age, out_of_co.length_of_service, color='r')"
      ],
      "execution_count": 103,
      "outputs": [
        {
          "output_type": "execute_result",
          "data": {
            "text/plain": [
              "<seaborn.axisgrid.JointGrid at 0x7f247d32cb38>"
            ]
          },
          "metadata": {
            "tags": []
          },
          "execution_count": 103
        },
        {
          "output_type": "display_data",
          "data": {
            "image/png": "[encoded data removed]",
            "text/plain": [
              "<Figure size 432x432 with 3 Axes>"
            ]
          },
          "metadata": {
            "tags": []
          }
        }
      ]
    },
    {
      "cell_type": "code",
      "metadata": {
        "id": "z0nGGpo07D4V",
        "colab_type": "code",
        "colab": {
          "base_uri": "https://localhost:8080/",
          "height": 458
        },
        "outputId": "d6c4f5d1-e375-4908-e465-71375f209e3c"
      },
      "source": [
        "sns.jointplot(in_co.age, in_co.length_of_service, color='b')"
      ],
      "execution_count": 105,
      "outputs": [
        {
          "output_type": "execute_result",
          "data": {
            "text/plain": [
              "<seaborn.axisgrid.JointGrid at 0x7f247cedf630>"
            ]
          },
          "metadata": {
            "tags": []
          },
          "execution_count": 105
        },
        {
          "output_type": "display_data",
          "data": {
            "image/png": "[encoded data removed]",
            "text/plain": [
              "<Figure size 432x432 with 3 Axes>"
            ]
          },
          "metadata": {
            "tags": []
          }
        }
      ]
    },
    {
      "cell_type": "code",
      "metadata": {
        "id": "Kkmz11nJ7SBv",
        "colab_type": "code",
        "colab": {
          "base_uri": "https://localhost:8080/",
          "height": 472
        },
        "outputId": "d7ba1455-711d-480e-c30e-075623ca2bca"
      },
      "source": [
        "df"
      ],
      "execution_count": 106,
      "outputs": [
        {
          "output_type": "execute_result",
          "data": {
            "text/html": [
              "<div>\n",
              "<style scoped>\n",
              "    .dataframe tbody tr th:only-of-type {\n",
              "        vertical-align: middle;\n",
              "    }\n",
              "\n",
              "    .dataframe tbody tr th {\n",
              "        vertical-align: top;\n",
              "    }\n",
              "\n",
              "    .dataframe thead th {\n",
              "        text-align: right;\n",
              "    }\n",
              "</style>\n",
              "<table border=\"1\" class=\"dataframe\">\n",
              "  <thead>\n",
              "    <tr style=\"text-align: right;\">\n",
              "      <th></th>\n",
              "      <th>age</th>\n",
              "      <th>length_of_service</th>\n",
              "      <th>city_name</th>\n",
              "      <th>department_name</th>\n",
              "      <th>job_title</th>\n",
              "      <th>store_name</th>\n",
              "      <th>gender_short</th>\n",
              "      <th>termreason_desc</th>\n",
              "      <th>termtype_desc</th>\n",
              "      <th>STATUS_YEAR</th>\n",
              "      <th>STATUS</th>\n",
              "      <th>BUSINESS_UNIT</th>\n",
              "      <th>Hierarchy</th>\n",
              "      <th>Service_to</th>\n",
              "      <th>Pop</th>\n",
              "      <th>Pop_category</th>\n",
              "    </tr>\n",
              "  </thead>\n",
              "  <tbody>\n",
              "    <tr>\n",
              "      <th>0</th>\n",
              "      <td>52</td>\n",
              "      <td>17</td>\n",
              "      <td>Vancouver</td>\n",
              "      <td>Executive</td>\n",
              "      <td>CEO</td>\n",
              "      <td>35</td>\n",
              "      <td>M</td>\n",
              "      <td>Not Applicable</td>\n",
              "      <td>Not Applicable</td>\n",
              "      <td>2006</td>\n",
              "      <td>1</td>\n",
              "      <td>HEADOFFICE</td>\n",
              "      <td>2</td>\n",
              "      <td>Business</td>\n",
              "      <td>2313328</td>\n",
              "      <td>2</td>\n",
              "    </tr>\n",
              "    <tr>\n",
              "      <th>1</th>\n",
              "      <td>53</td>\n",
              "      <td>18</td>\n",
              "      <td>Vancouver</td>\n",
              "      <td>Executive</td>\n",
              "      <td>CEO</td>\n",
              "      <td>35</td>\n",
              "      <td>M</td>\n",
              "      <td>Not Applicable</td>\n",
              "      <td>Not Applicable</td>\n",
              "      <td>2007</td>\n",
              "      <td>1</td>\n",
              "      <td>HEADOFFICE</td>\n",
              "      <td>2</td>\n",
              "      <td>Business</td>\n",
              "      <td>2313328</td>\n",
              "      <td>2</td>\n",
              "    </tr>\n",
              "    <tr>\n",
              "      <th>2</th>\n",
              "      <td>54</td>\n",
              "      <td>19</td>\n",
              "      <td>Vancouver</td>\n",
              "      <td>Executive</td>\n",
              "      <td>CEO</td>\n",
              "      <td>35</td>\n",
              "      <td>M</td>\n",
              "      <td>Not Applicable</td>\n",
              "      <td>Not Applicable</td>\n",
              "      <td>2008</td>\n",
              "      <td>1</td>\n",
              "      <td>HEADOFFICE</td>\n",
              "      <td>2</td>\n",
              "      <td>Business</td>\n",
              "      <td>2313328</td>\n",
              "      <td>2</td>\n",
              "    </tr>\n",
              "    <tr>\n",
              "      <th>3</th>\n",
              "      <td>55</td>\n",
              "      <td>20</td>\n",
              "      <td>Vancouver</td>\n",
              "      <td>Executive</td>\n",
              "      <td>CEO</td>\n",
              "      <td>35</td>\n",
              "      <td>M</td>\n",
              "      <td>Not Applicable</td>\n",
              "      <td>Not Applicable</td>\n",
              "      <td>2009</td>\n",
              "      <td>1</td>\n",
              "      <td>HEADOFFICE</td>\n",
              "      <td>2</td>\n",
              "      <td>Business</td>\n",
              "      <td>2313328</td>\n",
              "      <td>2</td>\n",
              "    </tr>\n",
              "    <tr>\n",
              "      <th>4</th>\n",
              "      <td>56</td>\n",
              "      <td>21</td>\n",
              "      <td>Vancouver</td>\n",
              "      <td>Executive</td>\n",
              "      <td>CEO</td>\n",
              "      <td>35</td>\n",
              "      <td>M</td>\n",
              "      <td>Not Applicable</td>\n",
              "      <td>Not Applicable</td>\n",
              "      <td>2010</td>\n",
              "      <td>1</td>\n",
              "      <td>HEADOFFICE</td>\n",
              "      <td>2</td>\n",
              "      <td>Business</td>\n",
              "      <td>2313328</td>\n",
              "      <td>2</td>\n",
              "    </tr>\n",
              "    <tr>\n",
              "      <th>...</th>\n",
              "      <td>...</td>\n",
              "      <td>...</td>\n",
              "      <td>...</td>\n",
              "      <td>...</td>\n",
              "      <td>...</td>\n",
              "      <td>...</td>\n",
              "      <td>...</td>\n",
              "      <td>...</td>\n",
              "      <td>...</td>\n",
              "      <td>...</td>\n",
              "      <td>...</td>\n",
              "      <td>...</td>\n",
              "      <td>...</td>\n",
              "      <td>...</td>\n",
              "      <td>...</td>\n",
              "      <td>...</td>\n",
              "    </tr>\n",
              "    <tr>\n",
              "      <th>49648</th>\n",
              "      <td>21</td>\n",
              "      <td>2</td>\n",
              "      <td>Valemount</td>\n",
              "      <td>Dairy</td>\n",
              "      <td>Dairy Person</td>\n",
              "      <td>34</td>\n",
              "      <td>M</td>\n",
              "      <td>Layoff</td>\n",
              "      <td>Involuntary</td>\n",
              "      <td>2015</td>\n",
              "      <td>0</td>\n",
              "      <td>STORES</td>\n",
              "      <td>0</td>\n",
              "      <td>Customer</td>\n",
              "      <td>1020</td>\n",
              "      <td>0</td>\n",
              "    </tr>\n",
              "    <tr>\n",
              "      <th>49649</th>\n",
              "      <td>19</td>\n",
              "      <td>0</td>\n",
              "      <td>Vancouver</td>\n",
              "      <td>Customer Service</td>\n",
              "      <td>Cashier</td>\n",
              "      <td>44</td>\n",
              "      <td>F</td>\n",
              "      <td>Resignaton</td>\n",
              "      <td>Voluntary</td>\n",
              "      <td>2013</td>\n",
              "      <td>0</td>\n",
              "      <td>STORES</td>\n",
              "      <td>0</td>\n",
              "      <td>Customer</td>\n",
              "      <td>2313328</td>\n",
              "      <td>2</td>\n",
              "    </tr>\n",
              "    <tr>\n",
              "      <th>49650</th>\n",
              "      <td>21</td>\n",
              "      <td>2</td>\n",
              "      <td>White Rock</td>\n",
              "      <td>Customer Service</td>\n",
              "      <td>Cashier</td>\n",
              "      <td>39</td>\n",
              "      <td>F</td>\n",
              "      <td>Layoff</td>\n",
              "      <td>Involuntary</td>\n",
              "      <td>2015</td>\n",
              "      <td>0</td>\n",
              "      <td>STORES</td>\n",
              "      <td>0</td>\n",
              "      <td>Customer</td>\n",
              "      <td>19339</td>\n",
              "      <td>1</td>\n",
              "    </tr>\n",
              "    <tr>\n",
              "      <th>49651</th>\n",
              "      <td>19</td>\n",
              "      <td>0</td>\n",
              "      <td>Kelowna</td>\n",
              "      <td>Customer Service</td>\n",
              "      <td>Cashier</td>\n",
              "      <td>16</td>\n",
              "      <td>F</td>\n",
              "      <td>Resignaton</td>\n",
              "      <td>Voluntary</td>\n",
              "      <td>2013</td>\n",
              "      <td>0</td>\n",
              "      <td>STORES</td>\n",
              "      <td>0</td>\n",
              "      <td>Customer</td>\n",
              "      <td>179839</td>\n",
              "      <td>2</td>\n",
              "    </tr>\n",
              "    <tr>\n",
              "      <th>49652</th>\n",
              "      <td>20</td>\n",
              "      <td>1</td>\n",
              "      <td>Grand Forks</td>\n",
              "      <td>Customer Service</td>\n",
              "      <td>Cashier</td>\n",
              "      <td>13</td>\n",
              "      <td>F</td>\n",
              "      <td>Layoff</td>\n",
              "      <td>Involuntary</td>\n",
              "      <td>2014</td>\n",
              "      <td>0</td>\n",
              "      <td>STORES</td>\n",
              "      <td>0</td>\n",
              "      <td>Customer</td>\n",
              "      <td>3985</td>\n",
              "      <td>0</td>\n",
              "    </tr>\n",
              "  </tbody>\n",
              "</table>\n",
              "<p>49653 rows × 16 columns</p>\n",
              "</div>"
            ],
            "text/plain": [
              "       age  length_of_service    city_name  ... Service_to      Pop  Pop_category\n",
              "0       52                 17    Vancouver  ...   Business  2313328             2\n",
              "1       53                 18    Vancouver  ...   Business  2313328             2\n",
              "2       54                 19    Vancouver  ...   Business  2313328             2\n",
              "3       55                 20    Vancouver  ...   Business  2313328             2\n",
              "4       56                 21    Vancouver  ...   Business  2313328             2\n",
              "...    ...                ...          ...  ...        ...      ...           ...\n",
              "49648   21                  2    Valemount  ...   Customer     1020             0\n",
              "49649   19                  0    Vancouver  ...   Customer  2313328             2\n",
              "49650   21                  2   White Rock  ...   Customer    19339             1\n",
              "49651   19                  0      Kelowna  ...   Customer   179839             2\n",
              "49652   20                  1  Grand Forks  ...   Customer     3985             0\n",
              "\n",
              "[49653 rows x 16 columns]"
            ]
          },
          "metadata": {
            "tags": []
          },
          "execution_count": 106
        }
      ]
    },
    {
      "cell_type": "code",
      "metadata": {
        "id": "PGr5lsw07mkZ",
        "colab_type": "code",
        "colab": {
          "base_uri": "https://localhost:8080/",
          "height": 298
        },
        "outputId": "a4070749-5480-48a7-bcf5-8035a90ed941"
      },
      "source": [
        "from collections import Counter\n",
        "\n",
        "term_per_year = Counter(out_of_co.STATUS_YEAR)\n",
        "term_per_year_df = pd.DataFrame.from_dict(term_per_year, orient='index')\n",
        "term_per_year_df = term_per_year_df.sort_index()\n",
        "term_per_year_df.plot(kind='bar')"
      ],
      "execution_count": 112,
      "outputs": [
        {
          "output_type": "execute_result",
          "data": {
            "text/plain": [
              "<matplotlib.axes._subplots.AxesSubplot at 0x7f247ca46cf8>"
            ]
          },
          "metadata": {
            "tags": []
          },
          "execution_count": 112
        },
        {
          "output_type": "display_data",
          "data": {
            "image/png": "[encoded data removed]",
            "text/plain": [
              "<Figure size 432x288 with 1 Axes>"
            ]
          },
          "metadata": {
            "tags": []
          }
        }
      ]
    },
    {
      "cell_type": "code",
      "metadata": {
        "id": "k2e_ZAiZ8Bt0",
        "colab_type": "code",
        "colab": {
          "base_uri": "https://localhost:8080/",
          "height": 185
        },
        "outputId": "14352fc3-f46c-453c-ee98-8d5286f9e1da"
      },
      "source": [
        "term_per_year"
      ],
      "execution_count": 113,
      "outputs": [
        {
          "output_type": "execute_result",
          "data": {
            "text/plain": [
              "Counter({2006: 134,\n",
              "         2007: 162,\n",
              "         2008: 164,\n",
              "         2009: 142,\n",
              "         2010: 123,\n",
              "         2011: 110,\n",
              "         2012: 130,\n",
              "         2013: 105,\n",
              "         2014: 253,\n",
              "         2015: 162})"
            ]
          },
          "metadata": {
            "tags": []
          },
          "execution_count": 113
        }
      ]
    },
    {
      "cell_type": "code",
      "metadata": {
        "id": "RouRwnrP8cvv",
        "colab_type": "code",
        "colab": {}
      },
      "source": [
        "term_per_year_in=Counter(in_co.STATUS_YEAR)"
      ],
      "execution_count": 116,
      "outputs": []
    },
    {
      "cell_type": "code",
      "metadata": {
        "id": "xPIbcxLt8qrM",
        "colab_type": "code",
        "colab": {
          "base_uri": "https://localhost:8080/",
          "height": 302
        },
        "outputId": "8c484762-07f9-43cb-b18b-fa8300dd17c8"
      },
      "source": [
        "df.dtypes"
      ],
      "execution_count": 117,
      "outputs": [
        {
          "output_type": "execute_result",
          "data": {
            "text/plain": [
              "age                   int64\n",
              "length_of_service     int64\n",
              "city_name            object\n",
              "department_name      object\n",
              "job_title            object\n",
              "store_name            int64\n",
              "gender_short         object\n",
              "termreason_desc      object\n",
              "termtype_desc        object\n",
              "STATUS_YEAR           int64\n",
              "STATUS                int64\n",
              "BUSINESS_UNIT        object\n",
              "Hierarchy             int64\n",
              "Service_to           object\n",
              "Pop                   int64\n",
              "Pop_category          int64\n",
              "dtype: object"
            ]
          },
          "metadata": {
            "tags": []
          },
          "execution_count": 117
        }
      ]
    },
    {
      "cell_type": "code",
      "metadata": {
        "id": "fcqXdY9q89Hi",
        "colab_type": "code",
        "colab": {}
      },
      "source": [
        "drop_cols = [ 'termreason_desc','termtype_desc', 'STATUS_YEAR', 'store_name', 'job_title', 'department_name',\n",
        "             'city_name', 'Pop']\n",
        "\n",
        "df = df.drop(drop_cols, axis=1)"
      ],
      "execution_count": 118,
      "outputs": []
    },
    {
      "cell_type": "code",
      "metadata": {
        "id": "deT-UhG89fwS",
        "colab_type": "code",
        "colab": {
          "base_uri": "https://localhost:8080/",
          "height": 402
        },
        "outputId": "af60ab9d-2b07-4bce-970d-29a81f3a438f"
      },
      "source": [
        "df"
      ],
      "execution_count": 119,
      "outputs": [
        {
          "output_type": "execute_result",
          "data": {
            "text/html": [
              "<div>\n",
              "<style scoped>\n",
              "    .dataframe tbody tr th:only-of-type {\n",
              "        vertical-align: middle;\n",
              "    }\n",
              "\n",
              "    .dataframe tbody tr th {\n",
              "        vertical-align: top;\n",
              "    }\n",
              "\n",
              "    .dataframe thead th {\n",
              "        text-align: right;\n",
              "    }\n",
              "</style>\n",
              "<table border=\"1\" class=\"dataframe\">\n",
              "  <thead>\n",
              "    <tr style=\"text-align: right;\">\n",
              "      <th></th>\n",
              "      <th>age</th>\n",
              "      <th>length_of_service</th>\n",
              "      <th>gender_short</th>\n",
              "      <th>STATUS</th>\n",
              "      <th>BUSINESS_UNIT</th>\n",
              "      <th>Hierarchy</th>\n",
              "      <th>Service_to</th>\n",
              "      <th>Pop_category</th>\n",
              "    </tr>\n",
              "  </thead>\n",
              "  <tbody>\n",
              "    <tr>\n",
              "      <th>0</th>\n",
              "      <td>52</td>\n",
              "      <td>17</td>\n",
              "      <td>M</td>\n",
              "      <td>1</td>\n",
              "      <td>HEADOFFICE</td>\n",
              "      <td>2</td>\n",
              "      <td>Business</td>\n",
              "      <td>2</td>\n",
              "    </tr>\n",
              "    <tr>\n",
              "      <th>1</th>\n",
              "      <td>53</td>\n",
              "      <td>18</td>\n",
              "      <td>M</td>\n",
              "      <td>1</td>\n",
              "      <td>HEADOFFICE</td>\n",
              "      <td>2</td>\n",
              "      <td>Business</td>\n",
              "      <td>2</td>\n",
              "    </tr>\n",
              "    <tr>\n",
              "      <th>2</th>\n",
              "      <td>54</td>\n",
              "      <td>19</td>\n",
              "      <td>M</td>\n",
              "      <td>1</td>\n",
              "      <td>HEADOFFICE</td>\n",
              "      <td>2</td>\n",
              "      <td>Business</td>\n",
              "      <td>2</td>\n",
              "    </tr>\n",
              "    <tr>\n",
              "      <th>3</th>\n",
              "      <td>55</td>\n",
              "      <td>20</td>\n",
              "      <td>M</td>\n",
              "      <td>1</td>\n",
              "      <td>HEADOFFICE</td>\n",
              "      <td>2</td>\n",
              "      <td>Business</td>\n",
              "      <td>2</td>\n",
              "    </tr>\n",
              "    <tr>\n",
              "      <th>4</th>\n",
              "      <td>56</td>\n",
              "      <td>21</td>\n",
              "      <td>M</td>\n",
              "      <td>1</td>\n",
              "      <td>HEADOFFICE</td>\n",
              "      <td>2</td>\n",
              "      <td>Business</td>\n",
              "      <td>2</td>\n",
              "    </tr>\n",
              "    <tr>\n",
              "      <th>...</th>\n",
              "      <td>...</td>\n",
              "      <td>...</td>\n",
              "      <td>...</td>\n",
              "      <td>...</td>\n",
              "      <td>...</td>\n",
              "      <td>...</td>\n",
              "      <td>...</td>\n",
              "      <td>...</td>\n",
              "    </tr>\n",
              "    <tr>\n",
              "      <th>49648</th>\n",
              "      <td>21</td>\n",
              "      <td>2</td>\n",
              "      <td>M</td>\n",
              "      <td>0</td>\n",
              "      <td>STORES</td>\n",
              "      <td>0</td>\n",
              "      <td>Customer</td>\n",
              "      <td>0</td>\n",
              "    </tr>\n",
              "    <tr>\n",
              "      <th>49649</th>\n",
              "      <td>19</td>\n",
              "      <td>0</td>\n",
              "      <td>F</td>\n",
              "      <td>0</td>\n",
              "      <td>STORES</td>\n",
              "      <td>0</td>\n",
              "      <td>Customer</td>\n",
              "      <td>2</td>\n",
              "    </tr>\n",
              "    <tr>\n",
              "      <th>49650</th>\n",
              "      <td>21</td>\n",
              "      <td>2</td>\n",
              "      <td>F</td>\n",
              "      <td>0</td>\n",
              "      <td>STORES</td>\n",
              "      <td>0</td>\n",
              "      <td>Customer</td>\n",
              "      <td>1</td>\n",
              "    </tr>\n",
              "    <tr>\n",
              "      <th>49651</th>\n",
              "      <td>19</td>\n",
              "      <td>0</td>\n",
              "      <td>F</td>\n",
              "      <td>0</td>\n",
              "      <td>STORES</td>\n",
              "      <td>0</td>\n",
              "      <td>Customer</td>\n",
              "      <td>2</td>\n",
              "    </tr>\n",
              "    <tr>\n",
              "      <th>49652</th>\n",
              "      <td>20</td>\n",
              "      <td>1</td>\n",
              "      <td>F</td>\n",
              "      <td>0</td>\n",
              "      <td>STORES</td>\n",
              "      <td>0</td>\n",
              "      <td>Customer</td>\n",
              "      <td>0</td>\n",
              "    </tr>\n",
              "  </tbody>\n",
              "</table>\n",
              "<p>49653 rows × 8 columns</p>\n",
              "</div>"
            ],
            "text/plain": [
              "       age  length_of_service gender_short  ...  Hierarchy Service_to  Pop_category\n",
              "0       52                 17            M  ...          2   Business             2\n",
              "1       53                 18            M  ...          2   Business             2\n",
              "2       54                 19            M  ...          2   Business             2\n",
              "3       55                 20            M  ...          2   Business             2\n",
              "4       56                 21            M  ...          2   Business             2\n",
              "...    ...                ...          ...  ...        ...        ...           ...\n",
              "49648   21                  2            M  ...          0   Customer             0\n",
              "49649   19                  0            F  ...          0   Customer             2\n",
              "49650   21                  2            F  ...          0   Customer             1\n",
              "49651   19                  0            F  ...          0   Customer             2\n",
              "49652   20                  1            F  ...          0   Customer             0\n",
              "\n",
              "[49653 rows x 8 columns]"
            ]
          },
          "metadata": {
            "tags": []
          },
          "execution_count": 119
        }
      ]
    },
    {
      "cell_type": "code",
      "metadata": {
        "id": "iIyM8c3d9gxL",
        "colab_type": "code",
        "colab": {}
      },
      "source": [
        "# The gender, business unit and Service_to categories are nominal, so they will\n",
        "# be exploded instead of being converted to ordinal values\n",
        "dummy_cols = ['gender_short', 'BUSINESS_UNIT', 'Service_to']\n",
        "df = pd.get_dummies(df, columns=dummy_cols)"
      ],
      "execution_count": 120,
      "outputs": []
    },
    {
      "cell_type": "code",
      "metadata": {
        "id": "lNg2r6Ro-aSt",
        "colab_type": "code",
        "colab": {
          "base_uri": "https://localhost:8080/",
          "height": 422
        },
        "outputId": "5d7e4d09-c5c2-48cd-e16c-b1f79b534038"
      },
      "source": [
        "df"
      ],
      "execution_count": 121,
      "outputs": [
        {
          "output_type": "execute_result",
          "data": {
            "text/html": [
              "<div>\n",
              "<style scoped>\n",
              "    .dataframe tbody tr th:only-of-type {\n",
              "        vertical-align: middle;\n",
              "    }\n",
              "\n",
              "    .dataframe tbody tr th {\n",
              "        vertical-align: top;\n",
              "    }\n",
              "\n",
              "    .dataframe thead th {\n",
              "        text-align: right;\n",
              "    }\n",
              "</style>\n",
              "<table border=\"1\" class=\"dataframe\">\n",
              "  <thead>\n",
              "    <tr style=\"text-align: right;\">\n",
              "      <th></th>\n",
              "      <th>age</th>\n",
              "      <th>length_of_service</th>\n",
              "      <th>STATUS</th>\n",
              "      <th>Hierarchy</th>\n",
              "      <th>Pop_category</th>\n",
              "      <th>gender_short_F</th>\n",
              "      <th>gender_short_M</th>\n",
              "      <th>BUSINESS_UNIT_HEADOFFICE</th>\n",
              "      <th>BUSINESS_UNIT_STORES</th>\n",
              "      <th>Service_to_Business</th>\n",
              "      <th>Service_to_Customer</th>\n",
              "    </tr>\n",
              "  </thead>\n",
              "  <tbody>\n",
              "    <tr>\n",
              "      <th>0</th>\n",
              "      <td>52</td>\n",
              "      <td>17</td>\n",
              "      <td>1</td>\n",
              "      <td>2</td>\n",
              "      <td>2</td>\n",
              "      <td>0</td>\n",
              "      <td>1</td>\n",
              "      <td>1</td>\n",
              "      <td>0</td>\n",
              "      <td>1</td>\n",
              "      <td>0</td>\n",
              "    </tr>\n",
              "    <tr>\n",
              "      <th>1</th>\n",
              "      <td>53</td>\n",
              "      <td>18</td>\n",
              "      <td>1</td>\n",
              "      <td>2</td>\n",
              "      <td>2</td>\n",
              "      <td>0</td>\n",
              "      <td>1</td>\n",
              "      <td>1</td>\n",
              "      <td>0</td>\n",
              "      <td>1</td>\n",
              "      <td>0</td>\n",
              "    </tr>\n",
              "    <tr>\n",
              "      <th>2</th>\n",
              "      <td>54</td>\n",
              "      <td>19</td>\n",
              "      <td>1</td>\n",
              "      <td>2</td>\n",
              "      <td>2</td>\n",
              "      <td>0</td>\n",
              "      <td>1</td>\n",
              "      <td>1</td>\n",
              "      <td>0</td>\n",
              "      <td>1</td>\n",
              "      <td>0</td>\n",
              "    </tr>\n",
              "    <tr>\n",
              "      <th>3</th>\n",
              "      <td>55</td>\n",
              "      <td>20</td>\n",
              "      <td>1</td>\n",
              "      <td>2</td>\n",
              "      <td>2</td>\n",
              "      <td>0</td>\n",
              "      <td>1</td>\n",
              "      <td>1</td>\n",
              "      <td>0</td>\n",
              "      <td>1</td>\n",
              "      <td>0</td>\n",
              "    </tr>\n",
              "    <tr>\n",
              "      <th>4</th>\n",
              "      <td>56</td>\n",
              "      <td>21</td>\n",
              "      <td>1</td>\n",
              "      <td>2</td>\n",
              "      <td>2</td>\n",
              "      <td>0</td>\n",
              "      <td>1</td>\n",
              "      <td>1</td>\n",
              "      <td>0</td>\n",
              "      <td>1</td>\n",
              "      <td>0</td>\n",
              "    </tr>\n",
              "    <tr>\n",
              "      <th>...</th>\n",
              "      <td>...</td>\n",
              "      <td>...</td>\n",
              "      <td>...</td>\n",
              "      <td>...</td>\n",
              "      <td>...</td>\n",
              "      <td>...</td>\n",
              "      <td>...</td>\n",
              "      <td>...</td>\n",
              "      <td>...</td>\n",
              "      <td>...</td>\n",
              "      <td>...</td>\n",
              "    </tr>\n",
              "    <tr>\n",
              "      <th>49648</th>\n",
              "      <td>21</td>\n",
              "      <td>2</td>\n",
              "      <td>0</td>\n",
              "      <td>0</td>\n",
              "      <td>0</td>\n",
              "      <td>0</td>\n",
              "      <td>1</td>\n",
              "      <td>0</td>\n",
              "      <td>1</td>\n",
              "      <td>0</td>\n",
              "      <td>1</td>\n",
              "    </tr>\n",
              "    <tr>\n",
              "      <th>49649</th>\n",
              "      <td>19</td>\n",
              "      <td>0</td>\n",
              "      <td>0</td>\n",
              "      <td>0</td>\n",
              "      <td>2</td>\n",
              "      <td>1</td>\n",
              "      <td>0</td>\n",
              "      <td>0</td>\n",
              "      <td>1</td>\n",
              "      <td>0</td>\n",
              "      <td>1</td>\n",
              "    </tr>\n",
              "    <tr>\n",
              "      <th>49650</th>\n",
              "      <td>21</td>\n",
              "      <td>2</td>\n",
              "      <td>0</td>\n",
              "      <td>0</td>\n",
              "      <td>1</td>\n",
              "      <td>1</td>\n",
              "      <td>0</td>\n",
              "      <td>0</td>\n",
              "      <td>1</td>\n",
              "      <td>0</td>\n",
              "      <td>1</td>\n",
              "    </tr>\n",
              "    <tr>\n",
              "      <th>49651</th>\n",
              "      <td>19</td>\n",
              "      <td>0</td>\n",
              "      <td>0</td>\n",
              "      <td>0</td>\n",
              "      <td>2</td>\n",
              "      <td>1</td>\n",
              "      <td>0</td>\n",
              "      <td>0</td>\n",
              "      <td>1</td>\n",
              "      <td>0</td>\n",
              "      <td>1</td>\n",
              "    </tr>\n",
              "    <tr>\n",
              "      <th>49652</th>\n",
              "      <td>20</td>\n",
              "      <td>1</td>\n",
              "      <td>0</td>\n",
              "      <td>0</td>\n",
              "      <td>0</td>\n",
              "      <td>1</td>\n",
              "      <td>0</td>\n",
              "      <td>0</td>\n",
              "      <td>1</td>\n",
              "      <td>0</td>\n",
              "      <td>1</td>\n",
              "    </tr>\n",
              "  </tbody>\n",
              "</table>\n",
              "<p>49653 rows × 11 columns</p>\n",
              "</div>"
            ],
            "text/plain": [
              "       age  length_of_service  ...  Service_to_Business  Service_to_Customer\n",
              "0       52                 17  ...                    1                    0\n",
              "1       53                 18  ...                    1                    0\n",
              "2       54                 19  ...                    1                    0\n",
              "3       55                 20  ...                    1                    0\n",
              "4       56                 21  ...                    1                    0\n",
              "...    ...                ...  ...                  ...                  ...\n",
              "49648   21                  2  ...                    0                    1\n",
              "49649   19                  0  ...                    0                    1\n",
              "49650   21                  2  ...                    0                    1\n",
              "49651   19                  0  ...                    0                    1\n",
              "49652   20                  1  ...                    0                    1\n",
              "\n",
              "[49653 rows x 11 columns]"
            ]
          },
          "metadata": {
            "tags": []
          },
          "execution_count": 121
        }
      ]
    },
    {
      "cell_type": "code",
      "metadata": {
        "id": "Ot8hUZnp-bWa",
        "colab_type": "code",
        "colab": {}
      },
      "source": [
        "label = df.STATUS\n",
        "df = df.drop('STATUS', axis=1)"
      ],
      "execution_count": 122,
      "outputs": []
    },
    {
      "cell_type": "code",
      "metadata": {
        "id": "ugkpFh45-rLw",
        "colab_type": "code",
        "colab": {
          "base_uri": "https://localhost:8080/",
          "height": 402
        },
        "outputId": "1db1ae60-2560-4aa9-90ab-d3ab7758259c"
      },
      "source": [
        "df"
      ],
      "execution_count": 123,
      "outputs": [
        {
          "output_type": "execute_result",
          "data": {
            "text/html": [
              "<div>\n",
              "<style scoped>\n",
              "    .dataframe tbody tr th:only-of-type {\n",
              "        vertical-align: middle;\n",
              "    }\n",
              "\n",
              "    .dataframe tbody tr th {\n",
              "        vertical-align: top;\n",
              "    }\n",
              "\n",
              "    .dataframe thead th {\n",
              "        text-align: right;\n",
              "    }\n",
              "</style>\n",
              "<table border=\"1\" class=\"dataframe\">\n",
              "  <thead>\n",
              "    <tr style=\"text-align: right;\">\n",
              "      <th></th>\n",
              "      <th>age</th>\n",
              "      <th>length_of_service</th>\n",
              "      <th>Hierarchy</th>\n",
              "      <th>Pop_category</th>\n",
              "      <th>gender_short_F</th>\n",
              "      <th>gender_short_M</th>\n",
              "      <th>BUSINESS_UNIT_HEADOFFICE</th>\n",
              "      <th>BUSINESS_UNIT_STORES</th>\n",
              "      <th>Service_to_Business</th>\n",
              "      <th>Service_to_Customer</th>\n",
              "    </tr>\n",
              "  </thead>\n",
              "  <tbody>\n",
              "    <tr>\n",
              "      <th>0</th>\n",
              "      <td>52</td>\n",
              "      <td>17</td>\n",
              "      <td>2</td>\n",
              "      <td>2</td>\n",
              "      <td>0</td>\n",
              "      <td>1</td>\n",
              "      <td>1</td>\n",
              "      <td>0</td>\n",
              "      <td>1</td>\n",
              "      <td>0</td>\n",
              "    </tr>\n",
              "    <tr>\n",
              "      <th>1</th>\n",
              "      <td>53</td>\n",
              "      <td>18</td>\n",
              "      <td>2</td>\n",
              "      <td>2</td>\n",
              "      <td>0</td>\n",
              "      <td>1</td>\n",
              "      <td>1</td>\n",
              "      <td>0</td>\n",
              "      <td>1</td>\n",
              "      <td>0</td>\n",
              "    </tr>\n",
              "    <tr>\n",
              "      <th>2</th>\n",
              "      <td>54</td>\n",
              "      <td>19</td>\n",
              "      <td>2</td>\n",
              "      <td>2</td>\n",
              "      <td>0</td>\n",
              "      <td>1</td>\n",
              "      <td>1</td>\n",
              "      <td>0</td>\n",
              "      <td>1</td>\n",
              "      <td>0</td>\n",
              "    </tr>\n",
              "    <tr>\n",
              "      <th>3</th>\n",
              "      <td>55</td>\n",
              "      <td>20</td>\n",
              "      <td>2</td>\n",
              "      <td>2</td>\n",
              "      <td>0</td>\n",
              "      <td>1</td>\n",
              "      <td>1</td>\n",
              "      <td>0</td>\n",
              "      <td>1</td>\n",
              "      <td>0</td>\n",
              "    </tr>\n",
              "    <tr>\n",
              "      <th>4</th>\n",
              "      <td>56</td>\n",
              "      <td>21</td>\n",
              "      <td>2</td>\n",
              "      <td>2</td>\n",
              "      <td>0</td>\n",
              "      <td>1</td>\n",
              "      <td>1</td>\n",
              "      <td>0</td>\n",
              "      <td>1</td>\n",
              "      <td>0</td>\n",
              "    </tr>\n",
              "    <tr>\n",
              "      <th>...</th>\n",
              "      <td>...</td>\n",
              "      <td>...</td>\n",
              "      <td>...</td>\n",
              "      <td>...</td>\n",
              "      <td>...</td>\n",
              "      <td>...</td>\n",
              "      <td>...</td>\n",
              "      <td>...</td>\n",
              "      <td>...</td>\n",
              "      <td>...</td>\n",
              "    </tr>\n",
              "    <tr>\n",
              "      <th>49648</th>\n",
              "      <td>21</td>\n",
              "      <td>2</td>\n",
              "      <td>0</td>\n",
              "      <td>0</td>\n",
              "      <td>0</td>\n",
              "      <td>1</td>\n",
              "      <td>0</td>\n",
              "      <td>1</td>\n",
              "      <td>0</td>\n",
              "      <td>1</td>\n",
              "    </tr>\n",
              "    <tr>\n",
              "      <th>49649</th>\n",
              "      <td>19</td>\n",
              "      <td>0</td>\n",
              "      <td>0</td>\n",
              "      <td>2</td>\n",
              "      <td>1</td>\n",
              "      <td>0</td>\n",
              "      <td>0</td>\n",
              "      <td>1</td>\n",
              "      <td>0</td>\n",
              "      <td>1</td>\n",
              "    </tr>\n",
              "    <tr>\n",
              "      <th>49650</th>\n",
              "      <td>21</td>\n",
              "      <td>2</td>\n",
              "      <td>0</td>\n",
              "      <td>1</td>\n",
              "      <td>1</td>\n",
              "      <td>0</td>\n",
              "      <td>0</td>\n",
              "      <td>1</td>\n",
              "      <td>0</td>\n",
              "      <td>1</td>\n",
              "    </tr>\n",
              "    <tr>\n",
              "      <th>49651</th>\n",
              "      <td>19</td>\n",
              "      <td>0</td>\n",
              "      <td>0</td>\n",
              "      <td>2</td>\n",
              "      <td>1</td>\n",
              "      <td>0</td>\n",
              "      <td>0</td>\n",
              "      <td>1</td>\n",
              "      <td>0</td>\n",
              "      <td>1</td>\n",
              "    </tr>\n",
              "    <tr>\n",
              "      <th>49652</th>\n",
              "      <td>20</td>\n",
              "      <td>1</td>\n",
              "      <td>0</td>\n",
              "      <td>0</td>\n",
              "      <td>1</td>\n",
              "      <td>0</td>\n",
              "      <td>0</td>\n",
              "      <td>1</td>\n",
              "      <td>0</td>\n",
              "      <td>1</td>\n",
              "    </tr>\n",
              "  </tbody>\n",
              "</table>\n",
              "<p>49653 rows × 10 columns</p>\n",
              "</div>"
            ],
            "text/plain": [
              "       age  length_of_service  ...  Service_to_Business  Service_to_Customer\n",
              "0       52                 17  ...                    1                    0\n",
              "1       53                 18  ...                    1                    0\n",
              "2       54                 19  ...                    1                    0\n",
              "3       55                 20  ...                    1                    0\n",
              "4       56                 21  ...                    1                    0\n",
              "...    ...                ...  ...                  ...                  ...\n",
              "49648   21                  2  ...                    0                    1\n",
              "49649   19                  0  ...                    0                    1\n",
              "49650   21                  2  ...                    0                    1\n",
              "49651   19                  0  ...                    0                    1\n",
              "49652   20                  1  ...                    0                    1\n",
              "\n",
              "[49653 rows x 10 columns]"
            ]
          },
          "metadata": {
            "tags": []
          },
          "execution_count": 123
        }
      ]
    },
    {
      "cell_type": "code",
      "metadata": {
        "id": "AKgJwsrf-str",
        "colab_type": "code",
        "colab": {
          "base_uri": "https://localhost:8080/",
          "height": 218
        },
        "outputId": "8b7c6c29-ea0a-44ca-ce4d-d359a2a386ab"
      },
      "source": [
        "label"
      ],
      "execution_count": 124,
      "outputs": [
        {
          "output_type": "execute_result",
          "data": {
            "text/plain": [
              "0        1\n",
              "1        1\n",
              "2        1\n",
              "3        1\n",
              "4        1\n",
              "        ..\n",
              "49648    0\n",
              "49649    0\n",
              "49650    0\n",
              "49651    0\n",
              "49652    0\n",
              "Name: STATUS, Length: 49653, dtype: int64"
            ]
          },
          "metadata": {
            "tags": []
          },
          "execution_count": 124
        }
      ]
    },
    {
      "cell_type": "code",
      "metadata": {
        "id": "PMm1ALL4-wko",
        "colab_type": "code",
        "colab": {}
      },
      "source": [
        "from sklearn.model_selection import train_test_split\n",
        "from sklearn.neighbors import KNeighborsClassifier\n",
        "from sklearn.svm import SVC\n",
        "from sklearn.ensemble import RandomForestClassifier"
      ],
      "execution_count": 125,
      "outputs": []
    },
    {
      "cell_type": "code",
      "metadata": {
        "id": "knI1A6cM_FW3",
        "colab_type": "code",
        "colab": {}
      },
      "source": [
        "X_train, X_test, y_train, y_test = train_test_split(df, label, test_size=0.3,\n",
        "                                                    random_state=10)"
      ],
      "execution_count": 126,
      "outputs": []
    },
    {
      "cell_type": "code",
      "metadata": {
        "id": "vO5JKqtP_MK4",
        "colab_type": "code",
        "colab": {
          "base_uri": "https://localhost:8080/",
          "height": 402
        },
        "outputId": "51c46a4a-337d-4694-f553-843c9c632706"
      },
      "source": [
        "X_train"
      ],
      "execution_count": 127,
      "outputs": [
        {
          "output_type": "execute_result",
          "data": {
            "text/html": [
              "<div>\n",
              "<style scoped>\n",
              "    .dataframe tbody tr th:only-of-type {\n",
              "        vertical-align: middle;\n",
              "    }\n",
              "\n",
              "    .dataframe tbody tr th {\n",
              "        vertical-align: top;\n",
              "    }\n",
              "\n",
              "    .dataframe thead th {\n",
              "        text-align: right;\n",
              "    }\n",
              "</style>\n",
              "<table border=\"1\" class=\"dataframe\">\n",
              "  <thead>\n",
              "    <tr style=\"text-align: right;\">\n",
              "      <th></th>\n",
              "      <th>age</th>\n",
              "      <th>length_of_service</th>\n",
              "      <th>Hierarchy</th>\n",
              "      <th>Pop_category</th>\n",
              "      <th>gender_short_F</th>\n",
              "      <th>gender_short_M</th>\n",
              "      <th>BUSINESS_UNIT_HEADOFFICE</th>\n",
              "      <th>BUSINESS_UNIT_STORES</th>\n",
              "      <th>Service_to_Business</th>\n",
              "      <th>Service_to_Customer</th>\n",
              "    </tr>\n",
              "  </thead>\n",
              "  <tbody>\n",
              "    <tr>\n",
              "      <th>48893</th>\n",
              "      <td>65</td>\n",
              "      <td>13</td>\n",
              "      <td>0</td>\n",
              "      <td>2</td>\n",
              "      <td>1</td>\n",
              "      <td>0</td>\n",
              "      <td>0</td>\n",
              "      <td>1</td>\n",
              "      <td>0</td>\n",
              "      <td>1</td>\n",
              "    </tr>\n",
              "    <tr>\n",
              "      <th>34169</th>\n",
              "      <td>32</td>\n",
              "      <td>6</td>\n",
              "      <td>0</td>\n",
              "      <td>1</td>\n",
              "      <td>0</td>\n",
              "      <td>1</td>\n",
              "      <td>0</td>\n",
              "      <td>1</td>\n",
              "      <td>0</td>\n",
              "      <td>1</td>\n",
              "    </tr>\n",
              "    <tr>\n",
              "      <th>18342</th>\n",
              "      <td>49</td>\n",
              "      <td>15</td>\n",
              "      <td>0</td>\n",
              "      <td>2</td>\n",
              "      <td>1</td>\n",
              "      <td>0</td>\n",
              "      <td>0</td>\n",
              "      <td>1</td>\n",
              "      <td>0</td>\n",
              "      <td>1</td>\n",
              "    </tr>\n",
              "    <tr>\n",
              "      <th>3346</th>\n",
              "      <td>61</td>\n",
              "      <td>22</td>\n",
              "      <td>0</td>\n",
              "      <td>2</td>\n",
              "      <td>1</td>\n",
              "      <td>0</td>\n",
              "      <td>0</td>\n",
              "      <td>1</td>\n",
              "      <td>0</td>\n",
              "      <td>1</td>\n",
              "    </tr>\n",
              "    <tr>\n",
              "      <th>46913</th>\n",
              "      <td>22</td>\n",
              "      <td>1</td>\n",
              "      <td>0</td>\n",
              "      <td>1</td>\n",
              "      <td>0</td>\n",
              "      <td>1</td>\n",
              "      <td>0</td>\n",
              "      <td>1</td>\n",
              "      <td>0</td>\n",
              "      <td>1</td>\n",
              "    </tr>\n",
              "    <tr>\n",
              "      <th>...</th>\n",
              "      <td>...</td>\n",
              "      <td>...</td>\n",
              "      <td>...</td>\n",
              "      <td>...</td>\n",
              "      <td>...</td>\n",
              "      <td>...</td>\n",
              "      <td>...</td>\n",
              "      <td>...</td>\n",
              "      <td>...</td>\n",
              "      <td>...</td>\n",
              "    </tr>\n",
              "    <tr>\n",
              "      <th>40059</th>\n",
              "      <td>25</td>\n",
              "      <td>1</td>\n",
              "      <td>0</td>\n",
              "      <td>1</td>\n",
              "      <td>1</td>\n",
              "      <td>0</td>\n",
              "      <td>0</td>\n",
              "      <td>1</td>\n",
              "      <td>0</td>\n",
              "      <td>1</td>\n",
              "    </tr>\n",
              "    <tr>\n",
              "      <th>28017</th>\n",
              "      <td>34</td>\n",
              "      <td>4</td>\n",
              "      <td>0</td>\n",
              "      <td>1</td>\n",
              "      <td>0</td>\n",
              "      <td>1</td>\n",
              "      <td>0</td>\n",
              "      <td>1</td>\n",
              "      <td>0</td>\n",
              "      <td>1</td>\n",
              "    </tr>\n",
              "    <tr>\n",
              "      <th>29199</th>\n",
              "      <td>33</td>\n",
              "      <td>4</td>\n",
              "      <td>0</td>\n",
              "      <td>1</td>\n",
              "      <td>0</td>\n",
              "      <td>1</td>\n",
              "      <td>0</td>\n",
              "      <td>1</td>\n",
              "      <td>0</td>\n",
              "      <td>1</td>\n",
              "    </tr>\n",
              "    <tr>\n",
              "      <th>40061</th>\n",
              "      <td>27</td>\n",
              "      <td>3</td>\n",
              "      <td>0</td>\n",
              "      <td>1</td>\n",
              "      <td>1</td>\n",
              "      <td>0</td>\n",
              "      <td>0</td>\n",
              "      <td>1</td>\n",
              "      <td>0</td>\n",
              "      <td>1</td>\n",
              "    </tr>\n",
              "    <tr>\n",
              "      <th>17673</th>\n",
              "      <td>46</td>\n",
              "      <td>13</td>\n",
              "      <td>0</td>\n",
              "      <td>2</td>\n",
              "      <td>1</td>\n",
              "      <td>0</td>\n",
              "      <td>0</td>\n",
              "      <td>1</td>\n",
              "      <td>0</td>\n",
              "      <td>1</td>\n",
              "    </tr>\n",
              "  </tbody>\n",
              "</table>\n",
              "<p>34757 rows × 10 columns</p>\n",
              "</div>"
            ],
            "text/plain": [
              "       age  length_of_service  ...  Service_to_Business  Service_to_Customer\n",
              "48893   65                 13  ...                    0                    1\n",
              "34169   32                  6  ...                    0                    1\n",
              "18342   49                 15  ...                    0                    1\n",
              "3346    61                 22  ...                    0                    1\n",
              "46913   22                  1  ...                    0                    1\n",
              "...    ...                ...  ...                  ...                  ...\n",
              "40059   25                  1  ...                    0                    1\n",
              "28017   34                  4  ...                    0                    1\n",
              "29199   33                  4  ...                    0                    1\n",
              "40061   27                  3  ...                    0                    1\n",
              "17673   46                 13  ...                    0                    1\n",
              "\n",
              "[34757 rows x 10 columns]"
            ]
          },
          "metadata": {
            "tags": []
          },
          "execution_count": 127
        }
      ]
    },
    {
      "cell_type": "code",
      "metadata": {
        "id": "m68c8nze_QVq",
        "colab_type": "code",
        "colab": {
          "base_uri": "https://localhost:8080/",
          "height": 402
        },
        "outputId": "5eb8d5fb-ac1a-46d8-b4bf-866847ce682a"
      },
      "source": [
        "X_test"
      ],
      "execution_count": 128,
      "outputs": [
        {
          "output_type": "execute_result",
          "data": {
            "text/html": [
              "<div>\n",
              "<style scoped>\n",
              "    .dataframe tbody tr th:only-of-type {\n",
              "        vertical-align: middle;\n",
              "    }\n",
              "\n",
              "    .dataframe tbody tr th {\n",
              "        vertical-align: top;\n",
              "    }\n",
              "\n",
              "    .dataframe thead th {\n",
              "        text-align: right;\n",
              "    }\n",
              "</style>\n",
              "<table border=\"1\" class=\"dataframe\">\n",
              "  <thead>\n",
              "    <tr style=\"text-align: right;\">\n",
              "      <th></th>\n",
              "      <th>age</th>\n",
              "      <th>length_of_service</th>\n",
              "      <th>Hierarchy</th>\n",
              "      <th>Pop_category</th>\n",
              "      <th>gender_short_F</th>\n",
              "      <th>gender_short_M</th>\n",
              "      <th>BUSINESS_UNIT_HEADOFFICE</th>\n",
              "      <th>BUSINESS_UNIT_STORES</th>\n",
              "      <th>Service_to_Business</th>\n",
              "      <th>Service_to_Customer</th>\n",
              "    </tr>\n",
              "  </thead>\n",
              "  <tbody>\n",
              "    <tr>\n",
              "      <th>1066</th>\n",
              "      <td>64</td>\n",
              "      <td>24</td>\n",
              "      <td>1</td>\n",
              "      <td>1</td>\n",
              "      <td>1</td>\n",
              "      <td>0</td>\n",
              "      <td>0</td>\n",
              "      <td>1</td>\n",
              "      <td>0</td>\n",
              "      <td>1</td>\n",
              "    </tr>\n",
              "    <tr>\n",
              "      <th>18449</th>\n",
              "      <td>51</td>\n",
              "      <td>17</td>\n",
              "      <td>0</td>\n",
              "      <td>1</td>\n",
              "      <td>1</td>\n",
              "      <td>0</td>\n",
              "      <td>0</td>\n",
              "      <td>1</td>\n",
              "      <td>0</td>\n",
              "      <td>1</td>\n",
              "    </tr>\n",
              "    <tr>\n",
              "      <th>10572</th>\n",
              "      <td>54</td>\n",
              "      <td>18</td>\n",
              "      <td>0</td>\n",
              "      <td>2</td>\n",
              "      <td>1</td>\n",
              "      <td>0</td>\n",
              "      <td>0</td>\n",
              "      <td>1</td>\n",
              "      <td>0</td>\n",
              "      <td>1</td>\n",
              "    </tr>\n",
              "    <tr>\n",
              "      <th>887</th>\n",
              "      <td>62</td>\n",
              "      <td>22</td>\n",
              "      <td>1</td>\n",
              "      <td>1</td>\n",
              "      <td>1</td>\n",
              "      <td>0</td>\n",
              "      <td>0</td>\n",
              "      <td>1</td>\n",
              "      <td>0</td>\n",
              "      <td>1</td>\n",
              "    </tr>\n",
              "    <tr>\n",
              "      <th>18788</th>\n",
              "      <td>49</td>\n",
              "      <td>16</td>\n",
              "      <td>0</td>\n",
              "      <td>1</td>\n",
              "      <td>0</td>\n",
              "      <td>1</td>\n",
              "      <td>0</td>\n",
              "      <td>1</td>\n",
              "      <td>0</td>\n",
              "      <td>1</td>\n",
              "    </tr>\n",
              "    <tr>\n",
              "      <th>...</th>\n",
              "      <td>...</td>\n",
              "      <td>...</td>\n",
              "      <td>...</td>\n",
              "      <td>...</td>\n",
              "      <td>...</td>\n",
              "      <td>...</td>\n",
              "      <td>...</td>\n",
              "      <td>...</td>\n",
              "      <td>...</td>\n",
              "      <td>...</td>\n",
              "    </tr>\n",
              "    <tr>\n",
              "      <th>29355</th>\n",
              "      <td>39</td>\n",
              "      <td>10</td>\n",
              "      <td>0</td>\n",
              "      <td>2</td>\n",
              "      <td>1</td>\n",
              "      <td>0</td>\n",
              "      <td>0</td>\n",
              "      <td>1</td>\n",
              "      <td>0</td>\n",
              "      <td>1</td>\n",
              "    </tr>\n",
              "    <tr>\n",
              "      <th>35575</th>\n",
              "      <td>30</td>\n",
              "      <td>4</td>\n",
              "      <td>0</td>\n",
              "      <td>2</td>\n",
              "      <td>1</td>\n",
              "      <td>0</td>\n",
              "      <td>0</td>\n",
              "      <td>1</td>\n",
              "      <td>0</td>\n",
              "      <td>1</td>\n",
              "    </tr>\n",
              "    <tr>\n",
              "      <th>32630</th>\n",
              "      <td>33</td>\n",
              "      <td>5</td>\n",
              "      <td>0</td>\n",
              "      <td>1</td>\n",
              "      <td>1</td>\n",
              "      <td>0</td>\n",
              "      <td>0</td>\n",
              "      <td>1</td>\n",
              "      <td>0</td>\n",
              "      <td>1</td>\n",
              "    </tr>\n",
              "    <tr>\n",
              "      <th>7939</th>\n",
              "      <td>56</td>\n",
              "      <td>19</td>\n",
              "      <td>0</td>\n",
              "      <td>2</td>\n",
              "      <td>0</td>\n",
              "      <td>1</td>\n",
              "      <td>0</td>\n",
              "      <td>1</td>\n",
              "      <td>0</td>\n",
              "      <td>1</td>\n",
              "    </tr>\n",
              "    <tr>\n",
              "      <th>22258</th>\n",
              "      <td>46</td>\n",
              "      <td>14</td>\n",
              "      <td>0</td>\n",
              "      <td>2</td>\n",
              "      <td>0</td>\n",
              "      <td>1</td>\n",
              "      <td>0</td>\n",
              "      <td>1</td>\n",
              "      <td>0</td>\n",
              "      <td>1</td>\n",
              "    </tr>\n",
              "  </tbody>\n",
              "</table>\n",
              "<p>14896 rows × 10 columns</p>\n",
              "</div>"
            ],
            "text/plain": [
              "       age  length_of_service  ...  Service_to_Business  Service_to_Customer\n",
              "1066    64                 24  ...                    0                    1\n",
              "18449   51                 17  ...                    0                    1\n",
              "10572   54                 18  ...                    0                    1\n",
              "887     62                 22  ...                    0                    1\n",
              "18788   49                 16  ...                    0                    1\n",
              "...    ...                ...  ...                  ...                  ...\n",
              "29355   39                 10  ...                    0                    1\n",
              "35575   30                  4  ...                    0                    1\n",
              "32630   33                  5  ...                    0                    1\n",
              "7939    56                 19  ...                    0                    1\n",
              "22258   46                 14  ...                    0                    1\n",
              "\n",
              "[14896 rows x 10 columns]"
            ]
          },
          "metadata": {
            "tags": []
          },
          "execution_count": 128
        }
      ]
    },
    {
      "cell_type": "code",
      "metadata": {
        "id": "oRUvsP04_TcM",
        "colab_type": "code",
        "colab": {
          "base_uri": "https://localhost:8080/",
          "height": 34
        },
        "outputId": "bd8451d5-dd67-4758-cd8d-69b2af48fa15"
      },
      "source": [
        "model = KNeighborsClassifier(n_neighbors=5, weights='uniform')\n",
        "model.fit(X_train, y_train)\n",
        "score = model.score(X_test, y_test)\n",
        "print('KNN model score is %0.10f  ' %score)"
      ],
      "execution_count": 132,
      "outputs": [
        {
          "output_type": "stream",
          "text": [
            "KNN model score is 0.9869092374  \n"
          ],
          "name": "stdout"
        }
      ]
    },
    {
      "cell_type": "code",
      "metadata": {
        "id": "makhiwQg_Z0H",
        "colab_type": "code",
        "colab": {
          "base_uri": "https://localhost:8080/",
          "height": 34
        },
        "outputId": "eaa992d0-c50c-436c-9ab6-8d73e9e2753f"
      },
      "source": [
        "# SVC\n",
        "model = SVC(C=1, kernel='rbf', random_state=10)\n",
        "model.fit(X_train, y_train)\n",
        "score = model.score(X_test, y_test)\n",
        "print('SVC model score is %0.4f' %score)"
      ],
      "execution_count": 133,
      "outputs": [
        {
          "output_type": "stream",
          "text": [
            "SVC model score is 0.9704\n"
          ],
          "name": "stdout"
        }
      ]
    },
    {
      "cell_type": "code",
      "metadata": {
        "id": "snLKby9t_uCO",
        "colab_type": "code",
        "colab": {
          "base_uri": "https://localhost:8080/",
          "height": 34
        },
        "outputId": "2fefd315-506d-4f02-f850-feab459d6ed5"
      },
      "source": [
        "# SVC\n",
        "model = SVC(C=1, kernel='linear', random_state=1)\n",
        "model.fit(X_train, y_train)\n",
        "score = model.score(X_test, y_test)\n",
        "print('SVC model score is %0.4f' %score)"
      ],
      "execution_count": 135,
      "outputs": [
        {
          "output_type": "stream",
          "text": [
            "SVC model score is 0.9704\n"
          ],
          "name": "stdout"
        }
      ]
    },
    {
      "cell_type": "code",
      "metadata": {
        "id": "8LColAMr_2AD",
        "colab_type": "code",
        "colab": {
          "base_uri": "https://localhost:8080/",
          "height": 34
        },
        "outputId": "4f6ec05d-ab3a-48ed-f581-cebe65c122fc"
      },
      "source": [
        "# Random Forest\n",
        "model = RandomForestClassifier(n_estimators=10, criterion='gini', min_samples_split=2,\n",
        "                               oob_score=False, random_state=10)\n",
        "model.fit(X_train, y_train)\n",
        "score = model.score(X_test, y_test)\n",
        "print('Random Forest model score is %0.4f' %score)"
      ],
      "execution_count": 136,
      "outputs": [
        {
          "output_type": "stream",
          "text": [
            "Random Forest model score is 0.9865\n"
          ],
          "name": "stdout"
        }
      ]
    },
    {
      "cell_type": "code",
      "metadata": {
        "id": "Wz0llj2I_-7L",
        "colab_type": "code",
        "colab": {}
      },
      "source": [
        ""
      ],
      "execution_count": null,
      "outputs": []
    }
  ]
}