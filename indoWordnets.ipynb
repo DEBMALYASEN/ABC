{
  "nbformat": 4,
  "nbformat_minor": 0,
  "metadata": {
    "colab": {
      "name": "indoWordnets.ipynb",
      "provenance": [],
      "collapsed_sections": [],
      "authorship_tag": "ABX9TyPg8EuJh+6Cjt8XFdlXwQxt",
      "include_colab_link": true
    },
    "kernelspec": {
      "name": "python3",
      "display_name": "Python 3"
    },
    "language_info": {
      "name": "python"
    }
  },
  "cells": [
    {
      "cell_type": "markdown",
      "metadata": {
        "id": "view-in-github",
        "colab_type": "text"
      },
      "source": [
        "<a href=\"https://colab.research.google.com/github/DEBMALYASEN/ABC/blob/master/indoWordnets.ipynb\" target=\"_parent\"><img src=\"https://colab.research.google.com/assets/colab-badge.svg\" alt=\"Open In Colab\"/></a>"
      ]
    },
    {
      "cell_type": "code",
      "execution_count": 1,
      "metadata": {
        "colab": {
          "base_uri": "https://localhost:8080/"
        },
        "id": "rZ8P44emQsN6",
        "outputId": "ab800e2f-7307-4c24-8e06-22c15481c324"
      },
      "outputs": [
        {
          "output_type": "stream",
          "name": "stdout",
          "text": [
            "Collecting pyiwn\n",
            "  Downloading pyiwn-0.0.5-py3-none-any.whl (12 kB)\n",
            "Requirement already satisfied: pandas in /usr/local/lib/python3.7/dist-packages (from pyiwn) (1.3.5)\n",
            "Requirement already satisfied: requests in /usr/local/lib/python3.7/dist-packages (from pyiwn) (2.23.0)\n",
            "Requirement already satisfied: pytz>=2017.3 in /usr/local/lib/python3.7/dist-packages (from pandas->pyiwn) (2018.9)\n",
            "Requirement already satisfied: numpy>=1.17.3 in /usr/local/lib/python3.7/dist-packages (from pandas->pyiwn) (1.21.5)\n",
            "Requirement already satisfied: python-dateutil>=2.7.3 in /usr/local/lib/python3.7/dist-packages (from pandas->pyiwn) (2.8.2)\n",
            "Requirement already satisfied: six>=1.5 in /usr/local/lib/python3.7/dist-packages (from python-dateutil>=2.7.3->pandas->pyiwn) (1.15.0)\n",
            "Requirement already satisfied: chardet<4,>=3.0.2 in /usr/local/lib/python3.7/dist-packages (from requests->pyiwn) (3.0.4)\n",
            "Requirement already satisfied: certifi>=2017.4.17 in /usr/local/lib/python3.7/dist-packages (from requests->pyiwn) (2021.10.8)\n",
            "Requirement already satisfied: idna<3,>=2.5 in /usr/local/lib/python3.7/dist-packages (from requests->pyiwn) (2.10)\n",
            "Requirement already satisfied: urllib3!=1.25.0,!=1.25.1,<1.26,>=1.21.1 in /usr/local/lib/python3.7/dist-packages (from requests->pyiwn) (1.24.3)\n",
            "Installing collected packages: pyiwn\n",
            "Successfully installed pyiwn-0.0.5\n"
          ]
        }
      ],
      "source": [
        "pip install --upgrade pyiwn"
      ]
    },
    {
      "cell_type": "markdown",
      "source": [
        "INDO WORDNET"
      ],
      "metadata": {
        "id": "MpmRT-2wWN67"
      }
    },
    {
      "cell_type": "code",
      "source": [
        "import pyiwn"
      ],
      "metadata": {
        "colab": {
          "base_uri": "https://localhost:8080/"
        },
        "id": "G_UF6TKVQvz3",
        "outputId": "5121dd5f-4903-4bcb-f85e-3a35d4502b60"
      },
      "execution_count": 2,
      "outputs": [
        {
          "output_type": "stream",
          "name": "stderr",
          "text": [
            "2022-03-19:13:56:13,524 INFO     [helpers.py:20] Downloading IndoWordNet data of size ~31 MB...\n"
          ]
        },
        {
          "output_type": "stream",
          "name": "stdout",
          "text": [
            "[██████████████████████████████████████████████████]"
          ]
        },
        {
          "output_type": "stream",
          "name": "stderr",
          "text": [
            "2022-03-19:13:56:14,788 INFO     [helpers.py:43] Extracting /root/iwn_data.tar.gz into /root...\n"
          ]
        },
        {
          "output_type": "stream",
          "name": "stdout",
          "text": [
            "\n"
          ]
        },
        {
          "output_type": "stream",
          "name": "stderr",
          "text": [
            "2022-03-19:13:56:15,970 INFO     [helpers.py:48] Removing temporary zip file from /root/iwn_data.tar.gz\n",
            "2022-03-19:13:56:15,978 INFO     [helpers.py:51] IndoWordNet data successfully downloaded at /root/iwn_data\n",
            "2022-03-19:13:56:16,49 INFO     [utils.py:159] NumExpr defaulting to 2 threads.\n"
          ]
        }
      ]
    },
    {
      "cell_type": "code",
      "source": [
        "list(map(str, pyiwn.Language))"
      ],
      "metadata": {
        "colab": {
          "base_uri": "https://localhost:8080/"
        },
        "id": "yUkZ6T5FRBB9",
        "outputId": "b42c1ced-64f4-410e-a007-104dc7e9f68a"
      },
      "execution_count": 3,
      "outputs": [
        {
          "output_type": "execute_result",
          "data": {
            "text/plain": [
              "['Language.ASSAMESE',\n",
              " 'Language.BENGALI',\n",
              " 'Language.BODO',\n",
              " 'Language.GUJARATI',\n",
              " 'Language.HINDI',\n",
              " 'Language.KANNADA',\n",
              " 'Language.KASHMIRI',\n",
              " 'Language.KONKANI',\n",
              " 'Language.MALAYALAM',\n",
              " 'Language.MARATHI',\n",
              " 'Language.MEITEI',\n",
              " 'Language.NEPALI',\n",
              " 'Language.ORIYA',\n",
              " 'Language.PUNJABI',\n",
              " 'Language.SANSKRIT',\n",
              " 'Language.TAMIL',\n",
              " 'Language.TELUGU',\n",
              " 'Language.URDU']"
            ]
          },
          "metadata": {},
          "execution_count": 3
        }
      ]
    },
    {
      "cell_type": "code",
      "source": [
        "iwn = pyiwn.IndoWordNet(lang=pyiwn.Language.KANNADA)"
      ],
      "metadata": {
        "colab": {
          "base_uri": "https://localhost:8080/"
        },
        "id": "xg5ysPTFRFM8",
        "outputId": "608d4a17-0bed-42bd-8e29-15dc989270f3"
      },
      "execution_count": 4,
      "outputs": [
        {
          "output_type": "stream",
          "name": "stderr",
          "text": [
            "2022-03-19:13:56:16,305 INFO     [iwn.py:43] Loading kannada language synsets...\n"
          ]
        }
      ]
    },
    {
      "cell_type": "code",
      "source": [
        "aam_all_synsets = iwn.synsets('ಮಾವು')"
      ],
      "metadata": {
        "id": "XN5jt2QcROG1"
      },
      "execution_count": 5,
      "outputs": []
    },
    {
      "cell_type": "code",
      "source": [
        "aam_all_synsets"
      ],
      "metadata": {
        "colab": {
          "base_uri": "https://localhost:8080/"
        },
        "id": "5HZ1fHMgReKH",
        "outputId": "ac83e1a3-571e-4e02-f855-938566df2729"
      },
      "execution_count": 6,
      "outputs": [
        {
          "output_type": "execute_result",
          "data": {
            "text/plain": [
              "[Synset('ಮಾವು.noun.3462')]"
            ]
          },
          "metadata": {},
          "execution_count": 6
        }
      ]
    },
    {
      "cell_type": "code",
      "source": [
        "# POS\n",
        "list(map(str, pyiwn.PosTag))"
      ],
      "metadata": {
        "colab": {
          "base_uri": "https://localhost:8080/"
        },
        "id": "q_SPECwYRfur",
        "outputId": "d3e4a1be-0769-4780-92aa-c375086dc406"
      },
      "execution_count": 7,
      "outputs": [
        {
          "output_type": "execute_result",
          "data": {
            "text/plain": [
              "['PosTag.NOUN', 'PosTag.VERB', 'PosTag.ADVERB', 'PosTag.ADJECTIVE']"
            ]
          },
          "metadata": {},
          "execution_count": 7
        }
      ]
    },
    {
      "cell_type": "code",
      "source": [
        "print(iwn.synsets('ಮಾನವ'))\n"
      ],
      "metadata": {
        "colab": {
          "base_uri": "https://localhost:8080/"
        },
        "id": "FonjFN70RkXG",
        "outputId": "0c108b37-0abd-4af3-f04a-ce2c8201194b"
      },
      "execution_count": 8,
      "outputs": [
        {
          "output_type": "stream",
          "name": "stdout",
          "text": [
            "[Synset('ಮನುಷ್ಯ.noun.196'), Synset('ಮಾನವ.noun.858'), Synset('ಮಾನವ.noun.3389'), Synset('ಮನುಷ್ಯ.noun.22862')]\n"
          ]
        }
      ]
    },
    {
      "cell_type": "markdown",
      "source": [
        "Printing allSysnets"
      ],
      "metadata": {
        "id": "N8qdmNvHWWGC"
      }
    },
    {
      "cell_type": "code",
      "source": [
        " iwn.all_synsets()"
      ],
      "metadata": {
        "colab": {
          "base_uri": "https://localhost:8080/"
        },
        "id": "gMn-UAcVRyxJ",
        "outputId": "1420c669-1db1-4ae9-e353-2ae1988b5866"
      },
      "execution_count": 9,
      "outputs": [
        {
          "output_type": "execute_result",
          "data": {
            "text/plain": [
              "[Synset('ಅಜಾತ.adjective.1'),\n",
              " Synset('ಅಶುಭ.adjective.2'),\n",
              " Synset('ಪ್ರವೇಶಿಸದ.adjective.3'),\n",
              " Synset('ಪವಿತ್ರ_ಸ್ಥಳ.noun.4'),\n",
              " Synset('ಶಿವಾಲಯ.noun.5'),\n",
              " Synset('ಅಪವಿತ್ರ_ಸ್ಥಾನ.noun.6'),\n",
              " Synset('ಆಗಮಿಸಿರುವ.adjective.7'),\n",
              " Synset('ಹುಟ್ಟಿದ.adjective.8'),\n",
              " Synset('ನೈತಿಕ_ಕಾರ್ಯ.noun.9'),\n",
              " Synset('ಉತ್ಪಾದಿತ.adjective.10'),\n",
              " Synset('ಕೆಟ್ಟ_ಚರಿತ್ರೆ.noun.11'),\n",
              " Synset('ಒರಟುತನ.noun.12'),\n",
              " Synset('ಅತ್ಯಾಚಾರ.noun.13'),\n",
              " Synset('ಗಲಿಬಿಲಿ.noun.14'),\n",
              " Synset('ವಿಟಮೀನ್.noun.15'),\n",
              " Synset('ಒಳ್ಳೆಯ_ಚರಿತ್ರೆ.noun.16'),\n",
              " Synset('ಮನಸಿಗೆ_ಬಂದ_ಹಾಗೆ.noun.17'),\n",
              " Synset('ಕೆಟ್ಟ_ಕೆಲಸ.noun.18'),\n",
              " Synset('ಅಕ್ಕಿ.noun.19'),\n",
              " Synset('ತಿನ್ನುವ_ವಸ್ತು.noun.20'),\n",
              " Synset('ಅನುಭವವಿಲ್ಲದ.adjective.21'),\n",
              " Synset('ಅಪ್ರವೀಣ.adjective.22'),\n",
              " Synset('ಅಯೋಗ್ಯ.adjective.23'),\n",
              " Synset('ಹೆಣ್ಣು_ಹುಲಿ.noun.24'),\n",
              " Synset('ಅಪಕ್ವ.adjective.25'),\n",
              " Synset('ಪೆದ್ದರಂತೆ.adjective.26'),\n",
              " Synset('ಮೂರ್ಖರು.adjective.27'),\n",
              " Synset('ಅಪ್ರಚಲಿತ.adjective.28'),\n",
              " Synset('ಪ್ರವೀಣನಾದ.adjective.29'),\n",
              " Synset('ಯೋಗ್ಯನಾದ.adjective.30'),\n",
              " Synset('ಸಭ್ಯ.adjective.31'),\n",
              " Synset('ಒಳ್ಳೆಯವರ.adjective.32'),\n",
              " Synset('ನರಭಕ್ಷಕ.adjective.33'),\n",
              " Synset('ನವರತ್ನ.noun.34'),\n",
              " Synset('ಅನಾಥ.adjective.35'),\n",
              " Synset('ಅಸಹಾಯಕ.adjective.36'),\n",
              " Synset('ತಂದೆಯಿಲ್ಲದ.adjective.37'),\n",
              " Synset('ಸಾಧನಹೀನ.adjective.38'),\n",
              " Synset('ಸನಾಥ.adjective.39'),\n",
              " Synset('ಹೆಣ್ಣುನರಿ.noun.40'),\n",
              " Synset('ಸಹಾಯಕ.adjective.41'),\n",
              " Synset('ಮಾತೃಹೀನ.adjective.42'),\n",
              " Synset('ಸಾಧನೆಗಳಿಂದ_ಸಂಪನ್ನ.adjective.43'),\n",
              " Synset('ಅಪಮಾನ.noun.44'),\n",
              " Synset('ಅಷಿಷ್ಟ.noun.45'),\n",
              " Synset('ಗೌರವ.noun.46'),\n",
              " Synset('ಪ್ರಧಾನ_ಆತ್ಮ.noun.47'),\n",
              " Synset('ಅನಾಮಿಕ.adjective.48'),\n",
              " Synset('ದಿವ್ಯ_ಶಕ್ತಿ.noun.49'),\n",
              " Synset('ಹೆಸರಿನ.adjective.50'),\n",
              " Synset('ಇದ್ದಕ್ಕಿದ್ದಂತೆ.adverb.51'),\n",
              " Synset('ಅನಾಯಾಸವಾಗಿ.adverb.52'),\n",
              " Synset('ಪ್ರಯತ್ನಪೂರ್ವಕವಾಗಿ.adverb.53'),\n",
              " Synset('ಅನಾವರಣ.noun.54'),\n",
              " Synset('ಬೆಟ್ಟದ_ಹೂವು.noun.55'),\n",
              " Synset('ಬೆಟ್ಟದ_ಹೂವು.noun.56'),\n",
              " Synset('ಉದ್ಘಾಟನೆ.noun.57'),\n",
              " Synset('ಗೊಬ್ಬರ.noun.58'),\n",
              " Synset('ಗುಟ್ಟು_ಬಯಲಾಗು.noun.59'),\n",
              " Synset('ಅವ್ಯವಸ್ಥಿತ.adjective.60'),\n",
              " Synset('ನಿರಂಕುಶ.adjective.61'),\n",
              " Synset('ಅಂಧಾನುಕರಣೆ.noun.62'),\n",
              " Synset('ಅನುಕೂಲತೆ.noun.63'),\n",
              " Synset('ದಯೆ.noun.64'),\n",
              " Synset('ಪರಿಸ್ಥಿತಿ.noun.65'),\n",
              " Synset('ಸಾಮಂಜಸ್ಯ.noun.66'),\n",
              " Synset('ಆರಂಭ.noun.67'),\n",
              " Synset('ನಗ್ನತೆ.noun.68'),\n",
              " Synset('ಕ_ದಿಂದ_ಹ_ದವರೆಗಿನ_ಅಕ್ಷರ_(ಅಕ್ಷರ_ಮಾಲೆ).noun.69'),\n",
              " Synset('ಚಿಕ್ಕ_ಎಲೆ.noun.70'),\n",
              " Synset('ಸ್ಪಷ್ಟತೆ.noun.71'),\n",
              " Synset('ಗುಟ್ಟು.noun.72'),\n",
              " Synset('ಭಾವ.noun.73'),\n",
              " Synset('ಅನುಕೂಲ.noun.74'),\n",
              " Synset('ಒಳ್ಳೆಯ_ಗುಣ.noun.75'),\n",
              " Synset('ರಕ್ತ_ದಾನ.noun.76'),\n",
              " Synset('ಅಸಂಗತತೆ.noun.77'),\n",
              " Synset('ಭೇಟಿ.noun.78'),\n",
              " Synset('ಹೊಂದಾಣಿಕೆ_ಇಲ್ಲದ.noun.79'),\n",
              " Synset('ತಮ್ಮ.noun.80'),\n",
              " Synset('ತಮ್ಮ.noun.81'),\n",
              " Synset('ಅಣ್ಣ.noun.82'),\n",
              " Synset('ಅನುತ್ತೀರ್ಣ.adjective.83'),\n",
              " Synset('ಉತ್ತೀರ್ಣ.adjective.84'),\n",
              " Synset('ಅನುಪಸ್ಥಿತ.adjective.85'),\n",
              " Synset('ಉಪಸ್ಥಿತ.adjective.86'),\n",
              " Synset('ಮಡಿಕೆ.noun.87'),\n",
              " Synset('ವರ್ತಮಾನದ.adjective.88'),\n",
              " Synset('ಅನುಪಾತ.noun.89'),\n",
              " Synset('ಕಾಡಿಗೆಯುಕ್ತ.adjective.90'),\n",
              " Synset('ಒಪ್ಪಂದ.noun.91'),\n",
              " Synset('ಸಂಧಾನ.noun.92'),\n",
              " Synset('ಅನಿಕೆ.noun.93'),\n",
              " Synset('ಕೊಡುಕೊಳ್ಳುವಿಕೆ.noun.94'),\n",
              " Synset('ಜವಾಬ್ದಾರಿ.noun.95'),\n",
              " Synset('ವ್ಯಾಪಾರ.noun.96'),\n",
              " Synset('ಅನುಭವ.noun.97'),\n",
              " Synset('ನೆನಪು.noun.98'),\n",
              " Synset('ಜ್ಞಾನ.noun.99'),\n",
              " Synset('ನುರಿತ.adjective.100'),\n",
              " Synset('ಸಂಕಟಕ್ಕೊಳಗಾದ.adjective.101'),\n",
              " Synset('ಕಷ್ಟ_ತಿಳಿಯದ.adjective.102'),\n",
              " Synset('ಸಂವೇದನೆ.noun.103'),\n",
              " Synset('ಮನೋಭಾವ.noun.104'),\n",
              " Synset('ಅನುಮತಿ.noun.105'),\n",
              " Synset('ಸ್ವೀಕಾರ.noun.106'),\n",
              " Synset('ಅನುಮಾನ.noun.107'),\n",
              " Synset('ಕಲ್ಪನೆ.noun.108'),\n",
              " Synset('ಅನುಮೋದನೆ.noun.109'),\n",
              " Synset('ಉದ್ಗಾರ.noun.110'),\n",
              " Synset('ಪ್ರತಿರೋಧ.noun.111'),\n",
              " Synset('ಉಭಯವಾಸಿ.adjective.112'),\n",
              " Synset('ಆಸಕ್ತ.adjective.113'),\n",
              " Synset('ನಿಷ್ಠಾವಂತ.adjective.114'),\n",
              " Synset('ಉದ್ಯೋಗಿ.adjective.115'),\n",
              " Synset('ಗುಪ್ತದಾನ.noun.116'),\n",
              " Synset('ಭಕ್ತ.noun.117'),\n",
              " Synset('ಅನೇಕ.adjective.118'),\n",
              " Synset('ಪ್ರಭಾಮಂಡಲ.noun.119'),\n",
              " Synset('ಪ್ರೇಮ.noun.120'),\n",
              " Synset('ಸ್ನೇಹ.noun.121'),\n",
              " Synset('ಪ್ರತಿರೂಪಿ.adjective.122'),\n",
              " Synset('ಅನುಸಾರವಾಗಿ.adverb.123'),\n",
              " Synset('ಊದಾ_ಬಣ್ಣ.adjective.124'),\n",
              " Synset('ಕೋರಿಕೆ.noun.125'),\n",
              " Synset('ಅವಧಿ_ಮೀರಿದ.adjective.126'),\n",
              " Synset('ವಿನಂತಿ.noun.127'),\n",
              " Synset('ಯಾಚನೆ.noun.128'),\n",
              " Synset('ಅನುವಾದ.noun.129'),\n",
              " Synset('ಅನುವಾದಿತ_ಕೃತಿ.noun.130'),\n",
              " Synset('ವ್ಯಾಖ್ಯಾನ.noun.131'),\n",
              " Synset('ವಿನಿಮಯ.noun.132'),\n",
              " Synset('ಕಾರ್ಯಾರಂಭ.noun.133'),\n",
              " Synset('ಧರ್ಮ_ಕರ್ಮ.noun.134'),\n",
              " Synset('ಮಂಗಳೋತ್ಸವ.noun.135'),\n",
              " Synset('ಯಜ್ಞ.noun.136'),\n",
              " Synset('ಸಂಕಲ್ಪ.noun.137'),\n",
              " Synset('ಸಂಶೋಧನೆ.noun.138'),\n",
              " Synset('ಶೋಧ.noun.139'),\n",
              " Synset('ಅನುಕೃತಿತ.adjective.140'),\n",
              " Synset('ಚಿಂತನೆ.noun.141'),\n",
              " Synset('ಜಿಗುಪ್ಸೆ.noun.142'),\n",
              " Synset('ವಿರಕ್ತಿ.noun.143'),\n",
              " Synset('ವಿಭಿನ್ನ_ರೀತಿಯ.adjective.144'),\n",
              " Synset('ಅನುವಾದಿತ.adjective.145'),\n",
              " Synset('ಮೂಲ_ಕೃತಿ.noun.146'),\n",
              " Synset('ಸಂದೇಶ.noun.147'),\n",
              " Synset('ಸಾಹಿತ್ಯ_ಕೃತಿ.noun.148'),\n",
              " Synset('ಸ್ಪಷ್ಟೀಕರಣ.noun.149'),\n",
              " Synset('ಕ್ರಿಯಾಪದ.noun.150'),\n",
              " Synset('ಮೂಲ.noun.151'),\n",
              " Synset('ಅಸಂಘಟಿತ.adjective.152'),\n",
              " Synset('ತಿನ್ನಲು_ಯೋಗ್ಯವಲ್ಲದ_ವಸ್ತು.noun.153'),\n",
              " Synset('ಅಂಜೂರ.noun.154'),\n",
              " Synset('ಅನ್ಯ.adjective.155'),\n",
              " Synset('ಪರಕೀಯ.noun.156'),\n",
              " Synset('ಆರ್ಯಸಮಾಜ.noun.157'),\n",
              " Synset('ಐಚ್ಛಿಕ.adjective.158'),\n",
              " Synset('ಆವಿಷ್ಕಾರ.noun.159'),\n",
              " Synset('ಅಂಗವಿಕಲ.adjective.160'),\n",
              " Synset('ಔರಸ.adjective.161'),\n",
              " Synset('ಖಾಸಗಿ.adjective.162'),\n",
              " Synset('ಸ್ವರಚಿತ.adjective.164'),\n",
              " Synset('ಬಂಧು.noun.165'),\n",
              " Synset('ವೈಯಕ್ತಿಕ.adjective.166'),\n",
              " Synset('ಆತ್ಮಜನ್ಯ.adjective.167'),\n",
              " Synset('ದೇಶೀಯ.adjective.168'),\n",
              " Synset('ಸ್ವಪಕ್ಷೀಯ.adjective.169'),\n",
              " Synset('ಕಳಂಕ.noun.170'),\n",
              " Synset('ಅಪರಾಧ.noun.171'),\n",
              " Synset('ಅಪರಾಧಿ.adjective.172'),\n",
              " Synset('ಹಾರ್ಮೋನಿಯಮ್.noun.173'),\n",
              " Synset('ಮಧ್ಯಾಹ್ನ.noun.174'),\n",
              " Synset('ಅಪವಾದ.noun.175'),\n",
              " Synset('ಮೂರ್ಖತನದ_ಅಪರಾಧ.noun.176'),\n",
              " Synset('ಅಪರಾಧಿ.noun.177'),\n",
              " Synset('ಕಳಂಕ.noun.178'),\n",
              " Synset('ಶೋಧಿಸಲಾಗದ.adjective.179'),\n",
              " Synset('ಎಂಜಲಾದ.adjective.180'),\n",
              " Synset('ಅಪಶಕುನ.noun.181'),\n",
              " Synset('ಬೈಗುಳ.noun.182'),\n",
              " Synset('ಕೆಲಸ.noun.183'),\n",
              " Synset('ಪಾಪ_ಪುಣ್ಯ.noun.184'),\n",
              " Synset('ಹಬ್ಬ.noun.185'),\n",
              " Synset('ಪಿಯಾನೋ.noun.186'),\n",
              " Synset('ಒಂದನೆ.adjective.187'),\n",
              " Synset('ಒಂದಾದ.adjective.188'),\n",
              " Synset('ಜನ.noun.189'),\n",
              " Synset('ಅವಿಧೇಯತೆಯ.adjective.190'),\n",
              " Synset('ಸಂಬಂಧಿಕರು.noun.191'),\n",
              " Synset('ಸ್ವಜಾತೀಯ.adjective.192'),\n",
              " Synset('ನಿರುಪಾಯ.adjective.193'),\n",
              " Synset('ಅಂಗವಿಕಲನಲ್ಲದ.adjective.194'),\n",
              " Synset('ಮನುಷ್ಯ.noun.196'),\n",
              " Synset('ಪರಕೀಯ.adjective.197'),\n",
              " Synset('ವಿದೇಶೀಯ.adjective.198'),\n",
              " Synset('ವಿಪಕ್ಷೀಯ.adjective.199'),\n",
              " Synset('ಅತಿಥಿ_ಗೃಹ.noun.200'),\n",
              " Synset('ಅಣೆಕಟ್ಟು.noun.201'),\n",
              " Synset('ಉದಾರಿ.adjective.202'),\n",
              " Synset('ಜಗಲಿ.noun.203'),\n",
              " Synset('ಹೆಬ್ಬಾಗಿಲು.noun.204'),\n",
              " Synset('ಗ್ರಹ_ದೆಸೆ.noun.205'),\n",
              " Synset('ರಾಶಿ_ಚಕ್ರ.noun.206'),\n",
              " Synset('ರಾಶಿ.noun.207'),\n",
              " Synset('ಗ್ರಹ.noun.208'),\n",
              " Synset('ಪೂಜನೀಯ.adjective.209'),\n",
              " Synset('ನಮಾಜು.noun.210'),\n",
              " Synset('ಪೂಜಿಸಲ್ಪಟ್ಟ.adjective.211'),\n",
              " Synset('ತಂದೆ_ತಾಯಿ.noun.212'),\n",
              " Synset('ಸಮರ್ಥಿಸುವವನು.noun.213'),\n",
              " Synset('ದೊಡ್ಡಕ್ಕ.noun.214'),\n",
              " Synset('ಬಂಗಾರದ_ಗಣಿ.noun.215'),\n",
              " Synset('ಲೋಹ_ಬಂಡಾರ.noun.216'),\n",
              " Synset('ಲೋಹ.noun.217'),\n",
              " Synset('ವಿಪಕ್ಷೀಯ.noun.218'),\n",
              " Synset('ಸೂರ್ಯವಂಶ.noun.219'),\n",
              " Synset('ಚಂದ್ರವಂಶ.noun.220'),\n",
              " Synset('ಸಜ್ಜನ.noun.221'),\n",
              " Synset('ದುಷ್ಟ.noun.222'),\n",
              " Synset('ಹೆಸರು.noun.223'),\n",
              " Synset('ಪದನಾಮ.noun.224'),\n",
              " Synset('ಬುಧ.noun.225'),\n",
              " Synset('ಶುಕ್ರ.noun.226'),\n",
              " Synset('ಬ್ರಹಸ್ಪತಿ.noun.227'),\n",
              " Synset('ಶನಿ.noun.228'),\n",
              " Synset('ವರುಣ.noun.229'),\n",
              " Synset('ಪ್ಲೂಟೋ.noun.230'),\n",
              " Synset('ಪ್ರದೇಶ.noun.231'),\n",
              " Synset('ಮಂಡಲ.noun.232'),\n",
              " Synset('ಜಿಲ್ಲೆ.noun.233'),\n",
              " Synset('ಗದ್ದಲಮಾಡು.verb.234'),\n",
              " Synset('ಅಳು.verb.235'),\n",
              " Synset('ಹಾಡು.verb.236'),\n",
              " Synset('ನರಳು.verb.237'),\n",
              " Synset('ಬಿಕ್ಕು.verb.238'),\n",
              " Synset('ಕಣ್ಣೀರು_ಹರಿಸು.verb.239'),\n",
              " Synset('ಅಳು.verb.240'),\n",
              " Synset('ತಾಲೂಕು.noun.241'),\n",
              " Synset('ವಾದಿಸು.verb.242'),\n",
              " Synset('ವಾದಿಸು.verb.243'),\n",
              " Synset('ಬೆದರಿಸು.verb.244'),\n",
              " Synset('ವ್ಯಕ್ತಪಡಿಸು.verb.245'),\n",
              " Synset('ವ್ಯಕ್ತಪಡಿಸು.verb.246'),\n",
              " Synset('ಸತ್ಯವಂತ.adjective.247'),\n",
              " Synset('ನಂಬಿಗಸ್ತ.adjective.248'),\n",
              " Synset('ಕಾಲ್ಪನಿಕ.adjective.249'),\n",
              " Synset('ಕಚ್ಚಾಲೋಹ.noun.250'),\n",
              " Synset('ಎರಕ.noun.251'),\n",
              " Synset('ಕುಲನಾಮ.noun.252'),\n",
              " Synset('ಅಡ್ಡಹೆಸರು.noun.253'),\n",
              " Synset('ಪೂರ್ಣಾಂಕ.noun.254'),\n",
              " Synset('ಪ್ರಾಪ್ತಿಯಾದ_ಅಂಕ.noun.255'),\n",
              " Synset('ಭಿನ್ನ_ಸಂಖ್ಯೆ.noun.256'),\n",
              " Synset('ಪ್ರತ್ಯೇಕ.noun.257'),\n",
              " Synset('ರೋಮನ್_ಅಂಕೆ.noun.258'),\n",
              " Synset('ಲಿಪಿ.noun.259'),\n",
              " Synset('ಸ್ವರ.noun.260'),\n",
              " Synset('ವ್ಯಂಜನ.noun.261'),\n",
              " Synset('ಸಂಯುಕ್ತಾಕ್ಷರ.noun.262'),\n",
              " Synset('ಮೃದು_ಎಲುಬು.noun.263'),\n",
              " Synset('ಚಿತ್ರಲಿಪಿ.noun.264'),\n",
              " Synset('ಅಸಮತಲ.adjective.265'),\n",
              " Synset('ದ್ರಾಕ್ಷಿ.adjective.266'),\n",
              " Synset('ಕಿಬ್ಬೊಟ್ಟಯ_ಎರಡೂ_ಮಗ್ಗಲಿನ_ಎಲುಬು.noun.267'),\n",
              " Synset('ಬೆನ್ನೆಲುಬು.noun.268'),\n",
              " Synset('ಶಕ್ತಿ.noun.269'),\n",
              " Synset('ಬಾಯಿ.noun.270'),\n",
              " Synset('ಹಲ್ಲು.noun.271'),\n",
              " Synset('ಬಾಯಿಯ_ಅಂಗಳ.noun.272'),\n",
              " Synset('ಒಸಡು.noun.273'),\n",
              " Synset('ಪ್ರಶ್ನಾರ್ಥಕ_ಚಿಹ್ನೆ.noun.274'),\n",
              " Synset('ವಿರಾಮ_ಚಿಹ್ನೆ.noun.275'),\n",
              " Synset('ಸಹಿ_ಚಿಹ್ನೆ.noun.276'),\n",
              " Synset('ತಪ್ಪುಚಿಹ್ನೆ.noun.277'),\n",
              " Synset('ರತ್ನ.noun.278'),\n",
              " Synset('ಅಲೌಕಿಕ_ಪ್ರೇಮ.noun.279'),\n",
              " Synset('ಕುರುಡುಭಕ್ತಿ.noun.280'),\n",
              " Synset('ಒಂಭತ್ತುವಿಧವಾದ_ಭಕ್ತಿ.noun.281'),\n",
              " Synset('ಬಣ್ಣ.noun.282'),\n",
              " Synset('ಕಚ್ಚಾಬಣ್ಣ.noun.283'),\n",
              " Synset('ಅಕ್ಷಯತೃತೀಯ.noun.284'),\n",
              " Synset('ತೀವ್ರಾನುಭೂತಿ.noun.285'),\n",
              " Synset('ಗಡಸು_ನೀರು.noun.286'),\n",
              " Synset('ಶುದ್ಧ_ನೀರು.noun.287'),\n",
              " Synset('ಅಕರ್ಮಕ_ಕ್ರಿಯಾ.noun.288'),\n",
              " Synset('ಸಕರ್ಮಕ_ಕ್ರಿಯಾಪದ.noun.289'),\n",
              " Synset('ನೆಲ.noun.290'),\n",
              " Synset('ಕೊಂಬು.noun.291'),\n",
              " Synset('ಕೋರೆ_ಹಲ್ಲು.noun.292'),\n",
              " Synset('ಹನಿ-ಹನಿ.noun.293'),\n",
              " Synset('ಕಲೆ.noun.294'),\n",
              " Synset('ಗುಳ್ಳೆ.noun.295'),\n",
              " Synset('ಬಾಲಪರಾಧ.noun.296'),\n",
              " Synset('ಕೀವು.noun.297'),\n",
              " Synset('ರಕ್ತ.noun.298'),\n",
              " Synset('ಬ್ರಾಹ್ಮಿ_ಲಿಪಿ.noun.299'),\n",
              " Synset('ಕರೋಷ್ಟಿ.noun.300'),\n",
              " Synset('ದೇವನಾಗರೀ_ಲಿಪಿ.noun.301'),\n",
              " Synset('ಪರೋಪಕಾರ.noun.302'),\n",
              " Synset('ನಿಷ್ಠಾವಂತ.noun.303'),\n",
              " Synset('ಅವಿಶ್ವಾಸಿ.noun.304'),\n",
              " Synset('ಹ್ರಸ್ವ_ಸ್ವರ.noun.305'),\n",
              " Synset('ದೀರ್ಘಸ್ವರ.noun.306'),\n",
              " Synset('ವಿಷದ_ಹಲ್ಲು.noun.307'),\n",
              " Synset('ಮಕ್ಕಳ_ಚಿಕ್ಕ_ಹಲ್ಲು.noun.308'),\n",
              " Synset('ಶಿಸ್ತು.noun.309'),\n",
              " Synset('ದವಡೆ_ಹಲ್ಲು.noun.310'),\n",
              " Synset('ದವಡೆ_ಹಲ್ಲು.noun.311'),\n",
              " Synset('ಬೀಜಗಣಿತ.noun.312'),\n",
              " Synset('ಕೂಡಿಸುವಿಕೆ.noun.313'),\n",
              " Synset('ಕಳೆಯುವಿಕೆ.noun.314'),\n",
              " Synset('ಗುಣಾಕಾರ.noun.315'),\n",
              " Synset('ಭಾಗಾಕಾರ.noun.316'),\n",
              " Synset('ಮುಖ್ಯ_ಬಣ್ಣ.noun.317'),\n",
              " Synset('ಗೌಣ_ಬಣ್ಣ.noun.318'),\n",
              " Synset('ಪ್ಲಾಸ್ಮಾ.noun.319'),\n",
              " Synset('ರಕ್ತ_ಕೋಶ.noun.320'),\n",
              " Synset('ಕೆಂಪು_ರಕ್ತ_ಕಣ.noun.321'),\n",
              " Synset('ಬಿಳಿ_ರಕ್ತ_ಕಣ.noun.322'),\n",
              " Synset('ಉಪಕಾರಿ.adjective.323'),\n",
              " Synset('ಲೋಕೋಪಕಾರ.noun.324'),\n",
              " Synset('ಅಪಾಯಕಾರಿ.adjective.325'),\n",
              " Synset('ಪರೋಪಕಾರಿ.adjective.326'),\n",
              " Synset('ಶಿಸ್ತಿನ.adjective.327'),\n",
              " Synset('ಲೋಕೋಪಕಾರಿ.adjective.328'),\n",
              " Synset('ಅನೈಚ್ಛಿಕ.adjective.329'),\n",
              " Synset('ಅಘ್ನಾತಯೌವನ.noun.330'),\n",
              " Synset('ಘ್ನಾತಯೌವನ.noun.331'),\n",
              " Synset('ಪಂಜರ.noun.332'),\n",
              " Synset('ಇಲಿ_ಬೋನು.noun.333'),\n",
              " Synset('ಹೆಣ್ಣಿಲಿ.noun.334'),\n",
              " Synset('ಇಲಿ.noun.335'),\n",
              " Synset('ಬಾಚಿ_ಹಲ್ಲುಗಳುಳ್ಳ_ಜಂತು.noun.336'),\n",
              " Synset('ಮೊಲೆ_ಇರುವ_ಜಂತು.noun.337'),\n",
              " Synset('ಕಶೇರುಕ_ಪ್ರಾಣಿ.noun.338'),\n",
              " Synset('ಗಟ್ಟಿಬಣ್ಣ.noun.339'),\n",
              " Synset('ಕಟ್ಟಿಗೆಯ_ಪಂಚರ.noun.340'),\n",
              " Synset('ಲೋಹದ_ಪಂಚರ.noun.341'),\n",
              " Synset('ಬಿದಿರಿನ_ತಿಳುವಾದ_ಕಡ್ಡಿ.noun.342'),\n",
              " Synset('ಲೋಹ_ಪಂಚರ.noun.343'),\n",
              " Synset('ಸಲಾಕಿ.noun.344'),\n",
              " Synset('ಲೇಖನಿ.noun.345'),\n",
              " Synset('ಕಾಗದ.noun.346'),\n",
              " Synset('ಬರಹದ_ಉಪಕರಣ.noun.347'),\n",
              " Synset('ಚಿತ್ರಾಂಕಿತ.adjective.348'),\n",
              " Synset('ಸ್ವ_ಇಚ್ಚೆಯಿಂದ.adjective.349'),\n",
              " Synset('ಸರ್ಕಾರಿ.adjective.350'),\n",
              " Synset('ಅತ್ಯಗತ್ಯ.adjective.351'),\n",
              " Synset('ಮೀನ_ರಾಶಿ.noun.352'),\n",
              " Synset('ಕುಂಭರಾಶಿ.noun.353'),\n",
              " Synset('ಮಕರ.noun.354'),\n",
              " Synset('ಧನಸ್ಸು.noun.355'),\n",
              " Synset('ವೃಶ್ಚಿಕ.noun.356'),\n",
              " Synset('ತುಲಾ.noun.357'),\n",
              " Synset('ಕನ್ಯ.noun.358'),\n",
              " Synset('ಸಿಂಹ.noun.359'),\n",
              " Synset('ಕಟಕ.noun.360'),\n",
              " Synset('ಮಿಥುನ.noun.361'),\n",
              " Synset('ವೃಷಭ.noun.362'),\n",
              " Synset('ಮೇಷ.noun.363'),\n",
              " Synset('ರುಜುವಾತುಮಾಡಿದ.adjective.364'),\n",
              " Synset('ಸಹಿಯಿಲ್ಲದ.adjective.365'),\n",
              " Synset('ಜುಮ್ಮ_ಎನ್ನುವ.adjective.366'),\n",
              " Synset('ನರ.noun.367'),\n",
              " Synset('ಗಜಶಾಲೆ.noun.368'),\n",
              " Synset('ಮೊನೆ.noun.369'),\n",
              " Synset('ಕೊಳಲು.noun.370'),\n",
              " Synset('ಗಾಳ.noun.371'),\n",
              " Synset('ಸಲಾಕಿ.noun.372'),\n",
              " Synset('ಹತ್ತಿರ.adverb.373'),\n",
              " Synset('ಬೇರೆಕಡೆ.adverb.374'),\n",
              " Synset('ಉತ್ತುಂಗ.noun.375'),\n",
              " Synset('ಪೂರ್ಣ_ವಿರಾಮ.noun.376'),\n",
              " Synset('ಅರ್ಧವಿರಾಮ.noun.377'),\n",
              " Synset('ಅಲ್ಪವಿರಾಮ.noun.378'),\n",
              " Synset('ಆಶ್ಚರ್ಯ_ಸೂಚಕ.noun.379'),\n",
              " Synset('ಕೂಡುಗೆರೆ.noun.380'),\n",
              " Synset('ಉದ್ದರಣ.noun.381'),\n",
              " Synset('ಆವರಣ.noun.382'),\n",
              " Synset('ದೊಡ್ಡ_ಆವರಣ.noun.383'),\n",
              " Synset('ಗಿರುಗಟೆ.noun.384'),\n",
              " Synset('ಪತನ.noun.385'),\n",
              " Synset('ವೇಗ_ಮಾಪಕ.noun.386'),\n",
              " Synset('ತತ್ವ.noun.387'),\n",
              " Synset('ಮಧ್ಯದ_ಕೋಷ್ಠಕ.noun.388'),\n",
              " Synset('ಅಲ್ಪಾವರಣ.noun.389'),\n",
              " Synset('ಜೀವ_ಪರಂಪರೆ.noun.390'),\n",
              " Synset('ವನಸ್ಪತಿ_ಪರಂಪರೆ.noun.391'),\n",
              " Synset('ಊದುವವಾದ್ಯ.noun.392'),\n",
              " Synset('ಚಿಕ್ಕ_ಕೊಳಲು.noun.393'),\n",
              " Synset('ಮೂಗಿನಿಂದ_ಊದುವ_ಕೊಳಲು.noun.394'),\n",
              " Synset('ಸಂಗೀತ_ವಾಧ್ಯಗಳು.noun.395'),\n",
              " Synset('ಮಾಪಕ.noun.396'),\n",
              " Synset('ಡೊಳ್ಳು_ವಾದ್ಯ.noun.397'),\n",
              " Synset('ತಾಳವಾದ್ಯ.noun.398'),\n",
              " Synset('ತಂತಿ_ವಾದ್ಯ.noun.399'),\n",
              " Synset('ಮೃದಂಗ.noun.400'),\n",
              " Synset('ತಬಲ.noun.401'),\n",
              " Synset('ವೀಣೆ.noun.402'),\n",
              " Synset('ವೈಲಿನ್.noun.403'),\n",
              " Synset('ಕಂಸಾಲೆ.noun.404'),\n",
              " Synset('ಸಾರಂಗಿ.noun.405'),\n",
              " Synset('ಸಿತಾರ್.noun.406'),\n",
              " Synset('ವೀಣೆ.noun.407'),\n",
              " Synset('ತುತ್ತೂರಿ.noun.408'),\n",
              " Synset('ತಂಬೂರಿ.noun.409'),\n",
              " Synset('ಕಬಾಬ್.noun.410'),\n",
              " Synset('ಎಡಗಡೆ.noun.411'),\n",
              " Synset('ಪೂರೀ.noun.412'),\n",
              " Synset('ನಗಾರಿ.noun.413'),\n",
              " Synset('ಹಾಲಿನ_ಬಾಟ್ಲಿ.noun.414'),\n",
              " Synset('ಮೊಲೆತೊಟ್ಟು.noun.415'),\n",
              " Synset('ಅಮೀಬ.noun.416'),\n",
              " Synset('ದಪ್ಪಗಿರುವ.adjective.417'),\n",
              " Synset('ಏಕಕೋಶ_ಜೀವಿ.noun.418'),\n",
              " Synset('ಅಕಶೇರುಕಗಳು.noun.419'),\n",
              " Synset('ಹರಟೆಕೋರ.adjective.420'),\n",
              " Synset('ಹಾವು_ಮೀನು.noun.421'),\n",
              " Synset('ಕಾಲು.noun.422'),\n",
              " Synset('ಹುಚ್ಚು_ನಾಯಿ.noun.423'),\n",
              " Synset('ಹಾಲು.noun.425'),\n",
              " Synset('ಸಸ್ಯಹಾರಿ_ಪ್ರಾಣಿ.noun.426'),\n",
              " Synset('ಕೆಲಸದ_ವಿರಾಮ.noun.427'),\n",
              " Synset('ಪ್ಯೂರಿ.noun.428'),\n",
              " Synset('ಬಿಂದು.noun.429'),\n",
              " Synset('ಖೋವ.noun.430'),\n",
              " Synset('ಮಧ್ಯಾಂತರ.noun.431'),\n",
              " Synset('ಗುರುದ್ವಾರ.noun.432'),\n",
              " Synset('ಗಾಂಧೀಜಯಂತಿ.noun.433'),\n",
              " Synset('ಸ್ವಾತಂತ್ರ್ಯ_ದಿನ.noun.434'),\n",
              " Synset('ಗಣರಾಜ್ಯ_ದಿನ.noun.435'),\n",
              " Synset('ಲಂಗರು.noun.436'),\n",
              " Synset('ಕಾಯಿಪಲ್ಯ.noun.437'),\n",
              " Synset('ಕಾರ್ಯನಿರತ.noun.438'),\n",
              " Synset('ಅಕ್ಕಿಹಿಟ್ಟು.noun.439'),\n",
              " Synset('ರವೆ.noun.440'),\n",
              " Synset('ದೋಸೆ.noun.441'),\n",
              " Synset('ರೊಟ್ಟಿ.noun.442'),\n",
              " Synset('ಸೀತಾಫಲ.noun.443'),\n",
              " Synset('ಬಿಸ್ಕತು.noun.444'),\n",
              " Synset('ದುರ್ಭಲ.noun.445'),\n",
              " Synset('ಬಲಶಾಲಿ.noun.446'),\n",
              " Synset('ನಿಂತ.adjective.447'),\n",
              " Synset('ಹರಿಯುವ.adjective.448'),\n",
              " Synset('ಟ್ಟೊಳ್ಳು_ಭಾಗ.noun.449'),\n",
              " Synset('ಕೇಕ್.noun.450'),\n",
              " Synset('ದೇವರ_ಗುಡಿ.noun.451'),\n",
              " Synset('ದೇವಾಲಯ.noun.452'),\n",
              " Synset('ವಿಷ್ಣುವಿನ_ಮಂದಿರ.noun.453'),\n",
              " Synset('ಶಿವಲಿಂಗ.noun.454'),\n",
              " Synset('ದೇವಿಮಂದಿರ.noun.455'),\n",
              " Synset('ಜೈನ_ಮಂದಿರ.noun.456'),\n",
              " Synset('ಪಾರಸೀ_ಮಂದಿರ.noun.457'),\n",
              " Synset('ಬೌದ್ಧ_ಮಂದಿರ.noun.458'),\n",
              " Synset('ಗರ್ಭಗುಡಿ.noun.459'),\n",
              " Synset('ಕರ್ಚಿಕಾಯಿ.noun.460'),\n",
              " Synset('ಪೇಡಾ.noun.461'),\n",
              " Synset('ಒಂದು_ತರದ_ಮಿಠಾಯಿ.noun.462'),\n",
              " Synset('ಬುದ್ಧ_ಮೂರ್ತಿ.noun.463'),\n",
              " Synset('ಮೂರ್ತಿ.noun.464'),\n",
              " Synset('ವೇದಿಕೆ.noun.465'),\n",
              " Synset('ಇಡ್ಲಿ.noun.466'),\n",
              " Synset('ಶಿಲಾ_ಮೂರ್ತಿ.noun.467'),\n",
              " Synset('ಕಬ್ಬಿನ_ರಸದಲ್ಲಿ_ಬೇಯಿಸಿದ_ಅನ್ನ.noun.468'),\n",
              " Synset('ಲೋಹದ_ಮೂರ್ತಿ.noun.469'),\n",
              " Synset('ರಂಗಮಂಚ.noun.470'),\n",
              " Synset('ಬಾಲ.noun.471'),\n",
              " Synset('ಬಾಸುಮತಿ.noun.472'),\n",
              " Synset('ದಾರ.noun.473'),\n",
              " Synset('ಲೋಹ.noun.474'),\n",
              " Synset('ಹೊಲ.noun.475'),\n",
              " Synset('ಬಾಲ.noun.476'),\n",
              " Synset('ಅಸಹಜ.noun.477'),\n",
              " Synset('ನವಿಲಿನ_ಗರಿ.noun.478'),\n",
              " Synset('ಚಕ್ಕುಲ_ಗುಳಿಯಾಡು.noun.479'),\n",
              " Synset('ಎಣ್ಣೆ.noun.480'),\n",
              " Synset('ಕಬ್ಬಿಣ.noun.481'),\n",
              " Synset('ತುಂಬಾ_ಬೆಲೆಬಾಳುವ_ಲೋಹ.noun.482'),\n",
              " Synset('ಮಾರ್ಗಶಿರಮಾಸದ.adjective.483'),\n",
              " Synset('ಏಸುಕ್ರಿಸ್ತ.noun.484'),\n",
              " Synset('ಕ್ರೈಸ್ತ.noun.485'),\n",
              " Synset('ಕ್ರೈಸ್ತ_ಧರ್ಮೀಯ.adjective.486'),\n",
              " Synset('ಪಾದ್ರಿ.noun.487'),\n",
              " Synset('ಗುಂಡಿ.noun.488'),\n",
              " Synset('ಕೊರಳುಪಟ್ಟಿ.noun.489'),\n",
              " Synset('ಉಡಿಗೆ_ತೊಡಿಗೆಯ_ಭಾಗ.noun.490'),\n",
              " Synset('ಭುಜ.noun.491'),\n",
              " Synset('ಪೋಷಾಕು.noun.492'),\n",
              " Synset('ದೈವಿಕ.adjective.493'),\n",
              " Synset('ಪ್ರೇರಣದಾಯಕ.adjective.494'),\n",
              " Synset('ತುದಿ.noun.495'),\n",
              " Synset('ಧರ್ಮ_ಪ್ರವರ್ತಕ.noun.496'),\n",
              " Synset('ಪ್ರವರ್ತಕ.noun.497'),\n",
              " Synset('ಚಪ್ಪಾಳೆ.noun.498'),\n",
              " Synset('ಕಣ್ಣು_ಕುಟ್ಟಿಗೆ.noun.499'),\n",
              " Synset('ಪ್ರದ್ಯುಮ್ನ.noun.500'),\n",
              " Synset('ಉಲ್ಕೆ.noun.501'),\n",
              " Synset('ಅಖಂಡ.noun.502'),\n",
              " Synset('ಶರೀರದ_ಹೊರ_ಭಾಗ.noun.503'),\n",
              " Synset('ಮಣಿ_ಕಟ್ಟು.noun.504'),\n",
              " Synset('ಮೊಣಕೈ.noun.505'),\n",
              " Synset('ಕಂದು_ಬಣ್ಣದ_ಕೋಗಿಲೆ.noun.506'),\n",
              " Synset('ಮರದ_ಇದ್ದಿಲು.noun.507'),\n",
              " Synset('ಕಲ್ಲಿದ್ದಿಲು.noun.508'),\n",
              " Synset('ಚೂರ್ಣ.noun.509'),\n",
              " Synset('ಅರ್ನಕಚರ್ತುದಶಿ.noun.510'),\n",
              " Synset('ಉಲ್ಕೆ.noun.511'),\n",
              " Synset('ಖಗೋಳದ_ಗುಂಡು.noun.512'),\n",
              " Synset('ಮುಲುಕು.noun.513'),\n",
              " Synset('ನಿಟ್ಟುಸಿರು.noun.514'),\n",
              " Synset('ಕುಸಿದಿರುವ.adjective.515'),\n",
              " Synset('ನಿರಾಶ್ರಿತ.adjective.516'),\n",
              " Synset('ಒಬ್ಬನೇ_ಒಬ್ಬ.adjective.517'),\n",
              " Synset('ಮಾನವೀಯ.adjective.518'),\n",
              " Synset('ದೂರ_ಸರಿಸಿದ.adjective.519'),\n",
              " Synset('ಸುಳ್ಳುಗಾರ.adjective.520'),\n",
              " Synset('ಧ್ವಜ.noun.521'),\n",
              " Synset('ಸಿಗದ.adjective.522'),\n",
              " Synset('ಜೈನ_ಮುನಿ.noun.523'),\n",
              " Synset('ಚೆನ್ನಾಗಿ.adverb.524'),\n",
              " Synset('ಸತ್ಯಸಂತೆ.adjective.525'),\n",
              " Synset('ನಿಜ_ಹೇಳಬೇಕೆಂದರೆ.adverb.526'),\n",
              " Synset('ಸಂಧಿಗ್ದತೆಯಿಂದ.adverb.527'),\n",
              " Synset('ಮುಚ್ಚುಮರೆಯಿಲ್ಲದೆ.adverb.528'),\n",
              " Synset('ಅಸಭ್ಯತೆ.adverb.529'),\n",
              " Synset('ಸ್ವಾರ್ಥಿ.adjective.530'),\n",
              " Synset('ಪ್ರಾಣ.noun.531'),\n",
              " Synset('ನಾಯಕಿ.noun.532'),\n",
              " Synset('ಉಪ_ನಾಯಕಿ.noun.533'),\n",
              " Synset('ಖಳನಾಯಕಿ.noun.534'),\n",
              " Synset('ಉಪ_ನಾಯಕ.noun.535'),\n",
              " Synset('ಖಳನಾಯಕ.noun.536'),\n",
              " Synset('ಜೀವ_ಕೋಶ.noun.537'),\n",
              " Synset('ದೈಹಿಕ_ಜೀವಕಣ.noun.538'),\n",
              " Synset('ರಕ್ತಹೀನ.adjective.539'),\n",
              " Synset('ಒಂದೆಳೆಯ.adjective.540'),\n",
              " Synset('ಕೋಮಲಾಂಗಿನಿ.adjective.541'),\n",
              " Synset('ಅನ್ಯಾಯ_ಮಾಡುವವ.adjective.542'),\n",
              " Synset('ನ್ಯಾಯಯುತ.adjective.543'),\n",
              " Synset('ಬುದ್ಧಿಜೀವಿ.adjective.544'),\n",
              " Synset('ಹಠಮಾರಿ.adjective.545'),\n",
              " Synset('ಸೂಜಿ.noun.546'),\n",
              " Synset('ತ್ಯಜ್ಯ.adjective.547'),\n",
              " Synset('ಆನಂದಕರ.adjective.548'),\n",
              " Synset('ಆನಂದಮಯ.adjective.549'),\n",
              " Synset('ಅಸ್ವೀಕೃತ.adjective.550'),\n",
              " Synset('ಸಹಮತ.noun.551'),\n",
              " Synset('ಮಾತೃಕೋಶ.noun.552'),\n",
              " Synset('ಯುಗ್ಮಜ.noun.553'),\n",
              " Synset('ಭ್ರೂಣ_ಕೋಶಗಳು.noun.554'),\n",
              " Synset('ಜನನ_ಕೋಶ.noun.555'),\n",
              " Synset('ಗಮಿಟೋ_ಕೋಶ.noun.556'),\n",
              " Synset('ಸ್ವೀಕೃತ.adjective.557'),\n",
              " Synset('ಒಲೆ.noun.558'),\n",
              " Synset('ಸೌಜನ್ಯದೊಂದಿಗೆ.adverb.559'),\n",
              " Synset('ಪೂಜಿಸುವ.adjective.560'),\n",
              " Synset('ತೋರು_ಬೆರಳು.noun.561'),\n",
              " Synset('ಮಧ್ಯಮ_ಬೆರಳು.noun.562'),\n",
              " Synset('ಭಟ್ಟಿ.noun.563'),\n",
              " Synset('ಅಡುಗೆ_ಸಾಧನ.noun.564'),\n",
              " Synset('ಸಾಧನ.noun.565'),\n",
              " Synset('ಅಸಮ್ಮತಿ.noun.566'),\n",
              " Synset('ತೊಗರೆ.noun.567'),\n",
              " Synset('ತೊಗರಿ.noun.568'),\n",
              " Synset('ವಿಮಾನ.noun.569'),\n",
              " Synset('ಕೋಶದ್ರವ್ಯ.noun.570'),\n",
              " Synset('ಜೀವ_ಧಾತು.noun.571'),\n",
              " Synset('ಕೋಶಪೊರೆ.noun.572'),\n",
              " Synset('ಕುಹರ.noun.573'),\n",
              " Synset('ಬೀಜಕಣ.noun.574'),\n",
              " Synset('ಜೀವಧಾತು.noun.575'),\n",
              " Synset('ಅನಪೇಕ್ಷಿತ.adjective.576'),\n",
              " Synset('ಮೆದುಳಿನ.adjective.577'),\n",
              " Synset('ಕೊಲೆಪಾತಕತನ.adjective.578'),\n",
              " Synset('ಅನುಕೂಲಕರ.adjective.579'),\n",
              " Synset('ತೆಳುವಾದ.adjective.580'),\n",
              " Synset('ವರ.noun.581'),\n",
              " Synset('ಹಿತ.noun.582'),\n",
              " Synset('ಸಿಪ್ಪೆ.noun.583'),\n",
              " Synset('ಕುಲುಮೆ.noun.584'),\n",
              " Synset('ಕುಂಬಾರರ_ಭಟ್ಟಿ.noun.585'),\n",
              " Synset('ಅಂಗಕ.noun.586'),\n",
              " Synset('ಲಂಗರು.noun.587'),\n",
              " Synset('ಚಿವುಟು.verb.588'),\n",
              " Synset('ಅವಮಾನಿಸು.verb.589'),\n",
              " Synset('ಅಪಮಾನವನ್ನು_ಸಹಿಸು.verb.590'),\n",
              " Synset('ಹೊಡೆ.verb.591'),\n",
              " Synset('ಒದೆ.verb.592'),\n",
              " Synset('ಏಟು.noun.593'),\n",
              " Synset('ಯುಕ್ತಿಯಿಂದ.adverb.594'),\n",
              " Synset('ಕಠಿಣವಾಗಿ.adverb.595'),\n",
              " Synset('ಒಟ್ಟಾಗಿ.adverb.596'),\n",
              " Synset('ಜಾಲ.noun.597'),\n",
              " Synset('ಉಸುಕು_ಜರಡಿ.noun.598'),\n",
              " Synset('ಹಿಡಿಕೆ.noun.599'),\n",
              " Synset('ಜಾಲ.noun.600'),\n",
              " Synset('ಹಸ್ತೋಪಕರಣ.noun.601'),\n",
              " Synset('ಹಚ್ಚೆ_ಚುಚ್ಚುವವಳು.noun.602'),\n",
              " Synset('ಎಡಗೈ.noun.603'),\n",
              " Synset('ತಲೆ.noun.604'),\n",
              " Synset('ಮುಖ.noun.605'),\n",
              " Synset('ಗಂಟುಗಳುಳ್ಳ_ಬೇರು.noun.606'),\n",
              " Synset('ಬಾಲದ_ಬೇರು.noun.607'),\n",
              " Synset('ಕಬ್ಬಿನ_ಬೇರೆ.noun.608'),\n",
              " Synset('ಕಮಲದ_ಬೇರು.noun.609'),\n",
              " Synset('ಬೊಡ್ಡೆ.noun.610'),\n",
              " Synset('ಚಿಕ್ಕ_ಮಂಚ.noun.611'),\n",
              " Synset('ಕುದುರೆ_ಗಾಡಿ.noun.612'),\n",
              " Synset('ಏಕಾಏಕಿ_ಹೋರಾಡುವ.adjective.613'),\n",
              " Synset('ಹಾಸು.noun.614'),\n",
              " Synset('ವನಸ್ಪತಿಯ_ಭಾಗ.noun.615'),\n",
              " Synset('ವನಸ್ಪತಿಯ_ಭಾಗ.noun.616'),\n",
              " Synset('ನೆನ್ನೆ.noun.617'),\n",
              " Synset('ಪೂಜನೀಯ.adjective.618'),\n",
              " Synset('ಎಂಟು_ತಿಂಗಳಿನ.adjective.619'),\n",
              " Synset('ಏಳು_ತಿಂಗಳ.adjective.620'),\n",
              " Synset('ಕಂತಾರ_ಕಬ್ಬು.noun.621'),\n",
              " Synset('ಜಠರಾಗ್ನಿ.noun.622'),\n",
              " Synset('ಕೆಂಪು_ರಂಗು.noun.623'),\n",
              " Synset('ಹಸಿರು_ಬಣ್ಣ.noun.624'),\n",
              " Synset('ನೀಲಿ_ಬಣ್ಣ.noun.625'),\n",
              " Synset('ದಪ್ಪಕ್ಕಿ.noun.626'),\n",
              " Synset('ಮೂಳೆಗಳಲ್ಲಿನ_ಕೋಶ.noun.627'),\n",
              " Synset('ದ್ರವ_ಪದಾರ್ಥ.noun.628'),\n",
              " Synset('ಅಮಾವಾಸೆ.noun.629'),\n",
              " Synset('ಪೌರ್ಣಮಿ.noun.630'),\n",
              " Synset('ಮಧ್ಯ_ರಾತ್ರಿ.noun.631'),\n",
              " Synset('ನಾಳೆ.noun.632'),\n",
              " Synset('ಪ್ರಹರ.noun.633'),\n",
              " Synset('ಸೊಳ್ಳೆ.noun.634'),\n",
              " Synset('ನೊಣ.noun.635'),\n",
              " Synset('ಕುದುರೆಗಾಡಿ_ಹೊಡೆಯುವವ.noun.636'),\n",
              " Synset('ಒಂದೆತ್ತಿನ_ಚಕ್ಕಡಿ.noun.637'),\n",
              " Synset('ಆಮ್ಲ.noun.638'),\n",
              " Synset('ಅಂಡಗ್ರಂಥಿ.noun.639'),\n",
              " Synset('ಹಳದಿ_ಬಣ್ಣದ_ಚಂದನ.noun.640'),\n",
              " Synset('ಶ್ರೀಗಂಧ.noun.641'),\n",
              " Synset('ರೆಂಬೆ.noun.642'),\n",
              " Synset('ಚಿಗುರೆಲೆ.noun.643'),\n",
              " Synset('ರೆಂಬೆ.noun.644'),\n",
              " Synset('ಹೂ_ಬಿಡುವ.adjective.645'),\n",
              " Synset('ಹೂ_ಬಿಡದ.adjective.646'),\n",
              " Synset('ಮೂಳೆ.noun.647'),\n",
              " Synset('ಚೈತ್ರಮಾಸ.noun.648'),\n",
              " Synset('ಸಂತೆ.noun.649'),\n",
              " Synset('ಕಾಳು_ವ್ಯಾಪಾರಿ.noun.650'),\n",
              " Synset('ತರಕಾರಿ_ಮಾರುವವ.noun.651'),\n",
              " Synset('ಸ್ಥಿತಿ.noun.652'),\n",
              " Synset('ಸುಖಾಂತ್ಯ.noun.653'),\n",
              " Synset('ಅಂಚು.noun.654'),\n",
              " Synset('ಯುಗಾಂತ್ಯ.noun.655'),\n",
              " Synset('ಹೊಟ್ಟೆಬಾಕ.adjective.656'),\n",
              " Synset('ಅಲ್ಪಾಹಾರಿ.adjective.657'),\n",
              " Synset('ಸಮಾಪ್ತಿ.noun.658'),\n",
              " Synset('ಮೀನುಗಾರ_ಜಾತಿ.noun.659'),\n",
              " Synset('ಕುತ್ತಿಗೆ_ಎಲುವು.noun.660'),\n",
              " Synset('ಪಕ್ಕೆ_ಎಲುಬು.noun.661'),\n",
              " Synset('ಹಣ್ಣು.noun.662'),\n",
              " Synset('ಭಯಪಡುವ.adjective.663'),\n",
              " Synset('ಆಶಾವಾದಿ.adjective.664'),\n",
              " Synset('ಸಮಯ_ಪಾಲಕ.adjective.665'),\n",
              " Synset('ಪಿಚ_ಪಿಚ_ಅನ್ನುವ.adjective.666'),\n",
              " Synset('ಟೊಳ್ಳಾದ.adjective.667'),\n",
              " Synset('ತಿನ್ನುವ.adjective.668'),\n",
              " Synset('ನಿರಾತಂಕ.adjective.669'),\n",
              " Synset('ನಿಯತ್ತಿನ.adjective.670'),\n",
              " Synset('ಆದರ್ಶಾತ್ಮಕ.adjective.671'),\n",
              " Synset('ಆಟ.noun.672'),\n",
              " Synset('ಕ್ರಿಯಾಶೀಲತೆ.noun.673'),\n",
              " Synset('ಸೂತ್ರದ_ಗೊಂಬೆಯಾಟ.noun.674'),\n",
              " Synset('ಕೀಲುಗೊಂಬೆ.noun.675'),\n",
              " Synset('ಕಮಲ_ಗಂಟು.noun.676'),\n",
              " Synset('ಸರ್ಕಸ್.noun.677'),\n",
              " Synset('ನಿರ್ಜನ_ಪ್ರದೇಶ.noun.678'),\n",
              " Synset('ಸೋಲು.noun.679'),\n",
              " Synset('ತಂಗಿ.noun.680'),\n",
              " Synset('ಒಡಹುಟ್ಟಿದ_ತಂಗಿ.noun.681'),\n",
              " Synset('ಮಲಸೋದರಿ.noun.682'),\n",
              " Synset('ಸೋದರ_ಮಾವನ_ಮಗಳು.noun.683'),\n",
              " Synset('ತಂದೆಯ_ಸೋದರ_ಸಂಬಂಧಿ.noun.684'),\n",
              " Synset('ತಂದೆಯ_ಕಡೆಯ_ಸಂಬಂಧ.noun.685'),\n",
              " Synset('ಸೋದರತ್ತೆಯ_ತಂಗಿ.noun.686'),\n",
              " Synset('ತಾಯಿಯ_ಸಹೋದರಿಯ_ಸಂಬಂಧಿ.noun.687'),\n",
              " Synset('ತಾಯಿಯ_ಸಹೋದರನ_ಸಂಬಂಧಿ.noun.688'),\n",
              " Synset('ಕೆಲಸ.noun.689'),\n",
              " Synset('ಅಸ್ಥಿಪಂಜರದಂತೆ.adjective.690'),\n",
              " Synset('ಮೂಳೆಯಿಲ್ಲದ.adjective.691'),\n",
              " Synset('ಕಾಂಗರೂ.noun.692'),\n",
              " Synset('ಹೊಟ್ಟೆಚೀಲದ_ಪ್ರಾಣಿ.noun.693'),\n",
              " Synset('ಹೊಟ್ಟೆಚೀಲದ_ಪ್ರಾಣಿ.noun.694'),\n",
              " Synset('ಗಜಲ್.noun.695'),\n",
              " Synset('ನೇಯುವ_ಉಪಕಣ.noun.696'),\n",
              " Synset('ಕೊಯ್ಯುವ_ಉಪಕರಣ.noun.697'),\n",
              " Synset('ಕ್ಷೀರ_ಸಾಗರ.noun.698'),\n",
              " Synset('ಅಸಮಧಾನಿತ.adjective.699'),\n",
              " Synset('ಸಮಾಧಾನಿತ.adjective.700'),\n",
              " Synset('ಅನುಬಂಧಕ.adjective.701'),\n",
              " Synset('ಹೆಣ್ಣು_ನಾಯಿ.noun.702'),\n",
              " Synset('ಮಾಂಸಹಾರಿ_ಪ್ರಾಣಿ.noun.703'),\n",
              " Synset('ಸಸ್ತನಿ.noun.704'),\n",
              " Synset('ಸೇರ್ಪಡೆ.noun.705'),\n",
              " Synset('ಗುಣಾಂಕ.noun.706'),\n",
              " Synset('ಗುಣಾಂಕ.noun.707'),\n",
              " Synset('ಭಾಜ್ಯ.noun.708'),\n",
              " Synset('ವಿಭಾಜಕ_ಸಂಖ್ಯೆ.noun.709'),\n",
              " Synset('ಶೇಷ.noun.710'),\n",
              " Synset('ಭಾಗಲಬ್ಧ.noun.711'),\n",
              " Synset('ಪತ್ರ_ಮಿತ್ರ.noun.712'),\n",
              " Synset('ಗೆಳತಿ.noun.713'),\n",
              " Synset('ಗೆಳೆಯ.noun.714'),\n",
              " Synset('ಗೆಳೆಯ.noun.715'),\n",
              " Synset('ಶತ್ರುಯುಕ್ತ.adjective.716'),\n",
              " Synset('ಶತೃತ್ವಪೂರ್ಣ.adjective.717'),\n",
              " Synset('ನಾಲು.noun.718'),\n",
              " Synset('ನರಳಾಟ.noun.719'),\n",
              " Synset('ಗೆಳೆತನ.noun.720'),\n",
              " Synset('ಸಮಾರೋಪ.noun.721'),\n",
              " Synset('ಕೆಲಸ_ಮುಗಿದ.noun.722'),\n",
              " Synset('ಸಭೆಯ_ಸಮಾಪ್ತಿ.noun.723'),\n",
              " Synset('ಸೌಹಾರ್ಧ.noun.724'),\n",
              " Synset('ಗುಂಗಾಡಿ.noun.725'),\n",
              " Synset('ಬಾಲ್ಯದ_ಗೆಳೆಯ.noun.726'),\n",
              " Synset('ಬಾಲ್ಯದ_ಗೆಳತಿ.noun.727'),\n",
              " Synset('ಹುಣಸೆ_ಮರ.noun.728'),\n",
              " Synset('ಅನೈತಿಕ.adjective.729'),\n",
              " Synset('ಮೂಲಂಗಿ.noun.730'),\n",
              " Synset('ಸರಪಣಿ_ಕವಚ.noun.731'),\n",
              " Synset('ಚಿಕಿತ್ಸೆ.noun.732'),\n",
              " Synset('ಬೆರಳ_ಗುರುತು.noun.733'),\n",
              " Synset('ಫಲಬರಿತವಾದ_ಸಸ್ಯ.noun.734'),\n",
              " Synset('ಕುದುರೆಲಾಯ.noun.735'),\n",
              " Synset('ಅಣು.noun.736'),\n",
              " Synset('ಸನ್ನೆ.noun.737'),\n",
              " Synset('ಪ್ರೇಮ_ಪ್ರಸಂಗ.noun.738'),\n",
              " Synset('ಆಕ್ಸಿಜನ್_ಪರಮಾಣು.noun.739'),\n",
              " Synset('ಹೈಡ್ರೋಜನ್_ಪರಮಾಣು.noun.740'),\n",
              " Synset('ನ್ಯೂಟ್ರಾನ್.noun.741'),\n",
              " Synset('ಪ್ರೋಟಾನ್.noun.742'),\n",
              " Synset('ಎಲೆಕ್ಟ್ರಾನ್.noun.743'),\n",
              " Synset('ಪದಾರ್ಥ.noun.744'),\n",
              " Synset('ಮೂಲ_ತತ್ವ.noun.745'),\n",
              " Synset('ದಾತು.noun.746'),\n",
              " Synset('ಜರಾಯುಜ.adjective.747'),\n",
              " Synset('ಪ್ರಾಣಿ.noun.748'),\n",
              " Synset('ಕೋಗಿಲೆ.noun.749'),\n",
              " Synset('ನೀರ_ಹಕ್ಕಿ.noun.750'),\n",
              " Synset('ಕೂಗುವ_ಪಕ್ಷಿ.noun.751'),\n",
              " Synset('ರೆಕ್ಕೆ.noun.752'),\n",
              " Synset('ಕೊಕ್ಕು.noun.753'),\n",
              " Synset('ಸರೀಸೃಪದಂತ.adjective.754'),\n",
              " Synset('ವಿಷಕಾರಿ_ಸರ್ಪ.noun.755'),\n",
              " Synset('ವಿಷವಿಲ್ಲದ_ಸರ್ಪ.noun.756'),\n",
              " Synset('ಎರಡು_ಮುಖದ_ಹಾವು.noun.757'),\n",
              " Synset('ಹಾವಿನ_ಹೆಡೆ.noun.758'),\n",
              " Synset('ಕಾಲುಂಗುರ.noun.759'),\n",
              " Synset('ಹೆಣ್ಣು_ಜಾತಿಯ_ಹಾವು.noun.760'),\n",
              " Synset('ಸರೀಸೃಪ_ಜೀವಿ.noun.761'),\n",
              " Synset('ಮೊಸಳೆ.noun.762'),\n",
              " Synset('ವೈದ್ಯೆ.noun.763'),\n",
              " Synset('ನಲವತ್ತೈದನೆಯ.adjective.764'),\n",
              " Synset('ಅವನತಿಯತ್ತ.adjective.765'),\n",
              " Synset('ಇಳಿಮುಖ.adjective.766'),\n",
              " Synset('ಅಧಿಕಾರವಿಲ್ಲದ.adjective.767'),\n",
              " Synset('ರಕ್ಷಾಕವಚವಿರುವ.adjective.768'),\n",
              " Synset('ಆತ್ಮಕಥೆ.noun.769'),\n",
              " Synset('ಕಣ್ಣಿನ_ಮುದ್ರೆ.noun.770'),\n",
              " Synset('ಕೇಂದ್ರ_ಬಿಂದು.noun.771'),\n",
              " Synset('ಚರ್ಮ_ರೋಗ.noun.772'),\n",
              " Synset('ದನಕರುಗಳ_ಕಳ್ಳ.noun.773'),\n",
              " Synset('ಅಗ್ಗಿಷ್ಟಿಕೆ.noun.774'),\n",
              " Synset('ಗೋರಖನಾಥ.noun.775'),\n",
              " Synset('ಗೋರಖನಾಥ_ಸಂಪ್ರದಾಯದವರು.noun.776'),\n",
              " Synset('ಆಕಳು_ಮೇಯಿಸುವ_ತೆರಿಗೆ.noun.777'),\n",
              " Synset('ವೈಶಾಖ.noun.778'),\n",
              " Synset('ಜೇಷ್ಠ.noun.779'),\n",
              " Synset('ಶ್ರಾವಣ.noun.780'),\n",
              " Synset('ಭಾದ್ರಪದ.noun.781'),\n",
              " Synset('ಪುಷ್ಯ.noun.782'),\n",
              " Synset('ಗಿಡಗಳ_ಸಮೂಹ.noun.783'),\n",
              " Synset('ಚೈತನ್ಯ.noun.784'),\n",
              " Synset('ಔಡಲಗಿಡ.noun.785'),\n",
              " Synset('ಅಗಸೆ.noun.786'),\n",
              " Synset('ಹೊದಿಕೆ.noun.787'),\n",
              " Synset('ಸುಳ್ಳು.adjective.788'),\n",
              " Synset('ನಿರಾದಾರ.adjective.789'),\n",
              " Synset('ಏಳಿಗೆಯಾದ.adjective.790'),\n",
              " Synset('ಕುಲದೇವಿ.noun.791'),\n",
              " Synset('ಬಿಲ್ಲು.noun.792'),\n",
              " Synset('ಅಸ್ತ್ರ.noun.793'),\n",
              " Synset('ಶಿವ_ಧನಸ್ಸು.noun.794'),\n",
              " Synset('ಪ್ರಸವ_ಪೂರ್ವ_ಮಹಿಳೆ.adjective.795'),\n",
              " Synset('ಬಹಿರಂಗವಾಗಿ.adverb.796'),\n",
              " Synset('ನಿಜವಾದ.adjective.797'),\n",
              " Synset('ಬಾಗಿಲು.noun.798'),\n",
              " Synset('ಮಂಚ.noun.799'),\n",
              " Synset('ರತ್ನಗಂಬಳಿ.noun.800'),\n",
              " Synset('ಪರದೆ.noun.801'),\n",
              " Synset('ಹಾಸಿಗೆ.noun.802'),\n",
              " Synset('ವಸ್ತ್ರಾವರಣ.noun.803'),\n",
              " Synset('ಕವಚ.noun.804'),\n",
              " Synset('ಹೊದಿಕೆ.noun.805'),\n",
              " Synset('ರಗ್ಗು.noun.806'),\n",
              " Synset('ದೈವ_ನಿಯಮ.noun.807'),\n",
              " Synset('ಮಾಘ.noun.808'),\n",
              " Synset('ಆರ್ಥಿಕ_ಶೋಷಣೆ.noun.809'),\n",
              " Synset('ಪಾಡ್ಯ.noun.810'),\n",
              " Synset('ಬಿದಿಗೆ.noun.811'),\n",
              " Synset('ತದಿಗೆ.noun.812'),\n",
              " Synset('ಚತುರ್ಥಿ.noun.813'),\n",
              " Synset('ಪಂಚಮಿ.noun.814'),\n",
              " Synset('ಸಪ್ತಮಿ.noun.815'),\n",
              " Synset('ಅಷ್ಟಮಿ.noun.816'),\n",
              " Synset('ನವಮೀ.noun.817'),\n",
              " Synset('ಪ್ರಸ್ತಾವನೆ.noun.818'),\n",
              " Synset('ಸಂಗ್ರಹಿತ.adjective.819'),\n",
              " Synset('ಒಟ್ಟಾಗಿರುವ.adjective.820'),\n",
              " Synset('ಹರಡಿರುವ.adjective.821'),\n",
              " Synset('ಪ್ರಶಸ್ತಿ.noun.822'),\n",
              " Synset('ಪ್ರಸ್ತುತ_ಸಂದರ್ಭ.adjective.823'),\n",
              " Synset('ಒಬ್ಬನೇ_ಮಗ.noun.824'),\n",
              " Synset('ಒಬ್ಬಳೇ_ಮಗಳು.noun.825'),\n",
              " Synset('ಕೆಟ್ಟ_ಮಗ.noun.826'),\n",
              " Synset('ಸುಪುತ್ರ.noun.827'),\n",
              " Synset('ಹುವಿಷ್ಕ.noun.828'),\n",
              " Synset('ವಾಸುದೇವ.noun.829'),\n",
              " Synset('ಕಾನೂನು_ಕ್ರಮ.noun.830'),\n",
              " Synset('ಹಿಂದೂ_ಜಾತಿ.noun.831'),\n",
              " Synset('ಜಂಬದ.adjective.832'),\n",
              " Synset('ಅಹಂಕಾರದಿಂದ.adverb.833'),\n",
              " Synset('ನಿರಹಂಕಾರಿ.adjective.834'),\n",
              " Synset('ಸಂಮೃದ್ಧಿದಾಯಕ.adjective.835'),\n",
              " Synset('ಅಸಂವೃದ್ದಿದಾಯಕ.adjective.836'),\n",
              " Synset('ಅಕಾಲಿಕ_ಮರಣ.noun.837'),\n",
              " Synset('ಜನ್ಮದಿನ.noun.838'),\n",
              " Synset('ಬಗೆ.noun.839'),\n",
              " Synset('ಮಾವನ.adjective.840'),\n",
              " Synset('ಪುಣ್ಯತಿಥಿ.noun.841'),\n",
              " Synset('ಕಂದಾಯ.noun.842'),\n",
              " Synset('ಠಕ್ಕ.noun.843'),\n",
              " Synset('ಕಳ್ಳ.adjective.844'),\n",
              " Synset('ರಕ್ಷಕ.adjective.845'),\n",
              " Synset('ಅಧಿಕ.noun.846'),\n",
              " Synset('ನಿದ್ರಾಮಗ್ನ.adjective.847'),\n",
              " Synset('ಹಗ್ಗ.noun.848'),\n",
              " Synset('ಸಿಂಹ.noun.849'),\n",
              " Synset('ಟಗರು.noun.850'),\n",
              " Synset('ಜನ್ಮಕಾಲ.noun.851'),\n",
              " Synset('ಸಣ್ಣ_ಕರುಳು.noun.852'),\n",
              " Synset('ಹತ್ತಿರ.adverb.853'),\n",
              " Synset('ಚೆನ್ನಾಗಿ.adverb.854'),\n",
              " Synset('ಮೊದ_ಮೊದಲು.adverb.855'),\n",
              " Synset('ಸ್ವೇಚ್ಛಾಪೂರ್ವಕವಾಗಿ.adverb.856'),\n",
              " Synset('ಸ್ವಇಚ್ಛೆಯಿಂದ.adverb.857'),\n",
              " Synset('ಮಾನವ.noun.858'),\n",
              " Synset('ಹಣ.noun.859'),\n",
              " Synset('ಗಡಿ_ರಕ್ಷಕ.adjective.860'),\n",
              " Synset('ರಕ್ಷಕ.noun.861'),\n",
              " Synset('ಪಂಚೇಂದ್ರಿಯ.noun.862'),\n",
              " Synset('ಕರ್ಮೇಂದ್ರಿಯ.noun.863'),\n",
              " Synset('ಜನನಾಂಗ.noun.864'),\n",
              " Synset('ಯೋನಿ.noun.865'),\n",
              " Synset('ಕೃತಘ್ನ.adjective.866'),\n",
              " Synset('ಹೊರ.adjective.867'),\n",
              " Synset('ತೋರಿಕೆಯ.adjective.868'),\n",
              " Synset('ದೂರದ.adjective.869'),\n",
              " Synset('ಸಾಂಸಾರಿಕ.adjective.870'),\n",
              " Synset('ಪಾರಲೌಕಿಕ.adjective.871'),\n",
              " Synset('ಹೊರಗಿನವ.adjective.872'),\n",
              " Synset('ಅಂತರರಾಜ್ಯದ.adjective.873'),\n",
              " Synset('ಅಂತರ್ದೇಶೀಯ.adjective.874'),\n",
              " Synset('ವಿಜ್ಞಾಪನೆ.noun.875'),\n",
              " Synset('ಧನುರ್ಧಾರಿ.adjective.876'),\n",
              " Synset('ಧನುರ್ಧಾರಿ.noun.877'),\n",
              " Synset('ಸಮಯ.noun.878'),\n",
              " Synset('ಸಶಸ್ತ್ರ.adjective.879'),\n",
              " Synset('ಅಜ್ಞಾನ.noun.880'),\n",
              " Synset('ವಿದ್ಯೆ.noun.881'),\n",
              " Synset('ಸಂಜೆ.noun.882'),\n",
              " Synset('ದಶಮಿ.noun.883'),\n",
              " Synset('ಏಕಾದಶಿ.noun.884'),\n",
              " Synset('ಬಂಗಾರದ_ನಾಣ್ಯ.noun.885'),\n",
              " Synset('ವಾಸ್ತವಿಕ_ಸ್ಥಳ.noun.886'),\n",
              " Synset('ಕಲ್ಪಿತ_ಸ್ಥಳ.noun.887'),\n",
              " Synset('ಲೋಕ.noun.888'),\n",
              " Synset('ಪಾತಾಳ.noun.889'),\n",
              " Synset('ನಕ್ಷತ್ರ.noun.890'),\n",
              " Synset('ದ್ರುವ_ನಕ್ಷತ್ರ.noun.891'),\n",
              " Synset('ಎದುರು.adverb.892'),\n",
              " Synset('ತೆರೆದಿಟ್ಟ.adjective.893'),\n",
              " Synset('ಅವತಾರವೆತ್ತ.adjective.894'),\n",
              " Synset('ವ್ಯಾಪಕವಾದ.adjective.895'),\n",
              " Synset('ಸ್ವತಂತ್ರವಾಗಿ.adverb.896'),\n",
              " Synset('ಸಂಬಂಧಿಸಿದ.adjective.897'),\n",
              " Synset('ಅನಿರ್ಬಂದಿತ.adjective.898'),\n",
              " Synset('ನಿಷಿದ್ದ.adjective.899'),\n",
              " Synset('ವಿಚಾರಪೂರ್ಣವಾದ.adjective.900'),\n",
              " Synset('ನಿಸ್ವಾರ್ಥ_ಕೆಲಸ.noun.901'),\n",
              " Synset('ಫಲಾಪೇಕ್ಷೆ_ಕಾರ್ಯ.noun.902'),\n",
              " Synset('ದುಃಖಮಯವಾದ.noun.903'),\n",
              " Synset('ಉಪಲಬ್ದತೆ.noun.904'),\n",
              " Synset('ರಚನೆ.noun.905'),\n",
              " Synset('ಚಹಾ_ಕೊಪ್ಪರಿಗೆ.noun.906'),\n",
              " Synset('ಬಟ್ಟಲು.noun.907'),\n",
              " Synset('ಅಡಿಗೆ_ಪಾತ್ರೆ.noun.908'),\n",
              " Synset('ಪೂಜಾ_ಸಾಮಗ್ರಿ.noun.909'),\n",
              " Synset('ಭಾವುಕವಾಗಿ.adjective.910'),\n",
              " Synset('ತ್ರಯೋದಶಿ.noun.911'),\n",
              " Synset('ಭಾವನೆ.noun.912'),\n",
              " Synset('ಚಂದ್ರಮಾನ.noun.913'),\n",
              " Synset('ಕೃಷ್ಣ_ಪಕ್ಷ.noun.914'),\n",
              " Synset('ಸಜ್ಜನ.noun.915'),\n",
              " Synset('ದುರುಳ.noun.916'),\n",
              " Synset('ದಾನವ.noun.917'),\n",
              " Synset('ದೃಢವಾದ.adjective.918'),\n",
              " Synset('ವಿಚಲಿತವಾದ.adjective.919'),\n",
              " Synset('ಒಂದು_ರೀತಿಯ_ಭೂಮಿಕರ.noun.920'),\n",
              " Synset('ಉತ್ಸವ.noun.921'),\n",
              " Synset('ಗಿನಿ_ನಾಣ್ಯ.noun.922'),\n",
              " Synset('ಪದಾರ್ಥ.noun.923'),\n",
              " Synset('ಶುಕ್ಲ_ಪಕ್ಷ.noun.924'),\n",
              " Synset('ಪಿತೃಪಕ್ಷ.noun.925'),\n",
              " Synset('ಕೋಕ್.noun.926'),\n",
              " Synset('ಮಾದಕ_ಪದಾರ್ಥ.noun.927'),\n",
              " Synset('ಅಫೀಮು.noun.928'),\n",
              " Synset('ನಾಲ್ಕು_ದಿಕ್ಕಿಗೂ.adverb.929'),\n",
              " Synset('ನಲ್ವತ್ತು_ಪದ್ಯಗಳ_ಕವಿತೆ.noun.930'),\n",
              " Synset('ಶವದಮನೆ.noun.931'),\n",
              " Synset('ಬಾಣಂತಿಮನೆ.noun.932'),\n",
              " Synset('ಶವಸುಡುವ_ಸ್ಥಾನ.noun.933'),\n",
              " Synset('ಆರಂಭದ.adjective.934'),\n",
              " Synset('ನಶ್ವರ.adjective.935'),\n",
              " Synset('ಸಮಾಪ್ತಿ.adjective.936'),\n",
              " Synset('ಸೀಮಾರೇಖೆ.adjective.937'),\n",
              " Synset('ಪರಿಮಿತ.adjective.938'),\n",
              " Synset('ಸೀಮಾತೀತ.adjective.939'),\n",
              " Synset('ನಿವಾಸಿ.noun.940'),\n",
              " Synset('ನಲವತ್ತು.adjective.941'),\n",
              " Synset('ವಾಸದ_ಮನೆ.adjective.942'),\n",
              " Synset('ವಿದ್ಯಾರ್ಥಿನಿಲಯವಾಸಿ.adjective.943'),\n",
              " Synset('ಬುದ್ಧಿವಂತ.noun.944'),\n",
              " Synset('ಕಲ್ಪಿತ_ಜೀವ.noun.945'),\n",
              " Synset('ಹಿಂಬಾಲಿಸುವವ.noun.946'),\n",
              " Synset('ಬೇಲ.noun.947'),\n",
              " Synset('ಸಾಂಕ್ರಾಮಿಕ_ರೋಗ.noun.948'),\n",
              " Synset('ವೈರಲ್_ಸೋಂಕು_ರೋಗ.noun.949'),\n",
              " Synset('ಸಂಸ್ಕೃತಿ.noun.950'),\n",
              " Synset('ಗರ್ಭಧಾರಣೆ.noun.951'),\n",
              " Synset('ಧಾರ್ಮಿಕ_ಆಚರಣೆ.noun.952'),\n",
              " Synset('ಸೀಮಂತ.noun.953'),\n",
              " Synset('ಜನ್ಮಸಂಸ್ಥಾನ.noun.954'),\n",
              " Synset('ಅನ್ನಪ್ರಾಸನ.noun.955'),\n",
              " Synset('ಕಿವಿಚುಚ್ಚುವಸಂಸ್ಕಾರ.noun.956'),\n",
              " Synset('ಮುಡಿಕೊಡುವುದು.noun.957'),\n",
              " Synset('ಯಜ್ಞೋಪವೀತ_ಸಂಸ್ಕಾರ.noun.958'),\n",
              " Synset('ಆನುವಂಶಿಕ.adjective.959'),\n",
              " Synset('ಅನಾನುವಂಶಿಕ.adjective.960'),\n",
              " Synset('ಸುರೂಪಿ.noun.961'),\n",
              " Synset('ಕುರೂಪಿ_ಹೆಂಗಸು.noun.962'),\n",
              " Synset('ಸೌಂದರ್ಯವತಿ.noun.963'),\n",
              " Synset('ಗಜೇಂದ್ರ.noun.964'),\n",
              " Synset('ಕಾನೂನು.noun.965'),\n",
              " Synset('ಆಂಗ್ಲರು.noun.966'),\n",
              " Synset('ಕಪ್ಪಾನುಕಪ್ಪು.adjective.967'),\n",
              " Synset('ಬಿಳಿಯ.adjective.968'),\n",
              " Synset('ಶಾಮಕ.adjective.969'),\n",
              " Synset('ಉತ್ತೇಜಕ.adjective.970'),\n",
              " Synset('ಅಲೆಮಾರಿ.adjective.971'),\n",
              " Synset('ಕುರೂಪಿ.noun.972'),\n",
              " Synset('ಗೆಜ್ಜೆ.noun.973'),\n",
              " Synset('ಬಳೆ.noun.974'),\n",
              " Synset('ಬಳೆ.noun.975'),\n",
              " Synset('ಬೀಗ.noun.976'),\n",
              " Synset('ಬೀಗದ_ಕೈ_ತೂತು.noun.977'),\n",
              " Synset('ಸಾಮಾಜಿಕ_ನಿಯಂತ್ರಣ.noun.978'),\n",
              " Synset('ಅಪ್ರಾಕೃತಿಕ_ಘಟನೆ.noun.979'),\n",
              " Synset('ಕಾಯ್ದಿರಿಸದ.adjective.980'),\n",
              " Synset('ಕೃತಕವಾದ.adjective.981'),\n",
              " Synset('ಗುಸು_ಗುಸು.noun.982'),\n",
              " Synset('ಕಣ್ಣುಳ್ಳ.adjective.983'),\n",
              " Synset('ಪ್ರೇಕ್ಷಕರು.noun.984'),\n",
              " Synset('ಮೂಗು.noun.985'),\n",
              " Synset('ತೋರಿಕೆಯ.adjective.986'),\n",
              " Synset('ಕಿವಿ.noun.987'),\n",
              " Synset('ಶ್ರವಣೇಂದ್ರಿಯ.noun.988'),\n",
              " Synset('ಕಿವಿ_ಪೊರೆ.noun.989'),\n",
              " Synset('ಹೊಳ್ಳೆ.noun.990'),\n",
              " Synset('ನಿರಾಸೆ.noun.991'),\n",
              " Synset('ಮಾನ್ಸೂನ್.noun.992'),\n",
              " Synset('ಅರಳೆ.noun.993'),\n",
              " Synset('ಔಷಧ_ಮುಂತಾದವುಗಳಿಂದ_ಒದ್ದೆ_ಮಾಡಿದ_ಅರಳೆಯ_ಹಂಜಿ.noun.994'),\n",
              " Synset('ಪ್ರಾಕೃತಿಕ_ವಿಕೋಪ.noun.995'),\n",
              " Synset('ಕಂಠಾಲಿಂಗನ.noun.996'),\n",
              " Synset('ಬಿಸಿಲು.noun.997'),\n",
              " Synset('ಮೊಸೇಯಿಕ್_ಕಲೆ.noun.998'),\n",
              " Synset('ಧರ್ಮಛತ್ರ.noun.999'),\n",
              " Synset('ಕಣ್ಣೀರು.noun.1000'),\n",
              " Synset('ಆಷಾಢಗಾಳಿ.noun.1001'),\n",
              " Synset('ಅನುಕರಣ.noun.1002'),\n",
              " Synset('ಅನಿರುದ್ಧ.noun.1003'),\n",
              " ...]"
            ]
          },
          "metadata": {},
          "execution_count": 9
        }
      ]
    },
    {
      "cell_type": "code",
      "source": [
        " iwn.all_synsets()[0]"
      ],
      "metadata": {
        "colab": {
          "base_uri": "https://localhost:8080/"
        },
        "id": "Zptbfi3FT3g_",
        "outputId": "12330e6c-8935-49a6-91d9-b202db924000"
      },
      "execution_count": 10,
      "outputs": [
        {
          "output_type": "execute_result",
          "data": {
            "text/plain": [
              "Synset('ಅಜಾತ.adjective.1')"
            ]
          },
          "metadata": {},
          "execution_count": 10
        }
      ]
    },
    {
      "cell_type": "code",
      "source": [
        " iwn.all_synsets()[-1]"
      ],
      "metadata": {
        "colab": {
          "base_uri": "https://localhost:8080/"
        },
        "id": "5NMaDtAncjbM",
        "outputId": "b851e560-5563-4f4e-fb7b-3383793c29e2"
      },
      "execution_count": 11,
      "outputs": [
        {
          "output_type": "execute_result",
          "data": {
            "text/plain": [
              "Synset('ಸರ್ವನಾಮದ.adjective.38575')"
            ]
          },
          "metadata": {},
          "execution_count": 11
        }
      ]
    },
    {
      "cell_type": "code",
      "source": [
        " iwn.all_synsets()[0].pos()"
      ],
      "metadata": {
        "colab": {
          "base_uri": "https://localhost:8080/",
          "height": 35
        },
        "id": "H1mKGX3JUkBv",
        "outputId": "635e5bfa-a18e-4c4f-b041-adaddf6d5795"
      },
      "execution_count": 12,
      "outputs": [
        {
          "output_type": "execute_result",
          "data": {
            "text/plain": [
              "'adjective'"
            ],
            "application/vnd.google.colaboratory.intrinsic+json": {
              "type": "string"
            }
          },
          "metadata": {},
          "execution_count": 12
        }
      ]
    },
    {
      "cell_type": "code",
      "source": [
        " iwn.all_synsets()[0].head_word()"
      ],
      "metadata": {
        "colab": {
          "base_uri": "https://localhost:8080/",
          "height": 35
        },
        "id": "DW3LyadqU4cF",
        "outputId": "4767674e-749e-4d67-8714-7dcb4bb625c9"
      },
      "execution_count": 13,
      "outputs": [
        {
          "output_type": "execute_result",
          "data": {
            "text/plain": [
              "'ಅಜಾತ'"
            ],
            "application/vnd.google.colaboratory.intrinsic+json": {
              "type": "string"
            }
          },
          "metadata": {},
          "execution_count": 13
        }
      ]
    },
    {
      "cell_type": "markdown",
      "source": [
        "Gloss==Example sentence\n"
      ],
      "metadata": {
        "id": "wZnDuJndWk6L"
      }
    },
    {
      "cell_type": "code",
      "source": [
        " iwn.all_synsets()[0].gloss()"
      ],
      "metadata": {
        "colab": {
          "base_uri": "https://localhost:8080/",
          "height": 35
        },
        "id": "r3NOaediVOLB",
        "outputId": "9365936f-a40c-47f2-8a35-0229dc9b48dc"
      },
      "execution_count": 14,
      "outputs": [
        {
          "output_type": "execute_result",
          "data": {
            "text/plain": [
              "'ಯಾವುದು ಜನ್ಮವನ್ನು ಹೊಂದಿಲ್ಲವೋ'"
            ],
            "application/vnd.google.colaboratory.intrinsic+json": {
              "type": "string"
            }
          },
          "metadata": {},
          "execution_count": 14
        }
      ]
    },
    {
      "cell_type": "code",
      "source": [
        " iwn.all_synsets()[0].examples()"
      ],
      "metadata": {
        "colab": {
          "base_uri": "https://localhost:8080/"
        },
        "id": "cpLTy6z5VVXE",
        "outputId": "bfcc4f39-6da5-4179-d880-8cf6aad00f3d"
      },
      "execution_count": 15,
      "outputs": [
        {
          "output_type": "execute_result",
          "data": {
            "text/plain": [
              "['ಬ್ರಹ್ಮನನ್ನು ಅಜಾತನೆಂದು ಹಿಂದೂ ಧರ್ಮ ಪ್ರತಿಪಾದಿಸುತ್ತದೆ.']"
            ]
          },
          "metadata": {},
          "execution_count": 15
        }
      ]
    },
    {
      "cell_type": "code",
      "source": [
        " iwn.all_synsets()[0].lemma_names()"
      ],
      "metadata": {
        "colab": {
          "base_uri": "https://localhost:8080/"
        },
        "id": "6iiXGv9pVdfo",
        "outputId": "a4456abc-6162-4612-87b0-f230da680cfa"
      },
      "execution_count": 16,
      "outputs": [
        {
          "output_type": "execute_result",
          "data": {
            "text/plain": [
              "['ಅಜಾತ',\n",
              " 'ಅಜಾತವಾದ',\n",
              " 'ಅಜಾತವಾದಂತ',\n",
              " 'ಅಜಾತವಾದಂತಹ',\n",
              " 'ಅನುತ್ಪನ್ನ',\n",
              " 'ಅನುತ್ಪನ್ನವಾದ',\n",
              " 'ಅನುತ್ಪನ್ನವಾದಂತ',\n",
              " 'ಅನುತ್ಪನ್ನವಾದಂತಹ',\n",
              " 'ಅಯೋನಿಜ',\n",
              " 'ಅಯೋನಿಜವಾದ',\n",
              " 'ಅಯೋನಿಜವಾದಂತ',\n",
              " 'ಅಯೋನಿಜವಾದಂತಹ']"
            ]
          },
          "metadata": {},
          "execution_count": 16
        }
      ]
    },
    {
      "cell_type": "code",
      "source": [
        "iwn.all_words()"
      ],
      "metadata": {
        "colab": {
          "base_uri": "https://localhost:8080/"
        },
        "id": "36oxRsD6V1Bt",
        "outputId": "78284756-6913-4f57-9d32-ce66b0dfd5d5"
      },
      "execution_count": 17,
      "outputs": [
        {
          "output_type": "execute_result",
          "data": {
            "text/plain": [
              "['ಅಜಾತ',\n",
              " 'ಅಜಾತವಾದ',\n",
              " 'ಅಜಾತವಾದಂತ',\n",
              " 'ಅಜಾತವಾದಂತಹ',\n",
              " 'ಅನುತ್ಪನ್ನ',\n",
              " 'ಅನುತ್ಪನ್ನವಾದ',\n",
              " 'ಅನುತ್ಪನ್ನವಾದಂತ',\n",
              " 'ಅನುತ್ಪನ್ನವಾದಂತಹ',\n",
              " 'ಅಯೋನಿಜ',\n",
              " 'ಅಯೋನಿಜವಾದ',\n",
              " 'ಅಯೋನಿಜವಾದಂತ',\n",
              " 'ಅಯೋನಿಜವಾದಂತಹ',\n",
              " 'ಅಶುಭ',\n",
              " 'ಅಶುಭವಾದ',\n",
              " 'ಅಶುಭವಾದಂತ',\n",
              " 'ಅಶುಭವಾದಂತಹ',\n",
              " 'ಅಮಂಗಳಕರವಾದುದು',\n",
              " 'ಅಮಂಗಳಕರವಾದ',\n",
              " 'ಅಮಂಗಳಕರವಾದಂತ',\n",
              " 'ಅಮಂಗಳಕರವಾದಂತಹ',\n",
              " 'ಅಮಂಗಳವಾದುದ',\n",
              " 'ಅಮಂಗಳವಾದ',\n",
              " 'ಅಮಂಗಳವಾದಂತ',\n",
              " 'ಅಮಂಗಳವಾದಂತಹ',\n",
              " 'ಅನಿಷ್ಟವಾದುದು',\n",
              " 'ಅನಿಷ್ಟವಾದಂತ',\n",
              " 'ಅನಿಷ್ಟವಾದಂತಹ',\n",
              " 'ಶುಭವಲ್ಲದು',\n",
              " 'ಶುಭವಲ್ಲದಂತ',\n",
              " 'ಶುಭವಲ್ಲದಂತಹ',\n",
              " 'ಕೇಡಾಗುವುದು',\n",
              " 'ಕೇಡಾಗುವಂತ',\n",
              " 'ಕೇಡಾಗುವಂತಹ',\n",
              " 'ಪ್ರವೇಶಿಸದ',\n",
              " 'ಪ್ರವೇಶಿಸದಂತ',\n",
              " 'ಪ್ರವೇಶಿಸದಂತಹ',\n",
              " 'ಒಳಬರದ',\n",
              " 'ಒಳಬರದಂತ',\n",
              " 'ಒಳಬರದಂತಹ',\n",
              " 'ಪವಿತ್ರ_ಸ್ಥಳ',\n",
              " 'ಪುಣ್ಯ_ಕೇತ್ರ',\n",
              " 'ಪುಣ್ಯ_ಭೂಮಿ',\n",
              " 'ಪುಣ್ಯ_ಸ್ಥಳ',\n",
              " 'ಪವಿತ್ರ_ಭೂಮಿ',\n",
              " 'ಶಿವಾಲಯ',\n",
              " 'ಶಿವಮಂದಿರ',\n",
              " 'ಶಿವ_ಮಂದಿರ',\n",
              " 'ಶಿವ-ಮಂದಿರ',\n",
              " 'ಶಿವದೇವಾಲಯ',\n",
              " 'ಶಿವ_ದೇವಾಲಯ',\n",
              " 'ಶಿವ-ದೇವಾಲಯ',\n",
              " 'ಶಿವನ_ದೇವಸ್ಥಾನ',\n",
              " 'ಶಿವನ-ದೇವಸ್ಥಾನ',\n",
              " 'ಶಿವ-ದೇವಸ್ಥಾನ',\n",
              " 'ಶಿವ_ದೇವಸ್ಥಾನ',\n",
              " 'ಅಪವಿತ್ರ_ಸ್ಥಾನ',\n",
              " 'ಅಪವಿತ್ರಸ್ಥಳ',\n",
              " 'ಅಪವಿತ್ರ_ಸ್ಥಳ',\n",
              " 'ಅಶುದ್ಧಸ್ಥಾನ',\n",
              " 'ಅಶುದ್ಧ_ಸ್_ಥಾನ',\n",
              " 'ಅಶುದ್ಧ-ಸ್ಥಾನ',\n",
              " 'ಪುಣ್ಯವಲ್ಲದಭೂಮಿ',\n",
              " 'ಪುಣ್ಯವಲ್ಲದ_ಭೂಮಿ',\n",
              " 'ಆಗಮಿಸಿರುವ',\n",
              " 'ಆಗಮಿಸಿರುವಂತ',\n",
              " 'ಆಗಮಿಸಿರುವಂತಹ',\n",
              " 'ಬಂದಿರುವ',\n",
              " 'ಬಂದಿರುವಂತ',\n",
              " 'ಬಂದಿರುವಂತಹ',\n",
              " 'ಆಗಮಿಸಿದ',\n",
              " 'ಆಗಮಿಸಿದಂತ',\n",
              " 'ಆಗಮಿಸಿದಂತಹ',\n",
              " 'ಹುಟ್ಟಿದ',\n",
              " 'ಹುಟ್ಟಿದಂತ',\n",
              " 'ಹುಟ್ಟಿದಂತಹ',\n",
              " 'ಜನ್ಮ_ಪಡೆದ',\n",
              " 'ಜನ್ಮ_ಪಡೆದಂತ',\n",
              " 'ಜನ್ಮ_ಪಡೆದಂತಹ',\n",
              " 'ಜನ್ಮವೆತ್ತಿದ',\n",
              " 'ಜನ್ಮವೆತ್ತಿದಂತ',\n",
              " 'ಜನ್ಮವೆತ್ತಿದಂತಹ',\n",
              " 'ಜನ್ಮ_ಎತ್ತಿದ',\n",
              " 'ಜನ್ಮ_ಎತ್ತಿದಂತ',\n",
              " 'ಜನ್ಮ_ಎತ್ತಿದಂತಹ',\n",
              " 'ಜನ್ಮ_ತಾಳಿದ',\n",
              " 'ಜನ್ಮ_ತಾಳಿದಂತ',\n",
              " 'ಜನ್ಮ_ತಾಳಿದಂತಹ',\n",
              " 'ಜನಿಸಿದ',\n",
              " 'ಜನಿಸಿದಂತ',\n",
              " 'ಜನಿಸಿದಂತಹ',\n",
              " 'ನೈತಿಕ_ಕಾರ್ಯ',\n",
              " 'ಒಳ್ಳೆಯ_ಕೆಲಸ',\n",
              " 'ಆದರ್ಶ_ಕೃತ್ಯ',\n",
              " 'ಸತ್ತಕಾರ್ಯ',\n",
              " 'ಸಮಾಜ_ಕಲ್ಯಾಣ',\n",
              " 'ಉತ್ಪಾದಿತ',\n",
              " 'ಉತ್ಪಾದಿತವಾದ',\n",
              " 'ಉತ್ಪಾದಿತವಾದಂತ',\n",
              " 'ಉತ್ಪಾದಿತವಾದಂತಹ',\n",
              " 'ಉತ್ಪನ್ನವಾದ',\n",
              " 'ಉತ್ಪನ್ನವಾದಂತ',\n",
              " 'ಉತ್ಪನ್ನವಾದಂತಹ',\n",
              " 'ಕೆಟ್ಟ_ಚರಿತ್ರೆ',\n",
              " 'ಚರಿತ್ರಾಹೀನ',\n",
              " 'ಚರಿತ್ರಾ_ಹೀನ',\n",
              " 'ದುರಾಚಾರಿ',\n",
              " 'ದುರ್ವರ್ತನೆ',\n",
              " 'ಒರಟುತನ',\n",
              " 'ಜಂಭ',\n",
              " 'ಒರಟ',\n",
              " 'ಉದ್ಧಂಡತನ',\n",
              " 'ಒಡ್ಡುತನ',\n",
              " 'ಅತ್ಯಾಚಾರ',\n",
              " 'ಅನಾಚಾರ',\n",
              " 'ಅನ್ಯಾಯ',\n",
              " 'ದಬ್ಬಾಳಿಕೆ',\n",
              " 'ಅನಾಹುತ',\n",
              " 'ದೌರ್ಜನ್ಯ',\n",
              " 'ಗಲಿಬಿಲಿ',\n",
              " 'ಗೊಂದಲ',\n",
              " 'ಗೋಲ್ಮಾಲ್',\n",
              " 'ತೊಡಕು',\n",
              " 'ಅವ್ಯವಸ್ಥೆ',\n",
              " 'ಬದಲಾವಣೆ',\n",
              " 'ಪರಿವರ್ತನೆ',\n",
              " 'ಮಾರ್ಪಾಟು',\n",
              " 'ಮಾರ್ಪಾಡು',\n",
              " 'ವಿಟಮೀನ್',\n",
              " 'ಪೋಷಕ_ತತ್ವ',\n",
              " 'ವೈಟಮೀನು',\n",
              " 'ಒಳ್ಳೆಯ_ಚರಿತ್ರೆ',\n",
              " 'ಸಚ್ಚರಿತ್ರೆ',\n",
              " 'ಮನಸಿಗೆ_ಬಂದ_ಹಾಗೆ',\n",
              " 'ಮನಸೋ_ಇಚ್ಚೆ',\n",
              " 'ಸ್ವ_ಇಚ್ಚೆ',\n",
              " 'ಕೆಟ್ಟ_ಕೆಲಸ',\n",
              " 'ಅನೈತಿ_ಕಾರ್ಯ',\n",
              " 'ಪಾಪದ_ಕೆಲಸ',\n",
              " 'ದುರಾಚಾರ',\n",
              " 'ವ್ಯಭಿಚಾರ',\n",
              " 'ದುರ್ನಡತೆ',\n",
              " 'ಅಕ್ಕಿ',\n",
              " 'ಬತ್ತ',\n",
              " 'ಧಾನ್ಯ',\n",
              " 'ತಿನ್ನುವ_ವಸ್ತು',\n",
              " 'ತಿನ್ನುವ_ಪದಾರ್ಥ',\n",
              " 'ಆಹಾರ',\n",
              " 'ಭೋಜನದ_ಪದಾರ್ಥ',\n",
              " 'ಸಮಾನು',\n",
              " 'ಆಹಾರದ_ಪದಾರ್ಥ',\n",
              " 'ಅನುಭವವಿಲ್ಲದ',\n",
              " 'ಅನುಭವವಿಲ್ಲದಂತ',\n",
              " 'ಅನುಭವವಿಲ್ಲದಂತಹ',\n",
              " 'ಅನುಭವಹೀನ',\n",
              " 'ಅನುಭವಹೀನವಾದ',\n",
              " 'ಅನುಭವಹೀನವಾದಂತ',\n",
              " 'ಅನುಭವಹೀನವಾದಂತಹ',\n",
              " 'ನುರಿತ್ತಿಲ್ಲದ',\n",
              " 'ನುರಿತ್ತಿಲ್ಲದಂತ',\n",
              " 'ನುರಿತ್ತಿಲ್ಲದಂತಹ',\n",
              " 'ಅನುಭವರಹಿತ',\n",
              " 'ಅನುಭವರಹಿತವಾದ',\n",
              " 'ಅನುಭವರಹಿತವಾದಂತ',\n",
              " 'ಅನುಭವರಹಿತವಾದಂತಹ',\n",
              " 'ಅಪ್ರವೀಣ',\n",
              " 'ಅಪ್ರವೀಣವಾದ',\n",
              " 'ಅಪ್ರವೀಣವಾದಂತ',\n",
              " 'ಅಪ್ರವೀಣವಾದಂತಹ',\n",
              " 'ನುರಿತಿಲ್ಲದ',\n",
              " 'ನುರಿತಿಲ್ಲದಂತ',\n",
              " 'ನುರಿತಿಲ್ಲದಂತಹ',\n",
              " 'ಪ್ರವಿಣ್ಯತೆಯಿಲ್ಲದ',\n",
              " 'ಪ್ರವಿಣ್ಯತೆಯಿಲ್ಲದಂತ',\n",
              " 'ಪ್ರವಿಣ್ಯತೆಯಿಲ್ಲದಂತಹ',\n",
              " 'ಕೈಪಳಗದ',\n",
              " 'ಕೈಪಳಗದಂತ',\n",
              " 'ಕೈಪಳಗದಂತಹ',\n",
              " 'ಅಕುಶಲ',\n",
              " 'ಅಕುಶಲವಾದ',\n",
              " 'ಅಕುಶಲವಾದಂತ',\n",
              " 'ಅಕುಶಲವಾದಂತಹ',\n",
              " 'ಕೌಶಲ್ಯಹೀನ',\n",
              " 'ಕೌಶಲ್ಯಹೀನವಾದ',\n",
              " 'ಕೌಶಲ್ಯಹೀನವಾದಂತ',\n",
              " 'ಕೌಶಲ್ಯಹೀನವಾದಂತಹ',\n",
              " 'ಅಯೋಗ್ಯ',\n",
              " 'ಅಯೋಗ್ಯವಾದ',\n",
              " 'ಅಯೋಗ್ಯವಾದಂತ',\n",
              " 'ಅಯೋಗ್ಯವಾದಂತಹ',\n",
              " 'ಯೋಗ್ಯವಲ್ಲದ',\n",
              " 'ಯೋಗ್ಯವಲ್ಲದಂತ',\n",
              " 'ಯೋಗ್ಯವಲ್ಲದಂತಹ',\n",
              " 'ಅಸಮರ್ಥ',\n",
              " 'ಅಸಮರ್ಥವಾದ',\n",
              " 'ಅಸಮರ್ಥವಾದಂತ',\n",
              " 'ಅಸಮರ್ಥವಾದಂತಹ',\n",
              " 'ಸರ್ಮಥವಲ್ಲದ',\n",
              " 'ಸರ್ಮಥವಲ್ಲದಂತ',\n",
              " 'ಸರ್ಮಥವಲ್ಲದಂತಹ',\n",
              " 'ಹೆಣ್ಣು_ಹುಲಿ',\n",
              " 'ಹೆಣ್ಣು_ವ್ಯಾಗ್ರ',\n",
              " 'ಅಪಕ್ವ',\n",
              " 'ಅಪಕ್ವವಾದ',\n",
              " 'ಅಪಕ್ವವಾದಂತ',\n",
              " 'ಅಪಕ್ವವಾದಂತಹ',\n",
              " 'ಅನನುಭವ',\n",
              " 'ಅನನುಭವವಾದ',\n",
              " 'ಅನನುಭವವಾದಂತ',\n",
              " 'ಅನನುಭವವಾದಂತಹ',\n",
              " 'ಪೆದ್ದರಂತೆ',\n",
              " 'ರೀತಿ_ನಡತೆ_ಗೊತ್ತಿಲ್ಲದಂತೆ',\n",
              " 'ಅಶಿಕ್ಷಿತನಂತೆ',\n",
              " 'ಬಂಡರಂತೆ',\n",
              " 'ಎಬೆಡ',\n",
              " 'ಹುಂಬ',\n",
              " 'ದಡ್ಡನಂತೆ',\n",
              " 'ಮೂರ್ಖರಂತೆ',\n",
              " 'ತಿಳುವಳಿಕೆಯಿಲ್ಲದಂತೆ',\n",
              " 'ಬುದ್ಧಿಯಿಲ್ಲದಂತೆ',\n",
              " 'ಮೂರ್ಖರು',\n",
              " 'ಮೂರ್ಖರಾದ',\n",
              " 'ಮೂರ್ಖರಾದಂತ',\n",
              " 'ಮೂರ್ಖರಾದಂತಹ',\n",
              " 'ಗಮಾರ',\n",
              " 'ಗಮಾರನಾದ',\n",
              " 'ಗಮಾರನಾದಂತ',\n",
              " 'ಗಮಾರನಾದಂತಹ',\n",
              " 'ಪೆದ್ದರು',\n",
              " 'ಪೆದ್ದನಾದ',\n",
              " 'ಪೆದ್ದನಾದಂತ',\n",
              " 'ಪೆದ್ದನಾದಂತಹ',\n",
              " 'ಬೇಕೂಫ್',\n",
              " 'ಬೇಕೂಫ್_ಆದ',\n",
              " 'ಬೇಕೂಫ್_ಆದಂತ',\n",
              " 'ಬೇಕೂಫ್_ಆದಂತಹ',\n",
              " 'ಪೆದ್ದರ',\n",
              " 'ಪೆದ್ದರಂತ',\n",
              " 'ಪೆದ್ದರಂತಹ',\n",
              " 'ಅಶಿಕ್ಷಿತರ',\n",
              " 'ಅಶಿಕ್ಷಿತರಂತ',\n",
              " 'ಅಶಿಕ್ಷಿತರಂತಹ',\n",
              " 'ಬಂಡರ',\n",
              " 'ಬಂಡರಂತ',\n",
              " 'ಬಂಡರಂತಹ',\n",
              " 'ಹುಂಬನ',\n",
              " 'ಹುಂಬನಂತ',\n",
              " 'ಹುಂಬನಂತಹ',\n",
              " 'ದಡ್ಡರ',\n",
              " 'ದಡ್ಡರಂತ',\n",
              " 'ದಡ್ಡರಂತಹ',\n",
              " 'ತಿಳುವಳಿಕೆಯಿಲ್ಲದವರ',\n",
              " 'ತಿಳುವಳಿಕೆಯಿಲ್ಲದ',\n",
              " 'ತಿಳುವಳಿಕೆಯಿಲ್ಲದಂತ',\n",
              " 'ತಿಳುವಳಿಕೆಯಿಲ್ಲದಂತಹ',\n",
              " 'ಬುದ್ಧಿಯಿಲ್ಲದವರ',\n",
              " 'ಬುದ್ಧಿಯಿಲ್ಲದಂತ',\n",
              " 'ಬುದ್ಧಿಯಿಲ್ಲದಂತಹ',\n",
              " 'ಅರಿವಿಲ್ಲದವರ',\n",
              " 'ಅರಿವಿಲ್ಲದಂತ',\n",
              " 'ಅರಿವಿಲ್ಲದಂತಹ',\n",
              " 'ಜ್ಞಾನಯಿಲ್ಲದವರ',\n",
              " 'ಜ್ಞಾನಿವಿಲ್ಲದಂತ',\n",
              " 'ಜ್ಞಾನಿವಿಲ್ಲದಂತಹ',\n",
              " 'ಅಜ್ಞಾನಿಯ',\n",
              " 'ಅಜ್ಞಾನಿಯಾದ',\n",
              " 'ಅಜ್ಞಾನಿಯಾದಂತ',\n",
              " 'ಅಜ್ಞಾನಿಯಾದಂತಹ',\n",
              " 'ಬುದ್ಧಿಹೀನ',\n",
              " 'ಬುದ್ಧಿಹೀನನಾದ',\n",
              " 'ಬುದ್ಧಿಹೀನನಾದಂತ',\n",
              " 'ಬುದ್ಧಿಹೀನನಾದಂತಹ',\n",
              " 'ಅಚತುರರ',\n",
              " 'ಅಚತುರ',\n",
              " 'ಅಚತುರನಾದ',\n",
              " 'ಅಚತುರನಾದಂತ',\n",
              " 'ಅಚತುರನಾದಂತಹ',\n",
              " 'ಮತಿಹೀನ',\n",
              " 'ಮತಿಹೀನಾದ',\n",
              " 'ಮತಿಹೀನಾದಂತ',\n",
              " 'ಮತಿಹೀನಾದಂತಹ',\n",
              " 'ಮೂಢನಾದ',\n",
              " 'ಮೂಢನಾದಂತ',\n",
              " 'ಮೂಢನಾದಂತಹ',\n",
              " 'ಮೂಡಮತಿ',\n",
              " 'ಮೂಡಮತಿಯ',\n",
              " 'ಮೂಡಮತಿಯಂತ',\n",
              " 'ಮೂಡಮತಿಯಂತಹ',\n",
              " 'ಪಾಮರ',\n",
              " 'ಪಾಮರನಾದ',\n",
              " 'ಪಾಮರನಾದಂತ',\n",
              " 'ಪಾಮರನಾದಂತಹ',\n",
              " 'ಅಲ್ಪಬುದ್ಧಿ',\n",
              " 'ಅಲ್ಪಬುದ್ಧಿಯ',\n",
              " 'ಅಲ್ಪಬುದ್ಧಿಯಂತ',\n",
              " 'ಅಲ್ಪಬುದ್ಧಿಯಂತಹ',\n",
              " 'ಮಂದಬುದ್ಧಿ',\n",
              " 'ಮಂದಬುದ್ಧಿಯ',\n",
              " 'ಮಂದಬುದ್ಧಿಯಂತ',\n",
              " 'ಮಂದಬುದ್ಧಿಯಂತಹ',\n",
              " 'ತಿಳಿಯದವನ',\n",
              " 'ಅಪ್ರಚಲಿತ',\n",
              " 'ಅಪ್ರಚಲಿತವಾದ',\n",
              " 'ಅಪ್ರಚಲಿತವಾದಂತ',\n",
              " 'ಅಪ್ರಚಲಿತವಾದಂತಹ',\n",
              " 'ಬಳಕೆ_ತಪ್ಪಿದ',\n",
              " 'ಬಳಕೆ_ತಪ್ಪಿದಂತ',\n",
              " 'ಬಳಕೆ_ತಪ್ಪಿದಂತಹ',\n",
              " 'ಅಪರಿಚಿತ',\n",
              " 'ಅಪರಿಚಿತವಾದ',\n",
              " 'ಅಪರಿಚಿತವಾದಂತ',\n",
              " 'ಅಪರಿಚಿತವಾದಂತಹ',\n",
              " 'ಪ್ರಚಲಿತವಲ್ಲದ',\n",
              " 'ಪ್ರಚಲಿತವಲ್ಲದಂತ',\n",
              " 'ಪ್ರಚಲಿತವಲ್ಲದಂತಹ',\n",
              " 'ಬಳಕೆಯಲ್ಲಿಲ್ಲದ',\n",
              " 'ಬಳಕೆಯಲ್ಲಿಲ್ಲದಂತ',\n",
              " 'ಬಳಕೆಯಲ್ಲಿಲ್ಲದಂತಹ',\n",
              " 'ಪ್ರವೀಣನಾದ',\n",
              " 'ಪ್ರವೀಣನಾದಂತ',\n",
              " 'ಪ್ರವೀಣನಾದಂತಹ',\n",
              " 'ನಿಪುಣನಾದ',\n",
              " 'ನಿಪುಣನಾದಂತ',\n",
              " 'ನಿಪುಣನಾದಂತಹ',\n",
              " 'ಪಾರಂಗತನಾದ',\n",
              " 'ಪಾರಂಗತನಾದಂತ',\n",
              " 'ಪಾರಂಗತನಾದಂತಹ',\n",
              " 'ಕಾರ್ಯಾದಕ್ಷನಾದ',\n",
              " 'ಕಾರ್ಯಾದಕ್ಷನಾದಂತ',\n",
              " 'ಕಾರ್ಯಾದಕ್ಷನಾದಂತಹ',\n",
              " 'ಕೈಪಳಗಿದವ',\n",
              " 'ಕೈಪಳಗಿದಂತ',\n",
              " 'ಕೈಪಳಗಿದಂತಹ',\n",
              " 'ಕೌಶಲ್ಯವುಳ್ಳವ',\n",
              " 'ಕೌಶಲ್ಯವುಳ್ಳಂತ',\n",
              " 'ಕೌಶಲ್ಯವುಳ್ಳಂತಹ',\n",
              " 'ಸಿದ್ಧಹಸ್ತ',\n",
              " 'ಸಿದ್ಧಹಸ್ತನಾದ',\n",
              " 'ಸಿದ್ಧಹಸ್ತನಾದಂತ',\n",
              " 'ಸಿದ್ಧಹಸ್ತನಾದಂತಹ',\n",
              " 'ಯೋಗ್ಯನಾದ',\n",
              " 'ಯೋಗ್ಯನಾದಂತ',\n",
              " 'ಯೋಗ್ಯನಾದಂತಹ',\n",
              " 'ಉಪಯುಕ್ತ',\n",
              " 'ಉಪಯುಕ್ತಂತ',\n",
              " 'ಉಪಯುಕ್ತಂತಹ',\n",
              " 'ಸಾಮಥ್ಯ',\n",
              " 'ಸಾಮಥ್ಯದ',\n",
              " 'ಸಾಮಥ್ಯದಂತ',\n",
              " 'ಸಾಮಥ್ಯದಂತಹ',\n",
              " 'ಸಮರ್ಥ',\n",
              " 'ಸಮರ್ಥವಾದ',\n",
              " 'ಸಮರ್ಥವಾದಂತ',\n",
              " 'ಸಮರ್ಥವಾದಂತಹ',\n",
              " 'ಅರ್ಹನಾದ',\n",
              " 'ಅರ್ಹನಾದಂತ',\n",
              " 'ಅರ್ಹನಾದಂತಹ',\n",
              " 'ಯೋಗ್ಯ',\n",
              " 'ಯೋಗ್ಯವಾದ',\n",
              " 'ಯೋಗ್ಯವಾದಂತ',\n",
              " 'ಯೋಗ್ಯವಾದಂತಹ',\n",
              " 'ತಕ್ಕ',\n",
              " 'ತಕ್ಕಂತ',\n",
              " 'ತಕ್ಕಂತಹ',\n",
              " 'ಕೈಪಳಗಿದ',\n",
              " 'ಯೋಗ್ಯತೆಯಿರುವ',\n",
              " 'ಯೋಗ್ಯತೆಯಿರುವಂತ',\n",
              " 'ಯೋಗ್ಯತೆಯಿರುವಂತಹ',\n",
              " 'ಸಭ್ಯ',\n",
              " 'ಸಭ್ಯನಾದ',\n",
              " 'ಸಭ್ಯನಾದಂತ',\n",
              " 'ಸಭ್ಯನಾದಂತಹ',\n",
              " 'ಸದ್ಗುಣಿ',\n",
              " 'ಸದ್ಗುಣಿಯಾದ',\n",
              " 'ಸದ್ಗುಣಿಯಾದಂತ',\n",
              " 'ಸದ್ಗುಣಿಯಾದಂತಹ',\n",
              " 'ಸೌಜನ್ಯನಾದ',\n",
              " 'ಸೌಜನ್ಯನಾದಂತ',\n",
              " 'ಸೌಜನ್ಯನಾದಂತಹ',\n",
              " 'ಸುಸಂಸ್ಕೃತನಾದ',\n",
              " 'ಸುಸಂಸ್ಕೃತನಾದಂತ',\n",
              " 'ಸುಸಂಸ್ಕೃತನಾದಂತಹ',\n",
              " 'ಸೌಜನ್ಯವುಳ್ಳವ',\n",
              " 'ಸೌಜನ್ಯವುಳ್ಳವನಾದ',\n",
              " 'ಸೌಜನ್ಯವುಳ್ಳವನಾದಂತ',\n",
              " 'ಸೌಜನ್ಯವುಳ್ಳವನಾದಂತಹ',\n",
              " 'ಶಿಷ್ಟತೆಯಿಂದ_ಕೂಡಿದವ',\n",
              " 'ಶಿಷ್ಟತೆಯಿಂದ_ಕೂಡಿದವನಾದ',\n",
              " 'ಶಿಷ್ಟತೆಯಿಂದ_ಕೂಡಿದವನಾದಂತ',\n",
              " 'ಶಿಷ್ಟತೆಯಿಂದ_ಕೂಡಿದವನಾದಂತಹ',\n",
              " 'ಸೃಜನಶೀಲ',\n",
              " 'ಸೃಜನಶೀಲನಾದ',\n",
              " 'ಸೃಜನಶೀಲನಾದಂತ',\n",
              " 'ಸೃಜನಶೀಲನಾದಂತಹ',\n",
              " 'ಒಳ್ಳೆಯವರ',\n",
              " 'ಒಳ್ಳೆಯವರಾದ',\n",
              " 'ಒಳ್ಳೆಯವರಾದಂತ',\n",
              " 'ಒಳ್ಳೆಯವರಾದಂತಹ',\n",
              " 'ಉತ್ತಮರು',\n",
              " 'ಉತ್ತಮರಾದ',\n",
              " 'ಉತ್ತಮರಾದಂತ',\n",
              " 'ಉತ್ತಮರಾದಂತಹ',\n",
              " 'ನರಭಕ್ಷಕ',\n",
              " 'ನರಭಕ್ಷಕನಾದ',\n",
              " 'ನರಭಕ್ಷಕನಾದಂತ',\n",
              " 'ನರಭಕ್ಷಕನಾದಂತಹ',\n",
              " 'ಮನುಷ್ಯಭಕ್ಷಿ',\n",
              " 'ಮನುಷ್ಯಭಕ್ಷಿಯಾದ',\n",
              " 'ಮನುಷ್ಯಭಕ್ಷಿಯಾದಂತ',\n",
              " 'ಮನುಷ್ಯಭಕ್ಷಿಯಾದಂತಹ',\n",
              " 'ಮಾನವಭಕ್ಷಿ',\n",
              " 'ಮಾನವಭಕ್ಷಿಯಾದ',\n",
              " 'ಮಾನವಭಕ್ಷಿಯಾದಂತ',\n",
              " 'ಮಾನವಭಕ್ಷಿಯಾದಂತಹ',\n",
              " 'ಮಾನವಭಕ್ಷಕ',\n",
              " 'ಮಾನವಭಕ್ಷಕನಾದ',\n",
              " 'ಮಾನವಭಕ್ಷಕನಾದಂತ',\n",
              " 'ಮಾನವಭಕ್ಷಕನಾದಂತಹ',\n",
              " 'ನವರತ್ನ',\n",
              " 'ನವ_ರತ್ನ',\n",
              " 'ನವ-ರತ್ನ',\n",
              " 'ಒಂಭತ್ತು_ರತ್ನ',\n",
              " 'ಒಂಭತ್ತು-ರತ್ನ',\n",
              " 'ಒಂಭತ್ತುರತ್ನ',\n",
              " 'ಅನಾಥ',\n",
              " 'ಅನಾಥನಾದ',\n",
              " 'ಅನಾಥನಾದಂತ',\n",
              " 'ಅನಾಥನಾದಂತಹ',\n",
              " 'ತಬ್ಬಲಿ',\n",
              " 'ತಬ್ಬಲಿಯಾದ',\n",
              " 'ತಬ್ಬಲಿಯಾದಂತ',\n",
              " 'ತಬ್ಬಲಿಯಾದಂತಹ',\n",
              " 'ಅಸಹಾಯಕ',\n",
              " 'ಅಸಹಾಯಕನಾದ',\n",
              " 'ಅಸಹಾಯಕನಾದಂತ',\n",
              " 'ಅಸಹಾಯಕನಾದಂತಹ',\n",
              " 'ಅಸಹಾಯ',\n",
              " 'ನಿರಾರ್ಶಿತ',\n",
              " 'ನಿರಾರ್ಶಿತನಾದ',\n",
              " 'ನಿರಾರ್ಶಿತನಾದಂತ',\n",
              " 'ನಿರಾರ್ಶಿತನಾದಂತಹ',\n",
              " 'ಅವಲಂಬನಹೀನ',\n",
              " 'ಅವಲಂಬನಹೀನನಾದ',\n",
              " 'ಅವಲಂಬನಹೀನನಾದಂತ',\n",
              " 'ಅವಲಂಬನಹೀನದಂತಹ',\n",
              " 'ನಿರಾವಲಂಭಿ',\n",
              " 'ನಿರಾವಲಂಭಿಯಾದ',\n",
              " 'ನಿರಾವಲಂಭಿಯಾದಂತ',\n",
              " 'ನಿರಾವಲಂಭಿಯಾದಂತಹ',\n",
              " 'ಆಶ್ರಯಹೀನ',\n",
              " 'ಆಶ್ರಯಹೀನನಾದ',\n",
              " 'ಆಶ್ರಯಹೀನನಾದಂತ',\n",
              " 'ಆಶ್ರಯಹೀನನಾದಂತಹ',\n",
              " 'ತಂದೆಯಿಲ್ಲದ',\n",
              " 'ತಂದೆಯಿಲ್ಲದಂತ',\n",
              " 'ತಂದೆಯಿಲ್ಲದಂತಹ',\n",
              " 'ಅಪ್ಪನಿಲ್ಲದ',\n",
              " 'ಅಪ್ಪನಿಲ್ಲದಂತ',\n",
              " 'ಅಪ್ಪನಿಲ್ಲದಂತಹ',\n",
              " 'ಪಿತೃಹೀನ',\n",
              " 'ಪಿತೃಹೀನನಾದ',\n",
              " 'ಪಿತೃಹೀನನಾದಂತ',\n",
              " 'ಪಿತೃಹೀನನಾದಂತಹ',\n",
              " 'ಪಿತೃವಿಹೀನ',\n",
              " 'ಪಿತೃವಿಹೀನನಾದ',\n",
              " 'ಪಿತೃವಿಹೀನನಾದಂತ',\n",
              " 'ಪಿತೃವಿಹೀನನಾದಂತಹ',\n",
              " 'ಸಾಧನಹೀನ',\n",
              " 'ಸಾಧನಹೀನನಾದ',\n",
              " 'ಸಾಧನಹೀನನಾದಂತ',\n",
              " 'ಸಾಧನಹೀನನಾದಂತಹ',\n",
              " 'ಸಾಧನಹೀನವಾದ',\n",
              " 'ಸಾಧನಹೀನವಾದಂತ',\n",
              " 'ಸಾಧನಹೀನವಾದಂತಹ',\n",
              " 'ಸಾಧನವಿಹೀನ',\n",
              " 'ಸಾಧನವಿಹೀನವಾದ',\n",
              " 'ಸಾಧನವಿಹೀನವಾದಂತ',\n",
              " 'ಸಾಧನವಿಹೀನವಾದಂತಹ',\n",
              " 'ಸನಾಥ',\n",
              " 'ಹೆಣ್ಣುನರಿ',\n",
              " 'ಹೆಣ್ಣು_ನರಿ',\n",
              " 'ಹೆಣ್ಣು-ನರಿ',\n",
              " 'ಜಂಬುಕಿ',\n",
              " 'ಸಹಾಯಕ',\n",
              " 'ಸಹಾಯಕನಾದ',\n",
              " 'ಸಹಾಯಕನಾದಂತ',\n",
              " 'ಸಹಾಯಕನಾದಂತಹ',\n",
              " 'ಸಹಾಯಕಯುಕ್ತ',\n",
              " 'ಸಹಾಯಕಯುಕ್ತವಾದ',\n",
              " 'ಸಹಾಯಕಯುಕ್ತವಾದಂತ',\n",
              " 'ಸಹಾಯಕಯುಕ್ತವಾದಂತಹ',\n",
              " 'ಬೆಂಬಲಿತ',\n",
              " 'ಬೆಂಬಲಿತನಾದ',\n",
              " 'ಬೆಂಬಲಿತನಾದಂತ',\n",
              " 'ಬೆಂಬಲಿತನಾದಂತಹ',\n",
              " 'ಮಾತೃಹೀನ',\n",
              " 'ಮಾತೃಹೀನನಾದ',\n",
              " 'ಮಾತೃಹೀನನಾದಂತ',\n",
              " 'ಮಾತೃಹೀನನಾದಂತಹ',\n",
              " 'ತಾಯಿಕಳೆದುಕೊಂಡ',\n",
              " 'ತಾಯಿಕಳೆದುಕೊಂಡಂತ',\n",
              " 'ತಾಯಿಕಳೆದುಕೊಂಡಂತಹ',\n",
              " 'ಮಾತೃವಿಹೀನ',\n",
              " 'ಮಾತೃವಿಹೀನವಾದ',\n",
              " 'ಮಾತೃವಿಹೀನವಾದಂತ',\n",
              " 'ಮಾತೃವಿಹೀನವಾದಂತಹ',\n",
              " 'ಸಾಧನೆಗಳಿಂದ_ಸಂಪನ್ನ',\n",
              " 'ಸಾಧನೆಗಳಿಂದ_ಸಂಪನ್ನವಾದ',\n",
              " 'ಸಾಧನೆಗಳಿಂದ_ಸಂಪನ್ನವಾದಂತ',\n",
              " 'ಸಾಧನೆಗಳಿಂದ_ಸಂಪನ್ನವಾದಂತಹ',\n",
              " 'ಸಾಧನಾಪೂರ್ಣ',\n",
              " 'ಸಾಧನಾಪೂರ್ಣವಾದ',\n",
              " 'ಸಾಧನಾಪೂರ್ಣವಾದಂತ',\n",
              " 'ಸಾಧನಾಪೂರ್ಣವಾದಂತಹ',\n",
              " 'ಸಾಧನಾಯುಕ್ತ',\n",
              " 'ಸಾಧನಾಯುಕ್ತವಾದ',\n",
              " 'ಸಾಧನಾಯುಕ್ತವಾದಂತ',\n",
              " 'ಸಾಧನಾಯುಕ್ತವಾದಂತಹ',\n",
              " 'ಅಪಮಾನ',\n",
              " 'ಅವಮಾನ',\n",
              " 'ಅಪಹೇಳನೆ',\n",
              " 'ಪಲ್ಪ_ಕಾರಣ',\n",
              " 'ತಿರಸ್ಕಾರ',\n",
              " 'ಅಷಿಷ್ಟ',\n",
              " 'ಅಮಂಗಲ',\n",
              " 'ಅಸಭ್ಯ',\n",
              " 'ಅವಿನಯಿ',\n",
              " 'ಅವಿನಮ್ರತೆ',\n",
              " 'ಗೌರವ',\n",
              " 'ಆದರ',\n",
              " 'ಮರ್ಯಾದೆ',\n",
              " 'ಸನ್ಮಾನ',\n",
              " 'ಸತ್ಕಾರ',\n",
              " 'ಅಭಿನಂದನೆ',\n",
              " 'ಪ್ರಧಾನ_ಆತ್ಮ',\n",
              " 'ಮುಖ್ಯ_ಆತ್ಮ',\n",
              " 'ಪರಮಾತ್ಮ',\n",
              " 'ಜಗದೀಶ',\n",
              " 'ಜಗನ್ನಾಥ',\n",
              " 'ತ್ರಿಲೋಕಪತಿ',\n",
              " 'ತ್ರಿಲೋಕನಾಥ',\n",
              " 'ತ್ರಿಲೋಕೇಶ',\n",
              " 'ವಿಶ್ವನಾಥ',\n",
              " 'ವಿಶ್ವಪತಿ',\n",
              " 'ವಿಧಾತ',\n",
              " 'ಕರ್ತ',\n",
              " 'ಪರಮಪಿತ',\n",
              " 'ಅಖಿಲೇಶ್ವರ',\n",
              " 'ದೀನಬಂಧು',\n",
              " 'ದೀನ-ಬಂಧು',\n",
              " 'ದೀನ_ಬಂಧು',\n",
              " 'ಆಧಿಪುರುಷ',\n",
              " 'ಆಧಿ_ಪುರುಷ',\n",
              " 'ಆಧಿ-ಪುರುಷ',\n",
              " 'ಪರಮಾನಂದ',\n",
              " 'ವಾಸು',\n",
              " 'ಪ್ರಧಾನಾತ್ಮ',\n",
              " 'ಚಿಂತಾಮಣಿ',\n",
              " 'ಆಧಿಕರ್ತ',\n",
              " 'ಅಶರೀರ',\n",
              " 'ಸದ್_ಗುರು',\n",
              " 'ಅನಾಮಿಕ',\n",
              " 'ಅನಾಮಿಕನಾದ',\n",
              " 'ಅನಾಮಿಕನಾದಂತ',\n",
              " 'ಅನಾಮಿಕನಾದಂತಹ',\n",
              " 'ಬೇನಾಮಿ',\n",
              " 'ಬೇನಾಮಿಯಾದ',\n",
              " 'ಬೇನಾಮಿಯಾದಂತ',\n",
              " 'ಬೇನಾಮಿಯಾದಂತಹ',\n",
              " 'ನಾಮಹೀನ',\n",
              " 'ನಾಮಹೀನವಾದ',\n",
              " 'ನಾಮಹೀನವಾದಂತ',\n",
              " 'ನಾಮಹೀನವಾದಂತಹ',\n",
              " 'ದಿವ್ಯ_ಶಕ್ತಿ',\n",
              " 'ಪರಮ_ಶಕ್ತಿ',\n",
              " 'ಪರಮೋಚ್ಚ_ಶಕ್ತಿ',\n",
              " 'ಸರೋಚ್ಚ_ಶಕ್ತಿ',\n",
              " 'ಹೆಸರಿನ',\n",
              " 'ಹೆಸರಿನಂತ',\n",
              " 'ಹೆಸರಿನಂತಹ',\n",
              " 'ನಾಮಧಾರಿ',\n",
              " 'ನಾಮಧಾರಿಯಾದ',\n",
              " 'ನಾಮಧಾರಿಯಾದಂತ',\n",
              " 'ನಾಮಧಾರಿಯಾದಂತಹ',\n",
              " 'ಹೆಸರಿನವ',\n",
              " 'ಹೆಸರಿನವನಾದ',\n",
              " 'ಹೆಸರಿನವನಾದಂತ',\n",
              " 'ಹೆಸರಿನವನಾದಂತಹ',\n",
              " 'ಹೆಸರುಳ್ಳ',\n",
              " 'ಹೆಸರುಳ್ಳಂತ',\n",
              " 'ಹೆಸರುಳ್ಳಂತಹ',\n",
              " 'ಹೆಸರಿದ್ದ',\n",
              " 'ಹೆಸರಿದ್ದಂತ',\n",
              " 'ಹೆಸರಿದ್ದಂತಹ',\n",
              " 'ಇದ್ದಕ್ಕಿದ್ದಂತೆ',\n",
              " 'ಇದ್ದಕ್ಕಿದ್ದ_ಹಾಗೆ',\n",
              " 'ಏಕಾಏಕಿ',\n",
              " 'ಒಮ್ಮೆಲೇ',\n",
              " 'ಒಂದೇ_ಸಾರಿಗೆ',\n",
              " 'ಒಂದೇ-ಸಾರಿಗೆ',\n",
              " 'ಒಂದೇ_ಸರತಿಗೆ',\n",
              " 'ಒಂದೇ-ಸರತಿಗೆ',\n",
              " 'ಹಠಾತ್ತನೆ',\n",
              " 'ಹಠಾತ್ತಾಗಿ',\n",
              " 'ಏಕ್ದಂ',\n",
              " 'ಏಕ್ಧಂ',\n",
              " 'ಅಚಾನಕ್',\n",
              " 'ಅಚಾನಕ್ಕಾಗಿ',\n",
              " 'ಅಚಾನಕ್ಕಂತ',\n",
              " 'ಥಟ್ಟನೆ',\n",
              " 'ತಟ್ಟನೆ',\n",
              " 'ಥಟಕ್ಕನೆ',\n",
              " 'ತಟಕ್ಕನೆ',\n",
              " 'ದಿಡೀರನೆ',\n",
              " 'ದಿಢೀರನೆ',\n",
              " 'ಥಟ್ಟಂತ',\n",
              " 'ತಟ್ಟಂತ',\n",
              " 'ಥಟಕ್ಕಂತ',\n",
              " 'ತಟಕ್ಕಂತ',\n",
              " 'ದಿಡೀರಂತ',\n",
              " 'ದಿಢೀರಂತ',\n",
              " 'ಸರಕ್ಕನೆ',\n",
              " 'ಸರಕ್ಕಂತ',\n",
              " 'ಚಕ್ಕನೆ',\n",
              " 'ಚಕ್ಕಂತ',\n",
              " 'ಅಕಸ್ಮಾತ್ತಾಗಿ',\n",
              " 'ಆಕಸ್ಮಿಕವಾಗಿ',\n",
              " 'ಅನಿರೀಕ್ಷಿತವಾಗಿ',\n",
              " 'ನಿರೀಕ್ಷೆ_ಮೀರಿ',\n",
              " 'ಕ್ಷಣಾರ್ಧದಲ್ಲಿ',\n",
              " 'ಪಟಕ್ಕನೆ',\n",
              " 'ಪಟಕ್ಕಂತ',\n",
              " 'ಚಣಮತ್ತಿನಲ್ಲಿ',\n",
              " 'ಪಟಾರನೆ',\n",
              " 'ಪಟಾರಂತ',\n",
              " 'ಪುಸುಕ್ಕನೆ',\n",
              " 'ಪುಸುಕ್ಕಂತ',\n",
              " 'ಚಕಾರನೆ',\n",
              " 'ಚಕಾರಂತ',\n",
              " 'ಅನಾಯಾಸವಾಗಿ',\n",
              " 'ಕಷ್ಟವಿಲ್ಲದೆ',\n",
              " 'ಪ್ರಯತ್ನವಿಲ್ಲದೆ',\n",
              " 'ಪ್ರಯಾಸವಿಲ್ಲದೆ',\n",
              " 'ಪ್ರಯತ್ನಪೂರ್ವಕವಾಗಿ',\n",
              " 'ಶ್ರಮಪಟ್ಟು',\n",
              " 'ಕಷ್ಟಪಟ್ಟು',\n",
              " 'ಅನಾವರಣ',\n",
              " 'ಬೆಟ್ಟದ_ಹೂವು',\n",
              " 'ಆರ್ಚಿಡ್_ಹೂವು',\n",
              " 'ಆರ್ಕಿಡ್_ಹೂವು',\n",
              " 'ಉದ್ಘಾಟನೆ',\n",
              " 'ಪ್ರಾರಂಭ',\n",
              " 'ಆರಂಭ',\n",
              " 'ಗೊಬ್ಬರ',\n",
              " 'ಕಾಂಪೋಸ್ಟ್',\n",
              " 'ಕಾಂಪೋಸ್ಟ್-ಗೊಬ್ಬರ',\n",
              " 'ಕಾಂಪೋಸ್ಟ್_ಗೊಬ್ಬರ',\n",
              " 'ಗುಟ್ಟು_ಬಯಲಾಗು',\n",
              " 'ಗುಟ್ಟು-ಬಯಲಾಗು',\n",
              " 'ಗುಟ್ಟುಬಯಲಾಗು',\n",
              " 'ಗುಟ್ಟು_ಬಿಚ್ಚಿಡುವುದು',\n",
              " 'ಗುಟ್ಟು-ಬಿಚ್ಚಿಡುವುದು',\n",
              " 'ಗುಟ್ಟು_ರಟ್ಟುಮಾಡು',\n",
              " 'ಗುಟ್ಟು-ರಟ್ಟುಮಾಡು',\n",
              " 'ರಹಸ್ಯ_ಬಿಚ್ಚುವುದು',\n",
              " 'ರಹಸ್ಯ-ಬಿಚ್ಚುವುದು',\n",
              " 'ರಹಸ್ಯ_ಬಯಲಾಗು',\n",
              " 'ರಹಸ್ಯ-ಬಯಲಾಗು',\n",
              " 'ರಹಸ್ಯಬಯಲಾಗು',\n",
              " 'ಅವ್ಯವಸ್ಥಿತ',\n",
              " 'ಅವ್ಯವಸ್ಥಿತವಾದ',\n",
              " 'ಅವ್ಯವಸ್ಥಿತವಾದಂತ',\n",
              " 'ಅವ್ಯವಸ್ಥಿತವಾದಂತಹ',\n",
              " 'ಅಸ್ತ-ವ್ಯಸ್ತ',\n",
              " 'ಅಸ್ತ-ವ್ಯಸ್ತವಾದ',\n",
              " 'ಅಸ್ತ-ವ್ಯಸ್ತವಾದಂತ',\n",
              " 'ಅಸ್ತ-ವ್ಯಸ್ತವಾದಂತಹ',\n",
              " 'ವ್ಯವಸ್ಥಾಹೀನತೆ',\n",
              " 'ವ್ಯವಸ್ಥಾಹೀನತೆಯಂತ',\n",
              " 'ವ್ಯವಸ್ಥಾಹೀನತೆಯಂತಹ',\n",
              " 'ವ್ಯವಸ್ಥಾಹೀನ',\n",
              " 'ವ್ಯವಸ್ಥಾಹೀನವಾದ',\n",
              " 'ವ್ಯವಸ್ಥಾಹೀನವಾದಂತ',\n",
              " 'ವ್ಯವಸ್ಥಾಹೀನವಾದಂತಹ',\n",
              " 'ನಿರಂಕುಶ',\n",
              " 'ನಿರಂಕುಶವಾದ',\n",
              " 'ನಿರಂಕುಶವಾದಂತ',\n",
              " 'ನಿರಂಕುಶವಾದಂತಹ',\n",
              " 'ಸ್ವೇಚ್ಚಾಚಾರಿ',\n",
              " 'ಸ್ವೇಚ್ಚಾಚಾರಿಯಾದ',\n",
              " 'ಸ್ವೇಚ್ಚಾಚಾರಿಯಾದಂತ',\n",
              " 'ಸ್ವೇಚ್ಚಾಚಾರಿಯಾದಂತಹ',\n",
              " 'ಸರ್ವ_ಸ್ವತಂತ್ರನಾದ',\n",
              " 'ಸರ್ವ_ಸ್ವತಂತ್ರನಾದಂತ',\n",
              " 'ಸರ್ವ_ಸ್ವತಂತ್ರನಾದಂತಹ',\n",
              " 'ಸ್ವಚ್ಛಂದನಾದ',\n",
              " 'ಸ್ವಚ್ಛಂದನಾದಂತ',\n",
              " 'ಸ್ವಚ್ಛಂದನಾದಂತಹ',\n",
              " 'ಅಂಕೆಗೆ_ಒಳಪಡದವ',\n",
              " 'ಅಂಕೆಗೆ_ಒಳಪಡದವನಾದ',\n",
              " 'ಅಂಕೆಗೆ_ಒಳಪಡದವನಾದಂತ',\n",
              " 'ಅಂಕೆಗೆ_ಒಳಪಡದವನಾದಂತಹ',\n",
              " 'ಅಂಧಾನುಕರಣೆ',\n",
              " 'ಕುರುಡುಅನುಕರಣೆ',\n",
              " 'ಕುರುಡು-ಅನುಕರಣೆ',\n",
              " 'ಕುರುಡು_ಅನುಕರಣೆ',\n",
              " 'ಅನುಕೂಲತೆ',\n",
              " 'ಸೌಕರ್ಯ',\n",
              " 'ಪ್ರತಿಕೂಲತೆ',\n",
              " 'ದಯೆ',\n",
              " 'ಕರುಣೆ',\n",
              " 'ಸಹೃದಯ',\n",
              " 'ಕೃಪೆ',\n",
              " 'ದಯಾಶೀಲ',\n",
              " 'ಪರಿಸ್ಥಿತಿ',\n",
              " 'ಸಂದರ್ಭ',\n",
              " 'ಸಾಮಂಜಸ್ಯ',\n",
              " 'ಸಾಂಗತ್ಯ',\n",
              " 'ತಾಳ-ಮೇಳ',\n",
              " 'ತಾಳಮೇಳ',\n",
              " 'ತಾಳ_ಮೇಳ',\n",
              " 'ಶುರು',\n",
              " 'ನಗ್ನತೆ',\n",
              " 'ಬರೀಮೈ',\n",
              " 'ಬೆತ್ತಲೆ',\n",
              " 'ಬಟ್ಟೆ_ಇಲ್ಲದ',\n",
              " 'ಬಟ್ಟೆಯಿಲ್ಲದ',\n",
              " 'ವಸ್ತ್ರ_ಇಲ್ಲದ',\n",
              " 'ವಸ್ತ್ರವಿಲ್ಲದ',\n",
              " 'ಕ_ದಿಂದ_ಹ_ದವರೆಗಿನ_ಅಕ್ಷರ_(ಅಕ್ಷರ_ಮಾಲೆ)',\n",
              " 'ಚಿಕ್ಕ_ಎಲೆ',\n",
              " 'ಎಲೆ',\n",
              " 'ಸ್ಪಷ್ಟತೆ',\n",
              " 'ಖಚಿತತೆ',\n",
              " 'ಸ್ಪಷ್ಟನೆ',\n",
              " 'ಗುಟ್ಟು',\n",
              " 'ರಹಸ್ಯ',\n",
              " 'ಗೌಪ್ಯತೆ',\n",
              " 'ಭಾವ',\n",
              " 'ವಿಚಾರ',\n",
              " 'ಭಾವನೆ',\n",
              " 'ಅಭಿಪ್ರಾಯ',\n",
              " 'ಪ್ರವೃತ್ತಿ',\n",
              " 'ಮನೋವಿಕಾರ',\n",
              " 'ಸ್ನೇಹ',\n",
              " 'ಸ್ವಭಾವ',\n",
              " 'ಶ್ರದ್ಧೆ',\n",
              " 'ವಿಶ್ವಾಸ',\n",
              " 'ಅಸ್ತಿತ್ವ',\n",
              " 'ಇರುವ',\n",
              " 'ಪ್ರಯತ್ನ',\n",
              " 'ಅನುಕೂಲ',\n",
              " 'ಅನಾನುಕೂಲ',\n",
              " 'ವಿಪರೀತ',\n",
              " 'ವಿರುದ್ಧ',\n",
              " 'ವೈಪರಿತ್ಯ',\n",
              " 'ಒಳ್ಳೆಯ_ಗುಣ',\n",
              " 'ಒಳ್ಳೆಯ-ಗುಣ',\n",
              " 'ಸದ್ಗುಣ',\n",
              " 'ಉತ್ಕ್ರಷ್ಟ_ಗುಣ',\n",
              " 'ರಕ್ತ_ದಾನ',\n",
              " 'ರಕ್ತದಾನ',\n",
              " 'ರಕ್ತ_ಕೊಡುಗೆ',\n",
              " 'ರಕ್ತಕೊಡುಗೆ',\n",
              " 'ರಕ್ತ_ತರ್ಪಣ',\n",
              " 'ರಕ್ತತಪರ್ಣ',\n",
              " 'ಅಸಂಗತತೆ',\n",
              " 'ಅಸಂಗತ',\n",
              " 'ಅಸಂಬದ್ಧತೆ',\n",
              " 'ಹೊಂದದ',\n",
              " 'ಕೂಡದ',\n",
              " 'ಕಷ್ಟ',\n",
              " 'ಅಸಮತೆ',\n",
              " 'ಬಾಧೆ',\n",
              " 'ಭೇಟಿ',\n",
              " 'ಮಿಲನ',\n",
              " 'ಮುಖಾಮುಖಿ',\n",
              " 'ಹೊಂದಾಣಿಕೆ_ಇಲ್ಲದ',\n",
              " 'ಸಮಾರಸ್ಯವಿಲ್ಲದ',\n",
              " 'ತಮ್ಮ',\n",
              " 'ಸೋದರ',\n",
              " 'ಅನುಜ',\n",
              " 'ಚಿಕ್ಕ_ತಮ್ಮ',\n",
              " 'ಸಹೋದರ',\n",
              " 'ಅಣ್ಣ',\n",
              " 'ಅಗ್ರಜ',\n",
              " 'ದೊಡ್ಡ_ಅಣ್ಣ',\n",
              " 'ದೊಡ್ಡ-ಅಣ್ಣ',\n",
              " 'ಅನುತ್ತೀರ್ಣ',\n",
              " 'ಅನುತ್ತೀರ್ಣನಾದ',\n",
              " 'ಅನುತ್ತೀರ್ಣನಾದಂತ',\n",
              " 'ಅನುತ್ತೀರ್ಣನಾದಂತಹ',\n",
              " 'ಫೇಲಾದ',\n",
              " 'ಫೇಲಾದಂತ',\n",
              " 'ಫೇಲಾದಂತಹ',\n",
              " 'ನಪಾಸಾದ',\n",
              " 'ನಪಾಸಾದಂತ',\n",
              " 'ನಪಾಸಾದಂತಹ',\n",
              " 'ಉತ್ತೀರ್ಣ',\n",
              " 'ಉತ್ತೀರ್ಣವಾದ',\n",
              " 'ಉತ್ತೀರ್ಣವಾದಂತ',\n",
              " 'ಉತ್ತೀರ್ಣವಾದಂತಹ',\n",
              " 'ಪಾಸಾದ',\n",
              " 'ಪಾಸಾದಂತ',\n",
              " 'ಪಾಸಾದಂತಹ',\n",
              " 'ಅನುಪಸ್ಥಿತ',\n",
              " 'ಅನುಪಸ್ಥಿತವಾದ',\n",
              " 'ಅನುಪಸ್ಥಿತವಾದಂತ',\n",
              " 'ಅನುಪಸ್ಥಿತವಾದಂತಹ',\n",
              " 'ಗೈರುಹಾಜರಾದ',\n",
              " 'ಗೈರುಹಾಜರಾದಂತ',\n",
              " 'ಗೈರುಹಾಜರಾದಂತಹ',\n",
              " 'ಅಪ್ರಸ್ತುತ',\n",
              " 'ಅಪ್ರಸ್ತುತವಾದ',\n",
              " 'ಅಪ್ರಸ್ತುತವಾದಂತ',\n",
              " 'ಅಪ್ರಸ್ತುತವಾದಂತಹ',\n",
              " 'ಅವರ್ತಮಾನ',\n",
              " 'ಅವರ್ತಮಾನವಾದ',\n",
              " 'ಅವರ್ತಮಾನವಾದಂತ',\n",
              " 'ಅವರ್ತಮಾನವಾದಂತಹ',\n",
              " 'ಉಪಸ್ಥಿತ',\n",
              " 'ಉಪಸ್ಥಿತವಾದ',\n",
              " 'ಉಪಸ್ಥಿತವಾದಂತ',\n",
              " 'ಉಪಸ್ಥಿತವಾದಂತಹ',\n",
              " 'ಹಾಜರಾದ',\n",
              " 'ಹಾಜರಾದಂತ',\n",
              " 'ಹಾಜರಾದಂತಹ',\n",
              " 'ವಿದ್ಯಾಮಾನ',\n",
              " 'ವಿದ್ಯಾಯಮಾನವಾದ',\n",
              " 'ವಿದ್ಯಾಮಾನವಾದಂತ',\n",
              " 'ವಿದ್ಯಾಮಾನವಾದಂತಹ',\n",
              " 'ಮಡಿಕೆ',\n",
              " 'ವರ್ತಮಾನದ',\n",
              " 'ವರ್ತಮಾನದಂತ',\n",
              " 'ವರ್ತಮಾನದಂತಹ',\n",
              " 'ಸದ್ಯದ',\n",
              " 'ಸದ್ಯದಂತ',\n",
              " 'ಸದ್ಯದಂತಹ',\n",
              " 'ಅನುಪಾತ',\n",
              " 'ಕಾಡಿಗೆಯುಕ್ತ',\n",
              " 'ಕಾಡಿಗೆಯುಕ್ತವಾದ',\n",
              " 'ಕಾಡಿಗೆಯುಕ್ತವಾದಂತ',\n",
              " 'ಕಾಡಿಗೆಯುಕ್ತವಾದಂತಹ',\n",
              " 'ಕಾಡಿಗೆ_ಹಾಕಿದ',\n",
              " 'ಕಾಡಿಗೆ_ಹಾಕಿದಂತ',\n",
              " 'ಕಾಡಿಗೆ_ಹಾಕಿದಂತಹ',\n",
              " 'ಕಾಡಿಗೆ_ಲೇಪಿಸಿದ',\n",
              " 'ಕಾಡಿಗೆ_ಲೇಪಿಸಿದಂತ',\n",
              " 'ಕಾಡಿಗೆ_ಲೇಪಿಸಿದಂತಹ',\n",
              " 'ಕಾಡಿಗೆ_ಹಚ್ಚಿದ',\n",
              " 'ಕಾಡಿಗೆ_ಹಚ್ಚಿದಂತ',\n",
              " 'ಕಾಡಿಗೆ_ಹಚ್ಚಿದಂತಹ',\n",
              " 'ಒಪ್ಪಂದ',\n",
              " 'ಒಪ್ಪಿಗೆ',\n",
              " 'ಕರಾರು',\n",
              " 'ಸಂಧಾನ',\n",
              " 'ರಾಜಿ',\n",
              " 'ಅನಿಕೆ',\n",
              " 'ಗುತ್ತಿಗೆ',\n",
              " 'ಕಂಟ್ರ್ಯಾಕ್ಟು',\n",
              " 'ಕೊಡುಕೊಳ್ಳುವಿಕೆ',\n",
              " 'ಕ್ರಯ_ವಿಕ್ರಯ',\n",
              " 'ಕ್ರಯ-ವಿಕ್ರಯ',\n",
              " 'ವ್ಯಾಪಾರ',\n",
              " 'ಜವಾಬ್ದಾರಿ',\n",
              " 'ಹೊಣೆಗಾರಿಕೆ',\n",
              " 'ಅನುಭವ',\n",
              " 'ನೆನಪು',\n",
              " 'ಸ್ಮೃತಿ',\n",
              " 'ಸ್ಮರಣೆ',\n",
              " 'ಜ್ಞಾನ',\n",
              " 'ತಿಳಿವು',\n",
              " 'ಅರಿವು',\n",
              " 'ನುರಿತ',\n",
              " 'ನುರಿತಂತ',\n",
              " 'ನುರಿತಂತಹ',\n",
              " 'ಅನುಭವಿ',\n",
              " 'ಅನುಭವಿಯಾದ',\n",
              " 'ಅನುಭವಿಯಾದಂತ',\n",
              " 'ಅನುಭವಿಯಾದಂತಹ',\n",
              " 'ಸಂಕಟಕ್ಕೊಳಗಾದ',\n",
              " 'ಸಂಕಟಕ್ಕೊಳಗಾದಂತ',\n",
              " 'ಸಂಕಟಕ್ಕೊಳಗಾದಂತಹ',\n",
              " 'ದುಃಖಾನುಭವಿ',\n",
              " 'ದುಃಖಾನುಭವಿಯಾದ',\n",
              " 'ದುಃಖಾನುಭವಿಯಾದಂತ',\n",
              " 'ದುಃಖಾನುಭವಿಯಾದಂತಹ',\n",
              " 'ಕಷ್ಟ_ತಿಳಿಯದ',\n",
              " 'ಕಷ್ಟ_ತಿಳಿಯದಂತ',\n",
              " 'ಕಷ್ಟ_ತಿಳಿಯದಂತಹ',\n",
              " 'ದುಃಖ_ಅನುಭವಿಸದ',\n",
              " 'ದುಃಖ_ಅನುಭವಿಸದಂತ',\n",
              " 'ದುಃಖ_ಅನುಭವಿಸದಂತಹ',\n",
              " 'ಸಂಕಷ್ಟಕ್ಕೆ_ಒಳಗಾಗದ',\n",
              " 'ಸಂಕಷ್ಟಕ್ಕೆ_ಒಳಗಾಗದಂತ',\n",
              " 'ಸಂಕಷ್ಟಕ್ಕೆ_ಒಳಗಾಗದಂತಹ',\n",
              " 'ಸಂವೇದನೆ',\n",
              " 'ಭಾವಸಂವೇದನೆ',\n",
              " 'ಮನೋಭಾವ',\n",
              " 'ಮಾನಸಿಕ_ಭಾವ',\n",
              " 'ಮನೋವೇಗ',\n",
              " 'ಚಿತ್ತವೃತ್ತಿ',\n",
              " 'ಅಂತರ್ಗತಿತ',\n",
              " 'ಮನಸ್ಸು',\n",
              " 'ಅಂತರಂಗ',\n",
              " 'ಅನುಮತಿ',\n",
              " 'ಸಮ್ಮತಿ',\n",
              " 'ಅನುಮೋದನೆ',\n",
              " 'ಸ್ವೀಕಾರ',\n",
              " 'ಸ್ವೀಕೃತಿ',\n",
              " 'ಅಂಗೀಕಾರ',\n",
              " 'ಅಂಗೀಕರಣ',\n",
              " 'ಅಂಗೀಕೃತ',\n",
              " 'ಅನುಮಾನ',\n",
              " 'ಅಂದಾಜು',\n",
              " 'ಊಹೆ',\n",
              " 'ಕಲ್ಪನೆ',\n",
              " 'ಸೃಜನೆ',\n",
              " 'ಉದ್ಗಾರ',\n",
              " 'ಪ್ರತಿರೋಧ',\n",
              " 'ವಿರೋಧ',\n",
              " 'ಉಭಯವಾಸಿ',\n",
              " 'ಉಭಯವಾಸಿಯಾದ',\n",
              " 'ಉಭಯವಾಸಿಯಾದಂತ',\n",
              " 'ಉಭಯವಾಸಿಯಾದಂತಹ',\n",
              " 'ಉಭಯಚರ',\n",
              " 'ಉಭಯಚರವಾದ',\n",
              " 'ಉಭಯಚರವಾದಂತ',\n",
              " 'ಉಭಯಚರವಾದಂತಹ',\n",
              " 'ಆಸಕ್ತ',\n",
              " 'ಆಸಕ್ತವಾದ',\n",
              " 'ಆಸಕ್ತವಾದಂತ',\n",
              " 'ಆಸಕ್ತವಾದಂತಹ',\n",
              " 'ಆಸೆಯ',\n",
              " 'ಆಸೆಯಾದ',\n",
              " 'ಆಸೆಯಾದಂತ',\n",
              " 'ಆಸೆಯಾದಂತಹ',\n",
              " 'ಮೋಹದ',\n",
              " 'ಮೋಹಗೊಂಡ',\n",
              " 'ಮೋಹಗೊಂಡಂತ',\n",
              " 'ಮೋಹಗೊಂಡಂತಹ',\n",
              " 'ಮೋಹಿತವಾದ',\n",
              " 'ಮೋಹಿತವಾದಂತ',\n",
              " 'ಮೋಹಿತವಾದಂತಹ',\n",
              " 'ನಿಷ್ಠಾವಂತ',\n",
              " 'ನಿಷ್ಠಾವಂತನಾದ',\n",
              " 'ನಿಷ್ಠಾವಂತನಾದಂತ',\n",
              " 'ನಿಷ್ಠಾವಂತನಾದಂತಹ',\n",
              " 'ಉದ್ಯೋಗಿ',\n",
              " 'ಉದ್ಯೋಗಿಯಾದ',\n",
              " 'ಉದ್ಯೋಗಿಯಾದಂತ',\n",
              " 'ಉದ್ಯೋಗಿಯಾದಂತಹ',\n",
              " 'ದುಡಿಯುವ',\n",
              " 'ದುಡಿಯುವಂತ',\n",
              " 'ದುಡಿಯುವಂತಹ',\n",
              " 'ಉದ್ಯೋಗಶೀಲ',\n",
              " 'ಉದ್ಯೋಗಶೀಲವಾದ',\n",
              " 'ಉದ್ಯೋಗಶೀಲವಾದಂತ',\n",
              " 'ಉದ್ಯೋಗಶೀಲವಾದಂತಹ',\n",
              " 'ಕೆಲಸದಲ್ಲಿರುವ',\n",
              " 'ಕೆಲಸದಲ್ಲಿರುವಂತ',\n",
              " 'ಕೆಲಸದಲ್ಲಿರುವಂತಹ',\n",
              " 'ಗುಪ್ತದಾನ',\n",
              " 'ಗುಪ್ತ_ದಾನ',\n",
              " 'ಗುಪ್ತ-ದಾನ',\n",
              " 'ಗೌಪ್ಯ_ದಾನ',\n",
              " 'ಗೌಪ್ಯದಾನ',\n",
              " 'ಗೌಪ್ಯ-ದಾನ',\n",
              " 'ಗೂಢ_ದಾನ',\n",
              " 'ಗೂಢ-ದಾನ',\n",
              " 'ಗೂಢದಾನ',\n",
              " 'ರಹಸ್ಯದಾನ',\n",
              " 'ರಹಸ್ಯ_ದಾನ',\n",
              " 'ರಹಸ್ಯ-ದಾನ',\n",
              " 'ಭಕ್ತ',\n",
              " 'ಪೂಜಿಸುವವನು',\n",
              " 'ಆರಾಧನೆ_ಮಾಡುವವನು',\n",
              " 'ಉಪಾಸನೆ_ಮಾಡುವವನು',\n",
              " 'ಅನೇಕ',\n",
              " 'ಅನೇಕಾನೇಕ',\n",
              " 'ಬಹುತೇಕ',\n",
              " 'ಪ್ರಭಾಮಂಡಲ',\n",
              " 'ಪ್ರಭಾ_ಮಂಡಲ',\n",
              " 'ಪ್ರಭಾ-ಮಂಡಲ',\n",
              " 'ಪ್ರಭೇ_ದೀಪ್ತಿ',\n",
              " 'ಪ್ರಭೇ_ಮಂಡಲ',\n",
              " 'ಪ್ರೇಮ',\n",
              " 'ಪ್ರೀತಿ',\n",
              " 'ಪ್ರಣಯ',\n",
              " 'ಒಲವು',\n",
              " 'ಅನುರಾಗ',\n",
              " 'ಮಮತೆ_ವತ್ಸಲ್ಯ',\n",
              " 'ಪ್ರತಿರೂಪಿ',\n",
              " 'ಪ್ರತಿರೂಪಿಯಾದ',\n",
              " 'ಪ್ರತಿರೂಪಿಯಾದಂತ',\n",
              " 'ಪ್ರತಿರೂಪಿಯಾದಂತಹ',\n",
              " 'ಅನುರೂಪಿ',\n",
              " 'ಅನುರೂಪಿಯಾದ',\n",
              " 'ಅನುರೂಪಿಯಾದಂತ',\n",
              " 'ಅನುರೂಪಿಯಾದಂತಹ',\n",
              " 'ಸಮರೂಪಿ',\n",
              " ...]"
            ]
          },
          "metadata": {},
          "execution_count": 17
        }
      ]
    },
    {
      "cell_type": "code",
      "source": [
        ""
      ],
      "metadata": {
        "id": "khzsQpb2V8wO"
      },
      "execution_count": 17,
      "outputs": []
    },
    {
      "cell_type": "markdown",
      "source": [
        "Synets of a given word"
      ],
      "metadata": {
        "id": "U2ivHF1TWOqj"
      }
    },
    {
      "cell_type": "code",
      "source": [
        " iwn.synsets('ಅನುರೂಪಿಯಾದಂತಹ')"
      ],
      "metadata": {
        "colab": {
          "base_uri": "https://localhost:8080/"
        },
        "id": "Lf45Q1CUWQT3",
        "outputId": "3429665f-f03e-49f0-f2dc-93fbacb9d806"
      },
      "execution_count": 18,
      "outputs": [
        {
          "output_type": "execute_result",
          "data": {
            "text/plain": [
              "[Synset('ಪ್ರತಿರೂಪಿ.adjective.122')]"
            ]
          },
          "metadata": {},
          "execution_count": 18
        }
      ]
    },
    {
      "cell_type": "code",
      "source": [
        " iwn.synsets('ಮಮತೆ_ವತ್ಸಲ್ಯ')"
      ],
      "metadata": {
        "colab": {
          "base_uri": "https://localhost:8080/"
        },
        "id": "RdZx12EQWYrx",
        "outputId": "7e3c3929-1baa-4d91-8dcd-b20f3454d303"
      },
      "execution_count": 19,
      "outputs": [
        {
          "output_type": "execute_result",
          "data": {
            "text/plain": [
              "[Synset('ಸ್ನೇಹ.noun.121')]"
            ]
          },
          "metadata": {},
          "execution_count": 19
        }
      ]
    },
    {
      "cell_type": "code",
      "source": [
        "iwn.synsets('ಪ್ರೀತಿ')"
      ],
      "metadata": {
        "colab": {
          "base_uri": "https://localhost:8080/"
        },
        "id": "JaJdEO7UWe2i",
        "outputId": "a1681ff1-46ca-4cf0-cf31-8b475c4a084a"
      },
      "execution_count": 20,
      "outputs": [
        {
          "output_type": "execute_result",
          "data": {
            "text/plain": [
              "[Synset('ಪ್ರೇಮ.noun.120'),\n",
              " Synset('ಸ್ನೇಹ.noun.121'),\n",
              " Synset('ಪ್ರೀತಿ.noun.7010'),\n",
              " Synset('ಪ್ರೀತಿ.noun.14121'),\n",
              " Synset('ಪ್ರೀತಿ.noun.19761')]"
            ]
          },
          "metadata": {},
          "execution_count": 20
        }
      ]
    },
    {
      "cell_type": "code",
      "source": [
        "iwn.synsets('ಮಮತೆ_ವತ್ಸಲ್ಯ',)"
      ],
      "metadata": {
        "colab": {
          "base_uri": "https://localhost:8080/"
        },
        "id": "p4yyCB-ZZfnT",
        "outputId": "4eb98d01-5ad5-4733-f34a-ad7759ee8a69"
      },
      "execution_count": 21,
      "outputs": [
        {
          "output_type": "execute_result",
          "data": {
            "text/plain": [
              "[Synset('ಸ್ನೇಹ.noun.121')]"
            ]
          },
          "metadata": {},
          "execution_count": 21
        }
      ]
    },
    {
      "cell_type": "code",
      "source": [
        "iwn.synsets('ಮಾನವ')"
      ],
      "metadata": {
        "colab": {
          "base_uri": "https://localhost:8080/"
        },
        "id": "-PnmZzJ3a4lC",
        "outputId": "c93bddb9-eb44-49e3-adbd-23ba0084f006"
      },
      "execution_count": 22,
      "outputs": [
        {
          "output_type": "execute_result",
          "data": {
            "text/plain": [
              "[Synset('ಮನುಷ್ಯ.noun.196'),\n",
              " Synset('ಮಾನವ.noun.858'),\n",
              " Synset('ಮಾನವ.noun.3389'),\n",
              " Synset('ಮನುಷ್ಯ.noun.22862')]"
            ]
          },
          "metadata": {},
          "execution_count": 22
        }
      ]
    },
    {
      "cell_type": "code",
      "source": [
        "iwn.synsets('ಮಾನವ')"
      ],
      "metadata": {
        "colab": {
          "base_uri": "https://localhost:8080/"
        },
        "id": "5EFF_iE2bTc9",
        "outputId": "e061d039-2117-4145-d2a0-be758eab6f79"
      },
      "execution_count": 23,
      "outputs": [
        {
          "output_type": "execute_result",
          "data": {
            "text/plain": [
              "[Synset('ಮನುಷ್ಯ.noun.196'),\n",
              " Synset('ಮಾನವ.noun.858'),\n",
              " Synset('ಮಾನವ.noun.3389'),\n",
              " Synset('ಮನುಷ್ಯ.noun.22862')]"
            ]
          },
          "metadata": {},
          "execution_count": 23
        }
      ]
    },
    {
      "cell_type": "code",
      "source": [
        " iwn.synsets('ಮಾನವ', pos=pyiwn.PosTag.NOUN)"
      ],
      "metadata": {
        "colab": {
          "base_uri": "https://localhost:8080/"
        },
        "id": "gN1WLWszbape",
        "outputId": "473431be-9e4c-4e4d-d981-a134ce5d46ab"
      },
      "execution_count": 24,
      "outputs": [
        {
          "output_type": "execute_result",
          "data": {
            "text/plain": [
              "[Synset('ಮನುಷ್ಯ.noun.196'),\n",
              " Synset('ಮಾನವ.noun.858'),\n",
              " Synset('ಮಾನವ.noun.3389'),\n",
              " Synset('ಮನುಷ್ಯ.noun.22862')]"
            ]
          },
          "metadata": {},
          "execution_count": 24
        }
      ]
    },
    {
      "cell_type": "code",
      "source": [
        "for synset in list(iwn.all_synsets(pos=pyiwn.PosTag.NOUN))[:10]:\n",
        "      print(synset)"
      ],
      "metadata": {
        "colab": {
          "base_uri": "https://localhost:8080/"
        },
        "id": "ZO5rMvGDciTA",
        "outputId": "bbfbc735-6c09-4501-ffff-961b5a4ca6e5"
      },
      "execution_count": 25,
      "outputs": [
        {
          "output_type": "stream",
          "name": "stdout",
          "text": [
            "Synset('ಪವಿತ್ರ_ಸ್ಥಳ.noun.4')\n",
            "Synset('ಶಿವಾಲಯ.noun.5')\n",
            "Synset('ಅಪವಿತ್ರ_ಸ್ಥಾನ.noun.6')\n",
            "Synset('ನೈತಿಕ_ಕಾರ್ಯ.noun.9')\n",
            "Synset('ಕೆಟ್ಟ_ಚರಿತ್ರೆ.noun.11')\n",
            "Synset('ಒರಟುತನ.noun.12')\n",
            "Synset('ಅತ್ಯಾಚಾರ.noun.13')\n",
            "Synset('ಗಲಿಬಿಲಿ.noun.14')\n",
            "Synset('ವಿಟಮೀನ್.noun.15')\n",
            "Synset('ಒಳ್ಳೆಯ_ಚರಿತ್ರೆ.noun.16')\n"
          ]
        }
      ]
    },
    {
      "cell_type": "markdown",
      "source": [
        "Noun Sysnets"
      ],
      "metadata": {
        "id": "KTSjSbN9WtwT"
      }
    },
    {
      "cell_type": "code",
      "source": [
        "noun_synsets = iwn.all_synsets(pos=pyiwn.PosTag.NOUN)"
      ],
      "metadata": {
        "id": "IkhJdEvpdFCt"
      },
      "execution_count": 26,
      "outputs": []
    },
    {
      "cell_type": "code",
      "source": [
        "len(noun_synsets)"
      ],
      "metadata": {
        "colab": {
          "base_uri": "https://localhost:8080/"
        },
        "id": "nypng612dcLU",
        "outputId": "bc6d1f26-0bb3-462b-eb35-8d1e4405d120"
      },
      "execution_count": 27,
      "outputs": [
        {
          "output_type": "execute_result",
          "data": {
            "text/plain": [
              "12765"
            ]
          },
          "metadata": {},
          "execution_count": 27
        }
      ]
    },
    {
      "cell_type": "markdown",
      "source": [
        "Adverb Sysnets"
      ],
      "metadata": {
        "id": "uBJVtQLgWwP-"
      }
    },
    {
      "cell_type": "code",
      "source": [
        "adverb_synsets = iwn.all_synsets(pos=pyiwn.PosTag.ADVERB)"
      ],
      "metadata": {
        "id": "cfF7wdbYd_fg"
      },
      "execution_count": 28,
      "outputs": []
    },
    {
      "cell_type": "code",
      "source": [
        "len(adverb_synsets)"
      ],
      "metadata": {
        "colab": {
          "base_uri": "https://localhost:8080/"
        },
        "id": "L7aNb5Kce3p2",
        "outputId": "53ce719e-4e28-4805-ba69-66b0bf93252a"
      },
      "execution_count": 29,
      "outputs": [
        {
          "output_type": "execute_result",
          "data": {
            "text/plain": [
              "170"
            ]
          },
          "metadata": {},
          "execution_count": 29
        }
      ]
    },
    {
      "cell_type": "markdown",
      "source": [
        "Verb Sysnets"
      ],
      "metadata": {
        "id": "WuEEp9IoWzV8"
      }
    },
    {
      "cell_type": "code",
      "source": [
        "verb_synsets = iwn.all_synsets(pos=pyiwn.PosTag.VERB)"
      ],
      "metadata": {
        "id": "uHIU7ZZUe7e8"
      },
      "execution_count": 30,
      "outputs": []
    },
    {
      "cell_type": "code",
      "source": [
        "len(verb_synsets)"
      ],
      "metadata": {
        "colab": {
          "base_uri": "https://localhost:8080/"
        },
        "id": "16WdeYIRfBa0",
        "outputId": "01a833a1-e6da-4bd1-f470-6932d3549703"
      },
      "execution_count": 31,
      "outputs": [
        {
          "output_type": "execute_result",
          "data": {
            "text/plain": [
              "3119"
            ]
          },
          "metadata": {},
          "execution_count": 31
        }
      ]
    },
    {
      "cell_type": "markdown",
      "source": [
        "Adjective Sysnets"
      ],
      "metadata": {
        "id": "hoxM00FYW1tO"
      }
    },
    {
      "cell_type": "code",
      "source": [
        "adjective_synsets = iwn.all_synsets(pos=pyiwn.PosTag.ADJECTIVE)"
      ],
      "metadata": {
        "id": "IY9sPAQTfDgg"
      },
      "execution_count": 32,
      "outputs": []
    },
    {
      "cell_type": "code",
      "source": [
        "len(adjective_synsets)"
      ],
      "metadata": {
        "colab": {
          "base_uri": "https://localhost:8080/"
        },
        "id": "9F4seB79fLbG",
        "outputId": "957d80dc-ba60-467c-8a2a-82b2e0188807"
      },
      "execution_count": 33,
      "outputs": [
        {
          "output_type": "execute_result",
          "data": {
            "text/plain": [
              "5988"
            ]
          },
          "metadata": {},
          "execution_count": 33
        }
      ]
    },
    {
      "cell_type": "code",
      "source": [
        ""
      ],
      "metadata": {
        "id": "wGby0_mafQnL"
      },
      "execution_count": 33,
      "outputs": []
    },
    {
      "cell_type": "markdown",
      "source": [
        "Sysnset Relations"
      ],
      "metadata": {
        "id": "8j03oVcgfwmy"
      }
    },
    {
      "cell_type": "code",
      "source": [
        "aam = iwn.synsets('ಮಾವು', pos=pyiwn.PosTag.NOUN)"
      ],
      "metadata": {
        "id": "6zpjGS77fzdp"
      },
      "execution_count": 34,
      "outputs": []
    },
    {
      "cell_type": "code",
      "source": [
        "aam=aam[0]"
      ],
      "metadata": {
        "id": "I8l3Hi5blrbo"
      },
      "execution_count": 35,
      "outputs": []
    },
    {
      "cell_type": "code",
      "source": [
        "# Synset ID\n",
        "aam.synset_id()"
      ],
      "metadata": {
        "colab": {
          "base_uri": "https://localhost:8080/"
        },
        "id": "nDnfa_NlnJTu",
        "outputId": "c9aceec9-091d-4001-db19-6a78d6377761"
      },
      "execution_count": 36,
      "outputs": [
        {
          "output_type": "execute_result",
          "data": {
            "text/plain": [
              "3462"
            ]
          },
          "metadata": {},
          "execution_count": 36
        }
      ]
    },
    {
      "cell_type": "code",
      "source": [
        "# Head word of the synset\n",
        "aam.head_word()"
      ],
      "metadata": {
        "colab": {
          "base_uri": "https://localhost:8080/",
          "height": 35
        },
        "id": "-8QQYsOKnOtu",
        "outputId": "5a48881a-63b1-4f82-d7f9-740c002ece8b"
      },
      "execution_count": 37,
      "outputs": [
        {
          "output_type": "execute_result",
          "data": {
            "text/plain": [
              "'ಮಾವು'"
            ],
            "application/vnd.google.colaboratory.intrinsic+json": {
              "type": "string"
            }
          },
          "metadata": {},
          "execution_count": 37
        }
      ]
    },
    {
      "cell_type": "markdown",
      "source": [
        "A lemma is a word that stands at the head of a definition in a dictionary. All the head words in a dictionary are lemmas. Technically, it is \"a base word and its inflections\". ... In English, for example, run, runs and running are forms of the same lexeme, but run is the lemma."
      ],
      "metadata": {
        "id": "n3Nj4crLXBeI"
      }
    },
    {
      "cell_type": "code",
      "source": [
        "# list of string lemmas in the synset\n",
        "aam.lemma_names()"
      ],
      "metadata": {
        "colab": {
          "base_uri": "https://localhost:8080/"
        },
        "id": "PahRaHqOnUwU",
        "outputId": "3cab2110-1d10-431a-c534-e0dc6a28ce61"
      },
      "execution_count": 38,
      "outputs": [
        {
          "output_type": "execute_result",
          "data": {
            "text/plain": [
              "['ಮಾವು', 'ಮಾವಿನ_ಹಣ್ಣು', 'ಮಾವಿನ_ಹಣ್ಣು']"
            ]
          },
          "metadata": {},
          "execution_count": 38
        }
      ]
    },
    {
      "cell_type": "code",
      "source": [
        "# list of Lemma type in the synset\n",
        "aam.lemmas()"
      ],
      "metadata": {
        "colab": {
          "base_uri": "https://localhost:8080/"
        },
        "id": "mHHI_kgFnl6M",
        "outputId": "c860bcb3-51ac-4423-9a9c-2cc14217f63b"
      },
      "execution_count": 39,
      "outputs": [
        {
          "output_type": "execute_result",
          "data": {
            "text/plain": [
              "[Lemma('ಮಾವು.noun.3462.ಮಾವು'),\n",
              " Lemma('ಮಾವು.noun.3462.ಮಾವಿನ_ಹಣ್ಣು'),\n",
              " Lemma('ಮಾವು.noun.3462.ಮಾವಿನ_ಹಣ್ಣು')]"
            ]
          },
          "metadata": {},
          "execution_count": 39
        }
      ]
    },
    {
      "cell_type": "code",
      "source": [
        "# POS tag of the synset\n",
        "aam.pos()"
      ],
      "metadata": {
        "colab": {
          "base_uri": "https://localhost:8080/",
          "height": 35
        },
        "id": "qBSoysbbn3sw",
        "outputId": "c96c99a7-d789-47db-b317-4df1047f0115"
      },
      "execution_count": 40,
      "outputs": [
        {
          "output_type": "execute_result",
          "data": {
            "text/plain": [
              "'noun'"
            ],
            "application/vnd.google.colaboratory.intrinsic+json": {
              "type": "string"
            }
          },
          "metadata": {},
          "execution_count": 40
        }
      ]
    },
    {
      "cell_type": "code",
      "source": [
        "# gloss / definition of the synset\n",
        "aam.gloss()\n"
      ],
      "metadata": {
        "colab": {
          "base_uri": "https://localhost:8080/",
          "height": 35
        },
        "id": "hCDTJA-An6g4",
        "outputId": "a8090834-3d2d-49f4-8f3b-507d3ddc049e"
      },
      "execution_count": 41,
      "outputs": [
        {
          "output_type": "execute_result",
          "data": {
            "text/plain": [
              "'ಒಂದು ಹಣ್ಣು ಅದನ್ನು ತಿನ್ನಲು ಅಥವಾ ಹಣ್ಣಿನ ಸರವನ್ನು ಮಾಡುತ್ತಾರೆ'"
            ],
            "application/vnd.google.colaboratory.intrinsic+json": {
              "type": "string"
            }
          },
          "metadata": {},
          "execution_count": 41
        }
      ]
    },
    {
      "cell_type": "code",
      "source": [
        "# examples of the synset\n",
        "aam.examples()"
      ],
      "metadata": {
        "colab": {
          "base_uri": "https://localhost:8080/"
        },
        "id": "9OwgrFoqn-_6",
        "outputId": "f5c79124-9754-4296-f926-38d8b0931297"
      },
      "execution_count": 42,
      "outputs": [
        {
          "output_type": "execute_result",
          "data": {
            "text/plain": [
              "['ಗಿಳಿಯು ಮಾವಿನ ಮರದ ಮೇಲೆ ಕುಣಿತು ಮಾವಿನ ಹಣ್ಣನ್ನು ತಿನ್ನುತ್ತಾ ಇದೆ.']"
            ]
          },
          "metadata": {},
          "execution_count": 42
        }
      ]
    },
    {
      "cell_type": "markdown",
      "source": [
        "a term used to designate a particular member of a broader class."
      ],
      "metadata": {
        "id": "ft92E360XMjF"
      }
    },
    {
      "cell_type": "code",
      "source": [
        "hyponyms = iwn.synset_relation(aam, pyiwn.SynsetRelations.HYPONYMY)"
      ],
      "metadata": {
        "id": "-I_Gqq3VoBb5"
      },
      "execution_count": 43,
      "outputs": []
    },
    {
      "cell_type": "code",
      "source": [
        "len(hyponyms)"
      ],
      "metadata": {
        "colab": {
          "base_uri": "https://localhost:8080/"
        },
        "id": "hgp81pPUoHKH",
        "outputId": "b6ceebd8-7eb8-44e8-e68c-2a5e8bef9a1a"
      },
      "execution_count": 44,
      "outputs": [
        {
          "output_type": "execute_result",
          "data": {
            "text/plain": [
              "8"
            ]
          },
          "metadata": {},
          "execution_count": 44
        }
      ]
    },
    {
      "cell_type": "code",
      "source": [
        "hyponyms"
      ],
      "metadata": {
        "colab": {
          "base_uri": "https://localhost:8080/"
        },
        "id": "c0WUrCDIoJVi",
        "outputId": "f6f6dcbc-9a0d-44a7-e7b8-ef9cf1b82c66"
      },
      "execution_count": 45,
      "outputs": [
        {
          "output_type": "execute_result",
          "data": {
            "text/plain": [
              "[Synset('ಮಾವಿನ_ಹಣ್ಣು.noun.1294'),\n",
              " Synset('ಹೀಚು.noun.2888'),\n",
              " Synset('ಸಕ್ಕರೆ_ಬಾದಾಮು.noun.4724'),\n",
              " Synset('ತೋತಾಪುರಿ.noun.6892'),\n",
              " Synset('ದಶಹರಿ.noun.6903'),\n",
              " Synset('ರಸಪುರಿ_ಮಾವಿನ_ಹಣ್ಣು.noun.7923'),\n",
              " Synset('ಸಿಂದೂರ_ಮಾವಿನಹಣ್ಣು.noun.8636'),\n",
              " Synset('ಮಾಗದ_ಮಾವು.noun.37437')]"
            ]
          },
          "metadata": {},
          "execution_count": 45
        }
      ]
    },
    {
      "cell_type": "code",
      "source": [
        ""
      ],
      "metadata": {
        "id": "DDvmQBQroMli"
      },
      "execution_count": 45,
      "outputs": []
    },
    {
      "cell_type": "markdown",
      "source": [
        "sysnet relations available"
      ],
      "metadata": {
        "id": "pb2LmbHIoUBV"
      }
    },
    {
      "cell_type": "code",
      "source": [
        "list(map(str, pyiwn.SynsetRelations))"
      ],
      "metadata": {
        "colab": {
          "base_uri": "https://localhost:8080/"
        },
        "id": "7LjMS5NJoX2N",
        "outputId": "a7161128-44c9-445e-f830-eade8802cbca"
      },
      "execution_count": 46,
      "outputs": [
        {
          "output_type": "execute_result",
          "data": {
            "text/plain": [
              "['SynsetRelations.MERO_MEMBER_COLLECTION',\n",
              " 'SynsetRelations.ABILITY_VERB',\n",
              " 'SynsetRelations.CAUSATIVE',\n",
              " 'SynsetRelations.CAPABILITY_VERB',\n",
              " 'SynsetRelations.MERO_COMPONENT_OBJECT',\n",
              " 'SynsetRelations.HOLO_PORTION_MASS',\n",
              " 'SynsetRelations.FUNCTION_VERB',\n",
              " 'SynsetRelations.HOLO_COMPONENT_OBJECT',\n",
              " 'SynsetRelations.HYPERNYMY',\n",
              " 'SynsetRelations.ENTAILMENT',\n",
              " 'SynsetRelations.ALSO_SEE',\n",
              " 'SynsetRelations.MERO_FEATURE_ACTIVITY',\n",
              " 'SynsetRelations.HOLO_PLACE_AREA',\n",
              " 'SynsetRelations.MODIFIES_VERB',\n",
              " 'SynsetRelations.ATTRIBUTES',\n",
              " 'SynsetRelations.MERO_PORTION_MASS',\n",
              " 'SynsetRelations.MODIFIES_NOUN',\n",
              " 'SynsetRelations.HOLO_FEATURE_ACTIVITY',\n",
              " 'SynsetRelations.MERO_STUFF_OBJECT',\n",
              " 'SynsetRelations.TROPONYMY',\n",
              " 'SynsetRelations.MERO_PLACE_AREA',\n",
              " 'SynsetRelations.HOLO_MEMBER_COLLECTION',\n",
              " 'SynsetRelations.HYPONYMY',\n",
              " 'SynsetRelations.SIMILAR',\n",
              " 'SynsetRelations.MERO_POSITION_AREA',\n",
              " 'SynsetRelations.HOLO_POSITION_AREA',\n",
              " 'SynsetRelations.HOLO_STUFF_OBJECT']"
            ]
          },
          "metadata": {},
          "execution_count": 46
        }
      ]
    },
    {
      "cell_type": "code",
      "source": [
        "hypernyms = iwn.synset_relation(aam, pyiwn.SynsetRelations.HYPERNYMY)"
      ],
      "metadata": {
        "id": "T0M8NTkqoYoP"
      },
      "execution_count": 47,
      "outputs": []
    },
    {
      "cell_type": "code",
      "source": [
        "hypernyms"
      ],
      "metadata": {
        "colab": {
          "base_uri": "https://localhost:8080/"
        },
        "id": "Mxy8ORdWdCUJ",
        "outputId": "295c1786-1001-4fe6-db77-faf8bb2d13ea"
      },
      "execution_count": 48,
      "outputs": [
        {
          "output_type": "execute_result",
          "data": {
            "text/plain": [
              "[]"
            ]
          },
          "metadata": {},
          "execution_count": 48
        }
      ]
    },
    {
      "cell_type": "code",
      "source": [
        "xd = iwn.synsets('ಶಾಲೆ', pos=pyiwn.PosTag.NOUN)"
      ],
      "metadata": {
        "id": "KX3vzEZ6d2Fc"
      },
      "execution_count": 49,
      "outputs": []
    },
    {
      "cell_type": "code",
      "source": [
        "xd"
      ],
      "metadata": {
        "colab": {
          "base_uri": "https://localhost:8080/"
        },
        "id": "s7ZZz7GEeI2k",
        "outputId": "3da843e7-9696-4032-85bf-46da4cb57d5e"
      },
      "execution_count": 50,
      "outputs": [
        {
          "output_type": "execute_result",
          "data": {
            "text/plain": [
              "[Synset('ಶಾಲೆ.noun.1698'),\n",
              " Synset('ಶಾಲೆ.noun.17031'),\n",
              " Synset('ವಿದ್ಯಾಲಯ.noun.27490'),\n",
              " Synset('ಶಾಲೆ.noun.27491')]"
            ]
          },
          "metadata": {},
          "execution_count": 50
        }
      ]
    },
    {
      "cell_type": "code",
      "source": [
        "xd[0]"
      ],
      "metadata": {
        "colab": {
          "base_uri": "https://localhost:8080/"
        },
        "id": "xA0_xiupf4zo",
        "outputId": "34b0305a-cb8b-47dd-b43b-03a3734a1f8e"
      },
      "execution_count": 56,
      "outputs": [
        {
          "output_type": "execute_result",
          "data": {
            "text/plain": [
              "Synset('ಶಾಲೆ.noun.1698')"
            ]
          },
          "metadata": {},
          "execution_count": 56
        }
      ]
    },
    {
      "cell_type": "code",
      "source": [
        "hypernyms = iwn.synset_relation(xd[0], pyiwn.SynsetRelations.HYPERNYMY)"
      ],
      "metadata": {
        "id": "IsyZHPZZeJ_A"
      },
      "execution_count": 57,
      "outputs": []
    },
    {
      "cell_type": "code",
      "source": [
        "hypernyms"
      ],
      "metadata": {
        "colab": {
          "base_uri": "https://localhost:8080/"
        },
        "id": "dCNb8Judf-cl",
        "outputId": "193091e9-8168-4961-8683-92942edfc609"
      },
      "execution_count": 59,
      "outputs": [
        {
          "output_type": "execute_result",
          "data": {
            "text/plain": [
              "[]"
            ]
          },
          "metadata": {},
          "execution_count": 59
        }
      ]
    },
    {
      "cell_type": "code",
      "source": [
        "hyponyms = iwn.synset_relation(xd[0], pyiwn.SynsetRelations.HYPONYMY)"
      ],
      "metadata": {
        "id": "xbg7c9N1eOtt"
      },
      "execution_count": 62,
      "outputs": []
    },
    {
      "cell_type": "code",
      "source": [
        "hyponyms"
      ],
      "metadata": {
        "colab": {
          "base_uri": "https://localhost:8080/"
        },
        "id": "M0afU67yeXVW",
        "outputId": "cbb919d2-4b9f-45f3-9bab-7a788071cec8"
      },
      "execution_count": 63,
      "outputs": [
        {
          "output_type": "execute_result",
          "data": {
            "text/plain": [
              "[Synset('ಶಿಶುವಿಹಾರ.noun.3769'),\n",
              " Synset('ಮದರಸಾ.noun.3781'),\n",
              " Synset('ಗ್ರಾಮ_ವಿದ್ಯಾಲಯ.noun.10554'),\n",
              " Synset('ಕಾಲೇಜು.noun.10884'),\n",
              " Synset('ವಿಶ್ವವಿದ್ಯಾನಿಯಲ.noun.10927'),\n",
              " Synset('ಶಾಲೆ.noun.17031')]"
            ]
          },
          "metadata": {},
          "execution_count": 63
        }
      ]
    },
    {
      "cell_type": "code",
      "source": [
        " iwn.synset_relation(xd[1], pyiwn.SynsetRelations.HYPERNYMY)"
      ],
      "metadata": {
        "colab": {
          "base_uri": "https://localhost:8080/"
        },
        "id": "qgps-vfbeZZ-",
        "outputId": "4365c6e5-7a89-41de-ea1c-56da4e999d71"
      },
      "execution_count": 64,
      "outputs": [
        {
          "output_type": "execute_result",
          "data": {
            "text/plain": [
              "[]"
            ]
          },
          "metadata": {},
          "execution_count": 64
        }
      ]
    },
    {
      "cell_type": "code",
      "source": [
        "import pandas as pd"
      ],
      "metadata": {
        "id": "5yYVk4p2gZ8w"
      },
      "execution_count": 65,
      "outputs": []
    },
    {
      "cell_type": "code",
      "source": [
        "d=pd.read_csv(\"/content/word_vectors_count.csv\")"
      ],
      "metadata": {
        "id": "9txD2AKZzoGG"
      },
      "execution_count": 66,
      "outputs": []
    },
    {
      "cell_type": "code",
      "source": [
        "d.head()"
      ],
      "metadata": {
        "colab": {
          "base_uri": "https://localhost:8080/",
          "height": 300
        },
        "id": "vcjasE-Z0EIl",
        "outputId": "8d1bab9a-164a-471f-984d-f892410bc8d5"
      },
      "execution_count": 67,
      "outputs": [
        {
          "output_type": "execute_result",
          "data": {
            "text/plain": [
              "           words  count         0         1         2         3         4  \\\n",
              "0  ಆಸ್ಪತ್ರೆಗಳನ್ನ      1 -0.599114 -0.007123  0.338885  0.689049  0.338523   \n",
              "1   ಗೊತ್ತಿರುವುದು      1 -0.281993  0.008093  0.043990  0.030106 -0.246888   \n",
              "2       ಡಿಸೆಂಬರ್      1 -0.259247 -0.106271  0.010738  0.166874  0.351832   \n",
              "3        ﻿ನಿಮ್ಗೆ      1 -0.023776 -0.323382 -0.174829  0.172370 -0.057989   \n",
              "4       ಹೋಗಬಾರದು      1  0.460599 -0.254269  0.252451 -0.017082 -0.295107   \n",
              "\n",
              "          5         6         7  ...       290       291       292       293  \\\n",
              "0  0.049019  0.147049  0.133809  ... -0.124187 -0.225374 -0.003029 -0.257506   \n",
              "1  0.110244 -0.092250 -0.155605  ... -0.552520  0.078389  0.090169  0.011491   \n",
              "2  0.095568  0.271904  0.060243  ... -0.070737  0.132671 -0.255188 -0.042505   \n",
              "3  0.038284  0.139659 -0.048708  ... -0.139915  0.174135 -0.109341 -0.099933   \n",
              "4  0.397702  0.486673 -0.231012  ... -0.285753  0.182024 -0.189948  0.058424   \n",
              "\n",
              "        294       295       296       297       298       299  \n",
              "0 -0.014138  0.077038  0.030850  0.041350  0.072283  0.256413  \n",
              "1 -0.181449  0.044348  0.306256  0.122092 -0.222409  0.427402  \n",
              "2 -0.352823  0.356783 -0.014362  0.510510 -0.257406  0.224128  \n",
              "3 -0.181981  0.059287 -0.108274  0.145048  0.026045 -0.078372  \n",
              "4 -0.047018  0.180987  0.044255 -0.292433 -0.330415 -0.010804  \n",
              "\n",
              "[5 rows x 302 columns]"
            ],
            "text/html": [
              "\n",
              "  <div id=\"df-7872c04f-d142-4cd4-ab8d-e9935829fa81\">\n",
              "    <div class=\"colab-df-container\">\n",
              "      <div>\n",
              "<style scoped>\n",
              "    .dataframe tbody tr th:only-of-type {\n",
              "        vertical-align: middle;\n",
              "    }\n",
              "\n",
              "    .dataframe tbody tr th {\n",
              "        vertical-align: top;\n",
              "    }\n",
              "\n",
              "    .dataframe thead th {\n",
              "        text-align: right;\n",
              "    }\n",
              "</style>\n",
              "<table border=\"1\" class=\"dataframe\">\n",
              "  <thead>\n",
              "    <tr style=\"text-align: right;\">\n",
              "      <th></th>\n",
              "      <th>words</th>\n",
              "      <th>count</th>\n",
              "      <th>0</th>\n",
              "      <th>1</th>\n",
              "      <th>2</th>\n",
              "      <th>3</th>\n",
              "      <th>4</th>\n",
              "      <th>5</th>\n",
              "      <th>6</th>\n",
              "      <th>7</th>\n",
              "      <th>...</th>\n",
              "      <th>290</th>\n",
              "      <th>291</th>\n",
              "      <th>292</th>\n",
              "      <th>293</th>\n",
              "      <th>294</th>\n",
              "      <th>295</th>\n",
              "      <th>296</th>\n",
              "      <th>297</th>\n",
              "      <th>298</th>\n",
              "      <th>299</th>\n",
              "    </tr>\n",
              "  </thead>\n",
              "  <tbody>\n",
              "    <tr>\n",
              "      <th>0</th>\n",
              "      <td>ಆಸ್ಪತ್ರೆಗಳನ್ನ</td>\n",
              "      <td>1</td>\n",
              "      <td>-0.599114</td>\n",
              "      <td>-0.007123</td>\n",
              "      <td>0.338885</td>\n",
              "      <td>0.689049</td>\n",
              "      <td>0.338523</td>\n",
              "      <td>0.049019</td>\n",
              "      <td>0.147049</td>\n",
              "      <td>0.133809</td>\n",
              "      <td>...</td>\n",
              "      <td>-0.124187</td>\n",
              "      <td>-0.225374</td>\n",
              "      <td>-0.003029</td>\n",
              "      <td>-0.257506</td>\n",
              "      <td>-0.014138</td>\n",
              "      <td>0.077038</td>\n",
              "      <td>0.030850</td>\n",
              "      <td>0.041350</td>\n",
              "      <td>0.072283</td>\n",
              "      <td>0.256413</td>\n",
              "    </tr>\n",
              "    <tr>\n",
              "      <th>1</th>\n",
              "      <td>ಗೊತ್ತಿರುವುದು</td>\n",
              "      <td>1</td>\n",
              "      <td>-0.281993</td>\n",
              "      <td>0.008093</td>\n",
              "      <td>0.043990</td>\n",
              "      <td>0.030106</td>\n",
              "      <td>-0.246888</td>\n",
              "      <td>0.110244</td>\n",
              "      <td>-0.092250</td>\n",
              "      <td>-0.155605</td>\n",
              "      <td>...</td>\n",
              "      <td>-0.552520</td>\n",
              "      <td>0.078389</td>\n",
              "      <td>0.090169</td>\n",
              "      <td>0.011491</td>\n",
              "      <td>-0.181449</td>\n",
              "      <td>0.044348</td>\n",
              "      <td>0.306256</td>\n",
              "      <td>0.122092</td>\n",
              "      <td>-0.222409</td>\n",
              "      <td>0.427402</td>\n",
              "    </tr>\n",
              "    <tr>\n",
              "      <th>2</th>\n",
              "      <td>ಡಿಸೆಂಬರ್</td>\n",
              "      <td>1</td>\n",
              "      <td>-0.259247</td>\n",
              "      <td>-0.106271</td>\n",
              "      <td>0.010738</td>\n",
              "      <td>0.166874</td>\n",
              "      <td>0.351832</td>\n",
              "      <td>0.095568</td>\n",
              "      <td>0.271904</td>\n",
              "      <td>0.060243</td>\n",
              "      <td>...</td>\n",
              "      <td>-0.070737</td>\n",
              "      <td>0.132671</td>\n",
              "      <td>-0.255188</td>\n",
              "      <td>-0.042505</td>\n",
              "      <td>-0.352823</td>\n",
              "      <td>0.356783</td>\n",
              "      <td>-0.014362</td>\n",
              "      <td>0.510510</td>\n",
              "      <td>-0.257406</td>\n",
              "      <td>0.224128</td>\n",
              "    </tr>\n",
              "    <tr>\n",
              "      <th>3</th>\n",
              "      <td>﻿ನಿಮ್ಗೆ</td>\n",
              "      <td>1</td>\n",
              "      <td>-0.023776</td>\n",
              "      <td>-0.323382</td>\n",
              "      <td>-0.174829</td>\n",
              "      <td>0.172370</td>\n",
              "      <td>-0.057989</td>\n",
              "      <td>0.038284</td>\n",
              "      <td>0.139659</td>\n",
              "      <td>-0.048708</td>\n",
              "      <td>...</td>\n",
              "      <td>-0.139915</td>\n",
              "      <td>0.174135</td>\n",
              "      <td>-0.109341</td>\n",
              "      <td>-0.099933</td>\n",
              "      <td>-0.181981</td>\n",
              "      <td>0.059287</td>\n",
              "      <td>-0.108274</td>\n",
              "      <td>0.145048</td>\n",
              "      <td>0.026045</td>\n",
              "      <td>-0.078372</td>\n",
              "    </tr>\n",
              "    <tr>\n",
              "      <th>4</th>\n",
              "      <td>ಹೋಗಬಾರದು</td>\n",
              "      <td>1</td>\n",
              "      <td>0.460599</td>\n",
              "      <td>-0.254269</td>\n",
              "      <td>0.252451</td>\n",
              "      <td>-0.017082</td>\n",
              "      <td>-0.295107</td>\n",
              "      <td>0.397702</td>\n",
              "      <td>0.486673</td>\n",
              "      <td>-0.231012</td>\n",
              "      <td>...</td>\n",
              "      <td>-0.285753</td>\n",
              "      <td>0.182024</td>\n",
              "      <td>-0.189948</td>\n",
              "      <td>0.058424</td>\n",
              "      <td>-0.047018</td>\n",
              "      <td>0.180987</td>\n",
              "      <td>0.044255</td>\n",
              "      <td>-0.292433</td>\n",
              "      <td>-0.330415</td>\n",
              "      <td>-0.010804</td>\n",
              "    </tr>\n",
              "  </tbody>\n",
              "</table>\n",
              "<p>5 rows × 302 columns</p>\n",
              "</div>\n",
              "      <button class=\"colab-df-convert\" onclick=\"convertToInteractive('df-7872c04f-d142-4cd4-ab8d-e9935829fa81')\"\n",
              "              title=\"Convert this dataframe to an interactive table.\"\n",
              "              style=\"display:none;\">\n",
              "        \n",
              "  <svg xmlns=\"http://www.w3.org/2000/svg\" height=\"24px\"viewBox=\"0 0 24 24\"\n",
              "       width=\"24px\">\n",
              "    <path d=\"M0 0h24v24H0V0z\" fill=\"none\"/>\n",
              "    <path d=\"M18.56 5.44l.94 2.06.94-2.06 2.06-.94-2.06-.94-.94-2.06-.94 2.06-2.06.94zm-11 1L8.5 8.5l.94-2.06 2.06-.94-2.06-.94L8.5 2.5l-.94 2.06-2.06.94zm10 10l.94 2.06.94-2.06 2.06-.94-2.06-.94-.94-2.06-.94 2.06-2.06.94z\"/><path d=\"M17.41 7.96l-1.37-1.37c-.4-.4-.92-.59-1.43-.59-.52 0-1.04.2-1.43.59L10.3 9.45l-7.72 7.72c-.78.78-.78 2.05 0 2.83L4 21.41c.39.39.9.59 1.41.59.51 0 1.02-.2 1.41-.59l7.78-7.78 2.81-2.81c.8-.78.8-2.07 0-2.86zM5.41 20L4 18.59l7.72-7.72 1.47 1.35L5.41 20z\"/>\n",
              "  </svg>\n",
              "      </button>\n",
              "      \n",
              "  <style>\n",
              "    .colab-df-container {\n",
              "      display:flex;\n",
              "      flex-wrap:wrap;\n",
              "      gap: 12px;\n",
              "    }\n",
              "\n",
              "    .colab-df-convert {\n",
              "      background-color: #E8F0FE;\n",
              "      border: none;\n",
              "      border-radius: 50%;\n",
              "      cursor: pointer;\n",
              "      display: none;\n",
              "      fill: #1967D2;\n",
              "      height: 32px;\n",
              "      padding: 0 0 0 0;\n",
              "      width: 32px;\n",
              "    }\n",
              "\n",
              "    .colab-df-convert:hover {\n",
              "      background-color: #E2EBFA;\n",
              "      box-shadow: 0px 1px 2px rgba(60, 64, 67, 0.3), 0px 1px 3px 1px rgba(60, 64, 67, 0.15);\n",
              "      fill: #174EA6;\n",
              "    }\n",
              "\n",
              "    [theme=dark] .colab-df-convert {\n",
              "      background-color: #3B4455;\n",
              "      fill: #D2E3FC;\n",
              "    }\n",
              "\n",
              "    [theme=dark] .colab-df-convert:hover {\n",
              "      background-color: #434B5C;\n",
              "      box-shadow: 0px 1px 3px 1px rgba(0, 0, 0, 0.15);\n",
              "      filter: drop-shadow(0px 1px 2px rgba(0, 0, 0, 0.3));\n",
              "      fill: #FFFFFF;\n",
              "    }\n",
              "  </style>\n",
              "\n",
              "      <script>\n",
              "        const buttonEl =\n",
              "          document.querySelector('#df-7872c04f-d142-4cd4-ab8d-e9935829fa81 button.colab-df-convert');\n",
              "        buttonEl.style.display =\n",
              "          google.colab.kernel.accessAllowed ? 'block' : 'none';\n",
              "\n",
              "        async function convertToInteractive(key) {\n",
              "          const element = document.querySelector('#df-7872c04f-d142-4cd4-ab8d-e9935829fa81');\n",
              "          const dataTable =\n",
              "            await google.colab.kernel.invokeFunction('convertToInteractive',\n",
              "                                                     [key], {});\n",
              "          if (!dataTable) return;\n",
              "\n",
              "          const docLinkHtml = 'Like what you see? Visit the ' +\n",
              "            '<a target=\"_blank\" href=https://colab.research.google.com/notebooks/data_table.ipynb>data table notebook</a>'\n",
              "            + ' to learn more about interactive tables.';\n",
              "          element.innerHTML = '';\n",
              "          dataTable['output_type'] = 'display_data';\n",
              "          await google.colab.output.renderOutput(dataTable, element);\n",
              "          const docLink = document.createElement('div');\n",
              "          docLink.innerHTML = docLinkHtml;\n",
              "          element.appendChild(docLink);\n",
              "        }\n",
              "      </script>\n",
              "    </div>\n",
              "  </div>\n",
              "  "
            ]
          },
          "metadata": {},
          "execution_count": 67
        }
      ]
    },
    {
      "cell_type": "code",
      "source": [
        "d['words'][0]"
      ],
      "metadata": {
        "colab": {
          "base_uri": "https://localhost:8080/",
          "height": 35
        },
        "id": "OtaVmHnx0GB4",
        "outputId": "17cd13a0-f57d-4a3c-f3d2-33df02873147"
      },
      "execution_count": 70,
      "outputs": [
        {
          "output_type": "execute_result",
          "data": {
            "text/plain": [
              "'ಆಸ್ಪತ್ರೆಗಳನ್ನ'"
            ],
            "application/vnd.google.colaboratory.intrinsic+json": {
              "type": "string"
            }
          },
          "metadata": {},
          "execution_count": 70
        }
      ]
    },
    {
      "cell_type": "code",
      "source": [
        "xd = iwn.synsets('ಆಸ್ಪತ್ರೆಗಳನ್ನ')"
      ],
      "metadata": {
        "colab": {
          "base_uri": "https://localhost:8080/",
          "height": 287
        },
        "id": "gQtBGjWG0KiA",
        "outputId": "1bba1136-22d3-4d26-e84b-5cbb4d4d296d"
      },
      "execution_count": 73,
      "outputs": [
        {
          "output_type": "error",
          "ename": "KeyError",
          "evalue": "ignored",
          "traceback": [
            "\u001b[0;31m---------------------------------------------------------------------------\u001b[0m",
            "\u001b[0;31mKeyError\u001b[0m                                  Traceback (most recent call last)",
            "\u001b[0;32m<ipython-input-73-6e3f329c7fe7>\u001b[0m in \u001b[0;36m<module>\u001b[0;34m()\u001b[0m\n\u001b[0;32m----> 1\u001b[0;31m \u001b[0mxd\u001b[0m \u001b[0;34m=\u001b[0m \u001b[0miwn\u001b[0m\u001b[0;34m.\u001b[0m\u001b[0msynsets\u001b[0m\u001b[0;34m(\u001b[0m\u001b[0;34m'ಆಸ್ಪತ್ರೆಗಳನ್ನ'\u001b[0m\u001b[0;34m)\u001b[0m\u001b[0;34m\u001b[0m\u001b[0;34m\u001b[0m\u001b[0m\n\u001b[0m",
            "\u001b[0;32m/usr/local/lib/python3.7/dist-packages/pyiwn/iwn.py\u001b[0m in \u001b[0;36msynsets\u001b[0;34m(self, word, pos)\u001b[0m\n\u001b[1;32m    142\u001b[0m \u001b[0;34m\u001b[0m\u001b[0m\n\u001b[1;32m    143\u001b[0m     \u001b[0;32mdef\u001b[0m \u001b[0msynsets\u001b[0m\u001b[0;34m(\u001b[0m\u001b[0mself\u001b[0m\u001b[0;34m,\u001b[0m \u001b[0mword\u001b[0m\u001b[0;34m,\u001b[0m \u001b[0mpos\u001b[0m\u001b[0;34m=\u001b[0m\u001b[0;32mNone\u001b[0m\u001b[0;34m)\u001b[0m\u001b[0;34m:\u001b[0m\u001b[0;34m\u001b[0m\u001b[0;34m\u001b[0m\u001b[0m\n\u001b[0;32m--> 144\u001b[0;31m         \u001b[0msynset_id_list\u001b[0m \u001b[0;34m=\u001b[0m \u001b[0mself\u001b[0m\u001b[0;34m.\u001b[0m\u001b[0m_synset_idx_map\u001b[0m\u001b[0;34m[\u001b[0m\u001b[0mword\u001b[0m\u001b[0;34m]\u001b[0m\u001b[0;34m\u001b[0m\u001b[0;34m\u001b[0m\u001b[0m\n\u001b[0m\u001b[1;32m    145\u001b[0m \u001b[0;34m\u001b[0m\u001b[0m\n\u001b[1;32m    146\u001b[0m         \u001b[0msynsets\u001b[0m \u001b[0;34m=\u001b[0m \u001b[0;34m[\u001b[0m\u001b[0;34m]\u001b[0m\u001b[0;34m\u001b[0m\u001b[0;34m\u001b[0m\u001b[0m\n",
            "\u001b[0;31mKeyError\u001b[0m: 'ಆಸ್ಪತ್ರೆಗಳನ್ನ'"
          ]
        }
      ]
    },
    {
      "cell_type": "code",
      "source": [
        ""
      ],
      "metadata": {
        "id": "9sqdlgqz0wD5"
      },
      "execution_count": null,
      "outputs": []
    }
  ]
}